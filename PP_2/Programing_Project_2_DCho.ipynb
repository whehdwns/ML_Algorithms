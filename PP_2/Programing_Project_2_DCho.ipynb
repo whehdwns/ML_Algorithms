{
  "cells": [
    {
      "cell_type": "code",
      "execution_count": 1,
      "metadata": {
        "id": "7AAt-E6Cqq2P"
      },
      "outputs": [],
      "source": [
        "import pandas as pd # data processing, CSV file I/O (e.g. pd.read_csv)\n",
        "import numpy as np # linear algebra\n",
        "import os\n",
        "import glob\n",
        "from collections import Counter # Mode"
      ]
    },
    {
      "cell_type": "code",
      "execution_count": 2,
      "metadata": {
        "colab": {
          "base_uri": "https://localhost:8080/"
        },
        "id": "Y6E_6-P8qtPl",
        "outputId": "df302ef9-6c74-45d9-f611-dffcf2c7cb03"
      },
      "outputs": [
        {
          "output_type": "stream",
          "name": "stdout",
          "text": [
            "Mounted at /content/drive\n"
          ]
        }
      ],
      "source": [
        "from google.colab import drive\n",
        "drive.mount('/content/drive')"
      ]
    },
    {
      "cell_type": "code",
      "execution_count": 3,
      "metadata": {
        "id": "6Q3Naoskqq2W"
      },
      "outputs": [],
      "source": [
        "path = os.getcwd()\n",
        "all_files = sorted(glob.glob(path + \"/drive/MyDrive/dataset/*.data\"))\n",
        "filesnames = os.listdir('drive/MyDrive/dataset/')"
      ]
    },
    {
      "cell_type": "code",
      "execution_count": 4,
      "metadata": {
        "id": "bJ3YrSdkqq2g"
      },
      "outputs": [],
      "source": [
        "dataset_header = [\n",
        "                [   \"sex\", \"length\", \"diameter\", \"height\", \"whole_height\",\n",
        "                    \"shucked_height\", \"viscera_weight\", \"shell_weight\", \"rings\" ], \n",
        "                [   \"sample_code_number\", \"clump_thickness\", \"uniformity_cell_size\", \"uniformity_cell_shape\",\n",
        "                    \"marginal_adhesion\", \"single_epithelial_cell_size\", \"bare_nuclei\", \"bland_chromatin\",\n",
        "                    \"normal_nucleoli\", \"mitosis\", \"class\"],\n",
        "                [   \"buying\", \"maint\", \"doors\", \"persons\", \"lug_boot\", \"safety\", \"class\"],\n",
        "                [   \"X\", \"Y\", \"month\", \"day\", \"FFMC\", \"DMC\", \"DC\", \"ISI\", \"temp\", \"RH\", \"wind\", \"rain\", \"area\"],\n",
        "                [   \"class\", \"infants\", \"water\", \"budget\", \"physician\", \"salvador\", \"religious\", \"satellite\",\n",
        "                    \"aid\", \"missile\", \"immigration\", \"synfuels\", \"education\", \"superfund\", \"crime\", \n",
        "                    \"duty_free_exports\", \"eaa_rsa\"],\n",
        "                [   \"vendor\", \"model\", \"myct\", \"mmin\", \"mmax\", \"cach\", \"chmin\", \"chmax\", \"PRP\", \"ERP\"] \n",
        "]"
      ]
    },
    {
      "cell_type": "markdown",
      "metadata": {
        "id": "4VJXy_1mqq2i"
      },
      "source": [
        "## Loading Data"
      ]
    },
    {
      "cell_type": "code",
      "execution_count": 5,
      "metadata": {
        "id": "BSrPqwOjqq2p"
      },
      "outputs": [],
      "source": [
        "# Load Data\n",
        "# 1. It loads dataset from the folder. \n",
        "# 2. It checks whether the original data already has header or not. \n",
        "# 3. If there is no header in the data, it reads .data file as csv with header.\n",
        "# 4. If there is header in the data, it reads .data file as csv. \n",
        "\n",
        "def open_csv_dataset(dataset_keyword, column_header):\n",
        "    for i in all_files:\n",
        "        if dataset_keyword in i:\n",
        "            indexed = all_files.index(i)\n",
        "            if column_header == True:\n",
        "                df = pd.read_csv(i, header=None, names = dataset_header[indexed])\n",
        "            else:\n",
        "                df = pd.read_csv(i)\n",
        "    return df"
      ]
    },
    {
      "cell_type": "markdown",
      "metadata": {
        "id": "bULOrDQDqq2r"
      },
      "source": [
        "## Handling Missing Values"
      ]
    },
    {
      "cell_type": "code",
      "execution_count": 6,
      "metadata": {
        "id": "W3kCRAAdqq2t"
      },
      "outputs": [],
      "source": [
        "# Handling Missing Values\n",
        "# 1. It replaces \"?\" values to NaN value in the dataframe.\n",
        "# 2. If there is no null values in the dataframe, it returns dataframe\n",
        "# 3. If there is null values in the dataframe, it fills missing values with the feature (column) mean.\n",
        "\n",
        "def handling_missing_values(df):\n",
        "    df = df.replace('?', np.NaN)\n",
        "    if df.isnull().values.any() == False:\n",
        "        return df\n",
        "    else:\n",
        "        for i in range(0, len(df.isnull().sum().values)):\n",
        "            if df.isnull().sum().values[i] >0:\n",
        "                missing_data = df.isnull().sum().index[i]\n",
        "        df[missing_data]= pd.to_numeric(df[missing_data])\n",
        "        df[missing_data]= df[missing_data].fillna(df[missing_data].mean())\n",
        "    return df"
      ]
    },
    {
      "cell_type": "markdown",
      "metadata": {
        "id": "55RSYof0qq2v"
      },
      "source": [
        "## Handling Categorical Data"
      ]
    },
    {
      "cell_type": "code",
      "execution_count": 7,
      "metadata": {
        "id": "6gQ9MCbfqq2x"
      },
      "outputs": [],
      "source": [
        "# Unique value in columns\n",
        "# 1. It categorizes all columns in the dataset. \n",
        "\n",
        "def view_unique_value_in_columns(df):\n",
        "    for i in df.columns.values:\n",
        "        print(categorize_dataset(df, i))"
      ]
    },
    {
      "cell_type": "code",
      "execution_count": 8,
      "metadata": {
        "id": "ClTUSMUBqq2y"
      },
      "outputs": [],
      "source": [
        "# Unique value in single columns\n",
        "# 1. It categorizes single columns in the dataset. \n",
        "\n",
        "def view_unique_value_in_single_column(df, columns):\n",
        "    print(categorize_dataset(df, columns))"
      ]
    },
    {
      "cell_type": "code",
      "execution_count": 9,
      "metadata": {
        "id": "342M0Isrqq23"
      },
      "outputs": [],
      "source": [
        "# Categorize Dataset\n",
        "# 1. To categroize dataset, it uses unique function.\n",
        "# 2. For unique function, it returns in order of appearance.\n",
        "# 3. It shows columns and numeric values in each feature values. \n",
        "\n",
        "def categorize_dataset(df, columns):\n",
        "    dicts = {}\n",
        "    unique_list = list(df[columns].unique())\n",
        "    for i in range(0, len(unique_list)):\n",
        "        dicts[unique_list[i]] = i\n",
        "    return {columns: dicts}"
      ]
    },
    {
      "cell_type": "code",
      "execution_count": 10,
      "metadata": {
        "id": "fcd-tQ7_qq26"
      },
      "outputs": [],
      "source": [
        "# Replace to numeric single/multiple columns in the dataset\n",
        "# 1. Based on categorize dataset function, it replaces string value to numeric values for single/multiple columns\n",
        "\n",
        "def replacing_string_to_numeric_multiple_columns(df, string_columns ):\n",
        "    for i in string_columns:\n",
        "        df = df.replace(categorize_dataset(df,i))\n",
        "    return df"
      ]
    },
    {
      "cell_type": "code",
      "execution_count": 11,
      "metadata": {
        "id": "TLJotdH-qq26"
      },
      "outputs": [],
      "source": [
        "# Replace to numeric all columns in the dataset\n",
        "# 1. Based on categorize dataset function, it replaces string value to numeric values for all columns.\n",
        "\n",
        "def replacing_string_to_numeric_all_columns(df):\n",
        "    for i in df.columns.values:\n",
        "        df = df.replace(categorize_dataset(df, i))\n",
        "    return df"
      ]
    },
    {
      "cell_type": "markdown",
      "metadata": {
        "id": "n537ZbaBKxMN"
      },
      "source": [
        "## Categorical Distribution for Computer Hardware Dataset"
      ]
    },
    {
      "cell_type": "code",
      "execution_count": 12,
      "metadata": {
        "id": "IAmhXQUeKxMO"
      },
      "outputs": [],
      "source": [
        "# Compter Categorical Distribution\n",
        "# It categorizes the machine data based on names file.\n",
        "\n",
        "def computer_categorical_distribution(x):\n",
        "    if 0<=x <=20:\n",
        "        return 0\n",
        "    if 21<=x <=100:\n",
        "        return 1\n",
        "    if 101<=x<=200:\n",
        "        return 2\n",
        "    if 201 <=x<=300:\n",
        "        return 3\n",
        "    if 301 <= x<=400:\n",
        "        return 4\n",
        "    if 401<=x<=500:\n",
        "        return 5\n",
        "    if 501<=x<=600:\n",
        "        return 6\n",
        "    if x >600:\n",
        "        return 7"
      ]
    },
    {
      "cell_type": "markdown",
      "metadata": {
        "id": "_zRDbdxGqq28"
      },
      "source": [
        "## Log Transform"
      ]
    },
    {
      "cell_type": "code",
      "execution_count": 13,
      "metadata": {
        "id": "YQUQL0TLqq28"
      },
      "outputs": [],
      "source": [
        "# Log Transform\n",
        "# 1. This function is used to apply for Forest Fires data. \n",
        "# 2. Based on note, it shows the output area is very skewed toward 0.0. The authors recommend a log transform.\n",
        "# 3. It log transform certain columns in the dataset. \n",
        "\n",
        "def log_transform(x):\n",
        "    return np.log(x + 1)"
      ]
    },
    {
      "cell_type": "markdown",
      "metadata": {
        "id": "dS1EKVUSqq29"
      },
      "source": [
        "## Discretization"
      ]
    },
    {
      "cell_type": "code",
      "execution_count": 14,
      "metadata": {
        "id": "w2GamJ-gqq29"
      },
      "outputs": [],
      "source": [
        "# Discretization\n",
        "# This function is used to transform real-valued data into a series of discretized values\n",
        "# 1. For discretization, it has two method: Equal Width , Equal Frequency\n",
        "# 2. For Equal width, it divides the data into n intervals of equal size.\n",
        "#  2.1 Width of the k interval is (max - min) /n. \n",
        "#  2.2 It replaces discretized values with dataset\n",
        "# 3. For Equal Frequency, it uses pandas function: qcut().\n",
        "#  3.1 Based on padas, it discretize variable into equal-sized buckets based on rank or based on sample quantiles.\n",
        "#  3.2 It replaces discretized values with the dataset\n",
        "\n",
        "def discretization(df, n, method, columns):\n",
        "    if method ==\"equal_width\":\n",
        "        for i in columns:\n",
        "            max_val = np.amax(df[i].values)\n",
        "            min_val = np.amin(df[i].values)\n",
        "            bin_size = (max_val - min_val) / n\n",
        "            result =[]\n",
        "            for j in df[i].values:\n",
        "                bin_num = int( j // bin_size )\n",
        "                if bin_num > n - 1:\n",
        "                    bin_num = n - 1\n",
        "                result.append( bin_num )\n",
        "            df[i] = df[i].replace(df[i].values,result)\n",
        "            result.clear()\n",
        "        return df\n",
        "    if method == \"equal_frequency\":\n",
        "        for i in columns:\n",
        "            result = pd.qcut(df[i].values,n, labels=False, duplicates='drop')\n",
        "            df[i] = df[i].replace(df[i].values,result)\n",
        "        return df"
      ]
    },
    {
      "cell_type": "markdown",
      "metadata": {
        "id": "kKmypkHAqq2-"
      },
      "source": [
        "## Standardization"
      ]
    },
    {
      "cell_type": "code",
      "execution_count": 15,
      "metadata": {
        "id": "QUbwa9Lxqq2-"
      },
      "outputs": [],
      "source": [
        "# Split dataset\n",
        "# 1. It splits the dataset into two: training set and test set.\n",
        "# 2. Training set has 80% of original dataset. \n",
        "# 3. Testing set has 20% of original dataset. \n",
        "\n",
        "def split_dataset(df, train_perc):\n",
        "    train_end_ind = int(round(df.shape[0] * train_perc))\n",
        "    train = df.iloc[0:train_end_ind]\n",
        "    test = df.iloc[train_end_ind:-1]\n",
        "    return (train, test)"
      ]
    },
    {
      "cell_type": "code",
      "execution_count": 16,
      "metadata": {
        "id": "RaEQ8wV_qq2_"
      },
      "outputs": [],
      "source": [
        "# Z-score standardization\n",
        "# It computes z-score by (observed value - mean of the sample) / standard deviation of the sample\n",
        "\n",
        "def z_score_standardization(df):\n",
        "    z_score = (df-df.mean())/df.std()\n",
        "    return z_score"
      ]
    },
    {
      "cell_type": "code",
      "execution_count": 17,
      "metadata": {
        "id": "V5fttln4qq2_"
      },
      "outputs": [],
      "source": [
        "# Standardization\n",
        "# 1. It applies z-score standardization for training set and testign set. \n",
        "\n",
        "def Standardization(training, testing):\n",
        "    training_zscore = z_score_standardization(training)\n",
        "    testing_zscore = z_score_standardization(testing)\n",
        "    return (training_zscore, testing_zscore)"
      ]
    },
    {
      "cell_type": "markdown",
      "metadata": {
        "id": "LiPIL5iKqq3A"
      },
      "source": [
        "## Cross-validation"
      ]
    },
    {
      "cell_type": "code",
      "execution_count": 18,
      "metadata": {
        "id": "1m5UvzHfqq3A"
      },
      "outputs": [],
      "source": [
        "#K-fold cross validation\n",
        "# For this k-fold cross valiation, it applied startification.\n",
        "# 1. With training set, it splits training set into k-equaled size. \n",
        "# 2. It returns k-equal-sized training partitions. \n",
        "\n",
        "def cross_validation(df, k):\n",
        "    df_size= len(df)\n",
        "    df_size = df_size//k \n",
        "    remainder = df_size %k\n",
        "    df_folds = []\n",
        "    start = 0\n",
        "    for i in range(0,k):\n",
        "        if i < remainder:\n",
        "            fold =  df.iloc[start : start+df_size+1]\n",
        "            df_folds.append(fold)\n",
        "            start +=  df_size + 1\n",
        "        else:\n",
        "            fold =  df.iloc[start : start+df_size]\n",
        "            df_folds.append(fold)\n",
        "            start +=  df_size\n",
        "    return df_folds"
      ]
    },
    {
      "cell_type": "code",
      "execution_count": 19,
      "metadata": {
        "id": "LOi32WZGKxMa"
      },
      "outputs": [],
      "source": [
        "# Cross Validation Regression\n",
        "# 1. Unlike Cross validation classification, it samples uniformly across all of the response values.\n",
        "# 2. It sorts the data by predictor. Then, It takes fifth point for a given fold.\n",
        "# 3. It returns k-equal-sized training partitions. \n",
        "\n",
        "def cross_validation_regression(df, k, var):\n",
        "    df = df.sort_values(var, axis=0)\n",
        "    df_size= len(df)\n",
        "    df_size = df_size//k \n",
        "    remainder = df_size %k\n",
        "    df_folds = []\n",
        "    start = 0\n",
        "    for i in range(0,k):\n",
        "        if i < remainder:\n",
        "            fold = df.iloc[::5,].reset_index(drop=True)\n",
        "            fold =  df.iloc[start : start+df_size+1]\n",
        "            df_folds.append(fold)\n",
        "            start +=  df_size + 1\n",
        "        else:\n",
        "            fold = df.iloc[::5,].reset_index(drop=True)\n",
        "            fold =  df.iloc[start : start+df_size]\n",
        "            df_folds.append(fold)\n",
        "            start +=  df_size\n",
        "    return df_folds"
      ]
    },
    {
      "cell_type": "markdown",
      "metadata": {
        "id": "VuENlUx3qq3B"
      },
      "source": [
        "## Evaluation Metrics"
      ]
    },
    {
      "cell_type": "code",
      "execution_count": 20,
      "metadata": {
        "id": "RekFS1B7qq3B"
      },
      "outputs": [],
      "source": [
        "# Evaluation Metrics\n",
        "# It used to evaluate the efficacy of a machine learning algorithm on a dataset. \n",
        "# 1. Classification score\n",
        "#  1.1 It computes accuracy score between predicted values and observed values\n",
        "# 2. MSE\n",
        "#  2.1 It compute MSE by sum of square of difference between actual and predicted and divide by number of points.\n",
        "# 3. MAE\n",
        "#  3.1 It compute MAE by sum of absolute of (prediction - true value) and divide by number of points.\n",
        "# 4. R Square\n",
        "#  4.1 R squared is computed by 1 - RSS (sum of squares of residuals)/ TSS (total sum of squares)\n",
        "# 5. Pearson’s correlation\n",
        "#  5.1 Pearson's correlation is computed by Covariance of X and Y / (stadard deviation of X * stadard deviation of Y)\n",
        "\n",
        "def evaluation_metrics(y_true, y_pred, method):\n",
        "    diff = np.subtract(y_true, y_pred)\n",
        "    if method ==\"classification score\":\n",
        "        count = 0\n",
        "        for i in range(len(y_pred)):\n",
        "            if y_pred[i] == y_true[i]:\n",
        "                count +=1\n",
        "        accuracy_score = count / len(y_pred)\n",
        "        return accuracy_score\n",
        "    if method ==\"MSE\":\n",
        "        return np.mean(diff**2)\n",
        "    if method ==\"MAE\":\n",
        "        return np.mean(abs(diff))\n",
        "    if method ==\"R square\":\n",
        "        y_bar = y.mean()\n",
        "        TSS = ((y-y_bar)**2).sum()\n",
        "        RSS = (diff**2).sum()\n",
        "        return 1 - (RSS/TSS)\n",
        "    if method ==\"Pearson_correlation\":\n",
        "        covariance = np.cov(y_true, y_pred)\n",
        "        pearson = covariance / (np.std(y_true) * np.std(y_pred))\n",
        "        return pearson\n"
      ]
    },
    {
      "cell_type": "markdown",
      "metadata": {
        "id": "kDrh6gw_qq3D"
      },
      "source": [
        "## Euclidean Distance"
      ]
    },
    {
      "cell_type": "code",
      "execution_count": 21,
      "metadata": {
        "id": "ag-SC_jwqq3E"
      },
      "outputs": [],
      "source": [
        "# It computes the distance using Euclidean Distance formula.\n",
        "def euclidean_distance(x1,x2):\n",
        "    return np.sqrt(np.sum((x1-x2)**2))"
      ]
    },
    {
      "cell_type": "markdown",
      "metadata": {
        "id": "Kq85EOrZKxMc"
      },
      "source": [
        "## Gaussian Kernel"
      ]
    },
    {
      "cell_type": "code",
      "execution_count": 22,
      "metadata": {
        "id": "fLpa7FnpKxMd"
      },
      "outputs": [],
      "source": [
        "# It computes the smooth function using Gaussian Kernel Function\n",
        "def gaussian_kernel(distances, sigma):\n",
        "    return np.exp(-(1 / 2 * sigma) * distances)"
      ]
    },
    {
      "cell_type": "markdown",
      "metadata": {
        "id": "utxdzMsSqq3N"
      },
      "source": [
        "## K Nearest Neighbor Classifier (Standard KNN, Edited KNN, Condensed KNN)"
      ]
    },
    {
      "cell_type": "code",
      "execution_count": 23,
      "metadata": {
        "id": "NsbKgAo_qq3O"
      },
      "outputs": [],
      "source": [
        "# K-Nearest Neighbor Algorithm Classifier\n",
        "# 1. It computes the distance between the instance label and the training instance using eucliden distance.\n",
        "# 2. It sorts the distance by ascending order\n",
        "# 3. It checks for k closest neighbor. \n",
        "# 4. From the k closest neighbor, it takes most common label using plurality vote to determine the class.\n",
        "# 5. It returns the list of the prediction.\n",
        "\n",
        "#For demonstration purpose\n",
        "# It returns with k-nearest neighbor and assigned class.\n",
        "\n",
        "def knn_classifer(train, test, predictor, k):\n",
        "    train_class = train[predictor].values\n",
        "    train = train.drop(columns=[predictor]).values\n",
        "    test_class = test[predictor].values\n",
        "    test = test.drop(columns=[predictor]).values\n",
        "    prediction = []\n",
        "    Nearest_neighbor =[]\n",
        "    assigned_class=[]\n",
        "    for n in test:\n",
        "        distances = []\n",
        "        for j in train:\n",
        "            distances.append(euclidean_distance(n,j))\n",
        "        indices = np.argsort(distances, axis=0)\n",
        "        Nearest_neighbor.append(indices[:k])\n",
        "        labels = train_class[indices[:k]]\n",
        "        assigned_class.append(labels)\n",
        "        most_labels = Counter(labels).most_common(1)\n",
        "        prediction.append(most_labels[0][0])\n",
        "    return prediction, Nearest_neighbor, assigned_class"
      ]
    },
    {
      "cell_type": "code",
      "execution_count": 24,
      "metadata": {
        "id": "LjOhHgZMqq3P"
      },
      "outputs": [],
      "source": [
        "# Edited K Nearest Neighbor Classifier\n",
        "# 1. Each of the training points is classified by iterating all of the other data points in the data.\n",
        "# 2. It comptues the prediction using standard KNN.\n",
        "# 3. It compares the classification returned to the label associated with the point\n",
        "# 4. If it disagree, it drop/removes from dataframe.\n",
        "# 5. It computes the performance by evaluating accurasy score. \n",
        "# 6. It repeats the process until the performance doesn't improve. \n",
        "# 7. It returns the remaining dataframe. \n",
        "\n",
        "def edited_knn_classifer(df, test, predictor):\n",
        "    edited_df = df.copy()\n",
        "    val_labels = test[predictor].values\n",
        "    new_score = 0\n",
        "    pre_score = -1\n",
        "    while new_score > pre_score:\n",
        "        pre_knn = knn_classifer(edited_df, test, predictor, 1)[0]\n",
        "        pre_score = evaluation_metrics(val_labels, pre_knn, \"classification score\")\n",
        "        for ind, row in edited_df.iterrows():\n",
        "            changed_df = edited_df.loc[lambda x: x.index != ind]\n",
        "            pred = knn_classifer(changed_df, row.to_frame().T, predictor, 1)[0]\n",
        "            true_label = row[predictor]\n",
        "            if pred !=true_label:\n",
        "                edited_df.drop(ind, inplace=True)\n",
        "        new_knn = knn_classifer(edited_df, test, predictor, 1)[0]\n",
        "        new_score = evaluation_metrics(val_labels, new_knn, \"classification score\")\n",
        "    return edited_df"
      ]
    },
    {
      "cell_type": "code",
      "execution_count": 25,
      "metadata": {
        "id": "1SBUqR_iqq3Q"
      },
      "outputs": [],
      "source": [
        "# Condensed K Nearest Neighbor Classifier\n",
        "# 1. Condensed KNN uses similar method as Edited KNN.\n",
        "# 2. It starts from empty set Z and passes over the instance in random order and computes the prediction using standard KNN.\n",
        "# 3. It finds the points within set of Z that is minimum distance to each points.\n",
        "# 4. Since it finds the minimum distance, it uses 1 for number of neighbor.\n",
        "# 5. If an instance is misclassified, the points added into Z.\n",
        "# 6. It repeats the process until Z doesn't change. \n",
        "# 7. It returns the set of Z.\n",
        "\n",
        "def condensed_knn_classifer(df, predictor):\n",
        "    condensed_df = df.copy()\n",
        "    Z = []\n",
        "    condensed_df = condensed_df.sample(frac=1)\n",
        "    changed = True\n",
        "    while changed:\n",
        "        changed =False\n",
        "        for indexed in range(condensed_df.shape[0]):\n",
        "            if len(Z)==0:\n",
        "                Z.append(indexed)\n",
        "                changed = True\n",
        "            if indexed in Z:\n",
        "                continue\n",
        "            new_df = condensed_df.iloc[Z]\n",
        "            pred = knn_classifer(new_df, condensed_df.iloc[indexed].to_frame().T, predictor, 1)[0]\n",
        "            true_label = condensed_df.iloc[indexed][predictor]\n",
        "            if pred != true_label:\n",
        "                Z.append(indexed)\n",
        "                changed =True  \n",
        "    new_df =condensed_df.iloc[Z]\n",
        "    return new_df"
      ]
    },
    {
      "cell_type": "code",
      "execution_count": 26,
      "metadata": {
        "id": "lcT1fW7Fqq3R"
      },
      "outputs": [],
      "source": [
        "# Knn_classification\n",
        "# It computes various KNN algorithm for classifier.\n",
        "# It evalutes the performance using accuracy score.\n",
        "# It returns the performance and remaining data after Edited and Condensed KNN. \n",
        "\n",
        "def knn_classification(df, predictor, k, eval_method, algorithm):\n",
        "    k_fold_score = []\n",
        "    remaining_data = []\n",
        "    knn_demonstration= []\n",
        "    for i in range(0, len(df)):\n",
        "        k_validate = pd.concat([x for j,x in enumerate(df) if j!=i])\n",
        "        testing_val_y = df[i][predictor].values\n",
        "        if algorithm ==\"knn\":\n",
        "            y_pred = knn_classifer(k_validate, df[i], predictor, k)[0]\n",
        "            pred, closest_neighbor, assigned_class = knn_classifer(k_validate, df[i], predictor, k)\n",
        "            knn_demonstration = [pred, closest_neighbor, assigned_class]\n",
        "        if algorithm ==\"edited knn\":\n",
        "            edited_knn_df = edited_knn_classifer(k_validate,df[i], predictor)\n",
        "            y_pred = knn_classifer(edited_knn_df, df[i], predictor, k)[0]\n",
        "            remaining_data.append(round((len(edited_knn_df)/len(k_validate))*100,2))\n",
        "        if algorithm == \"condensed knn\":\n",
        "            condensed_knn_df = condensed_knn_classifer(k_validate, predictor)\n",
        "            y_pred = knn_classifer(condensed_knn_df, df[i], predictor, k)[0]\n",
        "            remaining_data.append(round((len(condensed_knn_df)/len(k_validate))*100,2))\n",
        "\n",
        "        score = evaluation_metrics(testing_val_y, y_pred, eval_method)\n",
        "        k_fold_score.append(round((score*100),2))\n",
        "    return k_fold_score, remaining_data, knn_demonstration"
      ]
    },
    {
      "cell_type": "markdown",
      "metadata": {
        "id": "yM6Vd-R7KxMg"
      },
      "source": [
        "## K Nearest Neighbor Regressor (Standard KNN, Edited KNN, Condensed KNN)"
      ]
    },
    {
      "cell_type": "code",
      "execution_count": 27,
      "metadata": {
        "id": "NCV9XHLpKxMj"
      },
      "outputs": [],
      "source": [
        "# K Nearest Neighbor Regressor\n",
        "# 1. It computes the distance between the instance label and the training instance using eucliden distance.\n",
        "# 2. It sorts the distance by ascending order\n",
        "# 3. It checks for k closest neighbor. \n",
        "# 4. It applies a Gaussian (radial basis function) kernel to computes the weights.\n",
        "# 5. It makes prediction by calculating regression values. {Sum(weight * Nearest Neighbor) / Sum(weight)}\n",
        "\n",
        "def knn_regressor(train, test, predictor, k, sigma):\n",
        "    train_class = train[predictor].values\n",
        "    train = train.drop(columns=[predictor]).values\n",
        "    test_class = test[predictor].values\n",
        "    test = test.drop(columns=[predictor]).values\n",
        "    prediction = []\n",
        "    Nearest_neighbor =[]\n",
        "    assigned_class=[]\n",
        "    for n in test:\n",
        "        distances = []\n",
        "        for x_train in train:\n",
        "            distances.append(euclidean_distance(n,x_train))\n",
        "        indices = np.argsort(distances, axis=0)\n",
        "        Nearest_neighbor.append(indices[:k])\n",
        "        labels = train_class[indices[:k]]\n",
        "        assigned_class.append(labels)\n",
        "        nearest_distance = np.array(distances)[indices[:k]]\n",
        "        weight = gaussian_kernel(nearest_distance, sigma)\n",
        "        nearest_neighbor = train_class[indices[:k]]\n",
        "        prediction.append(sum(weight*nearest_neighbor)/ sum(weight))\n",
        "    return prediction, Nearest_neighbor, assigned_class"
      ]
    },
    {
      "cell_type": "code",
      "execution_count": 28,
      "metadata": {
        "id": "bhSH6VtEKxMk"
      },
      "outputs": [],
      "source": [
        "# Edited K Nearest Neighbor Regressor\n",
        "# 1. It comptues the prediction using standard KNN.\n",
        "# 2. It compares the classification returned to the label associated with the point\n",
        "# 3. If the prediction doesn't match the rest of the data, it drops the points from the training set\n",
        "# 4. It checks that it doesn't matches when the prediction is not within error threshold.\n",
        "# 5. Since it compares previous score and current score for MSE, the score should be minimum.\n",
        "# 6. It repeats the process until it doesn't reduce the MSE score.\n",
        "\n",
        "def edited_knn_regressor(df, test, predictor, sigma, epsilon):\n",
        "    edited_df = df.copy()\n",
        "    val_labels = test[predictor].values\n",
        "    new_score = -1\n",
        "    pre_score = 0\n",
        "    while new_score < pre_score:\n",
        "        pre_knn = knn_regressor(edited_df, test, predictor, 1, sigma)[0]\n",
        "        pre_score = evaluation_metrics(val_labels, pre_knn, \"MSE\")\n",
        "        for ind, row in edited_df.iterrows():\n",
        "            remaining_data = edited_df.loc[lambda x: x.index != ind]\n",
        "            pred = knn_regressor(remaining_data, row.to_frame().T, predictor, 1, sigma)[0]\n",
        "            true_values = row[predictor]\n",
        "            if not((true_values - epsilon) < pred < (true_values + epsilon)):\n",
        "                edited_df.drop(ind, inplace=True)\n",
        "        new_knn = knn_regressor(edited_df, test, predictor, 1, sigma)[0]\n",
        "        new_score = evaluation_metrics(val_labels, new_knn, \"MSE\")\n",
        "    return edited_df"
      ]
    },
    {
      "cell_type": "code",
      "execution_count": 29,
      "metadata": {
        "id": "lhE3d9YzKxMn"
      },
      "outputs": [],
      "source": [
        "# Condensed K Nearest Neighbor for Regressor\n",
        "# 1. It starts from empty set Z.\n",
        "# 2. It adds inital points when Z is empty\n",
        "# 3. It makes prediction by using standard KNN regressor.\n",
        "# 4. If the prediction is not within error threshold, it adds to Z\n",
        "# 5. It returns the set of Z\n",
        "\n",
        "def condensed_knn_regressor(df, predictor, sigma, epsilon):\n",
        "    df2 = df.copy()\n",
        "    Z = []\n",
        "    df2 = df2.sample(frac=1)\n",
        "    changed = True\n",
        "    while changed:\n",
        "        changed =False\n",
        "        for indexed in range(df2.shape[0]):\n",
        "            if len(Z)==0:\n",
        "                Z.append(indexed)\n",
        "                changed = True\n",
        "            if indexed in Z:\n",
        "                continue\n",
        "            new_df = df2.iloc[Z]\n",
        "            pred = knn_regressor(new_df, df2.iloc[indexed].to_frame().T, predictor, 1, sigma)[0]\n",
        "            true_values = df2.iloc[indexed][predictor]\n",
        "            if not((true_values - epsilon) < pred < (true_values + epsilon)):\n",
        "                Z.append(indexed)\n",
        "                changed =True  \n",
        "    new_df =df.iloc[Z]\n",
        "    return new_df"
      ]
    },
    {
      "cell_type": "code",
      "execution_count": 30,
      "metadata": {
        "id": "9xHog-u6KxMo"
      },
      "outputs": [],
      "source": [
        "# KNN Regression\n",
        "# It computes various KNN algorithm for regressor\n",
        "# It evalutes the performance using MSE.\n",
        "# It returns the performance and remaining data after Edited and Condensed KNN.\n",
        "\n",
        "def knn_regression(df, predictor, k, sigma, epsilon, eval_method, algorithm):\n",
        "    k_fold_score = []\n",
        "    remaining_data = []\n",
        "    knn_demonstration = []\n",
        "    for i in range(0, len(df)):\n",
        "        k_validate = pd.concat([x for j,x in enumerate(df) if j!=i])\n",
        "        testing_val_y = df[i][predictor].values\n",
        "        if algorithm ==\"knn\":\n",
        "            predicted = knn_regressor(k_validate, df[i], predictor, k, sigma)[0]\n",
        "            pred, closest_neighbor, asigned_class = knn_regressor(k_validate, df[i], predictor, k, sigma)\n",
        "            knn_demonstration = [pred, closest_neighbor, asigned_class]\n",
        "        if algorithm ==\"edited knn\":\n",
        "            edited_knn_df = edited_knn_regressor(k_validate,df[i], predictor, sigma, epsilon)\n",
        "            predicted = knn_regressor(edited_knn_df, df[i], predictor, k, sigma)[0]\n",
        "            remaining_data.append(round((len(edited_knn_df)/len(k_validate))*100,2))\n",
        "        if algorithm ==\"condensed knn\":\n",
        "            condensed_knn_df = condensed_knn_regressor(k_validate, predictor, sigma, epsilon)\n",
        "            predicted = knn_regressor(condensed_knn_df, df[i], predictor, k, sigma)[0]\n",
        "            remaining_data.append(round((len(condensed_knn_df)/len(k_validate))*100,2))\n",
        "        score = evaluation_metrics(testing_val_y, predicted, eval_method)\n",
        "        k_fold_score.append(round(score,4))\n",
        "    return k_fold_score, remaining_data, knn_demonstration"
      ]
    },
    {
      "cell_type": "markdown",
      "metadata": {
        "id": "7h91uqcYhYfz"
      },
      "source": [
        "## KNN demonstration classification/Regression"
      ]
    },
    {
      "cell_type": "code",
      "execution_count": 31,
      "metadata": {
        "id": "kiZj0fNUhYfz"
      },
      "outputs": [],
      "source": [
        "# This is the demonstration of neighbors returns as well as the point being classified.\n",
        "# It showed closest Neighbor and k assigned class and predicted class.\n",
        "\n",
        "def knn_demonstration_classification(df, predictor, k):\n",
        "    knn_demo = knn_classification(df, predictor, k, \"classification score\", \"knn\")[2]\n",
        "    df2 = pd.DataFrame()\n",
        "    df2['closest Neighbor '] = knn_demo[1]\n",
        "    df2['Assigned Class'] = knn_demo[2]\n",
        "    df2['Predicted Class'] = knn_demo[0]\n",
        "    return df2"
      ]
    },
    {
      "cell_type": "code",
      "execution_count": 32,
      "metadata": {
        "id": "eAwPEq7LhYfz"
      },
      "outputs": [],
      "source": [
        "def knn_demonstration_regression(df, predictor, k, sigma):\n",
        "    knn_demo = knn_regression(df, predictor, k , sigma, False, \"MSE\", 'knn')[2]\n",
        "    df2 = pd.DataFrame()\n",
        "    df2['closest Neighbor '] = knn_demo[1]\n",
        "    df2['Assigned Class'] = knn_demo[2]\n",
        "    df2['Predicted Class'] = knn_demo[0]\n",
        "    return df2"
      ]
    },
    {
      "cell_type": "markdown",
      "metadata": {
        "id": "935KUJLBqq3R"
      },
      "source": [
        "## Tuning"
      ]
    },
    {
      "cell_type": "code",
      "execution_count": 33,
      "metadata": {
        "id": "LJQjyaRcqq3R"
      },
      "outputs": [],
      "source": [
        "# Tuning k parameter\n",
        "# It process tuning to find the best k parameter for the algorithm.\n",
        "\n",
        "def tuning_k_parameter(df, parameter, predictor, eval_method, algorithm):\n",
        "    best_k_candidate = []\n",
        "    for i in range(len(parameter)):\n",
        "        best_k_candidate.append(np.mean(knn_classification(df, predictor, parameter[i], eval_method, algorithm)[0]))\n",
        "    return parameter[best_k_candidate.index(max(best_k_candidate))]"
      ]
    },
    {
      "cell_type": "code",
      "execution_count": 34,
      "metadata": {
        "id": "Yulw9L63KxMp"
      },
      "outputs": [],
      "source": [
        "# Tuning parameter with sigma\n",
        "# It process tuning to find the best k and sigma for the algorithm.\n",
        "\n",
        "def tuning_parameter_with_sigma(df, kparameter, sigmaparameter, epsilon, predictor, eval_method, algorithm):\n",
        "    parameter_list =[]\n",
        "    best_candidate = []\n",
        "    for i in range(len(kparameter)):\n",
        "        for j in range(len(sigmaparameter)):\n",
        "            parameter_list.append([i,j])\n",
        "            best_candidate.append(np.mean(knn_regression(df, predictor,kparameter[i], sigmaparameter[j],False, eval_method, algorithm)[0]))\n",
        "    best_parameter =best_candidate.index(min(best_candidate))\n",
        "    best_k = kparameter[parameter_list[best_parameter][0]]\n",
        "    best_sigma = sigmaparameter[parameter_list[best_parameter][1]]\n",
        "    return best_k, best_sigma"
      ]
    },
    {
      "cell_type": "code",
      "execution_count": 35,
      "metadata": {
        "id": "eQEAMBoyKxMq"
      },
      "outputs": [],
      "source": [
        "# Tuning parameter with epsilon\n",
        "# It process tuning to find the best k, sigma, and epsilon for the algorithm.\n",
        "\n",
        "def tuning_parameter_with_epsilon(df, kparameter, sigmaparameter, epsilonparameter, predictor, eval_method, algorithm):\n",
        "    parameter_list =[]\n",
        "    best_candidate = []\n",
        "    for i in range(len(kparameter)):\n",
        "        for j in range(len(sigmaparameter)):\n",
        "            for k in range(len(epsilonparameter)):\n",
        "                parameter_list.append([i,j,k])\n",
        "                best_candidate.append(np.mean(knn_regression(df, predictor,kparameter[i], sigmaparameter[j],epsilonparameter[k], eval_method, algorithm)[0]))\n",
        "    best_parameter =best_candidate.index(min(best_candidate))\n",
        "    best_k = kparameter[parameter_list[best_parameter][0]]\n",
        "    best_sigma = sigmaparameter[parameter_list[best_parameter][1]]\n",
        "    best_epsilon = epsilonparameter[parameter_list[best_parameter][2]]\n",
        "    return best_k, best_sigma,  best_epsilon"
      ]
    },
    {
      "cell_type": "markdown",
      "metadata": {
        "id": "xlSCn0ALqq3S"
      },
      "source": [
        "## Breast Cancer Wisconsin Dataset"
      ]
    },
    {
      "cell_type": "code",
      "execution_count": 36,
      "metadata": {
        "colab": {
          "base_uri": "https://localhost:8080/",
          "height": 207
        },
        "id": "KXT87EuSqq3T",
        "outputId": "e269ca54-f955-472c-dbc3-88f4d69a0d8b"
      },
      "outputs": [
        {
          "output_type": "execute_result",
          "data": {
            "text/html": [
              "\n",
              "  <div id=\"df-006b2636-44e0-443e-9fae-7fc229e48fe0\">\n",
              "    <div class=\"colab-df-container\">\n",
              "      <div>\n",
              "<style scoped>\n",
              "    .dataframe tbody tr th:only-of-type {\n",
              "        vertical-align: middle;\n",
              "    }\n",
              "\n",
              "    .dataframe tbody tr th {\n",
              "        vertical-align: top;\n",
              "    }\n",
              "\n",
              "    .dataframe thead th {\n",
              "        text-align: right;\n",
              "    }\n",
              "</style>\n",
              "<table border=\"1\" class=\"dataframe\">\n",
              "  <thead>\n",
              "    <tr style=\"text-align: right;\">\n",
              "      <th></th>\n",
              "      <th>sample_code_number</th>\n",
              "      <th>clump_thickness</th>\n",
              "      <th>uniformity_cell_size</th>\n",
              "      <th>uniformity_cell_shape</th>\n",
              "      <th>marginal_adhesion</th>\n",
              "      <th>single_epithelial_cell_size</th>\n",
              "      <th>bare_nuclei</th>\n",
              "      <th>bland_chromatin</th>\n",
              "      <th>normal_nucleoli</th>\n",
              "      <th>mitosis</th>\n",
              "      <th>class</th>\n",
              "    </tr>\n",
              "  </thead>\n",
              "  <tbody>\n",
              "    <tr>\n",
              "      <th>0</th>\n",
              "      <td>1000025</td>\n",
              "      <td>5</td>\n",
              "      <td>1</td>\n",
              "      <td>1</td>\n",
              "      <td>1</td>\n",
              "      <td>2</td>\n",
              "      <td>1</td>\n",
              "      <td>3</td>\n",
              "      <td>1</td>\n",
              "      <td>1</td>\n",
              "      <td>2</td>\n",
              "    </tr>\n",
              "    <tr>\n",
              "      <th>1</th>\n",
              "      <td>1002945</td>\n",
              "      <td>5</td>\n",
              "      <td>4</td>\n",
              "      <td>4</td>\n",
              "      <td>5</td>\n",
              "      <td>7</td>\n",
              "      <td>10</td>\n",
              "      <td>3</td>\n",
              "      <td>2</td>\n",
              "      <td>1</td>\n",
              "      <td>2</td>\n",
              "    </tr>\n",
              "    <tr>\n",
              "      <th>2</th>\n",
              "      <td>1015425</td>\n",
              "      <td>3</td>\n",
              "      <td>1</td>\n",
              "      <td>1</td>\n",
              "      <td>1</td>\n",
              "      <td>2</td>\n",
              "      <td>2</td>\n",
              "      <td>3</td>\n",
              "      <td>1</td>\n",
              "      <td>1</td>\n",
              "      <td>2</td>\n",
              "    </tr>\n",
              "  </tbody>\n",
              "</table>\n",
              "</div>\n",
              "      <button class=\"colab-df-convert\" onclick=\"convertToInteractive('df-006b2636-44e0-443e-9fae-7fc229e48fe0')\"\n",
              "              title=\"Convert this dataframe to an interactive table.\"\n",
              "              style=\"display:none;\">\n",
              "        \n",
              "  <svg xmlns=\"http://www.w3.org/2000/svg\" height=\"24px\"viewBox=\"0 0 24 24\"\n",
              "       width=\"24px\">\n",
              "    <path d=\"M0 0h24v24H0V0z\" fill=\"none\"/>\n",
              "    <path d=\"M18.56 5.44l.94 2.06.94-2.06 2.06-.94-2.06-.94-.94-2.06-.94 2.06-2.06.94zm-11 1L8.5 8.5l.94-2.06 2.06-.94-2.06-.94L8.5 2.5l-.94 2.06-2.06.94zm10 10l.94 2.06.94-2.06 2.06-.94-2.06-.94-.94-2.06-.94 2.06-2.06.94z\"/><path d=\"M17.41 7.96l-1.37-1.37c-.4-.4-.92-.59-1.43-.59-.52 0-1.04.2-1.43.59L10.3 9.45l-7.72 7.72c-.78.78-.78 2.05 0 2.83L4 21.41c.39.39.9.59 1.41.59.51 0 1.02-.2 1.41-.59l7.78-7.78 2.81-2.81c.8-.78.8-2.07 0-2.86zM5.41 20L4 18.59l7.72-7.72 1.47 1.35L5.41 20z\"/>\n",
              "  </svg>\n",
              "      </button>\n",
              "      \n",
              "  <style>\n",
              "    .colab-df-container {\n",
              "      display:flex;\n",
              "      flex-wrap:wrap;\n",
              "      gap: 12px;\n",
              "    }\n",
              "\n",
              "    .colab-df-convert {\n",
              "      background-color: #E8F0FE;\n",
              "      border: none;\n",
              "      border-radius: 50%;\n",
              "      cursor: pointer;\n",
              "      display: none;\n",
              "      fill: #1967D2;\n",
              "      height: 32px;\n",
              "      padding: 0 0 0 0;\n",
              "      width: 32px;\n",
              "    }\n",
              "\n",
              "    .colab-df-convert:hover {\n",
              "      background-color: #E2EBFA;\n",
              "      box-shadow: 0px 1px 2px rgba(60, 64, 67, 0.3), 0px 1px 3px 1px rgba(60, 64, 67, 0.15);\n",
              "      fill: #174EA6;\n",
              "    }\n",
              "\n",
              "    [theme=dark] .colab-df-convert {\n",
              "      background-color: #3B4455;\n",
              "      fill: #D2E3FC;\n",
              "    }\n",
              "\n",
              "    [theme=dark] .colab-df-convert:hover {\n",
              "      background-color: #434B5C;\n",
              "      box-shadow: 0px 1px 3px 1px rgba(0, 0, 0, 0.15);\n",
              "      filter: drop-shadow(0px 1px 2px rgba(0, 0, 0, 0.3));\n",
              "      fill: #FFFFFF;\n",
              "    }\n",
              "  </style>\n",
              "\n",
              "      <script>\n",
              "        const buttonEl =\n",
              "          document.querySelector('#df-006b2636-44e0-443e-9fae-7fc229e48fe0 button.colab-df-convert');\n",
              "        buttonEl.style.display =\n",
              "          google.colab.kernel.accessAllowed ? 'block' : 'none';\n",
              "\n",
              "        async function convertToInteractive(key) {\n",
              "          const element = document.querySelector('#df-006b2636-44e0-443e-9fae-7fc229e48fe0');\n",
              "          const dataTable =\n",
              "            await google.colab.kernel.invokeFunction('convertToInteractive',\n",
              "                                                     [key], {});\n",
              "          if (!dataTable) return;\n",
              "\n",
              "          const docLinkHtml = 'Like what you see? Visit the ' +\n",
              "            '<a target=\"_blank\" href=https://colab.research.google.com/notebooks/data_table.ipynb>data table notebook</a>'\n",
              "            + ' to learn more about interactive tables.';\n",
              "          element.innerHTML = '';\n",
              "          dataTable['output_type'] = 'display_data';\n",
              "          await google.colab.output.renderOutput(dataTable, element);\n",
              "          const docLink = document.createElement('div');\n",
              "          docLink.innerHTML = docLinkHtml;\n",
              "          element.appendChild(docLink);\n",
              "        }\n",
              "      </script>\n",
              "    </div>\n",
              "  </div>\n",
              "  "
            ],
            "text/plain": [
              "   sample_code_number  clump_thickness  ...  mitosis  class\n",
              "0             1000025                5  ...        1      2\n",
              "1             1002945                5  ...        1      2\n",
              "2             1015425                3  ...        1      2\n",
              "\n",
              "[3 rows x 11 columns]"
            ]
          },
          "metadata": {},
          "execution_count": 36
        }
      ],
      "source": [
        "breast_cancer_dataset = open_csv_dataset('breast-cancer', True)\n",
        "breast_cancer_dataset.head(3)"
      ]
    },
    {
      "cell_type": "code",
      "execution_count": 37,
      "metadata": {
        "id": "4s410Fkaqq3T"
      },
      "outputs": [],
      "source": [
        "clean_breast_cancer_dataset = handling_missing_values(breast_cancer_dataset)"
      ]
    },
    {
      "cell_type": "code",
      "execution_count": 38,
      "metadata": {
        "colab": {
          "base_uri": "https://localhost:8080/"
        },
        "id": "MS-NDbJuqq3T",
        "outputId": "cfdffc11-8e90-4e7f-9546-0930ae417bab"
      },
      "outputs": [
        {
          "output_type": "execute_result",
          "data": {
            "text/plain": [
              "False"
            ]
          },
          "metadata": {},
          "execution_count": 38
        }
      ],
      "source": [
        "clean_breast_cancer_dataset.isnull().sum().any()"
      ]
    },
    {
      "cell_type": "code",
      "execution_count": 39,
      "metadata": {
        "colab": {
          "base_uri": "https://localhost:8080/",
          "height": 270
        },
        "id": "IlCrg4Gtqq3U",
        "outputId": "e8cf38d2-24d3-4646-cdbd-7d515a1884c2"
      },
      "outputs": [
        {
          "output_type": "execute_result",
          "data": {
            "text/html": [
              "\n",
              "  <div id=\"df-7406613e-fe33-41a2-a665-17495dd402e7\">\n",
              "    <div class=\"colab-df-container\">\n",
              "      <div>\n",
              "<style scoped>\n",
              "    .dataframe tbody tr th:only-of-type {\n",
              "        vertical-align: middle;\n",
              "    }\n",
              "\n",
              "    .dataframe tbody tr th {\n",
              "        vertical-align: top;\n",
              "    }\n",
              "\n",
              "    .dataframe thead th {\n",
              "        text-align: right;\n",
              "    }\n",
              "</style>\n",
              "<table border=\"1\" class=\"dataframe\">\n",
              "  <thead>\n",
              "    <tr style=\"text-align: right;\">\n",
              "      <th></th>\n",
              "      <th>sample_code_number</th>\n",
              "      <th>clump_thickness</th>\n",
              "      <th>uniformity_cell_size</th>\n",
              "      <th>uniformity_cell_shape</th>\n",
              "      <th>marginal_adhesion</th>\n",
              "      <th>single_epithelial_cell_size</th>\n",
              "      <th>bare_nuclei</th>\n",
              "      <th>bland_chromatin</th>\n",
              "      <th>normal_nucleoli</th>\n",
              "      <th>mitosis</th>\n",
              "      <th>class</th>\n",
              "    </tr>\n",
              "  </thead>\n",
              "  <tbody>\n",
              "    <tr>\n",
              "      <th>0</th>\n",
              "      <td>1000025</td>\n",
              "      <td>5</td>\n",
              "      <td>1</td>\n",
              "      <td>1</td>\n",
              "      <td>1</td>\n",
              "      <td>2</td>\n",
              "      <td>1.0</td>\n",
              "      <td>3</td>\n",
              "      <td>1</td>\n",
              "      <td>1</td>\n",
              "      <td>2</td>\n",
              "    </tr>\n",
              "    <tr>\n",
              "      <th>1</th>\n",
              "      <td>1002945</td>\n",
              "      <td>5</td>\n",
              "      <td>4</td>\n",
              "      <td>4</td>\n",
              "      <td>5</td>\n",
              "      <td>7</td>\n",
              "      <td>10.0</td>\n",
              "      <td>3</td>\n",
              "      <td>2</td>\n",
              "      <td>1</td>\n",
              "      <td>2</td>\n",
              "    </tr>\n",
              "    <tr>\n",
              "      <th>2</th>\n",
              "      <td>1015425</td>\n",
              "      <td>3</td>\n",
              "      <td>1</td>\n",
              "      <td>1</td>\n",
              "      <td>1</td>\n",
              "      <td>2</td>\n",
              "      <td>2.0</td>\n",
              "      <td>3</td>\n",
              "      <td>1</td>\n",
              "      <td>1</td>\n",
              "      <td>2</td>\n",
              "    </tr>\n",
              "    <tr>\n",
              "      <th>3</th>\n",
              "      <td>1016277</td>\n",
              "      <td>6</td>\n",
              "      <td>8</td>\n",
              "      <td>8</td>\n",
              "      <td>1</td>\n",
              "      <td>3</td>\n",
              "      <td>4.0</td>\n",
              "      <td>3</td>\n",
              "      <td>7</td>\n",
              "      <td>1</td>\n",
              "      <td>2</td>\n",
              "    </tr>\n",
              "    <tr>\n",
              "      <th>4</th>\n",
              "      <td>1017023</td>\n",
              "      <td>4</td>\n",
              "      <td>1</td>\n",
              "      <td>1</td>\n",
              "      <td>3</td>\n",
              "      <td>2</td>\n",
              "      <td>1.0</td>\n",
              "      <td>3</td>\n",
              "      <td>1</td>\n",
              "      <td>1</td>\n",
              "      <td>2</td>\n",
              "    </tr>\n",
              "  </tbody>\n",
              "</table>\n",
              "</div>\n",
              "      <button class=\"colab-df-convert\" onclick=\"convertToInteractive('df-7406613e-fe33-41a2-a665-17495dd402e7')\"\n",
              "              title=\"Convert this dataframe to an interactive table.\"\n",
              "              style=\"display:none;\">\n",
              "        \n",
              "  <svg xmlns=\"http://www.w3.org/2000/svg\" height=\"24px\"viewBox=\"0 0 24 24\"\n",
              "       width=\"24px\">\n",
              "    <path d=\"M0 0h24v24H0V0z\" fill=\"none\"/>\n",
              "    <path d=\"M18.56 5.44l.94 2.06.94-2.06 2.06-.94-2.06-.94-.94-2.06-.94 2.06-2.06.94zm-11 1L8.5 8.5l.94-2.06 2.06-.94-2.06-.94L8.5 2.5l-.94 2.06-2.06.94zm10 10l.94 2.06.94-2.06 2.06-.94-2.06-.94-.94-2.06-.94 2.06-2.06.94z\"/><path d=\"M17.41 7.96l-1.37-1.37c-.4-.4-.92-.59-1.43-.59-.52 0-1.04.2-1.43.59L10.3 9.45l-7.72 7.72c-.78.78-.78 2.05 0 2.83L4 21.41c.39.39.9.59 1.41.59.51 0 1.02-.2 1.41-.59l7.78-7.78 2.81-2.81c.8-.78.8-2.07 0-2.86zM5.41 20L4 18.59l7.72-7.72 1.47 1.35L5.41 20z\"/>\n",
              "  </svg>\n",
              "      </button>\n",
              "      \n",
              "  <style>\n",
              "    .colab-df-container {\n",
              "      display:flex;\n",
              "      flex-wrap:wrap;\n",
              "      gap: 12px;\n",
              "    }\n",
              "\n",
              "    .colab-df-convert {\n",
              "      background-color: #E8F0FE;\n",
              "      border: none;\n",
              "      border-radius: 50%;\n",
              "      cursor: pointer;\n",
              "      display: none;\n",
              "      fill: #1967D2;\n",
              "      height: 32px;\n",
              "      padding: 0 0 0 0;\n",
              "      width: 32px;\n",
              "    }\n",
              "\n",
              "    .colab-df-convert:hover {\n",
              "      background-color: #E2EBFA;\n",
              "      box-shadow: 0px 1px 2px rgba(60, 64, 67, 0.3), 0px 1px 3px 1px rgba(60, 64, 67, 0.15);\n",
              "      fill: #174EA6;\n",
              "    }\n",
              "\n",
              "    [theme=dark] .colab-df-convert {\n",
              "      background-color: #3B4455;\n",
              "      fill: #D2E3FC;\n",
              "    }\n",
              "\n",
              "    [theme=dark] .colab-df-convert:hover {\n",
              "      background-color: #434B5C;\n",
              "      box-shadow: 0px 1px 3px 1px rgba(0, 0, 0, 0.15);\n",
              "      filter: drop-shadow(0px 1px 2px rgba(0, 0, 0, 0.3));\n",
              "      fill: #FFFFFF;\n",
              "    }\n",
              "  </style>\n",
              "\n",
              "      <script>\n",
              "        const buttonEl =\n",
              "          document.querySelector('#df-7406613e-fe33-41a2-a665-17495dd402e7 button.colab-df-convert');\n",
              "        buttonEl.style.display =\n",
              "          google.colab.kernel.accessAllowed ? 'block' : 'none';\n",
              "\n",
              "        async function convertToInteractive(key) {\n",
              "          const element = document.querySelector('#df-7406613e-fe33-41a2-a665-17495dd402e7');\n",
              "          const dataTable =\n",
              "            await google.colab.kernel.invokeFunction('convertToInteractive',\n",
              "                                                     [key], {});\n",
              "          if (!dataTable) return;\n",
              "\n",
              "          const docLinkHtml = 'Like what you see? Visit the ' +\n",
              "            '<a target=\"_blank\" href=https://colab.research.google.com/notebooks/data_table.ipynb>data table notebook</a>'\n",
              "            + ' to learn more about interactive tables.';\n",
              "          element.innerHTML = '';\n",
              "          dataTable['output_type'] = 'display_data';\n",
              "          await google.colab.output.renderOutput(dataTable, element);\n",
              "          const docLink = document.createElement('div');\n",
              "          docLink.innerHTML = docLinkHtml;\n",
              "          element.appendChild(docLink);\n",
              "        }\n",
              "      </script>\n",
              "    </div>\n",
              "  </div>\n",
              "  "
            ],
            "text/plain": [
              "   sample_code_number  clump_thickness  ...  mitosis  class\n",
              "0             1000025                5  ...        1      2\n",
              "1             1002945                5  ...        1      2\n",
              "2             1015425                3  ...        1      2\n",
              "3             1016277                6  ...        1      2\n",
              "4             1017023                4  ...        1      2\n",
              "\n",
              "[5 rows x 11 columns]"
            ]
          },
          "metadata": {},
          "execution_count": 39
        }
      ],
      "source": [
        "clean_breast_cancer_dataset.head()"
      ]
    },
    {
      "cell_type": "code",
      "execution_count": 40,
      "metadata": {
        "id": "qle_MuvLqq3W"
      },
      "outputs": [],
      "source": [
        "breast_cancer_dataset_v1  = clean_breast_cancer_dataset.copy()\n",
        "breast_cancer_dataset_v1 = breast_cancer_dataset_v1.drop(['sample_code_number'], axis=1)"
      ]
    },
    {
      "cell_type": "code",
      "execution_count": 41,
      "metadata": {
        "colab": {
          "base_uri": "https://localhost:8080/",
          "height": 207
        },
        "id": "K7Z_OLfaqq3X",
        "outputId": "143eb99b-ae89-46c6-bb5a-66feef465747"
      },
      "outputs": [
        {
          "output_type": "execute_result",
          "data": {
            "text/html": [
              "\n",
              "  <div id=\"df-58b5024c-7701-47f5-8e73-c6541566d96d\">\n",
              "    <div class=\"colab-df-container\">\n",
              "      <div>\n",
              "<style scoped>\n",
              "    .dataframe tbody tr th:only-of-type {\n",
              "        vertical-align: middle;\n",
              "    }\n",
              "\n",
              "    .dataframe tbody tr th {\n",
              "        vertical-align: top;\n",
              "    }\n",
              "\n",
              "    .dataframe thead th {\n",
              "        text-align: right;\n",
              "    }\n",
              "</style>\n",
              "<table border=\"1\" class=\"dataframe\">\n",
              "  <thead>\n",
              "    <tr style=\"text-align: right;\">\n",
              "      <th></th>\n",
              "      <th>clump_thickness</th>\n",
              "      <th>uniformity_cell_size</th>\n",
              "      <th>uniformity_cell_shape</th>\n",
              "      <th>marginal_adhesion</th>\n",
              "      <th>single_epithelial_cell_size</th>\n",
              "      <th>bare_nuclei</th>\n",
              "      <th>bland_chromatin</th>\n",
              "      <th>normal_nucleoli</th>\n",
              "      <th>mitosis</th>\n",
              "      <th>class</th>\n",
              "    </tr>\n",
              "  </thead>\n",
              "  <tbody>\n",
              "    <tr>\n",
              "      <th>0</th>\n",
              "      <td>5</td>\n",
              "      <td>1</td>\n",
              "      <td>1</td>\n",
              "      <td>1</td>\n",
              "      <td>2</td>\n",
              "      <td>1.0</td>\n",
              "      <td>3</td>\n",
              "      <td>1</td>\n",
              "      <td>1</td>\n",
              "      <td>2</td>\n",
              "    </tr>\n",
              "    <tr>\n",
              "      <th>1</th>\n",
              "      <td>5</td>\n",
              "      <td>4</td>\n",
              "      <td>4</td>\n",
              "      <td>5</td>\n",
              "      <td>7</td>\n",
              "      <td>10.0</td>\n",
              "      <td>3</td>\n",
              "      <td>2</td>\n",
              "      <td>1</td>\n",
              "      <td>2</td>\n",
              "    </tr>\n",
              "    <tr>\n",
              "      <th>2</th>\n",
              "      <td>3</td>\n",
              "      <td>1</td>\n",
              "      <td>1</td>\n",
              "      <td>1</td>\n",
              "      <td>2</td>\n",
              "      <td>2.0</td>\n",
              "      <td>3</td>\n",
              "      <td>1</td>\n",
              "      <td>1</td>\n",
              "      <td>2</td>\n",
              "    </tr>\n",
              "  </tbody>\n",
              "</table>\n",
              "</div>\n",
              "      <button class=\"colab-df-convert\" onclick=\"convertToInteractive('df-58b5024c-7701-47f5-8e73-c6541566d96d')\"\n",
              "              title=\"Convert this dataframe to an interactive table.\"\n",
              "              style=\"display:none;\">\n",
              "        \n",
              "  <svg xmlns=\"http://www.w3.org/2000/svg\" height=\"24px\"viewBox=\"0 0 24 24\"\n",
              "       width=\"24px\">\n",
              "    <path d=\"M0 0h24v24H0V0z\" fill=\"none\"/>\n",
              "    <path d=\"M18.56 5.44l.94 2.06.94-2.06 2.06-.94-2.06-.94-.94-2.06-.94 2.06-2.06.94zm-11 1L8.5 8.5l.94-2.06 2.06-.94-2.06-.94L8.5 2.5l-.94 2.06-2.06.94zm10 10l.94 2.06.94-2.06 2.06-.94-2.06-.94-.94-2.06-.94 2.06-2.06.94z\"/><path d=\"M17.41 7.96l-1.37-1.37c-.4-.4-.92-.59-1.43-.59-.52 0-1.04.2-1.43.59L10.3 9.45l-7.72 7.72c-.78.78-.78 2.05 0 2.83L4 21.41c.39.39.9.59 1.41.59.51 0 1.02-.2 1.41-.59l7.78-7.78 2.81-2.81c.8-.78.8-2.07 0-2.86zM5.41 20L4 18.59l7.72-7.72 1.47 1.35L5.41 20z\"/>\n",
              "  </svg>\n",
              "      </button>\n",
              "      \n",
              "  <style>\n",
              "    .colab-df-container {\n",
              "      display:flex;\n",
              "      flex-wrap:wrap;\n",
              "      gap: 12px;\n",
              "    }\n",
              "\n",
              "    .colab-df-convert {\n",
              "      background-color: #E8F0FE;\n",
              "      border: none;\n",
              "      border-radius: 50%;\n",
              "      cursor: pointer;\n",
              "      display: none;\n",
              "      fill: #1967D2;\n",
              "      height: 32px;\n",
              "      padding: 0 0 0 0;\n",
              "      width: 32px;\n",
              "    }\n",
              "\n",
              "    .colab-df-convert:hover {\n",
              "      background-color: #E2EBFA;\n",
              "      box-shadow: 0px 1px 2px rgba(60, 64, 67, 0.3), 0px 1px 3px 1px rgba(60, 64, 67, 0.15);\n",
              "      fill: #174EA6;\n",
              "    }\n",
              "\n",
              "    [theme=dark] .colab-df-convert {\n",
              "      background-color: #3B4455;\n",
              "      fill: #D2E3FC;\n",
              "    }\n",
              "\n",
              "    [theme=dark] .colab-df-convert:hover {\n",
              "      background-color: #434B5C;\n",
              "      box-shadow: 0px 1px 3px 1px rgba(0, 0, 0, 0.15);\n",
              "      filter: drop-shadow(0px 1px 2px rgba(0, 0, 0, 0.3));\n",
              "      fill: #FFFFFF;\n",
              "    }\n",
              "  </style>\n",
              "\n",
              "      <script>\n",
              "        const buttonEl =\n",
              "          document.querySelector('#df-58b5024c-7701-47f5-8e73-c6541566d96d button.colab-df-convert');\n",
              "        buttonEl.style.display =\n",
              "          google.colab.kernel.accessAllowed ? 'block' : 'none';\n",
              "\n",
              "        async function convertToInteractive(key) {\n",
              "          const element = document.querySelector('#df-58b5024c-7701-47f5-8e73-c6541566d96d');\n",
              "          const dataTable =\n",
              "            await google.colab.kernel.invokeFunction('convertToInteractive',\n",
              "                                                     [key], {});\n",
              "          if (!dataTable) return;\n",
              "\n",
              "          const docLinkHtml = 'Like what you see? Visit the ' +\n",
              "            '<a target=\"_blank\" href=https://colab.research.google.com/notebooks/data_table.ipynb>data table notebook</a>'\n",
              "            + ' to learn more about interactive tables.';\n",
              "          element.innerHTML = '';\n",
              "          dataTable['output_type'] = 'display_data';\n",
              "          await google.colab.output.renderOutput(dataTable, element);\n",
              "          const docLink = document.createElement('div');\n",
              "          docLink.innerHTML = docLinkHtml;\n",
              "          element.appendChild(docLink);\n",
              "        }\n",
              "      </script>\n",
              "    </div>\n",
              "  </div>\n",
              "  "
            ],
            "text/plain": [
              "   clump_thickness  uniformity_cell_size  ...  mitosis  class\n",
              "0                5                     1  ...        1      2\n",
              "1                5                     4  ...        1      2\n",
              "2                3                     1  ...        1      2\n",
              "\n",
              "[3 rows x 10 columns]"
            ]
          },
          "metadata": {},
          "execution_count": 41
        }
      ],
      "source": [
        "breast_cancer_dataset_v1.head(3)"
      ]
    },
    {
      "cell_type": "code",
      "execution_count": 42,
      "metadata": {
        "id": "ZICOqRhSqq3Y"
      },
      "outputs": [],
      "source": [
        "train_breast_cancer_dataset, test_breast_cancer_dataset = split_dataset(breast_cancer_dataset_v1, 0.8)"
      ]
    },
    {
      "cell_type": "code",
      "execution_count": 43,
      "metadata": {
        "id": "PL61uZZbqq3b"
      },
      "outputs": [],
      "source": [
        "train_breast_cancer_zscore_dataset, test_breast_cancer_zscore_dataset  = Standardization(train_breast_cancer_dataset,\n",
        "                                                                                         test_breast_cancer_dataset)"
      ]
    },
    {
      "cell_type": "code",
      "execution_count": 44,
      "metadata": {
        "id": "O5weWh_gqq3c"
      },
      "outputs": [],
      "source": [
        "validated_train_breast_cancer = cross_validation(train_breast_cancer_dataset,5)"
      ]
    },
    {
      "cell_type": "code",
      "execution_count": 45,
      "metadata": {
        "colab": {
          "base_uri": "https://localhost:8080/"
        },
        "id": "Kk6Dxkrhqq3e",
        "outputId": "4bf0a490-8cc6-47d9-b1bd-f7b363dfc43b"
      },
      "outputs": [
        {
          "output_type": "execute_result",
          "data": {
            "text/plain": [
              "[112, 111, 111, 111, 111]"
            ]
          },
          "metadata": {},
          "execution_count": 45
        }
      ],
      "source": [
        "validated_train_breast_cancer_size = []\n",
        "for i in range(0, 5):\n",
        "    validated_train_breast_cancer_size.append(validated_train_breast_cancer[i].shape[0])\n",
        "validated_train_breast_cancer_size"
      ]
    },
    {
      "cell_type": "code",
      "execution_count": 46,
      "metadata": {
        "id": "1iJwlxZlqq3f"
      },
      "outputs": [],
      "source": [
        "#tuning\n",
        "tuning_breast_cancer = cross_validation(test_breast_cancer_dataset,5)"
      ]
    },
    {
      "cell_type": "code",
      "execution_count": 47,
      "metadata": {
        "colab": {
          "base_uri": "https://localhost:8080/"
        },
        "id": "VtgM717uqq3f",
        "outputId": "1948dd39-409e-4e48-9c0b-5b239da83a78"
      },
      "outputs": [
        {
          "output_type": "execute_result",
          "data": {
            "text/plain": [
              "[28, 28, 27, 27, 27]"
            ]
          },
          "metadata": {},
          "execution_count": 47
        }
      ],
      "source": [
        "tuning_breast_cancer_size = []\n",
        "for i in range(0, 5):\n",
        "    tuning_breast_cancer_size.append(tuning_breast_cancer [i].shape[0])\n",
        "tuning_breast_cancer_size"
      ]
    },
    {
      "cell_type": "code",
      "execution_count": 48,
      "metadata": {
        "colab": {
          "base_uri": "https://localhost:8080/"
        },
        "id": "uCCOj2vtqq3g",
        "outputId": "07b1676a-b678-47be-df7a-8ac30fb9928c",
        "scrolled": true
      },
      "outputs": [
        {
          "output_type": "stream",
          "name": "stdout",
          "text": [
            "Best KNN parameter: 5\n",
            "Best Edited KNN parameter: 5\n",
            "Best Condensed KNN parameter: 2\n"
          ]
        }
      ],
      "source": [
        "k_values = [i for i in range(1, 11)]\n",
        "best_knn_k_breast_cancer = tuning_k_parameter(tuning_breast_cancer, k_values, 'class', \"classification score\", \"knn\")\n",
        "best_eknn_k_breast_cancer = tuning_k_parameter(tuning_breast_cancer, k_values, 'class', \"classification score\", \"edited knn\")\n",
        "best_cknn_k_breast_cancer =  tuning_k_parameter(tuning_breast_cancer, k_values, 'class', \"classification score\", \"condensed knn\")\n",
        "\n",
        "print(\"Best KNN parameter: \"+str(best_knn_k_breast_cancer))\n",
        "print(\"Best Edited KNN parameter: \" + str(best_eknn_k_breast_cancer))\n",
        "print(\"Best Condensed KNN parameter: \" + str(best_cknn_k_breast_cancer))"
      ]
    },
    {
      "cell_type": "code",
      "execution_count": 49,
      "metadata": {
        "colab": {
          "base_uri": "https://localhost:8080/",
          "height": 206
        },
        "id": "DVvHNO5hhYf_",
        "outputId": "53278089-cd2d-4783-b0f6-5ead829378d9"
      },
      "outputs": [
        {
          "output_type": "execute_result",
          "data": {
            "text/html": [
              "\n",
              "  <div id=\"df-54e5fd78-a2be-49d1-8145-edac2a142464\">\n",
              "    <div class=\"colab-df-container\">\n",
              "      <div>\n",
              "<style scoped>\n",
              "    .dataframe tbody tr th:only-of-type {\n",
              "        vertical-align: middle;\n",
              "    }\n",
              "\n",
              "    .dataframe tbody tr th {\n",
              "        vertical-align: top;\n",
              "    }\n",
              "\n",
              "    .dataframe thead th {\n",
              "        text-align: right;\n",
              "    }\n",
              "</style>\n",
              "<table border=\"1\" class=\"dataframe\">\n",
              "  <thead>\n",
              "    <tr style=\"text-align: right;\">\n",
              "      <th></th>\n",
              "      <th>closest Neighbor</th>\n",
              "      <th>Assigned Class</th>\n",
              "      <th>Predicted Class</th>\n",
              "    </tr>\n",
              "  </thead>\n",
              "  <tbody>\n",
              "    <tr>\n",
              "      <th>0</th>\n",
              "      <td>[384, 383, 342, 141, 375]</td>\n",
              "      <td>[2, 2, 2, 2, 2]</td>\n",
              "      <td>2</td>\n",
              "    </tr>\n",
              "    <tr>\n",
              "      <th>1</th>\n",
              "      <td>[311, 375, 343, 198, 345]</td>\n",
              "      <td>[2, 2, 2, 2, 2]</td>\n",
              "      <td>2</td>\n",
              "    </tr>\n",
              "    <tr>\n",
              "      <th>2</th>\n",
              "      <td>[439, 27, 192, 437, 397]</td>\n",
              "      <td>[2, 2, 2, 2, 2]</td>\n",
              "      <td>2</td>\n",
              "    </tr>\n",
              "    <tr>\n",
              "      <th>3</th>\n",
              "      <td>[393, 345, 154, 380, 343]</td>\n",
              "      <td>[2, 2, 2, 2, 2]</td>\n",
              "      <td>2</td>\n",
              "    </tr>\n",
              "    <tr>\n",
              "      <th>4</th>\n",
              "      <td>[183, 317, 367, 231, 246]</td>\n",
              "      <td>[4, 4, 4, 4, 4]</td>\n",
              "      <td>4</td>\n",
              "    </tr>\n",
              "  </tbody>\n",
              "</table>\n",
              "</div>\n",
              "      <button class=\"colab-df-convert\" onclick=\"convertToInteractive('df-54e5fd78-a2be-49d1-8145-edac2a142464')\"\n",
              "              title=\"Convert this dataframe to an interactive table.\"\n",
              "              style=\"display:none;\">\n",
              "        \n",
              "  <svg xmlns=\"http://www.w3.org/2000/svg\" height=\"24px\"viewBox=\"0 0 24 24\"\n",
              "       width=\"24px\">\n",
              "    <path d=\"M0 0h24v24H0V0z\" fill=\"none\"/>\n",
              "    <path d=\"M18.56 5.44l.94 2.06.94-2.06 2.06-.94-2.06-.94-.94-2.06-.94 2.06-2.06.94zm-11 1L8.5 8.5l.94-2.06 2.06-.94-2.06-.94L8.5 2.5l-.94 2.06-2.06.94zm10 10l.94 2.06.94-2.06 2.06-.94-2.06-.94-.94-2.06-.94 2.06-2.06.94z\"/><path d=\"M17.41 7.96l-1.37-1.37c-.4-.4-.92-.59-1.43-.59-.52 0-1.04.2-1.43.59L10.3 9.45l-7.72 7.72c-.78.78-.78 2.05 0 2.83L4 21.41c.39.39.9.59 1.41.59.51 0 1.02-.2 1.41-.59l7.78-7.78 2.81-2.81c.8-.78.8-2.07 0-2.86zM5.41 20L4 18.59l7.72-7.72 1.47 1.35L5.41 20z\"/>\n",
              "  </svg>\n",
              "      </button>\n",
              "      \n",
              "  <style>\n",
              "    .colab-df-container {\n",
              "      display:flex;\n",
              "      flex-wrap:wrap;\n",
              "      gap: 12px;\n",
              "    }\n",
              "\n",
              "    .colab-df-convert {\n",
              "      background-color: #E8F0FE;\n",
              "      border: none;\n",
              "      border-radius: 50%;\n",
              "      cursor: pointer;\n",
              "      display: none;\n",
              "      fill: #1967D2;\n",
              "      height: 32px;\n",
              "      padding: 0 0 0 0;\n",
              "      width: 32px;\n",
              "    }\n",
              "\n",
              "    .colab-df-convert:hover {\n",
              "      background-color: #E2EBFA;\n",
              "      box-shadow: 0px 1px 2px rgba(60, 64, 67, 0.3), 0px 1px 3px 1px rgba(60, 64, 67, 0.15);\n",
              "      fill: #174EA6;\n",
              "    }\n",
              "\n",
              "    [theme=dark] .colab-df-convert {\n",
              "      background-color: #3B4455;\n",
              "      fill: #D2E3FC;\n",
              "    }\n",
              "\n",
              "    [theme=dark] .colab-df-convert:hover {\n",
              "      background-color: #434B5C;\n",
              "      box-shadow: 0px 1px 3px 1px rgba(0, 0, 0, 0.15);\n",
              "      filter: drop-shadow(0px 1px 2px rgba(0, 0, 0, 0.3));\n",
              "      fill: #FFFFFF;\n",
              "    }\n",
              "  </style>\n",
              "\n",
              "      <script>\n",
              "        const buttonEl =\n",
              "          document.querySelector('#df-54e5fd78-a2be-49d1-8145-edac2a142464 button.colab-df-convert');\n",
              "        buttonEl.style.display =\n",
              "          google.colab.kernel.accessAllowed ? 'block' : 'none';\n",
              "\n",
              "        async function convertToInteractive(key) {\n",
              "          const element = document.querySelector('#df-54e5fd78-a2be-49d1-8145-edac2a142464');\n",
              "          const dataTable =\n",
              "            await google.colab.kernel.invokeFunction('convertToInteractive',\n",
              "                                                     [key], {});\n",
              "          if (!dataTable) return;\n",
              "\n",
              "          const docLinkHtml = 'Like what you see? Visit the ' +\n",
              "            '<a target=\"_blank\" href=https://colab.research.google.com/notebooks/data_table.ipynb>data table notebook</a>'\n",
              "            + ' to learn more about interactive tables.';\n",
              "          element.innerHTML = '';\n",
              "          dataTable['output_type'] = 'display_data';\n",
              "          await google.colab.output.renderOutput(dataTable, element);\n",
              "          const docLink = document.createElement('div');\n",
              "          docLink.innerHTML = docLinkHtml;\n",
              "          element.appendChild(docLink);\n",
              "        }\n",
              "      </script>\n",
              "    </div>\n",
              "  </div>\n",
              "  "
            ],
            "text/plain": [
              "           closest Neighbor    Assigned Class  Predicted Class\n",
              "0  [384, 383, 342, 141, 375]  [2, 2, 2, 2, 2]                2\n",
              "1  [311, 375, 343, 198, 345]  [2, 2, 2, 2, 2]                2\n",
              "2   [439, 27, 192, 437, 397]  [2, 2, 2, 2, 2]                2\n",
              "3  [393, 345, 154, 380, 343]  [2, 2, 2, 2, 2]                2\n",
              "4  [183, 317, 367, 231, 246]  [4, 4, 4, 4, 4]                4"
            ]
          },
          "metadata": {},
          "execution_count": 49
        }
      ],
      "source": [
        "knn_demonstration_classification(validated_train_breast_cancer, 'class', best_knn_k_breast_cancer).head()"
      ]
    },
    {
      "cell_type": "code",
      "execution_count": 50,
      "metadata": {
        "colab": {
          "base_uri": "https://localhost:8080/"
        },
        "id": "XkTG65vTqq3h",
        "outputId": "04d9b81f-4a43-4751-e9e3-be96c1a96a88"
      },
      "outputs": [
        {
          "output_type": "stream",
          "name": "stdout",
          "text": [
            "Accuracy Scores for KNN: [87.5, 98.2, 94.59, 98.2, 99.1]/ Avg Score: 95.52\n"
          ]
        }
      ],
      "source": [
        "knn_score_breast_cancer = knn_classification(validated_train_breast_cancer, 'class', best_knn_k_breast_cancer, \"classification score\", \"knn\")[0]\n",
        "knn_avg_score_breast_cancer = round(np.mean(knn_score_breast_cancer),2)\n",
        "print(\"Accuracy Scores for KNN: \" + str(knn_score_breast_cancer) + \"/ Avg Score: \"+ str(knn_avg_score_breast_cancer))"
      ]
    },
    {
      "cell_type": "code",
      "execution_count": 51,
      "metadata": {
        "colab": {
          "base_uri": "https://localhost:8080/"
        },
        "id": "0Qav4IANqq3h",
        "outputId": "2441f455-6452-49d8-e727-1846d2549889"
      },
      "outputs": [
        {
          "output_type": "stream",
          "name": "stdout",
          "text": [
            "Remaining Data % after Edited KNN: [96.62, 95.28, 96.63, 94.38, 94.61] / Avg Remaining Data %: 95.5\n",
            "Accuracy Scores for Edited KNN: [86.61, 98.2, 94.59, 97.3, 98.2] / Avg Score: 94.98\n"
          ]
        }
      ],
      "source": [
        "eknn_score_breast_cancer, eknn_remaining_breast_cancer = knn_classification(validated_train_breast_cancer, 'class', best_eknn_k_breast_cancer, \"classification score\", \"edited knn\")[:2]\n",
        "eknn_avg_score_breast_cancer = round(np.mean(eknn_score_breast_cancer),2)\n",
        "print(\"Remaining Data % after Edited KNN: \"+ str(eknn_remaining_breast_cancer) + \" / Avg Remaining Data %: \"+ str(round(np.mean(eknn_remaining_breast_cancer),2)))\n",
        "print(\"Accuracy Scores for Edited KNN: \" + str(eknn_score_breast_cancer) + \" / Avg Score: \"+ str(eknn_avg_score_breast_cancer))"
      ]
    },
    {
      "cell_type": "code",
      "execution_count": 52,
      "metadata": {
        "colab": {
          "base_uri": "https://localhost:8080/"
        },
        "id": "xN6J5hlEqq3h",
        "outputId": "808e04ec-c951-4928-c8c3-75926e64183c",
        "scrolled": false
      },
      "outputs": [
        {
          "output_type": "stream",
          "name": "stdout",
          "text": [
            "Remaining Data % after Condensed KNN: [8.56, 12.13, 13.48, 13.26, 14.61] / Avg Remaining Data %: 12.41\n",
            "Accuracy Scores for Condensed KNN: [82.14, 90.09, 90.09, 95.5, 96.4] / Avg Score: 90.84\n"
          ]
        }
      ],
      "source": [
        "cknn_score_breast_cancer, cknn_remaining_breast_cancer = knn_classification(validated_train_breast_cancer, 'class', best_cknn_k_breast_cancer, \"classification score\", \"condensed knn\")[:2]\n",
        "cknn_avg_score_breast_cancer = round(np.mean(cknn_score_breast_cancer),2)\n",
        "print(\"Remaining Data % after Condensed KNN: \"+ str(cknn_remaining_breast_cancer)+ \" / Avg Remaining Data %: \"+ str(round(np.mean(cknn_remaining_breast_cancer),2)))\n",
        "print(\"Accuracy Scores for Condensed KNN: \" + str(cknn_score_breast_cancer) + \" / Avg Score: \"+ str(cknn_avg_score_breast_cancer))"
      ]
    },
    {
      "cell_type": "markdown",
      "metadata": {
        "id": "8N5Ke_SAqq3i"
      },
      "source": [
        "## Car Evaluation"
      ]
    },
    {
      "cell_type": "code",
      "execution_count": 53,
      "metadata": {
        "colab": {
          "base_uri": "https://localhost:8080/",
          "height": 143
        },
        "id": "YtLcE8Upqq3j",
        "outputId": "a3d54db4-d5c1-4323-9da6-96d0fefc8e15"
      },
      "outputs": [
        {
          "output_type": "execute_result",
          "data": {
            "text/html": [
              "\n",
              "  <div id=\"df-7a70d241-1d51-4d87-82b3-d27c00d4752d\">\n",
              "    <div class=\"colab-df-container\">\n",
              "      <div>\n",
              "<style scoped>\n",
              "    .dataframe tbody tr th:only-of-type {\n",
              "        vertical-align: middle;\n",
              "    }\n",
              "\n",
              "    .dataframe tbody tr th {\n",
              "        vertical-align: top;\n",
              "    }\n",
              "\n",
              "    .dataframe thead th {\n",
              "        text-align: right;\n",
              "    }\n",
              "</style>\n",
              "<table border=\"1\" class=\"dataframe\">\n",
              "  <thead>\n",
              "    <tr style=\"text-align: right;\">\n",
              "      <th></th>\n",
              "      <th>buying</th>\n",
              "      <th>maint</th>\n",
              "      <th>doors</th>\n",
              "      <th>persons</th>\n",
              "      <th>lug_boot</th>\n",
              "      <th>safety</th>\n",
              "      <th>class</th>\n",
              "    </tr>\n",
              "  </thead>\n",
              "  <tbody>\n",
              "    <tr>\n",
              "      <th>0</th>\n",
              "      <td>vhigh</td>\n",
              "      <td>vhigh</td>\n",
              "      <td>2</td>\n",
              "      <td>2</td>\n",
              "      <td>small</td>\n",
              "      <td>low</td>\n",
              "      <td>unacc</td>\n",
              "    </tr>\n",
              "    <tr>\n",
              "      <th>1</th>\n",
              "      <td>vhigh</td>\n",
              "      <td>vhigh</td>\n",
              "      <td>2</td>\n",
              "      <td>2</td>\n",
              "      <td>small</td>\n",
              "      <td>med</td>\n",
              "      <td>unacc</td>\n",
              "    </tr>\n",
              "    <tr>\n",
              "      <th>2</th>\n",
              "      <td>vhigh</td>\n",
              "      <td>vhigh</td>\n",
              "      <td>2</td>\n",
              "      <td>2</td>\n",
              "      <td>small</td>\n",
              "      <td>high</td>\n",
              "      <td>unacc</td>\n",
              "    </tr>\n",
              "  </tbody>\n",
              "</table>\n",
              "</div>\n",
              "      <button class=\"colab-df-convert\" onclick=\"convertToInteractive('df-7a70d241-1d51-4d87-82b3-d27c00d4752d')\"\n",
              "              title=\"Convert this dataframe to an interactive table.\"\n",
              "              style=\"display:none;\">\n",
              "        \n",
              "  <svg xmlns=\"http://www.w3.org/2000/svg\" height=\"24px\"viewBox=\"0 0 24 24\"\n",
              "       width=\"24px\">\n",
              "    <path d=\"M0 0h24v24H0V0z\" fill=\"none\"/>\n",
              "    <path d=\"M18.56 5.44l.94 2.06.94-2.06 2.06-.94-2.06-.94-.94-2.06-.94 2.06-2.06.94zm-11 1L8.5 8.5l.94-2.06 2.06-.94-2.06-.94L8.5 2.5l-.94 2.06-2.06.94zm10 10l.94 2.06.94-2.06 2.06-.94-2.06-.94-.94-2.06-.94 2.06-2.06.94z\"/><path d=\"M17.41 7.96l-1.37-1.37c-.4-.4-.92-.59-1.43-.59-.52 0-1.04.2-1.43.59L10.3 9.45l-7.72 7.72c-.78.78-.78 2.05 0 2.83L4 21.41c.39.39.9.59 1.41.59.51 0 1.02-.2 1.41-.59l7.78-7.78 2.81-2.81c.8-.78.8-2.07 0-2.86zM5.41 20L4 18.59l7.72-7.72 1.47 1.35L5.41 20z\"/>\n",
              "  </svg>\n",
              "      </button>\n",
              "      \n",
              "  <style>\n",
              "    .colab-df-container {\n",
              "      display:flex;\n",
              "      flex-wrap:wrap;\n",
              "      gap: 12px;\n",
              "    }\n",
              "\n",
              "    .colab-df-convert {\n",
              "      background-color: #E8F0FE;\n",
              "      border: none;\n",
              "      border-radius: 50%;\n",
              "      cursor: pointer;\n",
              "      display: none;\n",
              "      fill: #1967D2;\n",
              "      height: 32px;\n",
              "      padding: 0 0 0 0;\n",
              "      width: 32px;\n",
              "    }\n",
              "\n",
              "    .colab-df-convert:hover {\n",
              "      background-color: #E2EBFA;\n",
              "      box-shadow: 0px 1px 2px rgba(60, 64, 67, 0.3), 0px 1px 3px 1px rgba(60, 64, 67, 0.15);\n",
              "      fill: #174EA6;\n",
              "    }\n",
              "\n",
              "    [theme=dark] .colab-df-convert {\n",
              "      background-color: #3B4455;\n",
              "      fill: #D2E3FC;\n",
              "    }\n",
              "\n",
              "    [theme=dark] .colab-df-convert:hover {\n",
              "      background-color: #434B5C;\n",
              "      box-shadow: 0px 1px 3px 1px rgba(0, 0, 0, 0.15);\n",
              "      filter: drop-shadow(0px 1px 2px rgba(0, 0, 0, 0.3));\n",
              "      fill: #FFFFFF;\n",
              "    }\n",
              "  </style>\n",
              "\n",
              "      <script>\n",
              "        const buttonEl =\n",
              "          document.querySelector('#df-7a70d241-1d51-4d87-82b3-d27c00d4752d button.colab-df-convert');\n",
              "        buttonEl.style.display =\n",
              "          google.colab.kernel.accessAllowed ? 'block' : 'none';\n",
              "\n",
              "        async function convertToInteractive(key) {\n",
              "          const element = document.querySelector('#df-7a70d241-1d51-4d87-82b3-d27c00d4752d');\n",
              "          const dataTable =\n",
              "            await google.colab.kernel.invokeFunction('convertToInteractive',\n",
              "                                                     [key], {});\n",
              "          if (!dataTable) return;\n",
              "\n",
              "          const docLinkHtml = 'Like what you see? Visit the ' +\n",
              "            '<a target=\"_blank\" href=https://colab.research.google.com/notebooks/data_table.ipynb>data table notebook</a>'\n",
              "            + ' to learn more about interactive tables.';\n",
              "          element.innerHTML = '';\n",
              "          dataTable['output_type'] = 'display_data';\n",
              "          await google.colab.output.renderOutput(dataTable, element);\n",
              "          const docLink = document.createElement('div');\n",
              "          docLink.innerHTML = docLinkHtml;\n",
              "          element.appendChild(docLink);\n",
              "        }\n",
              "      </script>\n",
              "    </div>\n",
              "  </div>\n",
              "  "
            ],
            "text/plain": [
              "  buying  maint doors persons lug_boot safety  class\n",
              "0  vhigh  vhigh     2       2    small    low  unacc\n",
              "1  vhigh  vhigh     2       2    small    med  unacc\n",
              "2  vhigh  vhigh     2       2    small   high  unacc"
            ]
          },
          "metadata": {},
          "execution_count": 53
        }
      ],
      "source": [
        "car_dataset = open_csv_dataset('car', True)\n",
        "car_dataset.head(3)"
      ]
    },
    {
      "cell_type": "code",
      "execution_count": 54,
      "metadata": {
        "id": "GpwKsGFTqq3j"
      },
      "outputs": [],
      "source": [
        "clean_car_dataset = handling_missing_values(car_dataset)"
      ]
    },
    {
      "cell_type": "code",
      "execution_count": 55,
      "metadata": {
        "colab": {
          "base_uri": "https://localhost:8080/"
        },
        "id": "5xKZkD5aqq3j",
        "outputId": "8a0aaf6c-8aa5-4875-b77d-055d7249511e"
      },
      "outputs": [
        {
          "output_type": "execute_result",
          "data": {
            "text/plain": [
              "False"
            ]
          },
          "metadata": {},
          "execution_count": 55
        }
      ],
      "source": [
        "clean_car_dataset.isnull().sum().any()"
      ]
    },
    {
      "cell_type": "code",
      "execution_count": 56,
      "metadata": {
        "colab": {
          "base_uri": "https://localhost:8080/",
          "height": 143
        },
        "id": "16mt478Gqq3k",
        "outputId": "df04e7da-90e9-4694-d825-fc2a693e141f"
      },
      "outputs": [
        {
          "output_type": "execute_result",
          "data": {
            "text/html": [
              "\n",
              "  <div id=\"df-78b4de14-af73-4549-bc40-a9e88b07041f\">\n",
              "    <div class=\"colab-df-container\">\n",
              "      <div>\n",
              "<style scoped>\n",
              "    .dataframe tbody tr th:only-of-type {\n",
              "        vertical-align: middle;\n",
              "    }\n",
              "\n",
              "    .dataframe tbody tr th {\n",
              "        vertical-align: top;\n",
              "    }\n",
              "\n",
              "    .dataframe thead th {\n",
              "        text-align: right;\n",
              "    }\n",
              "</style>\n",
              "<table border=\"1\" class=\"dataframe\">\n",
              "  <thead>\n",
              "    <tr style=\"text-align: right;\">\n",
              "      <th></th>\n",
              "      <th>buying</th>\n",
              "      <th>maint</th>\n",
              "      <th>doors</th>\n",
              "      <th>persons</th>\n",
              "      <th>lug_boot</th>\n",
              "      <th>safety</th>\n",
              "      <th>class</th>\n",
              "    </tr>\n",
              "  </thead>\n",
              "  <tbody>\n",
              "    <tr>\n",
              "      <th>0</th>\n",
              "      <td>vhigh</td>\n",
              "      <td>vhigh</td>\n",
              "      <td>2</td>\n",
              "      <td>2</td>\n",
              "      <td>small</td>\n",
              "      <td>low</td>\n",
              "      <td>unacc</td>\n",
              "    </tr>\n",
              "    <tr>\n",
              "      <th>1</th>\n",
              "      <td>vhigh</td>\n",
              "      <td>vhigh</td>\n",
              "      <td>2</td>\n",
              "      <td>2</td>\n",
              "      <td>small</td>\n",
              "      <td>med</td>\n",
              "      <td>unacc</td>\n",
              "    </tr>\n",
              "    <tr>\n",
              "      <th>2</th>\n",
              "      <td>vhigh</td>\n",
              "      <td>vhigh</td>\n",
              "      <td>2</td>\n",
              "      <td>2</td>\n",
              "      <td>small</td>\n",
              "      <td>high</td>\n",
              "      <td>unacc</td>\n",
              "    </tr>\n",
              "  </tbody>\n",
              "</table>\n",
              "</div>\n",
              "      <button class=\"colab-df-convert\" onclick=\"convertToInteractive('df-78b4de14-af73-4549-bc40-a9e88b07041f')\"\n",
              "              title=\"Convert this dataframe to an interactive table.\"\n",
              "              style=\"display:none;\">\n",
              "        \n",
              "  <svg xmlns=\"http://www.w3.org/2000/svg\" height=\"24px\"viewBox=\"0 0 24 24\"\n",
              "       width=\"24px\">\n",
              "    <path d=\"M0 0h24v24H0V0z\" fill=\"none\"/>\n",
              "    <path d=\"M18.56 5.44l.94 2.06.94-2.06 2.06-.94-2.06-.94-.94-2.06-.94 2.06-2.06.94zm-11 1L8.5 8.5l.94-2.06 2.06-.94-2.06-.94L8.5 2.5l-.94 2.06-2.06.94zm10 10l.94 2.06.94-2.06 2.06-.94-2.06-.94-.94-2.06-.94 2.06-2.06.94z\"/><path d=\"M17.41 7.96l-1.37-1.37c-.4-.4-.92-.59-1.43-.59-.52 0-1.04.2-1.43.59L10.3 9.45l-7.72 7.72c-.78.78-.78 2.05 0 2.83L4 21.41c.39.39.9.59 1.41.59.51 0 1.02-.2 1.41-.59l7.78-7.78 2.81-2.81c.8-.78.8-2.07 0-2.86zM5.41 20L4 18.59l7.72-7.72 1.47 1.35L5.41 20z\"/>\n",
              "  </svg>\n",
              "      </button>\n",
              "      \n",
              "  <style>\n",
              "    .colab-df-container {\n",
              "      display:flex;\n",
              "      flex-wrap:wrap;\n",
              "      gap: 12px;\n",
              "    }\n",
              "\n",
              "    .colab-df-convert {\n",
              "      background-color: #E8F0FE;\n",
              "      border: none;\n",
              "      border-radius: 50%;\n",
              "      cursor: pointer;\n",
              "      display: none;\n",
              "      fill: #1967D2;\n",
              "      height: 32px;\n",
              "      padding: 0 0 0 0;\n",
              "      width: 32px;\n",
              "    }\n",
              "\n",
              "    .colab-df-convert:hover {\n",
              "      background-color: #E2EBFA;\n",
              "      box-shadow: 0px 1px 2px rgba(60, 64, 67, 0.3), 0px 1px 3px 1px rgba(60, 64, 67, 0.15);\n",
              "      fill: #174EA6;\n",
              "    }\n",
              "\n",
              "    [theme=dark] .colab-df-convert {\n",
              "      background-color: #3B4455;\n",
              "      fill: #D2E3FC;\n",
              "    }\n",
              "\n",
              "    [theme=dark] .colab-df-convert:hover {\n",
              "      background-color: #434B5C;\n",
              "      box-shadow: 0px 1px 3px 1px rgba(0, 0, 0, 0.15);\n",
              "      filter: drop-shadow(0px 1px 2px rgba(0, 0, 0, 0.3));\n",
              "      fill: #FFFFFF;\n",
              "    }\n",
              "  </style>\n",
              "\n",
              "      <script>\n",
              "        const buttonEl =\n",
              "          document.querySelector('#df-78b4de14-af73-4549-bc40-a9e88b07041f button.colab-df-convert');\n",
              "        buttonEl.style.display =\n",
              "          google.colab.kernel.accessAllowed ? 'block' : 'none';\n",
              "\n",
              "        async function convertToInteractive(key) {\n",
              "          const element = document.querySelector('#df-78b4de14-af73-4549-bc40-a9e88b07041f');\n",
              "          const dataTable =\n",
              "            await google.colab.kernel.invokeFunction('convertToInteractive',\n",
              "                                                     [key], {});\n",
              "          if (!dataTable) return;\n",
              "\n",
              "          const docLinkHtml = 'Like what you see? Visit the ' +\n",
              "            '<a target=\"_blank\" href=https://colab.research.google.com/notebooks/data_table.ipynb>data table notebook</a>'\n",
              "            + ' to learn more about interactive tables.';\n",
              "          element.innerHTML = '';\n",
              "          dataTable['output_type'] = 'display_data';\n",
              "          await google.colab.output.renderOutput(dataTable, element);\n",
              "          const docLink = document.createElement('div');\n",
              "          docLink.innerHTML = docLinkHtml;\n",
              "          element.appendChild(docLink);\n",
              "        }\n",
              "      </script>\n",
              "    </div>\n",
              "  </div>\n",
              "  "
            ],
            "text/plain": [
              "  buying  maint doors persons lug_boot safety  class\n",
              "0  vhigh  vhigh     2       2    small    low  unacc\n",
              "1  vhigh  vhigh     2       2    small    med  unacc\n",
              "2  vhigh  vhigh     2       2    small   high  unacc"
            ]
          },
          "metadata": {},
          "execution_count": 56
        }
      ],
      "source": [
        "clean_car_dataset.head(3)"
      ]
    },
    {
      "cell_type": "code",
      "execution_count": 57,
      "metadata": {
        "id": "guKibODGqq3k"
      },
      "outputs": [],
      "source": [
        "categorized_car_datast = replacing_string_to_numeric_all_columns(clean_car_dataset)"
      ]
    },
    {
      "cell_type": "code",
      "execution_count": 58,
      "metadata": {
        "colab": {
          "base_uri": "https://localhost:8080/",
          "height": 206
        },
        "id": "SwPyvLAyqq3k",
        "outputId": "0e873493-bce1-441c-c866-88eeaea9a24e"
      },
      "outputs": [
        {
          "output_type": "execute_result",
          "data": {
            "text/html": [
              "\n",
              "  <div id=\"df-539402f1-5aee-4463-b040-a873814630e3\">\n",
              "    <div class=\"colab-df-container\">\n",
              "      <div>\n",
              "<style scoped>\n",
              "    .dataframe tbody tr th:only-of-type {\n",
              "        vertical-align: middle;\n",
              "    }\n",
              "\n",
              "    .dataframe tbody tr th {\n",
              "        vertical-align: top;\n",
              "    }\n",
              "\n",
              "    .dataframe thead th {\n",
              "        text-align: right;\n",
              "    }\n",
              "</style>\n",
              "<table border=\"1\" class=\"dataframe\">\n",
              "  <thead>\n",
              "    <tr style=\"text-align: right;\">\n",
              "      <th></th>\n",
              "      <th>buying</th>\n",
              "      <th>maint</th>\n",
              "      <th>doors</th>\n",
              "      <th>persons</th>\n",
              "      <th>lug_boot</th>\n",
              "      <th>safety</th>\n",
              "      <th>class</th>\n",
              "    </tr>\n",
              "  </thead>\n",
              "  <tbody>\n",
              "    <tr>\n",
              "      <th>0</th>\n",
              "      <td>0</td>\n",
              "      <td>0</td>\n",
              "      <td>0</td>\n",
              "      <td>0</td>\n",
              "      <td>0</td>\n",
              "      <td>0</td>\n",
              "      <td>0</td>\n",
              "    </tr>\n",
              "    <tr>\n",
              "      <th>1</th>\n",
              "      <td>0</td>\n",
              "      <td>0</td>\n",
              "      <td>0</td>\n",
              "      <td>0</td>\n",
              "      <td>0</td>\n",
              "      <td>1</td>\n",
              "      <td>0</td>\n",
              "    </tr>\n",
              "    <tr>\n",
              "      <th>2</th>\n",
              "      <td>0</td>\n",
              "      <td>0</td>\n",
              "      <td>0</td>\n",
              "      <td>0</td>\n",
              "      <td>0</td>\n",
              "      <td>2</td>\n",
              "      <td>0</td>\n",
              "    </tr>\n",
              "    <tr>\n",
              "      <th>3</th>\n",
              "      <td>0</td>\n",
              "      <td>0</td>\n",
              "      <td>0</td>\n",
              "      <td>0</td>\n",
              "      <td>1</td>\n",
              "      <td>0</td>\n",
              "      <td>0</td>\n",
              "    </tr>\n",
              "    <tr>\n",
              "      <th>4</th>\n",
              "      <td>0</td>\n",
              "      <td>0</td>\n",
              "      <td>0</td>\n",
              "      <td>0</td>\n",
              "      <td>1</td>\n",
              "      <td>1</td>\n",
              "      <td>0</td>\n",
              "    </tr>\n",
              "  </tbody>\n",
              "</table>\n",
              "</div>\n",
              "      <button class=\"colab-df-convert\" onclick=\"convertToInteractive('df-539402f1-5aee-4463-b040-a873814630e3')\"\n",
              "              title=\"Convert this dataframe to an interactive table.\"\n",
              "              style=\"display:none;\">\n",
              "        \n",
              "  <svg xmlns=\"http://www.w3.org/2000/svg\" height=\"24px\"viewBox=\"0 0 24 24\"\n",
              "       width=\"24px\">\n",
              "    <path d=\"M0 0h24v24H0V0z\" fill=\"none\"/>\n",
              "    <path d=\"M18.56 5.44l.94 2.06.94-2.06 2.06-.94-2.06-.94-.94-2.06-.94 2.06-2.06.94zm-11 1L8.5 8.5l.94-2.06 2.06-.94-2.06-.94L8.5 2.5l-.94 2.06-2.06.94zm10 10l.94 2.06.94-2.06 2.06-.94-2.06-.94-.94-2.06-.94 2.06-2.06.94z\"/><path d=\"M17.41 7.96l-1.37-1.37c-.4-.4-.92-.59-1.43-.59-.52 0-1.04.2-1.43.59L10.3 9.45l-7.72 7.72c-.78.78-.78 2.05 0 2.83L4 21.41c.39.39.9.59 1.41.59.51 0 1.02-.2 1.41-.59l7.78-7.78 2.81-2.81c.8-.78.8-2.07 0-2.86zM5.41 20L4 18.59l7.72-7.72 1.47 1.35L5.41 20z\"/>\n",
              "  </svg>\n",
              "      </button>\n",
              "      \n",
              "  <style>\n",
              "    .colab-df-container {\n",
              "      display:flex;\n",
              "      flex-wrap:wrap;\n",
              "      gap: 12px;\n",
              "    }\n",
              "\n",
              "    .colab-df-convert {\n",
              "      background-color: #E8F0FE;\n",
              "      border: none;\n",
              "      border-radius: 50%;\n",
              "      cursor: pointer;\n",
              "      display: none;\n",
              "      fill: #1967D2;\n",
              "      height: 32px;\n",
              "      padding: 0 0 0 0;\n",
              "      width: 32px;\n",
              "    }\n",
              "\n",
              "    .colab-df-convert:hover {\n",
              "      background-color: #E2EBFA;\n",
              "      box-shadow: 0px 1px 2px rgba(60, 64, 67, 0.3), 0px 1px 3px 1px rgba(60, 64, 67, 0.15);\n",
              "      fill: #174EA6;\n",
              "    }\n",
              "\n",
              "    [theme=dark] .colab-df-convert {\n",
              "      background-color: #3B4455;\n",
              "      fill: #D2E3FC;\n",
              "    }\n",
              "\n",
              "    [theme=dark] .colab-df-convert:hover {\n",
              "      background-color: #434B5C;\n",
              "      box-shadow: 0px 1px 3px 1px rgba(0, 0, 0, 0.15);\n",
              "      filter: drop-shadow(0px 1px 2px rgba(0, 0, 0, 0.3));\n",
              "      fill: #FFFFFF;\n",
              "    }\n",
              "  </style>\n",
              "\n",
              "      <script>\n",
              "        const buttonEl =\n",
              "          document.querySelector('#df-539402f1-5aee-4463-b040-a873814630e3 button.colab-df-convert');\n",
              "        buttonEl.style.display =\n",
              "          google.colab.kernel.accessAllowed ? 'block' : 'none';\n",
              "\n",
              "        async function convertToInteractive(key) {\n",
              "          const element = document.querySelector('#df-539402f1-5aee-4463-b040-a873814630e3');\n",
              "          const dataTable =\n",
              "            await google.colab.kernel.invokeFunction('convertToInteractive',\n",
              "                                                     [key], {});\n",
              "          if (!dataTable) return;\n",
              "\n",
              "          const docLinkHtml = 'Like what you see? Visit the ' +\n",
              "            '<a target=\"_blank\" href=https://colab.research.google.com/notebooks/data_table.ipynb>data table notebook</a>'\n",
              "            + ' to learn more about interactive tables.';\n",
              "          element.innerHTML = '';\n",
              "          dataTable['output_type'] = 'display_data';\n",
              "          await google.colab.output.renderOutput(dataTable, element);\n",
              "          const docLink = document.createElement('div');\n",
              "          docLink.innerHTML = docLinkHtml;\n",
              "          element.appendChild(docLink);\n",
              "        }\n",
              "      </script>\n",
              "    </div>\n",
              "  </div>\n",
              "  "
            ],
            "text/plain": [
              "   buying  maint  doors  persons  lug_boot  safety  class\n",
              "0       0      0      0        0         0       0      0\n",
              "1       0      0      0        0         0       1      0\n",
              "2       0      0      0        0         0       2      0\n",
              "3       0      0      0        0         1       0      0\n",
              "4       0      0      0        0         1       1      0"
            ]
          },
          "metadata": {},
          "execution_count": 58
        }
      ],
      "source": [
        "car_dataset_v1  = categorized_car_datast.copy()\n",
        "car_dataset_v1.head()"
      ]
    },
    {
      "cell_type": "code",
      "execution_count": 59,
      "metadata": {
        "id": "CCl7bT8Uqq3l"
      },
      "outputs": [],
      "source": [
        "train_car_dataset, test_car_dataset = split_dataset(car_dataset_v1, 0.8)"
      ]
    },
    {
      "cell_type": "code",
      "execution_count": 60,
      "metadata": {
        "id": "M3vLqa6zqq3m"
      },
      "outputs": [],
      "source": [
        "train_car_zscore_dataset,test_car_zscore_dataset  = Standardization(train_car_dataset,test_car_dataset)"
      ]
    },
    {
      "cell_type": "code",
      "execution_count": 61,
      "metadata": {
        "id": "4Vo6CzBaqq3o"
      },
      "outputs": [],
      "source": [
        "validated_train_car = cross_validation(train_car_dataset,5)"
      ]
    },
    {
      "cell_type": "code",
      "execution_count": 62,
      "metadata": {
        "colab": {
          "base_uri": "https://localhost:8080/"
        },
        "id": "XQv69siyqq3p",
        "outputId": "39788889-11ee-4f03-ed81-398446d4c955"
      },
      "outputs": [
        {
          "output_type": "execute_result",
          "data": {
            "text/plain": [
              "[277, 276, 276, 276, 276]"
            ]
          },
          "metadata": {},
          "execution_count": 62
        }
      ],
      "source": [
        "validated_train_car_size = []\n",
        "for i in range(0, 5):\n",
        "    validated_train_car_size.append(validated_train_car[i].shape[0])\n",
        "validated_train_car_size"
      ]
    },
    {
      "cell_type": "code",
      "execution_count": 63,
      "metadata": {
        "id": "B-DFdmVlqq3r"
      },
      "outputs": [],
      "source": [
        "tuning_car = cross_validation(test_car_dataset,5)"
      ]
    },
    {
      "cell_type": "code",
      "execution_count": 64,
      "metadata": {
        "colab": {
          "base_uri": "https://localhost:8080/"
        },
        "id": "RVUxKu7Vqq3s",
        "outputId": "fdd446b7-78f6-43f9-a849-ae1799fc2cb3"
      },
      "outputs": [
        {
          "output_type": "execute_result",
          "data": {
            "text/plain": [
              "[70, 70, 70, 70, 65]"
            ]
          },
          "metadata": {},
          "execution_count": 64
        }
      ],
      "source": [
        "tuning_car_size = []\n",
        "for i in range(0, 5):\n",
        "    tuning_car_size.append(tuning_car[i].shape[0])\n",
        "tuning_car_size"
      ]
    },
    {
      "cell_type": "code",
      "execution_count": 65,
      "metadata": {
        "colab": {
          "base_uri": "https://localhost:8080/"
        },
        "id": "BOkZ4dBXqq3t",
        "outputId": "42179d86-f17d-4492-8f45-0afaee819485"
      },
      "outputs": [
        {
          "output_type": "stream",
          "name": "stdout",
          "text": [
            "Best KNN parameter: 3\n",
            "Best Edited KNN parameter: 3\n",
            "Best Condensed KNN parameter: 8\n"
          ]
        }
      ],
      "source": [
        "k_values = [i for i in range(1, 11)]\n",
        "best_knn_k_car = tuning_k_parameter(tuning_car, k_values, 'class', \"classification score\", \"knn\")\n",
        "best_eknn_k_car = tuning_k_parameter(tuning_car, k_values, 'class', \"classification score\", \"edited knn\")\n",
        "best_cknn_k_car =  tuning_k_parameter(tuning_car, k_values, 'class', \"classification score\", \"condensed knn\")\n",
        "\n",
        "print(\"Best KNN parameter: \"+str(best_knn_k_car))\n",
        "print(\"Best Edited KNN parameter: \" + str(best_eknn_k_car))\n",
        "print(\"Best Condensed KNN parameter: \" + str(best_cknn_k_car))"
      ]
    },
    {
      "cell_type": "code",
      "execution_count": 66,
      "metadata": {
        "colab": {
          "base_uri": "https://localhost:8080/"
        },
        "id": "XETP0Yqmqq3t",
        "outputId": "d41cf12b-a1f1-409b-fb09-351f01c33438"
      },
      "outputs": [
        {
          "output_type": "stream",
          "name": "stdout",
          "text": [
            "Accuracy Scores for KNN: [87.36, 85.51, 83.33, 87.68, 75.36]/ Avg Score: 83.85\n"
          ]
        }
      ],
      "source": [
        "knn_score_car = knn_classification(validated_train_car, 'class', best_knn_k_car, \"classification score\", \"knn\")[0]\n",
        "knn_avg_score_car = round(np.mean(knn_score_car),2)\n",
        "print(\"Accuracy Scores for KNN: \" + str(knn_score_car) + \"/ Avg Score: \"+ str(knn_avg_score_car))"
      ]
    },
    {
      "cell_type": "code",
      "execution_count": 67,
      "metadata": {
        "colab": {
          "base_uri": "https://localhost:8080/"
        },
        "id": "z8LJtgHPqq3u",
        "outputId": "270a120b-be17-42e4-8f14-10fb18fab910"
      },
      "outputs": [
        {
          "output_type": "stream",
          "name": "stdout",
          "text": [
            "Remaining Data % after Edited KNN: [83.06, 75.93, 77.83, 73.12, 87.51] / Avg Remaining Data %: 79.49\n",
            "Accuracy Scores for Edited KNN: [87.36, 86.59, 84.42, 84.06, 74.64] / Avg Score: 83.41\n"
          ]
        }
      ],
      "source": [
        "eknn_score_car, eknn_remaining_car = knn_classification(validated_train_car, 'class', best_eknn_k_car, \"classification score\", \"edited knn\")[:2]\n",
        "eknn_avg_score_car = round(np.mean(eknn_score_car),2)\n",
        "print(\"Remaining Data % after Edited KNN: \"+ str(eknn_remaining_car)+ \" / Avg Remaining Data %: \"+ str(round(np.mean(eknn_remaining_car),2)))\n",
        "print(\"Accuracy Scores for Edited KNN: \" + str(eknn_score_car) + \" / Avg Score: \"+ str(eknn_avg_score_car))"
      ]
    },
    {
      "cell_type": "code",
      "execution_count": 68,
      "metadata": {
        "colab": {
          "base_uri": "https://localhost:8080/"
        },
        "id": "NveiSMvCqq3u",
        "outputId": "01c062cc-1988-42ae-a3ae-ae93f0f64ffd"
      },
      "outputs": [
        {
          "output_type": "stream",
          "name": "stdout",
          "text": [
            "Remaining Data % after Condensed KNN: [57.16, 54.75, 47.96, 52.22, 47.69] / Avg Remaining Data %: 51.96\n",
            "Accuracy Scores for Condensed KNN: [85.92, 85.14, 84.78, 83.33, 76.45] / Avg Score: 83.12\n"
          ]
        }
      ],
      "source": [
        "cknn_score_car, cknn_remaining_car = knn_classification(validated_train_car, 'class', best_cknn_k_car, \"classification score\", \"condensed knn\")[:2]\n",
        "cknn_avg_score_car = round(np.mean(cknn_score_car),2)\n",
        "print(\"Remaining Data % after Condensed KNN: \"+ str(cknn_remaining_car)+ \" / Avg Remaining Data %: \"+ str(round(np.mean(cknn_remaining_car),2)))\n",
        "print(\"Accuracy Scores for Condensed KNN: \" + str(cknn_score_car) + \" / Avg Score: \"+ str(cknn_avg_score_car))"
      ]
    },
    {
      "cell_type": "markdown",
      "metadata": {
        "id": "YEN1XnYdqq3u"
      },
      "source": [
        "## Congressional Vote"
      ]
    },
    {
      "cell_type": "code",
      "execution_count": 69,
      "metadata": {
        "colab": {
          "base_uri": "https://localhost:8080/",
          "height": 270
        },
        "id": "ExWyCgWlqq3v",
        "outputId": "fdd5db6e-b67b-49ad-e59e-354e22d0d2ec"
      },
      "outputs": [
        {
          "output_type": "execute_result",
          "data": {
            "text/html": [
              "\n",
              "  <div id=\"df-ea9b937c-99d4-4cd4-adb0-c6fd6505d38c\">\n",
              "    <div class=\"colab-df-container\">\n",
              "      <div>\n",
              "<style scoped>\n",
              "    .dataframe tbody tr th:only-of-type {\n",
              "        vertical-align: middle;\n",
              "    }\n",
              "\n",
              "    .dataframe tbody tr th {\n",
              "        vertical-align: top;\n",
              "    }\n",
              "\n",
              "    .dataframe thead th {\n",
              "        text-align: right;\n",
              "    }\n",
              "</style>\n",
              "<table border=\"1\" class=\"dataframe\">\n",
              "  <thead>\n",
              "    <tr style=\"text-align: right;\">\n",
              "      <th></th>\n",
              "      <th>class</th>\n",
              "      <th>infants</th>\n",
              "      <th>water</th>\n",
              "      <th>budget</th>\n",
              "      <th>physician</th>\n",
              "      <th>salvador</th>\n",
              "      <th>religious</th>\n",
              "      <th>satellite</th>\n",
              "      <th>aid</th>\n",
              "      <th>missile</th>\n",
              "      <th>immigration</th>\n",
              "      <th>synfuels</th>\n",
              "      <th>education</th>\n",
              "      <th>superfund</th>\n",
              "      <th>crime</th>\n",
              "      <th>duty_free_exports</th>\n",
              "      <th>eaa_rsa</th>\n",
              "    </tr>\n",
              "  </thead>\n",
              "  <tbody>\n",
              "    <tr>\n",
              "      <th>0</th>\n",
              "      <td>republican</td>\n",
              "      <td>n</td>\n",
              "      <td>y</td>\n",
              "      <td>n</td>\n",
              "      <td>y</td>\n",
              "      <td>y</td>\n",
              "      <td>y</td>\n",
              "      <td>n</td>\n",
              "      <td>n</td>\n",
              "      <td>n</td>\n",
              "      <td>y</td>\n",
              "      <td>?</td>\n",
              "      <td>y</td>\n",
              "      <td>y</td>\n",
              "      <td>y</td>\n",
              "      <td>n</td>\n",
              "      <td>y</td>\n",
              "    </tr>\n",
              "    <tr>\n",
              "      <th>1</th>\n",
              "      <td>republican</td>\n",
              "      <td>n</td>\n",
              "      <td>y</td>\n",
              "      <td>n</td>\n",
              "      <td>y</td>\n",
              "      <td>y</td>\n",
              "      <td>y</td>\n",
              "      <td>n</td>\n",
              "      <td>n</td>\n",
              "      <td>n</td>\n",
              "      <td>n</td>\n",
              "      <td>n</td>\n",
              "      <td>y</td>\n",
              "      <td>y</td>\n",
              "      <td>y</td>\n",
              "      <td>n</td>\n",
              "      <td>?</td>\n",
              "    </tr>\n",
              "    <tr>\n",
              "      <th>2</th>\n",
              "      <td>democrat</td>\n",
              "      <td>?</td>\n",
              "      <td>y</td>\n",
              "      <td>y</td>\n",
              "      <td>?</td>\n",
              "      <td>y</td>\n",
              "      <td>y</td>\n",
              "      <td>n</td>\n",
              "      <td>n</td>\n",
              "      <td>n</td>\n",
              "      <td>n</td>\n",
              "      <td>y</td>\n",
              "      <td>n</td>\n",
              "      <td>y</td>\n",
              "      <td>y</td>\n",
              "      <td>n</td>\n",
              "      <td>n</td>\n",
              "    </tr>\n",
              "    <tr>\n",
              "      <th>3</th>\n",
              "      <td>democrat</td>\n",
              "      <td>n</td>\n",
              "      <td>y</td>\n",
              "      <td>y</td>\n",
              "      <td>n</td>\n",
              "      <td>?</td>\n",
              "      <td>y</td>\n",
              "      <td>n</td>\n",
              "      <td>n</td>\n",
              "      <td>n</td>\n",
              "      <td>n</td>\n",
              "      <td>y</td>\n",
              "      <td>n</td>\n",
              "      <td>y</td>\n",
              "      <td>n</td>\n",
              "      <td>n</td>\n",
              "      <td>y</td>\n",
              "    </tr>\n",
              "    <tr>\n",
              "      <th>4</th>\n",
              "      <td>democrat</td>\n",
              "      <td>y</td>\n",
              "      <td>y</td>\n",
              "      <td>y</td>\n",
              "      <td>n</td>\n",
              "      <td>y</td>\n",
              "      <td>y</td>\n",
              "      <td>n</td>\n",
              "      <td>n</td>\n",
              "      <td>n</td>\n",
              "      <td>n</td>\n",
              "      <td>y</td>\n",
              "      <td>?</td>\n",
              "      <td>y</td>\n",
              "      <td>y</td>\n",
              "      <td>y</td>\n",
              "      <td>y</td>\n",
              "    </tr>\n",
              "  </tbody>\n",
              "</table>\n",
              "</div>\n",
              "      <button class=\"colab-df-convert\" onclick=\"convertToInteractive('df-ea9b937c-99d4-4cd4-adb0-c6fd6505d38c')\"\n",
              "              title=\"Convert this dataframe to an interactive table.\"\n",
              "              style=\"display:none;\">\n",
              "        \n",
              "  <svg xmlns=\"http://www.w3.org/2000/svg\" height=\"24px\"viewBox=\"0 0 24 24\"\n",
              "       width=\"24px\">\n",
              "    <path d=\"M0 0h24v24H0V0z\" fill=\"none\"/>\n",
              "    <path d=\"M18.56 5.44l.94 2.06.94-2.06 2.06-.94-2.06-.94-.94-2.06-.94 2.06-2.06.94zm-11 1L8.5 8.5l.94-2.06 2.06-.94-2.06-.94L8.5 2.5l-.94 2.06-2.06.94zm10 10l.94 2.06.94-2.06 2.06-.94-2.06-.94-.94-2.06-.94 2.06-2.06.94z\"/><path d=\"M17.41 7.96l-1.37-1.37c-.4-.4-.92-.59-1.43-.59-.52 0-1.04.2-1.43.59L10.3 9.45l-7.72 7.72c-.78.78-.78 2.05 0 2.83L4 21.41c.39.39.9.59 1.41.59.51 0 1.02-.2 1.41-.59l7.78-7.78 2.81-2.81c.8-.78.8-2.07 0-2.86zM5.41 20L4 18.59l7.72-7.72 1.47 1.35L5.41 20z\"/>\n",
              "  </svg>\n",
              "      </button>\n",
              "      \n",
              "  <style>\n",
              "    .colab-df-container {\n",
              "      display:flex;\n",
              "      flex-wrap:wrap;\n",
              "      gap: 12px;\n",
              "    }\n",
              "\n",
              "    .colab-df-convert {\n",
              "      background-color: #E8F0FE;\n",
              "      border: none;\n",
              "      border-radius: 50%;\n",
              "      cursor: pointer;\n",
              "      display: none;\n",
              "      fill: #1967D2;\n",
              "      height: 32px;\n",
              "      padding: 0 0 0 0;\n",
              "      width: 32px;\n",
              "    }\n",
              "\n",
              "    .colab-df-convert:hover {\n",
              "      background-color: #E2EBFA;\n",
              "      box-shadow: 0px 1px 2px rgba(60, 64, 67, 0.3), 0px 1px 3px 1px rgba(60, 64, 67, 0.15);\n",
              "      fill: #174EA6;\n",
              "    }\n",
              "\n",
              "    [theme=dark] .colab-df-convert {\n",
              "      background-color: #3B4455;\n",
              "      fill: #D2E3FC;\n",
              "    }\n",
              "\n",
              "    [theme=dark] .colab-df-convert:hover {\n",
              "      background-color: #434B5C;\n",
              "      box-shadow: 0px 1px 3px 1px rgba(0, 0, 0, 0.15);\n",
              "      filter: drop-shadow(0px 1px 2px rgba(0, 0, 0, 0.3));\n",
              "      fill: #FFFFFF;\n",
              "    }\n",
              "  </style>\n",
              "\n",
              "      <script>\n",
              "        const buttonEl =\n",
              "          document.querySelector('#df-ea9b937c-99d4-4cd4-adb0-c6fd6505d38c button.colab-df-convert');\n",
              "        buttonEl.style.display =\n",
              "          google.colab.kernel.accessAllowed ? 'block' : 'none';\n",
              "\n",
              "        async function convertToInteractive(key) {\n",
              "          const element = document.querySelector('#df-ea9b937c-99d4-4cd4-adb0-c6fd6505d38c');\n",
              "          const dataTable =\n",
              "            await google.colab.kernel.invokeFunction('convertToInteractive',\n",
              "                                                     [key], {});\n",
              "          if (!dataTable) return;\n",
              "\n",
              "          const docLinkHtml = 'Like what you see? Visit the ' +\n",
              "            '<a target=\"_blank\" href=https://colab.research.google.com/notebooks/data_table.ipynb>data table notebook</a>'\n",
              "            + ' to learn more about interactive tables.';\n",
              "          element.innerHTML = '';\n",
              "          dataTable['output_type'] = 'display_data';\n",
              "          await google.colab.output.renderOutput(dataTable, element);\n",
              "          const docLink = document.createElement('div');\n",
              "          docLink.innerHTML = docLinkHtml;\n",
              "          element.appendChild(docLink);\n",
              "        }\n",
              "      </script>\n",
              "    </div>\n",
              "  </div>\n",
              "  "
            ],
            "text/plain": [
              "        class infants water budget  ... superfund crime duty_free_exports eaa_rsa\n",
              "0  republican       n     y      n  ...         y     y                 n       y\n",
              "1  republican       n     y      n  ...         y     y                 n       ?\n",
              "2    democrat       ?     y      y  ...         y     y                 n       n\n",
              "3    democrat       n     y      y  ...         y     n                 n       y\n",
              "4    democrat       y     y      y  ...         y     y                 y       y\n",
              "\n",
              "[5 rows x 17 columns]"
            ]
          },
          "metadata": {},
          "execution_count": 69
        }
      ],
      "source": [
        "vote_dataset = open_csv_dataset('vote', True)\n",
        "vote_dataset.head()"
      ]
    },
    {
      "cell_type": "code",
      "execution_count": 70,
      "metadata": {
        "colab": {
          "base_uri": "https://localhost:8080/"
        },
        "id": "tzuVs_zTqq3v",
        "outputId": "a88533b8-622e-4933-9fdb-ec2f9cb65271"
      },
      "outputs": [
        {
          "output_type": "execute_result",
          "data": {
            "text/plain": [
              "False"
            ]
          },
          "metadata": {},
          "execution_count": 70
        }
      ],
      "source": [
        "vote_dataset.isnull().sum().any()"
      ]
    },
    {
      "cell_type": "code",
      "execution_count": 71,
      "metadata": {
        "colab": {
          "base_uri": "https://localhost:8080/",
          "height": 270
        },
        "id": "UdBOR2b3qq3v",
        "outputId": "a334cf05-174b-452f-e005-c8c329ff8eed"
      },
      "outputs": [
        {
          "output_type": "execute_result",
          "data": {
            "text/html": [
              "\n",
              "  <div id=\"df-4232c30c-7cac-4387-af0e-63d32d9a59ec\">\n",
              "    <div class=\"colab-df-container\">\n",
              "      <div>\n",
              "<style scoped>\n",
              "    .dataframe tbody tr th:only-of-type {\n",
              "        vertical-align: middle;\n",
              "    }\n",
              "\n",
              "    .dataframe tbody tr th {\n",
              "        vertical-align: top;\n",
              "    }\n",
              "\n",
              "    .dataframe thead th {\n",
              "        text-align: right;\n",
              "    }\n",
              "</style>\n",
              "<table border=\"1\" class=\"dataframe\">\n",
              "  <thead>\n",
              "    <tr style=\"text-align: right;\">\n",
              "      <th></th>\n",
              "      <th>class</th>\n",
              "      <th>infants</th>\n",
              "      <th>water</th>\n",
              "      <th>budget</th>\n",
              "      <th>physician</th>\n",
              "      <th>salvador</th>\n",
              "      <th>religious</th>\n",
              "      <th>satellite</th>\n",
              "      <th>aid</th>\n",
              "      <th>missile</th>\n",
              "      <th>immigration</th>\n",
              "      <th>synfuels</th>\n",
              "      <th>education</th>\n",
              "      <th>superfund</th>\n",
              "      <th>crime</th>\n",
              "      <th>duty_free_exports</th>\n",
              "      <th>eaa_rsa</th>\n",
              "    </tr>\n",
              "  </thead>\n",
              "  <tbody>\n",
              "    <tr>\n",
              "      <th>0</th>\n",
              "      <td>0</td>\n",
              "      <td>0</td>\n",
              "      <td>0</td>\n",
              "      <td>0</td>\n",
              "      <td>0</td>\n",
              "      <td>0</td>\n",
              "      <td>0</td>\n",
              "      <td>0</td>\n",
              "      <td>0</td>\n",
              "      <td>0</td>\n",
              "      <td>0</td>\n",
              "      <td>0</td>\n",
              "      <td>0</td>\n",
              "      <td>0</td>\n",
              "      <td>0</td>\n",
              "      <td>0</td>\n",
              "      <td>0</td>\n",
              "    </tr>\n",
              "    <tr>\n",
              "      <th>1</th>\n",
              "      <td>0</td>\n",
              "      <td>0</td>\n",
              "      <td>0</td>\n",
              "      <td>0</td>\n",
              "      <td>0</td>\n",
              "      <td>0</td>\n",
              "      <td>0</td>\n",
              "      <td>0</td>\n",
              "      <td>0</td>\n",
              "      <td>0</td>\n",
              "      <td>1</td>\n",
              "      <td>1</td>\n",
              "      <td>0</td>\n",
              "      <td>0</td>\n",
              "      <td>0</td>\n",
              "      <td>0</td>\n",
              "      <td>1</td>\n",
              "    </tr>\n",
              "    <tr>\n",
              "      <th>2</th>\n",
              "      <td>1</td>\n",
              "      <td>1</td>\n",
              "      <td>0</td>\n",
              "      <td>1</td>\n",
              "      <td>1</td>\n",
              "      <td>0</td>\n",
              "      <td>0</td>\n",
              "      <td>0</td>\n",
              "      <td>0</td>\n",
              "      <td>0</td>\n",
              "      <td>1</td>\n",
              "      <td>2</td>\n",
              "      <td>1</td>\n",
              "      <td>0</td>\n",
              "      <td>0</td>\n",
              "      <td>0</td>\n",
              "      <td>2</td>\n",
              "    </tr>\n",
              "    <tr>\n",
              "      <th>3</th>\n",
              "      <td>1</td>\n",
              "      <td>0</td>\n",
              "      <td>0</td>\n",
              "      <td>1</td>\n",
              "      <td>2</td>\n",
              "      <td>1</td>\n",
              "      <td>0</td>\n",
              "      <td>0</td>\n",
              "      <td>0</td>\n",
              "      <td>0</td>\n",
              "      <td>1</td>\n",
              "      <td>2</td>\n",
              "      <td>1</td>\n",
              "      <td>0</td>\n",
              "      <td>1</td>\n",
              "      <td>0</td>\n",
              "      <td>0</td>\n",
              "    </tr>\n",
              "    <tr>\n",
              "      <th>4</th>\n",
              "      <td>1</td>\n",
              "      <td>2</td>\n",
              "      <td>0</td>\n",
              "      <td>1</td>\n",
              "      <td>2</td>\n",
              "      <td>0</td>\n",
              "      <td>0</td>\n",
              "      <td>0</td>\n",
              "      <td>0</td>\n",
              "      <td>0</td>\n",
              "      <td>1</td>\n",
              "      <td>2</td>\n",
              "      <td>2</td>\n",
              "      <td>0</td>\n",
              "      <td>0</td>\n",
              "      <td>1</td>\n",
              "      <td>0</td>\n",
              "    </tr>\n",
              "  </tbody>\n",
              "</table>\n",
              "</div>\n",
              "      <button class=\"colab-df-convert\" onclick=\"convertToInteractive('df-4232c30c-7cac-4387-af0e-63d32d9a59ec')\"\n",
              "              title=\"Convert this dataframe to an interactive table.\"\n",
              "              style=\"display:none;\">\n",
              "        \n",
              "  <svg xmlns=\"http://www.w3.org/2000/svg\" height=\"24px\"viewBox=\"0 0 24 24\"\n",
              "       width=\"24px\">\n",
              "    <path d=\"M0 0h24v24H0V0z\" fill=\"none\"/>\n",
              "    <path d=\"M18.56 5.44l.94 2.06.94-2.06 2.06-.94-2.06-.94-.94-2.06-.94 2.06-2.06.94zm-11 1L8.5 8.5l.94-2.06 2.06-.94-2.06-.94L8.5 2.5l-.94 2.06-2.06.94zm10 10l.94 2.06.94-2.06 2.06-.94-2.06-.94-.94-2.06-.94 2.06-2.06.94z\"/><path d=\"M17.41 7.96l-1.37-1.37c-.4-.4-.92-.59-1.43-.59-.52 0-1.04.2-1.43.59L10.3 9.45l-7.72 7.72c-.78.78-.78 2.05 0 2.83L4 21.41c.39.39.9.59 1.41.59.51 0 1.02-.2 1.41-.59l7.78-7.78 2.81-2.81c.8-.78.8-2.07 0-2.86zM5.41 20L4 18.59l7.72-7.72 1.47 1.35L5.41 20z\"/>\n",
              "  </svg>\n",
              "      </button>\n",
              "      \n",
              "  <style>\n",
              "    .colab-df-container {\n",
              "      display:flex;\n",
              "      flex-wrap:wrap;\n",
              "      gap: 12px;\n",
              "    }\n",
              "\n",
              "    .colab-df-convert {\n",
              "      background-color: #E8F0FE;\n",
              "      border: none;\n",
              "      border-radius: 50%;\n",
              "      cursor: pointer;\n",
              "      display: none;\n",
              "      fill: #1967D2;\n",
              "      height: 32px;\n",
              "      padding: 0 0 0 0;\n",
              "      width: 32px;\n",
              "    }\n",
              "\n",
              "    .colab-df-convert:hover {\n",
              "      background-color: #E2EBFA;\n",
              "      box-shadow: 0px 1px 2px rgba(60, 64, 67, 0.3), 0px 1px 3px 1px rgba(60, 64, 67, 0.15);\n",
              "      fill: #174EA6;\n",
              "    }\n",
              "\n",
              "    [theme=dark] .colab-df-convert {\n",
              "      background-color: #3B4455;\n",
              "      fill: #D2E3FC;\n",
              "    }\n",
              "\n",
              "    [theme=dark] .colab-df-convert:hover {\n",
              "      background-color: #434B5C;\n",
              "      box-shadow: 0px 1px 3px 1px rgba(0, 0, 0, 0.15);\n",
              "      filter: drop-shadow(0px 1px 2px rgba(0, 0, 0, 0.3));\n",
              "      fill: #FFFFFF;\n",
              "    }\n",
              "  </style>\n",
              "\n",
              "      <script>\n",
              "        const buttonEl =\n",
              "          document.querySelector('#df-4232c30c-7cac-4387-af0e-63d32d9a59ec button.colab-df-convert');\n",
              "        buttonEl.style.display =\n",
              "          google.colab.kernel.accessAllowed ? 'block' : 'none';\n",
              "\n",
              "        async function convertToInteractive(key) {\n",
              "          const element = document.querySelector('#df-4232c30c-7cac-4387-af0e-63d32d9a59ec');\n",
              "          const dataTable =\n",
              "            await google.colab.kernel.invokeFunction('convertToInteractive',\n",
              "                                                     [key], {});\n",
              "          if (!dataTable) return;\n",
              "\n",
              "          const docLinkHtml = 'Like what you see? Visit the ' +\n",
              "            '<a target=\"_blank\" href=https://colab.research.google.com/notebooks/data_table.ipynb>data table notebook</a>'\n",
              "            + ' to learn more about interactive tables.';\n",
              "          element.innerHTML = '';\n",
              "          dataTable['output_type'] = 'display_data';\n",
              "          await google.colab.output.renderOutput(dataTable, element);\n",
              "          const docLink = document.createElement('div');\n",
              "          docLink.innerHTML = docLinkHtml;\n",
              "          element.appendChild(docLink);\n",
              "        }\n",
              "      </script>\n",
              "    </div>\n",
              "  </div>\n",
              "  "
            ],
            "text/plain": [
              "   class  infants  water  budget  ...  superfund  crime  duty_free_exports  eaa_rsa\n",
              "0      0        0      0       0  ...          0      0                  0        0\n",
              "1      0        0      0       0  ...          0      0                  0        1\n",
              "2      1        1      0       1  ...          0      0                  0        2\n",
              "3      1        0      0       1  ...          0      1                  0        0\n",
              "4      1        2      0       1  ...          0      0                  1        0\n",
              "\n",
              "[5 rows x 17 columns]"
            ]
          },
          "metadata": {},
          "execution_count": 71
        }
      ],
      "source": [
        "categorized_vote_datast = replacing_string_to_numeric_all_columns(vote_dataset)\n",
        "categorized_vote_datast.head()"
      ]
    },
    {
      "cell_type": "code",
      "execution_count": 72,
      "metadata": {
        "id": "WIZGRVp3qq3w"
      },
      "outputs": [],
      "source": [
        "vote_dataset_v1  = categorized_vote_datast.copy()"
      ]
    },
    {
      "cell_type": "code",
      "execution_count": 73,
      "metadata": {
        "id": "cXAyGZAWqq3w"
      },
      "outputs": [],
      "source": [
        "train_vote_dataset, test_vote_dataset = split_dataset(vote_dataset_v1, 0.8)"
      ]
    },
    {
      "cell_type": "code",
      "execution_count": 74,
      "metadata": {
        "id": "ERM-kYbRqq3w"
      },
      "outputs": [],
      "source": [
        "train_vote_zscore_dataset, test_vote_zscore_dataset  = Standardization(train_vote_dataset,test_vote_dataset)"
      ]
    },
    {
      "cell_type": "code",
      "execution_count": 75,
      "metadata": {
        "id": "kzYz_nfDqq3x"
      },
      "outputs": [],
      "source": [
        "validated_train_vote = cross_validation(train_vote_dataset,5)"
      ]
    },
    {
      "cell_type": "code",
      "execution_count": 76,
      "metadata": {
        "colab": {
          "base_uri": "https://localhost:8080/"
        },
        "id": "KsbtU4kVqq3x",
        "outputId": "f8b1e68f-e385-4a2c-8673-3f5fe4281dd4"
      },
      "outputs": [
        {
          "output_type": "execute_result",
          "data": {
            "text/plain": [
              "[70, 70, 70, 70, 68]"
            ]
          },
          "metadata": {},
          "execution_count": 76
        }
      ],
      "source": [
        "validated_train_vote_size = []\n",
        "for i in range(0, 5):\n",
        "    validated_train_vote_size.append(validated_train_vote[i].shape[0])\n",
        "validated_train_vote_size"
      ]
    },
    {
      "cell_type": "code",
      "execution_count": 77,
      "metadata": {
        "id": "y7Fd5sw8qq3x"
      },
      "outputs": [],
      "source": [
        "tuning_vote = cross_validation(test_vote_dataset ,5)"
      ]
    },
    {
      "cell_type": "code",
      "execution_count": 78,
      "metadata": {
        "colab": {
          "base_uri": "https://localhost:8080/"
        },
        "id": "z_I8THuvqq3y",
        "outputId": "b46caa86-1d2b-4f9a-c185-0422732168c8"
      },
      "outputs": [
        {
          "output_type": "execute_result",
          "data": {
            "text/plain": [
              "[18, 18, 17, 17, 16]"
            ]
          },
          "metadata": {},
          "execution_count": 78
        }
      ],
      "source": [
        "tuning_vote_size = []\n",
        "for i in range(0, 5):\n",
        "    tuning_vote_size.append(tuning_vote[i].shape[0])\n",
        "tuning_vote_size"
      ]
    },
    {
      "cell_type": "code",
      "execution_count": 79,
      "metadata": {
        "colab": {
          "base_uri": "https://localhost:8080/"
        },
        "id": "cIs6drMpv6xq",
        "outputId": "a0658cdf-580b-44f8-e7e8-5e068c1a4017"
      },
      "outputs": [
        {
          "output_type": "stream",
          "name": "stdout",
          "text": [
            "Best KNN parameter: 9\n",
            "Best Edited KNN parameter: 3\n",
            "Best Condensed KNN parameter: 3\n"
          ]
        }
      ],
      "source": [
        "k_values = [i for i in range(1, 11)]\n",
        "best_knn_k_vote = tuning_k_parameter(tuning_vote, k_values, 'class', \"classification score\", \"knn\")\n",
        "best_eknn_k_vote = tuning_k_parameter(tuning_vote, k_values, 'class', \"classification score\", \"edited knn\")\n",
        "best_cknn_k_vote =  tuning_k_parameter(tuning_vote, k_values, 'class', \"classification score\", \"condensed knn\")\n",
        "\n",
        "print(\"Best KNN parameter: \"+str(best_knn_k_vote))\n",
        "print(\"Best Edited KNN parameter: \" + str(best_eknn_k_vote))\n",
        "print(\"Best Condensed KNN parameter: \" + str(best_cknn_k_vote))"
      ]
    },
    {
      "cell_type": "code",
      "execution_count": 80,
      "metadata": {
        "colab": {
          "base_uri": "https://localhost:8080/"
        },
        "id": "ir1gCiH7qq3y",
        "outputId": "5191837a-d817-4dcd-ee20-88621db2777e"
      },
      "outputs": [
        {
          "output_type": "stream",
          "name": "stdout",
          "text": [
            "Accuracy Scores for KNN: [97.14, 91.43, 91.43, 92.86, 100.0]/ Avg Score: 94.57\n"
          ]
        }
      ],
      "source": [
        "knn_score_vote = knn_classification(validated_train_vote, 'class', best_knn_k_vote, \"classification score\", \"knn\")[0]\n",
        "knn_avg_score_vote = round(np.mean(knn_score_vote),2)\n",
        "print(\"Accuracy Scores for KNN: \" + str(knn_score_vote) + \"/ Avg Score: \"+ str(knn_avg_score_vote))"
      ]
    },
    {
      "cell_type": "code",
      "execution_count": 81,
      "metadata": {
        "colab": {
          "base_uri": "https://localhost:8080/"
        },
        "id": "mJjqej-Oqq3z",
        "outputId": "eddae169-3cbb-4ff6-a753-48fea48013ba"
      },
      "outputs": [
        {
          "output_type": "stream",
          "name": "stdout",
          "text": [
            "Remaining Data % after Edited KNN: [96.04, 96.04, 96.76, 97.48, 95.0] / Avg Remaining Data %: 96.26\n",
            "Accuracy Scores for Edited KNN: [97.14, 94.29, 92.86, 92.86, 100.0] / Avg Score: 95.43\n"
          ]
        }
      ],
      "source": [
        "eknn_score_vote, eknn_remaining_vote = knn_classification(validated_train_vote, 'class', best_eknn_k_vote, \"classification score\", \"edited knn\")[:2]\n",
        "eknn_avg_score_vote = round(np.mean(eknn_score_vote),2)\n",
        "print(\"Remaining Data % after Edited KNN: \"+ str(eknn_remaining_vote)+ \" / Avg Remaining Data %: \"+ str(round(np.mean(eknn_remaining_vote),2)))\n",
        "print(\"Accuracy Scores for Edited KNN: \" + str(eknn_score_vote) + \" / Avg Score: \"+ str(eknn_avg_score_vote))"
      ]
    },
    {
      "cell_type": "code",
      "execution_count": 82,
      "metadata": {
        "colab": {
          "base_uri": "https://localhost:8080/"
        },
        "id": "CW3eAfy3qq3z",
        "outputId": "c6d9b003-2d24-47f8-a705-f38d5477f4b5"
      },
      "outputs": [
        {
          "output_type": "stream",
          "name": "stdout",
          "text": [
            "Remaining Data % after Condensed KNN: [13.31, 10.07, 14.75, 10.79, 15.71] / Avg Remaining Data %: 12.93\n",
            "Accuracy Scores for Condensed KNN: [95.71, 90.0, 94.29, 94.29, 100.0] / Avg Score: 94.86\n"
          ]
        }
      ],
      "source": [
        "cknn_score_vote, cknn_remaining_vote = knn_classification(validated_train_vote, 'class', best_cknn_k_vote, \"classification score\", \"condensed knn\")[:2]\n",
        "cknn_avg_score_vote = round(np.mean(cknn_score_vote),2)\n",
        "print(\"Remaining Data % after Condensed KNN: \"+ str(cknn_remaining_vote)+ \" / Avg Remaining Data %: \"+ str(round(np.mean(cknn_remaining_vote),2)))\n",
        "print(\"Accuracy Scores for Condensed KNN: \" + str(cknn_score_vote) + \" / Avg Score: \"+ str(cknn_avg_score_vote))"
      ]
    },
    {
      "cell_type": "markdown",
      "metadata": {
        "id": "fj2TiZHcqq30"
      },
      "source": [
        "## Abalone"
      ]
    },
    {
      "cell_type": "code",
      "execution_count": 83,
      "metadata": {
        "colab": {
          "base_uri": "https://localhost:8080/",
          "height": 143
        },
        "id": "kF4J14yqm-CP",
        "outputId": "77aadf95-8e7d-4bd0-ddce-c2d809943ae1"
      },
      "outputs": [
        {
          "output_type": "execute_result",
          "data": {
            "text/html": [
              "\n",
              "  <div id=\"df-a25e90fc-8e28-4282-a3a7-99559064a6db\">\n",
              "    <div class=\"colab-df-container\">\n",
              "      <div>\n",
              "<style scoped>\n",
              "    .dataframe tbody tr th:only-of-type {\n",
              "        vertical-align: middle;\n",
              "    }\n",
              "\n",
              "    .dataframe tbody tr th {\n",
              "        vertical-align: top;\n",
              "    }\n",
              "\n",
              "    .dataframe thead th {\n",
              "        text-align: right;\n",
              "    }\n",
              "</style>\n",
              "<table border=\"1\" class=\"dataframe\">\n",
              "  <thead>\n",
              "    <tr style=\"text-align: right;\">\n",
              "      <th></th>\n",
              "      <th>sex</th>\n",
              "      <th>length</th>\n",
              "      <th>diameter</th>\n",
              "      <th>height</th>\n",
              "      <th>whole_height</th>\n",
              "      <th>shucked_height</th>\n",
              "      <th>viscera_weight</th>\n",
              "      <th>shell_weight</th>\n",
              "      <th>rings</th>\n",
              "    </tr>\n",
              "  </thead>\n",
              "  <tbody>\n",
              "    <tr>\n",
              "      <th>0</th>\n",
              "      <td>M</td>\n",
              "      <td>0.455</td>\n",
              "      <td>0.365</td>\n",
              "      <td>0.095</td>\n",
              "      <td>0.5140</td>\n",
              "      <td>0.2245</td>\n",
              "      <td>0.1010</td>\n",
              "      <td>0.15</td>\n",
              "      <td>15</td>\n",
              "    </tr>\n",
              "    <tr>\n",
              "      <th>1</th>\n",
              "      <td>M</td>\n",
              "      <td>0.350</td>\n",
              "      <td>0.265</td>\n",
              "      <td>0.090</td>\n",
              "      <td>0.2255</td>\n",
              "      <td>0.0995</td>\n",
              "      <td>0.0485</td>\n",
              "      <td>0.07</td>\n",
              "      <td>7</td>\n",
              "    </tr>\n",
              "    <tr>\n",
              "      <th>2</th>\n",
              "      <td>F</td>\n",
              "      <td>0.530</td>\n",
              "      <td>0.420</td>\n",
              "      <td>0.135</td>\n",
              "      <td>0.6770</td>\n",
              "      <td>0.2565</td>\n",
              "      <td>0.1415</td>\n",
              "      <td>0.21</td>\n",
              "      <td>9</td>\n",
              "    </tr>\n",
              "  </tbody>\n",
              "</table>\n",
              "</div>\n",
              "      <button class=\"colab-df-convert\" onclick=\"convertToInteractive('df-a25e90fc-8e28-4282-a3a7-99559064a6db')\"\n",
              "              title=\"Convert this dataframe to an interactive table.\"\n",
              "              style=\"display:none;\">\n",
              "        \n",
              "  <svg xmlns=\"http://www.w3.org/2000/svg\" height=\"24px\"viewBox=\"0 0 24 24\"\n",
              "       width=\"24px\">\n",
              "    <path d=\"M0 0h24v24H0V0z\" fill=\"none\"/>\n",
              "    <path d=\"M18.56 5.44l.94 2.06.94-2.06 2.06-.94-2.06-.94-.94-2.06-.94 2.06-2.06.94zm-11 1L8.5 8.5l.94-2.06 2.06-.94-2.06-.94L8.5 2.5l-.94 2.06-2.06.94zm10 10l.94 2.06.94-2.06 2.06-.94-2.06-.94-.94-2.06-.94 2.06-2.06.94z\"/><path d=\"M17.41 7.96l-1.37-1.37c-.4-.4-.92-.59-1.43-.59-.52 0-1.04.2-1.43.59L10.3 9.45l-7.72 7.72c-.78.78-.78 2.05 0 2.83L4 21.41c.39.39.9.59 1.41.59.51 0 1.02-.2 1.41-.59l7.78-7.78 2.81-2.81c.8-.78.8-2.07 0-2.86zM5.41 20L4 18.59l7.72-7.72 1.47 1.35L5.41 20z\"/>\n",
              "  </svg>\n",
              "      </button>\n",
              "      \n",
              "  <style>\n",
              "    .colab-df-container {\n",
              "      display:flex;\n",
              "      flex-wrap:wrap;\n",
              "      gap: 12px;\n",
              "    }\n",
              "\n",
              "    .colab-df-convert {\n",
              "      background-color: #E8F0FE;\n",
              "      border: none;\n",
              "      border-radius: 50%;\n",
              "      cursor: pointer;\n",
              "      display: none;\n",
              "      fill: #1967D2;\n",
              "      height: 32px;\n",
              "      padding: 0 0 0 0;\n",
              "      width: 32px;\n",
              "    }\n",
              "\n",
              "    .colab-df-convert:hover {\n",
              "      background-color: #E2EBFA;\n",
              "      box-shadow: 0px 1px 2px rgba(60, 64, 67, 0.3), 0px 1px 3px 1px rgba(60, 64, 67, 0.15);\n",
              "      fill: #174EA6;\n",
              "    }\n",
              "\n",
              "    [theme=dark] .colab-df-convert {\n",
              "      background-color: #3B4455;\n",
              "      fill: #D2E3FC;\n",
              "    }\n",
              "\n",
              "    [theme=dark] .colab-df-convert:hover {\n",
              "      background-color: #434B5C;\n",
              "      box-shadow: 0px 1px 3px 1px rgba(0, 0, 0, 0.15);\n",
              "      filter: drop-shadow(0px 1px 2px rgba(0, 0, 0, 0.3));\n",
              "      fill: #FFFFFF;\n",
              "    }\n",
              "  </style>\n",
              "\n",
              "      <script>\n",
              "        const buttonEl =\n",
              "          document.querySelector('#df-a25e90fc-8e28-4282-a3a7-99559064a6db button.colab-df-convert');\n",
              "        buttonEl.style.display =\n",
              "          google.colab.kernel.accessAllowed ? 'block' : 'none';\n",
              "\n",
              "        async function convertToInteractive(key) {\n",
              "          const element = document.querySelector('#df-a25e90fc-8e28-4282-a3a7-99559064a6db');\n",
              "          const dataTable =\n",
              "            await google.colab.kernel.invokeFunction('convertToInteractive',\n",
              "                                                     [key], {});\n",
              "          if (!dataTable) return;\n",
              "\n",
              "          const docLinkHtml = 'Like what you see? Visit the ' +\n",
              "            '<a target=\"_blank\" href=https://colab.research.google.com/notebooks/data_table.ipynb>data table notebook</a>'\n",
              "            + ' to learn more about interactive tables.';\n",
              "          element.innerHTML = '';\n",
              "          dataTable['output_type'] = 'display_data';\n",
              "          await google.colab.output.renderOutput(dataTable, element);\n",
              "          const docLink = document.createElement('div');\n",
              "          docLink.innerHTML = docLinkHtml;\n",
              "          element.appendChild(docLink);\n",
              "        }\n",
              "      </script>\n",
              "    </div>\n",
              "  </div>\n",
              "  "
            ],
            "text/plain": [
              "  sex  length  diameter  ...  viscera_weight  shell_weight  rings\n",
              "0   M   0.455     0.365  ...          0.1010          0.15     15\n",
              "1   M   0.350     0.265  ...          0.0485          0.07      7\n",
              "2   F   0.530     0.420  ...          0.1415          0.21      9\n",
              "\n",
              "[3 rows x 9 columns]"
            ]
          },
          "metadata": {},
          "execution_count": 83
        }
      ],
      "source": [
        "abalone_dataset = open_csv_dataset('abalone', True)\n",
        "abalone_dataset.head(3)"
      ]
    },
    {
      "cell_type": "code",
      "execution_count": 84,
      "metadata": {
        "colab": {
          "base_uri": "https://localhost:8080/"
        },
        "id": "Z6Bzf0qvm-CR",
        "outputId": "6c75a848-9f76-4eb3-b28c-13ac0c6c9727"
      },
      "outputs": [
        {
          "output_type": "execute_result",
          "data": {
            "text/plain": [
              "False"
            ]
          },
          "metadata": {},
          "execution_count": 84
        }
      ],
      "source": [
        "abalone_dataset.isnull().sum().any()"
      ]
    },
    {
      "cell_type": "code",
      "execution_count": 85,
      "metadata": {
        "id": "f8lTxy95m-CR"
      },
      "outputs": [],
      "source": [
        "abalone_dataset = abalone_dataset.drop(['sex'], axis = 1)"
      ]
    },
    {
      "cell_type": "code",
      "execution_count": 86,
      "metadata": {
        "id": "FsPqDTG9m-CU"
      },
      "outputs": [],
      "source": [
        "abalone_dataset_v1  = abalone_dataset.copy()"
      ]
    },
    {
      "cell_type": "code",
      "execution_count": 87,
      "metadata": {
        "id": "pCIqYj5Ym-CW"
      },
      "outputs": [],
      "source": [
        "abalone_discretize_dataset = abalone_dataset_v1.copy()"
      ]
    },
    {
      "cell_type": "code",
      "execution_count": 88,
      "metadata": {
        "id": "IuSskFZDm-CX"
      },
      "outputs": [],
      "source": [
        "abalone_discretize_dataset = discretization(abalone_discretize_dataset, 5, 'equal_frequency',\n",
        "                                           ['length', 'diameter', 'height', 'whole_height',\n",
        "                                            'shucked_height', 'viscera_weight', 'shell_weight', 'rings'])"
      ]
    },
    {
      "cell_type": "code",
      "execution_count": 89,
      "metadata": {
        "id": "twZX2DvMm-CY"
      },
      "outputs": [],
      "source": [
        "abalone_dataset_v2 =  abalone_dataset_v1.copy()"
      ]
    },
    {
      "cell_type": "code",
      "execution_count": 90,
      "metadata": {
        "id": "_Yw3VBL6m-CY"
      },
      "outputs": [],
      "source": [
        "train_abalone_dataset, test_abalone_dataset = split_dataset(abalone_dataset_v2, 0.8)"
      ]
    },
    {
      "cell_type": "code",
      "execution_count": 91,
      "metadata": {
        "id": "zAOkv-_fm-CY"
      },
      "outputs": [],
      "source": [
        "train_abalone_zscore_dataset,test_abalone_zscore_dataset  = Standardization(train_abalone_dataset,\n",
        "                                                                             test_abalone_dataset)"
      ]
    },
    {
      "cell_type": "code",
      "execution_count": 92,
      "metadata": {
        "colab": {
          "base_uri": "https://localhost:8080/"
        },
        "id": "na7NPI_xm-CZ",
        "outputId": "cb7b9814-d3d0-4b1f-ef7e-41a45a14d456"
      },
      "outputs": [
        {
          "output_type": "execute_result",
          "data": {
            "text/plain": [
              "[669, 669, 669, 668, 667]"
            ]
          },
          "metadata": {},
          "execution_count": 92
        }
      ],
      "source": [
        "validated_train_abalone = cross_validation_regression(train_abalone_dataset, 5, 'rings')\n",
        "validated_train_abalone_size= []\n",
        "for i in range(0, 5):\n",
        "    validated_train_abalone_size.append(validated_train_abalone[i].shape[0])\n",
        "validated_train_abalone_size"
      ]
    },
    {
      "cell_type": "code",
      "execution_count": 93,
      "metadata": {
        "colab": {
          "base_uri": "https://localhost:8080/"
        },
        "id": "2IpaGgPnm-CZ",
        "outputId": "82c9ecb6-986a-4382-87fc-7606dd16697f"
      },
      "outputs": [
        {
          "output_type": "execute_result",
          "data": {
            "text/plain": [
              "[167, 166, 166, 166, 166]"
            ]
          },
          "metadata": {},
          "execution_count": 93
        }
      ],
      "source": [
        "tuning_computer = cross_validation_regression(test_abalone_dataset, 5, 'rings')\n",
        "tuning_computer_size = []\n",
        "for i in range(0, 5):\n",
        "    tuning_computer_size.append(tuning_computer[i].shape[0])\n",
        "tuning_computer_size"
      ]
    },
    {
      "cell_type": "code",
      "execution_count": 94,
      "metadata": {
        "id": "K6GawGDym-CZ"
      },
      "outputs": [],
      "source": [
        "# k_values = [i for i in range(1, 11)]\n",
        "# sigma_values =[0.01, 0.05, 0.1, 0.5, 1, 2]\n",
        "# epsilon_values = [0.01, 0.05, 0.1, 0.5, 1]\n",
        "\n",
        "# best_knn_k_abalone, best_knn_sigma_abalone = tuning_parameter_with_sigma(tuning_abalone, k_values, \n",
        "#                                                                            sigma_values, False, \n",
        "#                                                                            'rings', 'MSE', 'knn')\n",
        "# best_eknn_k_abalone, best_eknn_sigma_abalone, best_eknn_epsilon_abalone= tuning_parameter_with_epsilon(tuning_abalone, k_values, sigma_values,epsilon_values, 'rings', 'MSE', 'edited knn')\n",
        "# best_cknn_k_abalone, best_cknn_sigma_abalone, best_cknn_epsilon_abalone = tuning_parameter_with_epsilon(tuning_abalone, k_values, sigma_values,epsilon_values, 'rings', 'MSE', 'condensed knn')\n",
        "\n",
        "# print(\"Best KNN parameter:  Best K: \"+str(best_knn_k_abalone) + \" / Best Sigma: \"+str(best_knn_sigma_abalone))\n",
        "# print(\"Best Edited KNN parameter: Best K: \"+str(best_eknn_k_abalone) + \" / Best Sigma: \"+str(best_eknn_sigma_abalone)+\" / Best Epsilon: \"+str(best_eknn_epsilon_abalone))\n",
        "# print(\"Best Condensed KNN parameter: Best K: \"+str(best_cknn_k_abalone) + \" / Best Sigma: \"+str(best_cknn_sigma_abalone)+\" / Best Epsilon: \"+str(best_cknn_epsilon_abalone))\n",
        "\n",
        "# Best KNN parameter:  Best K: 5 / Best Sigma: 2\n",
        "# Best Edited KNN parameter: Best K: 10 / Best Sigma: 0.1 / Best Epsilon: 1\n",
        "# Best Condensed KNN parameter: Best K: 8 / Best Sigma: 2 / Best Epsilon: 0.05"
      ]
    },
    {
      "cell_type": "code",
      "execution_count": 95,
      "metadata": {
        "id": "0zj2iWrAm-Ca"
      },
      "outputs": [],
      "source": [
        "best_knn_k_abalone, best_knn_sigma_abalone = 5,2\n",
        "best_eknn_k_abalone, best_eknn_sigma_abalone, best_eknn_epsilon_abalone = 10, 0.1, 1\n",
        "best_cknn_k_abalone, best_cknn_sigma_abalone, best_cknn_epsilon_abalone = 8, 2, 0.05"
      ]
    },
    {
      "cell_type": "code",
      "execution_count": 96,
      "metadata": {
        "colab": {
          "base_uri": "https://localhost:8080/"
        },
        "id": "GLDyInoIm-Ca",
        "outputId": "d436e730-32bb-43dc-eb11-0bd8ed787d71"
      },
      "outputs": [
        {
          "output_type": "stream",
          "name": "stdout",
          "text": [
            "MSE for KNN: [8.782, 4.018, 4.064, 4.965, 32.5834]/ Avg Score: 10.8825\n"
          ]
        }
      ],
      "source": [
        "knn_score_abalone = knn_regression(validated_train_abalone, 'rings', best_knn_k_abalone, best_knn_sigma_abalone, False, \"MSE\", 'knn')[0]\n",
        "knn_avg_score_abalone = round(np.mean(knn_score_abalone),4)\n",
        "print(\"MSE for KNN: \" + str(knn_score_abalone) + \"/ Avg Score: \"+ str(knn_avg_score_abalone))"
      ]
    },
    {
      "cell_type": "code",
      "execution_count": 97,
      "metadata": {
        "colab": {
          "base_uri": "https://localhost:8080/"
        },
        "id": "e-0TIjIVm-Cb",
        "outputId": "4a8072e0-f341-4db8-9d8b-e466e45a4a92"
      },
      "outputs": [
        {
          "output_type": "stream",
          "name": "stdout",
          "text": [
            "Remaining Data % after Edited KNN: [22.48, 24.13, 23.68, 25.36, 30.65] / Avg Remaining Data %: 25.26\n",
            "MSE for Edited KNN: [7.986, 3.1162, 2.5623, 3.0412, 31.4098] / Avg Score: 9.6231\n"
          ]
        }
      ],
      "source": [
        "eknn_score_abalone, eknn_remaining_abalone = knn_regression(validated_train_abalone, 'rings', best_eknn_k_abalone, best_eknn_sigma_abalone, best_eknn_epsilon_abalone, \"MSE\", 'edited knn')[:2]\n",
        "eknn_avg_score_abalone= round(np.mean(eknn_score_abalone),4)\n",
        "print(\"Remaining Data % after Edited KNN: \"+ str(eknn_remaining_abalone)+ \" / Avg Remaining Data %: \"+ str(round(np.mean(eknn_remaining_abalone),2)))\n",
        "print(\"MSE for Edited KNN: \" + str(eknn_score_abalone) + \" / Avg Score: \"+ str(eknn_avg_score_abalone))"
      ]
    },
    {
      "cell_type": "code",
      "execution_count": 98,
      "metadata": {
        "colab": {
          "base_uri": "https://localhost:8080/"
        },
        "id": "GZk0-09Jm-Cc",
        "outputId": "fc79a9d4-f943-4969-cec6-669d23c87357"
      },
      "outputs": [
        {
          "output_type": "stream",
          "name": "stdout",
          "text": [
            "Remaining Data % after Condensed KNN: [88.63, 88.22, 89.11, 88.11, 85.91] / Avg Remaining Data %: 88.0\n",
            "MSE for Condensed KNN: [8.6711, 3.7723, 3.6914, 4.0204, 33.038] / Avg Score: 10.6386\n"
          ]
        }
      ],
      "source": [
        "cknn_score_abalone, cknn_remaining_abalone = knn_regression(validated_train_abalone, 'rings', best_cknn_k_abalone, best_cknn_sigma_abalone, best_cknn_epsilon_abalone, \"MSE\", 'condensed knn')[:2]\n",
        "cknn_avg_score_abalone = round(np.mean(cknn_score_abalone),4)\n",
        "print(\"Remaining Data % after Condensed KNN: \"+ str(cknn_remaining_abalone)+ \" / Avg Remaining Data %: \"+ str(round(np.mean(cknn_remaining_abalone),2)))\n",
        "print(\"MSE for Condensed KNN: \" + str(cknn_score_abalone) + \" / Avg Score: \"+ str(cknn_avg_score_abalone))"
      ]
    },
    {
      "cell_type": "markdown",
      "metadata": {
        "id": "CKfjh5CtKxNe"
      },
      "source": [
        "## Computer Hardware"
      ]
    },
    {
      "cell_type": "code",
      "execution_count": 99,
      "metadata": {
        "colab": {
          "base_uri": "https://localhost:8080/",
          "height": 206
        },
        "id": "_CkUKbceKxNg",
        "outputId": "b22cd528-8870-4318-fa8d-8c9d8819625b"
      },
      "outputs": [
        {
          "output_type": "execute_result",
          "data": {
            "text/html": [
              "\n",
              "  <div id=\"df-63d38cdc-68c2-461c-a7ca-83275697ed2d\">\n",
              "    <div class=\"colab-df-container\">\n",
              "      <div>\n",
              "<style scoped>\n",
              "    .dataframe tbody tr th:only-of-type {\n",
              "        vertical-align: middle;\n",
              "    }\n",
              "\n",
              "    .dataframe tbody tr th {\n",
              "        vertical-align: top;\n",
              "    }\n",
              "\n",
              "    .dataframe thead th {\n",
              "        text-align: right;\n",
              "    }\n",
              "</style>\n",
              "<table border=\"1\" class=\"dataframe\">\n",
              "  <thead>\n",
              "    <tr style=\"text-align: right;\">\n",
              "      <th></th>\n",
              "      <th>vendor</th>\n",
              "      <th>model</th>\n",
              "      <th>myct</th>\n",
              "      <th>mmin</th>\n",
              "      <th>mmax</th>\n",
              "      <th>cach</th>\n",
              "      <th>chmin</th>\n",
              "      <th>chmax</th>\n",
              "      <th>PRP</th>\n",
              "      <th>ERP</th>\n",
              "    </tr>\n",
              "  </thead>\n",
              "  <tbody>\n",
              "    <tr>\n",
              "      <th>0</th>\n",
              "      <td>adviser</td>\n",
              "      <td>32/60</td>\n",
              "      <td>125</td>\n",
              "      <td>256</td>\n",
              "      <td>6000</td>\n",
              "      <td>256</td>\n",
              "      <td>16</td>\n",
              "      <td>128</td>\n",
              "      <td>198</td>\n",
              "      <td>199</td>\n",
              "    </tr>\n",
              "    <tr>\n",
              "      <th>1</th>\n",
              "      <td>amdahl</td>\n",
              "      <td>470v/7</td>\n",
              "      <td>29</td>\n",
              "      <td>8000</td>\n",
              "      <td>32000</td>\n",
              "      <td>32</td>\n",
              "      <td>8</td>\n",
              "      <td>32</td>\n",
              "      <td>269</td>\n",
              "      <td>253</td>\n",
              "    </tr>\n",
              "    <tr>\n",
              "      <th>2</th>\n",
              "      <td>amdahl</td>\n",
              "      <td>470v/7a</td>\n",
              "      <td>29</td>\n",
              "      <td>8000</td>\n",
              "      <td>32000</td>\n",
              "      <td>32</td>\n",
              "      <td>8</td>\n",
              "      <td>32</td>\n",
              "      <td>220</td>\n",
              "      <td>253</td>\n",
              "    </tr>\n",
              "    <tr>\n",
              "      <th>3</th>\n",
              "      <td>amdahl</td>\n",
              "      <td>470v/7b</td>\n",
              "      <td>29</td>\n",
              "      <td>8000</td>\n",
              "      <td>32000</td>\n",
              "      <td>32</td>\n",
              "      <td>8</td>\n",
              "      <td>32</td>\n",
              "      <td>172</td>\n",
              "      <td>253</td>\n",
              "    </tr>\n",
              "    <tr>\n",
              "      <th>4</th>\n",
              "      <td>amdahl</td>\n",
              "      <td>470v/7c</td>\n",
              "      <td>29</td>\n",
              "      <td>8000</td>\n",
              "      <td>16000</td>\n",
              "      <td>32</td>\n",
              "      <td>8</td>\n",
              "      <td>16</td>\n",
              "      <td>132</td>\n",
              "      <td>132</td>\n",
              "    </tr>\n",
              "  </tbody>\n",
              "</table>\n",
              "</div>\n",
              "      <button class=\"colab-df-convert\" onclick=\"convertToInteractive('df-63d38cdc-68c2-461c-a7ca-83275697ed2d')\"\n",
              "              title=\"Convert this dataframe to an interactive table.\"\n",
              "              style=\"display:none;\">\n",
              "        \n",
              "  <svg xmlns=\"http://www.w3.org/2000/svg\" height=\"24px\"viewBox=\"0 0 24 24\"\n",
              "       width=\"24px\">\n",
              "    <path d=\"M0 0h24v24H0V0z\" fill=\"none\"/>\n",
              "    <path d=\"M18.56 5.44l.94 2.06.94-2.06 2.06-.94-2.06-.94-.94-2.06-.94 2.06-2.06.94zm-11 1L8.5 8.5l.94-2.06 2.06-.94-2.06-.94L8.5 2.5l-.94 2.06-2.06.94zm10 10l.94 2.06.94-2.06 2.06-.94-2.06-.94-.94-2.06-.94 2.06-2.06.94z\"/><path d=\"M17.41 7.96l-1.37-1.37c-.4-.4-.92-.59-1.43-.59-.52 0-1.04.2-1.43.59L10.3 9.45l-7.72 7.72c-.78.78-.78 2.05 0 2.83L4 21.41c.39.39.9.59 1.41.59.51 0 1.02-.2 1.41-.59l7.78-7.78 2.81-2.81c.8-.78.8-2.07 0-2.86zM5.41 20L4 18.59l7.72-7.72 1.47 1.35L5.41 20z\"/>\n",
              "  </svg>\n",
              "      </button>\n",
              "      \n",
              "  <style>\n",
              "    .colab-df-container {\n",
              "      display:flex;\n",
              "      flex-wrap:wrap;\n",
              "      gap: 12px;\n",
              "    }\n",
              "\n",
              "    .colab-df-convert {\n",
              "      background-color: #E8F0FE;\n",
              "      border: none;\n",
              "      border-radius: 50%;\n",
              "      cursor: pointer;\n",
              "      display: none;\n",
              "      fill: #1967D2;\n",
              "      height: 32px;\n",
              "      padding: 0 0 0 0;\n",
              "      width: 32px;\n",
              "    }\n",
              "\n",
              "    .colab-df-convert:hover {\n",
              "      background-color: #E2EBFA;\n",
              "      box-shadow: 0px 1px 2px rgba(60, 64, 67, 0.3), 0px 1px 3px 1px rgba(60, 64, 67, 0.15);\n",
              "      fill: #174EA6;\n",
              "    }\n",
              "\n",
              "    [theme=dark] .colab-df-convert {\n",
              "      background-color: #3B4455;\n",
              "      fill: #D2E3FC;\n",
              "    }\n",
              "\n",
              "    [theme=dark] .colab-df-convert:hover {\n",
              "      background-color: #434B5C;\n",
              "      box-shadow: 0px 1px 3px 1px rgba(0, 0, 0, 0.15);\n",
              "      filter: drop-shadow(0px 1px 2px rgba(0, 0, 0, 0.3));\n",
              "      fill: #FFFFFF;\n",
              "    }\n",
              "  </style>\n",
              "\n",
              "      <script>\n",
              "        const buttonEl =\n",
              "          document.querySelector('#df-63d38cdc-68c2-461c-a7ca-83275697ed2d button.colab-df-convert');\n",
              "        buttonEl.style.display =\n",
              "          google.colab.kernel.accessAllowed ? 'block' : 'none';\n",
              "\n",
              "        async function convertToInteractive(key) {\n",
              "          const element = document.querySelector('#df-63d38cdc-68c2-461c-a7ca-83275697ed2d');\n",
              "          const dataTable =\n",
              "            await google.colab.kernel.invokeFunction('convertToInteractive',\n",
              "                                                     [key], {});\n",
              "          if (!dataTable) return;\n",
              "\n",
              "          const docLinkHtml = 'Like what you see? Visit the ' +\n",
              "            '<a target=\"_blank\" href=https://colab.research.google.com/notebooks/data_table.ipynb>data table notebook</a>'\n",
              "            + ' to learn more about interactive tables.';\n",
              "          element.innerHTML = '';\n",
              "          dataTable['output_type'] = 'display_data';\n",
              "          await google.colab.output.renderOutput(dataTable, element);\n",
              "          const docLink = document.createElement('div');\n",
              "          docLink.innerHTML = docLinkHtml;\n",
              "          element.appendChild(docLink);\n",
              "        }\n",
              "      </script>\n",
              "    </div>\n",
              "  </div>\n",
              "  "
            ],
            "text/plain": [
              "    vendor    model  myct  mmin   mmax  cach  chmin  chmax  PRP  ERP\n",
              "0  adviser    32/60   125   256   6000   256     16    128  198  199\n",
              "1   amdahl   470v/7    29  8000  32000    32      8     32  269  253\n",
              "2   amdahl  470v/7a    29  8000  32000    32      8     32  220  253\n",
              "3   amdahl  470v/7b    29  8000  32000    32      8     32  172  253\n",
              "4   amdahl  470v/7c    29  8000  16000    32      8     16  132  132"
            ]
          },
          "metadata": {},
          "execution_count": 99
        }
      ],
      "source": [
        "computer_dataset = open_csv_dataset('machine', True)\n",
        "computer_dataset.head()"
      ]
    },
    {
      "cell_type": "code",
      "execution_count": 100,
      "metadata": {
        "colab": {
          "base_uri": "https://localhost:8080/"
        },
        "id": "tGtF9tmMKxNg",
        "outputId": "7e93cdf1-6984-4af5-992f-0ee04f1178a4"
      },
      "outputs": [
        {
          "output_type": "execute_result",
          "data": {
            "text/plain": [
              "False"
            ]
          },
          "metadata": {},
          "execution_count": 100
        }
      ],
      "source": [
        "computer_dataset.isnull().sum().any()"
      ]
    },
    {
      "cell_type": "code",
      "execution_count": 101,
      "metadata": {
        "id": "oSzmn0TLKxNi"
      },
      "outputs": [],
      "source": [
        "computer_ERP  = computer_dataset['ERP']\n",
        "computer_dataset = computer_dataset.drop(['vendor', 'model', 'ERP'], axis = 1)"
      ]
    },
    {
      "cell_type": "code",
      "execution_count": 102,
      "metadata": {
        "colab": {
          "base_uri": "https://localhost:8080/",
          "height": 206
        },
        "id": "GzaGrUarKxNi",
        "outputId": "5dc0c7ca-4975-49a3-8099-a8d8e3ca7bc2"
      },
      "outputs": [
        {
          "output_type": "execute_result",
          "data": {
            "text/html": [
              "\n",
              "  <div id=\"df-3af84cee-766e-42dd-80a1-98f45c56b1d7\">\n",
              "    <div class=\"colab-df-container\">\n",
              "      <div>\n",
              "<style scoped>\n",
              "    .dataframe tbody tr th:only-of-type {\n",
              "        vertical-align: middle;\n",
              "    }\n",
              "\n",
              "    .dataframe tbody tr th {\n",
              "        vertical-align: top;\n",
              "    }\n",
              "\n",
              "    .dataframe thead th {\n",
              "        text-align: right;\n",
              "    }\n",
              "</style>\n",
              "<table border=\"1\" class=\"dataframe\">\n",
              "  <thead>\n",
              "    <tr style=\"text-align: right;\">\n",
              "      <th></th>\n",
              "      <th>myct</th>\n",
              "      <th>mmin</th>\n",
              "      <th>mmax</th>\n",
              "      <th>cach</th>\n",
              "      <th>chmin</th>\n",
              "      <th>chmax</th>\n",
              "      <th>PRP</th>\n",
              "    </tr>\n",
              "  </thead>\n",
              "  <tbody>\n",
              "    <tr>\n",
              "      <th>0</th>\n",
              "      <td>125</td>\n",
              "      <td>256</td>\n",
              "      <td>6000</td>\n",
              "      <td>256</td>\n",
              "      <td>16</td>\n",
              "      <td>128</td>\n",
              "      <td>198</td>\n",
              "    </tr>\n",
              "    <tr>\n",
              "      <th>1</th>\n",
              "      <td>29</td>\n",
              "      <td>8000</td>\n",
              "      <td>32000</td>\n",
              "      <td>32</td>\n",
              "      <td>8</td>\n",
              "      <td>32</td>\n",
              "      <td>269</td>\n",
              "    </tr>\n",
              "    <tr>\n",
              "      <th>2</th>\n",
              "      <td>29</td>\n",
              "      <td>8000</td>\n",
              "      <td>32000</td>\n",
              "      <td>32</td>\n",
              "      <td>8</td>\n",
              "      <td>32</td>\n",
              "      <td>220</td>\n",
              "    </tr>\n",
              "    <tr>\n",
              "      <th>3</th>\n",
              "      <td>29</td>\n",
              "      <td>8000</td>\n",
              "      <td>32000</td>\n",
              "      <td>32</td>\n",
              "      <td>8</td>\n",
              "      <td>32</td>\n",
              "      <td>172</td>\n",
              "    </tr>\n",
              "    <tr>\n",
              "      <th>4</th>\n",
              "      <td>29</td>\n",
              "      <td>8000</td>\n",
              "      <td>16000</td>\n",
              "      <td>32</td>\n",
              "      <td>8</td>\n",
              "      <td>16</td>\n",
              "      <td>132</td>\n",
              "    </tr>\n",
              "  </tbody>\n",
              "</table>\n",
              "</div>\n",
              "      <button class=\"colab-df-convert\" onclick=\"convertToInteractive('df-3af84cee-766e-42dd-80a1-98f45c56b1d7')\"\n",
              "              title=\"Convert this dataframe to an interactive table.\"\n",
              "              style=\"display:none;\">\n",
              "        \n",
              "  <svg xmlns=\"http://www.w3.org/2000/svg\" height=\"24px\"viewBox=\"0 0 24 24\"\n",
              "       width=\"24px\">\n",
              "    <path d=\"M0 0h24v24H0V0z\" fill=\"none\"/>\n",
              "    <path d=\"M18.56 5.44l.94 2.06.94-2.06 2.06-.94-2.06-.94-.94-2.06-.94 2.06-2.06.94zm-11 1L8.5 8.5l.94-2.06 2.06-.94-2.06-.94L8.5 2.5l-.94 2.06-2.06.94zm10 10l.94 2.06.94-2.06 2.06-.94-2.06-.94-.94-2.06-.94 2.06-2.06.94z\"/><path d=\"M17.41 7.96l-1.37-1.37c-.4-.4-.92-.59-1.43-.59-.52 0-1.04.2-1.43.59L10.3 9.45l-7.72 7.72c-.78.78-.78 2.05 0 2.83L4 21.41c.39.39.9.59 1.41.59.51 0 1.02-.2 1.41-.59l7.78-7.78 2.81-2.81c.8-.78.8-2.07 0-2.86zM5.41 20L4 18.59l7.72-7.72 1.47 1.35L5.41 20z\"/>\n",
              "  </svg>\n",
              "      </button>\n",
              "      \n",
              "  <style>\n",
              "    .colab-df-container {\n",
              "      display:flex;\n",
              "      flex-wrap:wrap;\n",
              "      gap: 12px;\n",
              "    }\n",
              "\n",
              "    .colab-df-convert {\n",
              "      background-color: #E8F0FE;\n",
              "      border: none;\n",
              "      border-radius: 50%;\n",
              "      cursor: pointer;\n",
              "      display: none;\n",
              "      fill: #1967D2;\n",
              "      height: 32px;\n",
              "      padding: 0 0 0 0;\n",
              "      width: 32px;\n",
              "    }\n",
              "\n",
              "    .colab-df-convert:hover {\n",
              "      background-color: #E2EBFA;\n",
              "      box-shadow: 0px 1px 2px rgba(60, 64, 67, 0.3), 0px 1px 3px 1px rgba(60, 64, 67, 0.15);\n",
              "      fill: #174EA6;\n",
              "    }\n",
              "\n",
              "    [theme=dark] .colab-df-convert {\n",
              "      background-color: #3B4455;\n",
              "      fill: #D2E3FC;\n",
              "    }\n",
              "\n",
              "    [theme=dark] .colab-df-convert:hover {\n",
              "      background-color: #434B5C;\n",
              "      box-shadow: 0px 1px 3px 1px rgba(0, 0, 0, 0.15);\n",
              "      filter: drop-shadow(0px 1px 2px rgba(0, 0, 0, 0.3));\n",
              "      fill: #FFFFFF;\n",
              "    }\n",
              "  </style>\n",
              "\n",
              "      <script>\n",
              "        const buttonEl =\n",
              "          document.querySelector('#df-3af84cee-766e-42dd-80a1-98f45c56b1d7 button.colab-df-convert');\n",
              "        buttonEl.style.display =\n",
              "          google.colab.kernel.accessAllowed ? 'block' : 'none';\n",
              "\n",
              "        async function convertToInteractive(key) {\n",
              "          const element = document.querySelector('#df-3af84cee-766e-42dd-80a1-98f45c56b1d7');\n",
              "          const dataTable =\n",
              "            await google.colab.kernel.invokeFunction('convertToInteractive',\n",
              "                                                     [key], {});\n",
              "          if (!dataTable) return;\n",
              "\n",
              "          const docLinkHtml = 'Like what you see? Visit the ' +\n",
              "            '<a target=\"_blank\" href=https://colab.research.google.com/notebooks/data_table.ipynb>data table notebook</a>'\n",
              "            + ' to learn more about interactive tables.';\n",
              "          element.innerHTML = '';\n",
              "          dataTable['output_type'] = 'display_data';\n",
              "          await google.colab.output.renderOutput(dataTable, element);\n",
              "          const docLink = document.createElement('div');\n",
              "          docLink.innerHTML = docLinkHtml;\n",
              "          element.appendChild(docLink);\n",
              "        }\n",
              "      </script>\n",
              "    </div>\n",
              "  </div>\n",
              "  "
            ],
            "text/plain": [
              "   myct  mmin   mmax  cach  chmin  chmax  PRP\n",
              "0   125   256   6000   256     16    128  198\n",
              "1    29  8000  32000    32      8     32  269\n",
              "2    29  8000  32000    32      8     32  220\n",
              "3    29  8000  32000    32      8     32  172\n",
              "4    29  8000  16000    32      8     16  132"
            ]
          },
          "metadata": {},
          "execution_count": 102
        }
      ],
      "source": [
        "computer_dataset_v1  = computer_dataset.copy()\n",
        "computer_dataset_v1.head()"
      ]
    },
    {
      "cell_type": "code",
      "execution_count": 103,
      "metadata": {
        "id": "9Okqf1mtKxNj"
      },
      "outputs": [],
      "source": [
        "computer_dataset_v1['PRP'] =computer_dataset_v1['PRP'].apply(computer_categorical_distribution)"
      ]
    },
    {
      "cell_type": "code",
      "execution_count": 104,
      "metadata": {
        "id": "b0QuLGUYKxNj"
      },
      "outputs": [],
      "source": [
        "computer_discretize_dataset = computer_dataset_v1.copy()"
      ]
    },
    {
      "cell_type": "code",
      "execution_count": 105,
      "metadata": {
        "id": "789Ve9w3KxNj"
      },
      "outputs": [],
      "source": [
        "computer_discretize_dataset = discretization(computer_discretize_dataset, \n",
        "                                             5, \n",
        "                                             'equal_frequency', \n",
        "                                             ['myct','mmin', 'mmax', 'cach', 'chmin', 'chmax'])"
      ]
    },
    {
      "cell_type": "code",
      "execution_count": 106,
      "metadata": {
        "id": "AluZcQQnKxNk"
      },
      "outputs": [],
      "source": [
        "computer_dataset_v2 = computer_discretize_dataset.copy()"
      ]
    },
    {
      "cell_type": "code",
      "execution_count": 107,
      "metadata": {
        "id": "w-4v9BTdKxNq"
      },
      "outputs": [],
      "source": [
        "train_computer_dataset, test_computer_dataset = split_dataset(computer_dataset_v2, 0.8)"
      ]
    },
    {
      "cell_type": "code",
      "execution_count": 108,
      "metadata": {
        "id": "e3pWMIs1KxNr"
      },
      "outputs": [],
      "source": [
        "train_computer_zscore_dataset, test_computer_zscore_dataset  = Standardization(train_computer_dataset,\n",
        "                                                                               test_computer_dataset)"
      ]
    },
    {
      "cell_type": "code",
      "execution_count": 109,
      "metadata": {
        "colab": {
          "base_uri": "https://localhost:8080/"
        },
        "id": "zDJD0bWFKxNr",
        "outputId": "c794ada2-5e7b-4b00-a54b-5e9e6f542b1c"
      },
      "outputs": [
        {
          "output_type": "execute_result",
          "data": {
            "text/plain": [
              "[34, 34, 34, 33, 32]"
            ]
          },
          "metadata": {},
          "execution_count": 109
        }
      ],
      "source": [
        "validated_train_computer = cross_validation_regression(train_computer_dataset, 5, 'PRP')\n",
        "validated_train_computer_size = []\n",
        "for i in range(0, 5):\n",
        "    validated_train_computer_size.append(validated_train_computer[i].shape[0])\n",
        "validated_train_computer_size"
      ]
    },
    {
      "cell_type": "code",
      "execution_count": 110,
      "metadata": {
        "colab": {
          "base_uri": "https://localhost:8080/"
        },
        "id": "6I9FuE7cKxNs",
        "outputId": "15199ed9-f18a-4267-eae5-704e6218bde0"
      },
      "outputs": [
        {
          "output_type": "execute_result",
          "data": {
            "text/plain": [
              "[9, 9, 9, 8, 6]"
            ]
          },
          "metadata": {},
          "execution_count": 110
        }
      ],
      "source": [
        "tuning_computer = cross_validation_regression(test_computer_dataset , 5, 'PRP')\n",
        "tuning_computer_size = []\n",
        "for i in range(0, 5):\n",
        "    tuning_computer_size.append(tuning_computer[i].shape[0])\n",
        "tuning_computer_size"
      ]
    },
    {
      "cell_type": "code",
      "execution_count": 111,
      "metadata": {
        "colab": {
          "base_uri": "https://localhost:8080/"
        },
        "id": "NK4QJI7aKxNt",
        "outputId": "4c2a18f3-66de-4a32-901a-498c31901acb"
      },
      "outputs": [
        {
          "output_type": "stream",
          "name": "stdout",
          "text": [
            "Best KNN parameter:  Best K: 9 / Best Sigma: 2\n",
            "Best Edited KNN parameter: Best K: 10 / Best Sigma: 1 / Best Epsilon: 0.01\n",
            "Best Condensed KNN parameter: Best K: 2 / Best Sigma: 0.5 / Best Epsilon: 1\n"
          ]
        }
      ],
      "source": [
        "k_values = [i for i in range(1, 11)]\n",
        "sigma_values =[0.01, 0.05, 0.1, 0.5, 1, 2]\n",
        "epsilon_values = [0.01, 0.05, 0.1, 0.5, 1]\n",
        "\n",
        "best_knn_k_computer, best_knn_sigma_computer = tuning_parameter_with_sigma(tuning_computer, k_values, \n",
        "                                                                           sigma_values, False, \n",
        "                                                                           'PRP', 'MSE', 'knn')\n",
        "best_eknn_k_computer, best_eknn_sigma_computer, best_eknn_epsilon_computer= tuning_parameter_with_epsilon(tuning_computer, k_values, sigma_values,epsilon_values, 'PRP', 'MSE', 'edited knn')\n",
        "best_cknn_k_computer, best_cknn_sigma_computer, best_cknn_epsilon_computer = tuning_parameter_with_epsilon(tuning_computer, k_values, sigma_values,epsilon_values, 'PRP', 'MSE', 'condensed knn')\n",
        "\n",
        "print(\"Best KNN parameter:  Best K: \"+str(best_knn_k_computer) + \" / Best Sigma: \"+str(best_knn_sigma_computer))\n",
        "print(\"Best Edited KNN parameter: Best K: \"+str(best_eknn_k_computer) + \" / Best Sigma: \"+str(best_eknn_sigma_computer)+\" / Best Epsilon: \"+str(best_eknn_epsilon_computer))\n",
        "print(\"Best Condensed KNN parameter: Best K: \"+str(best_cknn_k_computer) + \" / Best Sigma: \"+str(best_cknn_sigma_computer)+\" / Best Epsilon: \"+str(best_cknn_epsilon_computer))"
      ]
    },
    {
      "cell_type": "code",
      "execution_count": 113,
      "metadata": {
        "id": "3A4f5-LOhYgn"
      },
      "outputs": [],
      "source": [
        "knn_regress_computer = knn_demonstration_regression(validated_train_computer, 'PRP', best_knn_k_computer, best_knn_sigma_computer)"
      ]
    },
    {
      "cell_type": "code",
      "source": [
        "knn_regress_computer.head().style.set_properties(subset=['Assigned Class'], **{'width-min': '300px'})"
      ],
      "metadata": {
        "colab": {
          "base_uri": "https://localhost:8080/",
          "height": 206
        },
        "id": "6Awh61BdhkNN",
        "outputId": "61822cc5-61cb-44b2-d281-abe15d39c6b7"
      },
      "execution_count": 137,
      "outputs": [
        {
          "output_type": "execute_result",
          "data": {
            "text/html": [
              "<style type=\"text/css\">\n",
              "#T_b25c8_row0_col1, #T_b25c8_row1_col1, #T_b25c8_row2_col1, #T_b25c8_row3_col1, #T_b25c8_row4_col1 {\n",
              "  width-min: 300px;\n",
              "}\n",
              "</style>\n",
              "<table id=\"T_b25c8_\" class=\"dataframe\">\n",
              "  <thead>\n",
              "    <tr>\n",
              "      <th class=\"blank level0\" >&nbsp;</th>\n",
              "      <th class=\"col_heading level0 col0\" >closest Neighbor </th>\n",
              "      <th class=\"col_heading level0 col1\" >Assigned Class</th>\n",
              "      <th class=\"col_heading level0 col2\" >Predicted Class</th>\n",
              "    </tr>\n",
              "  </thead>\n",
              "  <tbody>\n",
              "    <tr>\n",
              "      <th id=\"T_b25c8_level0_row0\" class=\"row_heading level0 row0\" >0</th>\n",
              "      <td id=\"T_b25c8_row0_col0\" class=\"data row0 col0\" >[ 95 132 131  97 126  73 133  58 128]</td>\n",
              "      <td id=\"T_b25c8_row0_col1\" class=\"data row0 col1\" >[1 2 2 1 2 1 2 1 2]</td>\n",
              "      <td id=\"T_b25c8_row0_col2\" class=\"data row0 col2\" >1.555039</td>\n",
              "    </tr>\n",
              "    <tr>\n",
              "      <th id=\"T_b25c8_level0_row1\" class=\"row_heading level0 row1\" >1</th>\n",
              "      <td id=\"T_b25c8_row1_col0\" class=\"data row1 col0\" >[103  56 102  50 106  45 107  17 110]</td>\n",
              "      <td id=\"T_b25c8_row1_col1\" class=\"data row1 col1\" >[1 1 1 1 1 1 1 0 1]</td>\n",
              "      <td id=\"T_b25c8_row1_col2\" class=\"data row1 col2\" >0.944146</td>\n",
              "    </tr>\n",
              "    <tr>\n",
              "      <th id=\"T_b25c8_level0_row2\" class=\"row_heading level0 row2\" >2</th>\n",
              "      <td id=\"T_b25c8_row2_col0\" class=\"data row2 col0\" >[ 44  87  59  69 126  64  66  63  72]</td>\n",
              "      <td id=\"T_b25c8_row2_col1\" class=\"data row2 col1\" >[1 1 1 1 2 1 1 1 1]</td>\n",
              "      <td id=\"T_b25c8_row2_col2\" class=\"data row2 col2\" >1.083553</td>\n",
              "    </tr>\n",
              "    <tr>\n",
              "      <th id=\"T_b25c8_level0_row3\" class=\"row_heading level0 row3\" >3</th>\n",
              "      <td id=\"T_b25c8_row3_col0\" class=\"data row3 col0\" >[ 44  87 126  63  64  69  59  66  72]</td>\n",
              "      <td id=\"T_b25c8_row3_col1\" class=\"data row3 col1\" >[1 1 2 1 1 1 1 1 1]</td>\n",
              "      <td id=\"T_b25c8_row3_col2\" class=\"data row3 col2\" >1.110124</td>\n",
              "    </tr>\n",
              "    <tr>\n",
              "      <th id=\"T_b25c8_level0_row4\" class=\"row_heading level0 row4\" >4</th>\n",
              "      <td id=\"T_b25c8_row4_col0\" class=\"data row4 col0\" >[125  61 108  87  98 128 133  73  72]</td>\n",
              "      <td id=\"T_b25c8_row4_col1\" class=\"data row4 col1\" >[2 1 1 1 1 2 2 1 1]</td>\n",
              "      <td id=\"T_b25c8_row4_col2\" class=\"data row4 col2\" >1.403769</td>\n",
              "    </tr>\n",
              "  </tbody>\n",
              "</table>\n"
            ],
            "text/plain": [
              "<pandas.io.formats.style.Styler at 0x7f300c1cba50>"
            ]
          },
          "metadata": {},
          "execution_count": 137
        }
      ]
    },
    {
      "cell_type": "code",
      "execution_count": 116,
      "metadata": {
        "colab": {
          "base_uri": "https://localhost:8080/"
        },
        "id": "f3oZ5xvzKxNt",
        "outputId": "45a3b965-94c5-40e5-ee2f-662e7080b2ea"
      },
      "outputs": [
        {
          "output_type": "stream",
          "name": "stdout",
          "text": [
            "MSE for KNN: [0.7975, 0.155, 0.3081, 0.2738, 5.8726]/ Avg Score: 1.4814\n"
          ]
        }
      ],
      "source": [
        "knn_score_computer = knn_regression(validated_train_computer, 'PRP', best_knn_k_computer, best_knn_sigma_computer, False, \"MSE\", 'knn')[0]\n",
        "knn_avg_score_computer = round(np.mean(knn_score_computer),4)\n",
        "print(\"MSE for KNN: \" + str(knn_score_computer) + \"/ Avg Score: \"+ str(knn_avg_score_computer))"
      ]
    },
    {
      "cell_type": "code",
      "execution_count": 117,
      "metadata": {
        "colab": {
          "base_uri": "https://localhost:8080/"
        },
        "id": "G42QStH8KxNu",
        "outputId": "d699127c-1cd2-449e-b539-0da1cdf39350"
      },
      "outputs": [
        {
          "output_type": "stream",
          "name": "stdout",
          "text": [
            "Remaining Data % after Edited KNN: [72.18, 61.65, 66.92, 65.67, 79.26] / Avg Remaining Data %: 69.14\n",
            "MSE for Edited KNN: [0.8283, 0.1461, 0.4649, 0.2527, 6.5024] / Avg Score: 1.6389\n"
          ]
        }
      ],
      "source": [
        "eknn_score_computer, eknn_remaining_computer = knn_regression(validated_train_computer, 'PRP', best_eknn_k_computer, best_eknn_sigma_computer, best_eknn_epsilon_computer, \"MSE\", 'edited knn')[:2]\n",
        "eknn_avg_score_computer= round(np.mean(eknn_score_computer),4)\n",
        "print(\"Remaining Data % after Edited KNN: \"+ str(eknn_remaining_computer) + \" / Avg Remaining Data %: \"+ str(round(np.mean(eknn_remaining_computer),2)))\n",
        "print(\"MSE for Edited KNN: \" + str(eknn_score_computer) + \" / Avg Score: \"+ str(eknn_avg_score_computer))"
      ]
    },
    {
      "cell_type": "code",
      "execution_count": 118,
      "metadata": {
        "colab": {
          "base_uri": "https://localhost:8080/"
        },
        "id": "S59AtN9vKxNv",
        "outputId": "ff19c3ba-e19b-40f7-be10-1090d8fe62f4"
      },
      "outputs": [
        {
          "output_type": "stream",
          "name": "stdout",
          "text": [
            "Remaining Data % after Condensed KNN: [41.35, 67.67, 61.65, 55.22, 41.48] / Avg Remaining Data %: 53.47\n",
            "MSE for Condensed KNN: [0.8309, 0.2255, 0.3554, 0.5234, 6.2406] / Avg Score: 1.6352\n"
          ]
        }
      ],
      "source": [
        "cknn_score_computer, cknn_remaining_computer = knn_regression(validated_train_computer, 'PRP', best_cknn_k_computer, best_cknn_sigma_computer, best_cknn_epsilon_computer, \"MSE\", 'condensed knn')[:2]\n",
        "cknn_avg_score_computer = round(np.mean(cknn_score_computer),4)\n",
        "print(\"Remaining Data % after Condensed KNN: \"+ str(cknn_remaining_computer)+ \" / Avg Remaining Data %: \"+ str(round(np.mean(cknn_remaining_computer),2)))\n",
        "print(\"MSE for Condensed KNN: \" + str(cknn_score_computer) + \" / Avg Score: \"+ str(cknn_avg_score_computer))"
      ]
    },
    {
      "cell_type": "markdown",
      "metadata": {
        "id": "WwEHmU_0KxNv"
      },
      "source": [
        "## Forest Fires"
      ]
    },
    {
      "cell_type": "code",
      "execution_count": 119,
      "metadata": {
        "id": "aZKRf3RXm-Cs"
      },
      "outputs": [],
      "source": [
        "forest_dataset = open_csv_dataset('forest', False)"
      ]
    },
    {
      "cell_type": "code",
      "execution_count": 120,
      "metadata": {
        "colab": {
          "base_uri": "https://localhost:8080/"
        },
        "id": "nmJFztx-m-Cs",
        "outputId": "31a1de09-952c-4255-e804-1d223e4c8066"
      },
      "outputs": [
        {
          "output_type": "execute_result",
          "data": {
            "text/plain": [
              "False"
            ]
          },
          "metadata": {},
          "execution_count": 120
        }
      ],
      "source": [
        "forest_dataset.isnull().sum().any()"
      ]
    },
    {
      "cell_type": "code",
      "execution_count": 121,
      "metadata": {
        "colab": {
          "base_uri": "https://localhost:8080/",
          "height": 206
        },
        "id": "AxycXiacm-Cv",
        "outputId": "af47f91d-c903-415d-e2bb-c692b545e8d5"
      },
      "outputs": [
        {
          "output_type": "execute_result",
          "data": {
            "text/html": [
              "\n",
              "  <div id=\"df-7c1f682b-430c-45c7-8bdb-9c511f1eb61f\">\n",
              "    <div class=\"colab-df-container\">\n",
              "      <div>\n",
              "<style scoped>\n",
              "    .dataframe tbody tr th:only-of-type {\n",
              "        vertical-align: middle;\n",
              "    }\n",
              "\n",
              "    .dataframe tbody tr th {\n",
              "        vertical-align: top;\n",
              "    }\n",
              "\n",
              "    .dataframe thead th {\n",
              "        text-align: right;\n",
              "    }\n",
              "</style>\n",
              "<table border=\"1\" class=\"dataframe\">\n",
              "  <thead>\n",
              "    <tr style=\"text-align: right;\">\n",
              "      <th></th>\n",
              "      <th>X</th>\n",
              "      <th>Y</th>\n",
              "      <th>month</th>\n",
              "      <th>day</th>\n",
              "      <th>FFMC</th>\n",
              "      <th>DMC</th>\n",
              "      <th>DC</th>\n",
              "      <th>ISI</th>\n",
              "      <th>temp</th>\n",
              "      <th>RH</th>\n",
              "      <th>wind</th>\n",
              "      <th>rain</th>\n",
              "      <th>area</th>\n",
              "    </tr>\n",
              "  </thead>\n",
              "  <tbody>\n",
              "    <tr>\n",
              "      <th>0</th>\n",
              "      <td>7</td>\n",
              "      <td>5</td>\n",
              "      <td>0</td>\n",
              "      <td>0</td>\n",
              "      <td>86.2</td>\n",
              "      <td>26.2</td>\n",
              "      <td>94.3</td>\n",
              "      <td>5.1</td>\n",
              "      <td>8.2</td>\n",
              "      <td>51</td>\n",
              "      <td>6.7</td>\n",
              "      <td>0.0</td>\n",
              "      <td>0.0</td>\n",
              "    </tr>\n",
              "    <tr>\n",
              "      <th>1</th>\n",
              "      <td>7</td>\n",
              "      <td>4</td>\n",
              "      <td>1</td>\n",
              "      <td>1</td>\n",
              "      <td>90.6</td>\n",
              "      <td>35.4</td>\n",
              "      <td>669.1</td>\n",
              "      <td>6.7</td>\n",
              "      <td>18.0</td>\n",
              "      <td>33</td>\n",
              "      <td>0.9</td>\n",
              "      <td>0.0</td>\n",
              "      <td>0.0</td>\n",
              "    </tr>\n",
              "    <tr>\n",
              "      <th>2</th>\n",
              "      <td>7</td>\n",
              "      <td>4</td>\n",
              "      <td>1</td>\n",
              "      <td>2</td>\n",
              "      <td>90.6</td>\n",
              "      <td>43.7</td>\n",
              "      <td>686.9</td>\n",
              "      <td>6.7</td>\n",
              "      <td>14.6</td>\n",
              "      <td>33</td>\n",
              "      <td>1.3</td>\n",
              "      <td>0.0</td>\n",
              "      <td>0.0</td>\n",
              "    </tr>\n",
              "    <tr>\n",
              "      <th>3</th>\n",
              "      <td>8</td>\n",
              "      <td>6</td>\n",
              "      <td>0</td>\n",
              "      <td>0</td>\n",
              "      <td>91.7</td>\n",
              "      <td>33.3</td>\n",
              "      <td>77.5</td>\n",
              "      <td>9.0</td>\n",
              "      <td>8.3</td>\n",
              "      <td>97</td>\n",
              "      <td>4.0</td>\n",
              "      <td>0.2</td>\n",
              "      <td>0.0</td>\n",
              "    </tr>\n",
              "    <tr>\n",
              "      <th>4</th>\n",
              "      <td>8</td>\n",
              "      <td>6</td>\n",
              "      <td>0</td>\n",
              "      <td>3</td>\n",
              "      <td>89.3</td>\n",
              "      <td>51.3</td>\n",
              "      <td>102.2</td>\n",
              "      <td>9.6</td>\n",
              "      <td>11.4</td>\n",
              "      <td>99</td>\n",
              "      <td>1.8</td>\n",
              "      <td>0.0</td>\n",
              "      <td>0.0</td>\n",
              "    </tr>\n",
              "  </tbody>\n",
              "</table>\n",
              "</div>\n",
              "      <button class=\"colab-df-convert\" onclick=\"convertToInteractive('df-7c1f682b-430c-45c7-8bdb-9c511f1eb61f')\"\n",
              "              title=\"Convert this dataframe to an interactive table.\"\n",
              "              style=\"display:none;\">\n",
              "        \n",
              "  <svg xmlns=\"http://www.w3.org/2000/svg\" height=\"24px\"viewBox=\"0 0 24 24\"\n",
              "       width=\"24px\">\n",
              "    <path d=\"M0 0h24v24H0V0z\" fill=\"none\"/>\n",
              "    <path d=\"M18.56 5.44l.94 2.06.94-2.06 2.06-.94-2.06-.94-.94-2.06-.94 2.06-2.06.94zm-11 1L8.5 8.5l.94-2.06 2.06-.94-2.06-.94L8.5 2.5l-.94 2.06-2.06.94zm10 10l.94 2.06.94-2.06 2.06-.94-2.06-.94-.94-2.06-.94 2.06-2.06.94z\"/><path d=\"M17.41 7.96l-1.37-1.37c-.4-.4-.92-.59-1.43-.59-.52 0-1.04.2-1.43.59L10.3 9.45l-7.72 7.72c-.78.78-.78 2.05 0 2.83L4 21.41c.39.39.9.59 1.41.59.51 0 1.02-.2 1.41-.59l7.78-7.78 2.81-2.81c.8-.78.8-2.07 0-2.86zM5.41 20L4 18.59l7.72-7.72 1.47 1.35L5.41 20z\"/>\n",
              "  </svg>\n",
              "      </button>\n",
              "      \n",
              "  <style>\n",
              "    .colab-df-container {\n",
              "      display:flex;\n",
              "      flex-wrap:wrap;\n",
              "      gap: 12px;\n",
              "    }\n",
              "\n",
              "    .colab-df-convert {\n",
              "      background-color: #E8F0FE;\n",
              "      border: none;\n",
              "      border-radius: 50%;\n",
              "      cursor: pointer;\n",
              "      display: none;\n",
              "      fill: #1967D2;\n",
              "      height: 32px;\n",
              "      padding: 0 0 0 0;\n",
              "      width: 32px;\n",
              "    }\n",
              "\n",
              "    .colab-df-convert:hover {\n",
              "      background-color: #E2EBFA;\n",
              "      box-shadow: 0px 1px 2px rgba(60, 64, 67, 0.3), 0px 1px 3px 1px rgba(60, 64, 67, 0.15);\n",
              "      fill: #174EA6;\n",
              "    }\n",
              "\n",
              "    [theme=dark] .colab-df-convert {\n",
              "      background-color: #3B4455;\n",
              "      fill: #D2E3FC;\n",
              "    }\n",
              "\n",
              "    [theme=dark] .colab-df-convert:hover {\n",
              "      background-color: #434B5C;\n",
              "      box-shadow: 0px 1px 3px 1px rgba(0, 0, 0, 0.15);\n",
              "      filter: drop-shadow(0px 1px 2px rgba(0, 0, 0, 0.3));\n",
              "      fill: #FFFFFF;\n",
              "    }\n",
              "  </style>\n",
              "\n",
              "      <script>\n",
              "        const buttonEl =\n",
              "          document.querySelector('#df-7c1f682b-430c-45c7-8bdb-9c511f1eb61f button.colab-df-convert');\n",
              "        buttonEl.style.display =\n",
              "          google.colab.kernel.accessAllowed ? 'block' : 'none';\n",
              "\n",
              "        async function convertToInteractive(key) {\n",
              "          const element = document.querySelector('#df-7c1f682b-430c-45c7-8bdb-9c511f1eb61f');\n",
              "          const dataTable =\n",
              "            await google.colab.kernel.invokeFunction('convertToInteractive',\n",
              "                                                     [key], {});\n",
              "          if (!dataTable) return;\n",
              "\n",
              "          const docLinkHtml = 'Like what you see? Visit the ' +\n",
              "            '<a target=\"_blank\" href=https://colab.research.google.com/notebooks/data_table.ipynb>data table notebook</a>'\n",
              "            + ' to learn more about interactive tables.';\n",
              "          element.innerHTML = '';\n",
              "          dataTable['output_type'] = 'display_data';\n",
              "          await google.colab.output.renderOutput(dataTable, element);\n",
              "          const docLink = document.createElement('div');\n",
              "          docLink.innerHTML = docLinkHtml;\n",
              "          element.appendChild(docLink);\n",
              "        }\n",
              "      </script>\n",
              "    </div>\n",
              "  </div>\n",
              "  "
            ],
            "text/plain": [
              "   X  Y  month  day  FFMC   DMC     DC  ISI  temp  RH  wind  rain  area\n",
              "0  7  5      0    0  86.2  26.2   94.3  5.1   8.2  51   6.7   0.0   0.0\n",
              "1  7  4      1    1  90.6  35.4  669.1  6.7  18.0  33   0.9   0.0   0.0\n",
              "2  7  4      1    2  90.6  43.7  686.9  6.7  14.6  33   1.3   0.0   0.0\n",
              "3  8  6      0    0  91.7  33.3   77.5  9.0   8.3  97   4.0   0.2   0.0\n",
              "4  8  6      0    3  89.3  51.3  102.2  9.6  11.4  99   1.8   0.0   0.0"
            ]
          },
          "metadata": {},
          "execution_count": 121
        }
      ],
      "source": [
        "categorized_forest_dataset = replacing_string_to_numeric_multiple_columns(forest_dataset,['month', 'day'])\n",
        "categorized_forest_dataset.head()"
      ]
    },
    {
      "cell_type": "code",
      "execution_count": 122,
      "metadata": {
        "colab": {
          "base_uri": "https://localhost:8080/",
          "height": 206
        },
        "id": "Zqo0Z26Cm-Cw",
        "outputId": "3f4de135-4cbd-4c22-dd8e-a55ffdbec2a6"
      },
      "outputs": [
        {
          "output_type": "execute_result",
          "data": {
            "text/html": [
              "\n",
              "  <div id=\"df-e021699a-e02b-433b-a2ce-a0c7c10ccd7d\">\n",
              "    <div class=\"colab-df-container\">\n",
              "      <div>\n",
              "<style scoped>\n",
              "    .dataframe tbody tr th:only-of-type {\n",
              "        vertical-align: middle;\n",
              "    }\n",
              "\n",
              "    .dataframe tbody tr th {\n",
              "        vertical-align: top;\n",
              "    }\n",
              "\n",
              "    .dataframe thead th {\n",
              "        text-align: right;\n",
              "    }\n",
              "</style>\n",
              "<table border=\"1\" class=\"dataframe\">\n",
              "  <thead>\n",
              "    <tr style=\"text-align: right;\">\n",
              "      <th></th>\n",
              "      <th>X</th>\n",
              "      <th>Y</th>\n",
              "      <th>month</th>\n",
              "      <th>day</th>\n",
              "      <th>FFMC</th>\n",
              "      <th>DMC</th>\n",
              "      <th>DC</th>\n",
              "      <th>ISI</th>\n",
              "      <th>temp</th>\n",
              "      <th>RH</th>\n",
              "      <th>wind</th>\n",
              "      <th>rain</th>\n",
              "      <th>area</th>\n",
              "    </tr>\n",
              "  </thead>\n",
              "  <tbody>\n",
              "    <tr>\n",
              "      <th>0</th>\n",
              "      <td>7</td>\n",
              "      <td>5</td>\n",
              "      <td>0</td>\n",
              "      <td>0</td>\n",
              "      <td>86.2</td>\n",
              "      <td>26.2</td>\n",
              "      <td>94.3</td>\n",
              "      <td>5.1</td>\n",
              "      <td>8.2</td>\n",
              "      <td>51</td>\n",
              "      <td>6.7</td>\n",
              "      <td>0.0</td>\n",
              "      <td>0.0</td>\n",
              "    </tr>\n",
              "    <tr>\n",
              "      <th>1</th>\n",
              "      <td>7</td>\n",
              "      <td>4</td>\n",
              "      <td>1</td>\n",
              "      <td>1</td>\n",
              "      <td>90.6</td>\n",
              "      <td>35.4</td>\n",
              "      <td>669.1</td>\n",
              "      <td>6.7</td>\n",
              "      <td>18.0</td>\n",
              "      <td>33</td>\n",
              "      <td>0.9</td>\n",
              "      <td>0.0</td>\n",
              "      <td>0.0</td>\n",
              "    </tr>\n",
              "    <tr>\n",
              "      <th>2</th>\n",
              "      <td>7</td>\n",
              "      <td>4</td>\n",
              "      <td>1</td>\n",
              "      <td>2</td>\n",
              "      <td>90.6</td>\n",
              "      <td>43.7</td>\n",
              "      <td>686.9</td>\n",
              "      <td>6.7</td>\n",
              "      <td>14.6</td>\n",
              "      <td>33</td>\n",
              "      <td>1.3</td>\n",
              "      <td>0.0</td>\n",
              "      <td>0.0</td>\n",
              "    </tr>\n",
              "    <tr>\n",
              "      <th>3</th>\n",
              "      <td>8</td>\n",
              "      <td>6</td>\n",
              "      <td>0</td>\n",
              "      <td>0</td>\n",
              "      <td>91.7</td>\n",
              "      <td>33.3</td>\n",
              "      <td>77.5</td>\n",
              "      <td>9.0</td>\n",
              "      <td>8.3</td>\n",
              "      <td>97</td>\n",
              "      <td>4.0</td>\n",
              "      <td>0.2</td>\n",
              "      <td>0.0</td>\n",
              "    </tr>\n",
              "    <tr>\n",
              "      <th>4</th>\n",
              "      <td>8</td>\n",
              "      <td>6</td>\n",
              "      <td>0</td>\n",
              "      <td>3</td>\n",
              "      <td>89.3</td>\n",
              "      <td>51.3</td>\n",
              "      <td>102.2</td>\n",
              "      <td>9.6</td>\n",
              "      <td>11.4</td>\n",
              "      <td>99</td>\n",
              "      <td>1.8</td>\n",
              "      <td>0.0</td>\n",
              "      <td>0.0</td>\n",
              "    </tr>\n",
              "  </tbody>\n",
              "</table>\n",
              "</div>\n",
              "      <button class=\"colab-df-convert\" onclick=\"convertToInteractive('df-e021699a-e02b-433b-a2ce-a0c7c10ccd7d')\"\n",
              "              title=\"Convert this dataframe to an interactive table.\"\n",
              "              style=\"display:none;\">\n",
              "        \n",
              "  <svg xmlns=\"http://www.w3.org/2000/svg\" height=\"24px\"viewBox=\"0 0 24 24\"\n",
              "       width=\"24px\">\n",
              "    <path d=\"M0 0h24v24H0V0z\" fill=\"none\"/>\n",
              "    <path d=\"M18.56 5.44l.94 2.06.94-2.06 2.06-.94-2.06-.94-.94-2.06-.94 2.06-2.06.94zm-11 1L8.5 8.5l.94-2.06 2.06-.94-2.06-.94L8.5 2.5l-.94 2.06-2.06.94zm10 10l.94 2.06.94-2.06 2.06-.94-2.06-.94-.94-2.06-.94 2.06-2.06.94z\"/><path d=\"M17.41 7.96l-1.37-1.37c-.4-.4-.92-.59-1.43-.59-.52 0-1.04.2-1.43.59L10.3 9.45l-7.72 7.72c-.78.78-.78 2.05 0 2.83L4 21.41c.39.39.9.59 1.41.59.51 0 1.02-.2 1.41-.59l7.78-7.78 2.81-2.81c.8-.78.8-2.07 0-2.86zM5.41 20L4 18.59l7.72-7.72 1.47 1.35L5.41 20z\"/>\n",
              "  </svg>\n",
              "      </button>\n",
              "      \n",
              "  <style>\n",
              "    .colab-df-container {\n",
              "      display:flex;\n",
              "      flex-wrap:wrap;\n",
              "      gap: 12px;\n",
              "    }\n",
              "\n",
              "    .colab-df-convert {\n",
              "      background-color: #E8F0FE;\n",
              "      border: none;\n",
              "      border-radius: 50%;\n",
              "      cursor: pointer;\n",
              "      display: none;\n",
              "      fill: #1967D2;\n",
              "      height: 32px;\n",
              "      padding: 0 0 0 0;\n",
              "      width: 32px;\n",
              "    }\n",
              "\n",
              "    .colab-df-convert:hover {\n",
              "      background-color: #E2EBFA;\n",
              "      box-shadow: 0px 1px 2px rgba(60, 64, 67, 0.3), 0px 1px 3px 1px rgba(60, 64, 67, 0.15);\n",
              "      fill: #174EA6;\n",
              "    }\n",
              "\n",
              "    [theme=dark] .colab-df-convert {\n",
              "      background-color: #3B4455;\n",
              "      fill: #D2E3FC;\n",
              "    }\n",
              "\n",
              "    [theme=dark] .colab-df-convert:hover {\n",
              "      background-color: #434B5C;\n",
              "      box-shadow: 0px 1px 3px 1px rgba(0, 0, 0, 0.15);\n",
              "      filter: drop-shadow(0px 1px 2px rgba(0, 0, 0, 0.3));\n",
              "      fill: #FFFFFF;\n",
              "    }\n",
              "  </style>\n",
              "\n",
              "      <script>\n",
              "        const buttonEl =\n",
              "          document.querySelector('#df-e021699a-e02b-433b-a2ce-a0c7c10ccd7d button.colab-df-convert');\n",
              "        buttonEl.style.display =\n",
              "          google.colab.kernel.accessAllowed ? 'block' : 'none';\n",
              "\n",
              "        async function convertToInteractive(key) {\n",
              "          const element = document.querySelector('#df-e021699a-e02b-433b-a2ce-a0c7c10ccd7d');\n",
              "          const dataTable =\n",
              "            await google.colab.kernel.invokeFunction('convertToInteractive',\n",
              "                                                     [key], {});\n",
              "          if (!dataTable) return;\n",
              "\n",
              "          const docLinkHtml = 'Like what you see? Visit the ' +\n",
              "            '<a target=\"_blank\" href=https://colab.research.google.com/notebooks/data_table.ipynb>data table notebook</a>'\n",
              "            + ' to learn more about interactive tables.';\n",
              "          element.innerHTML = '';\n",
              "          dataTable['output_type'] = 'display_data';\n",
              "          await google.colab.output.renderOutput(dataTable, element);\n",
              "          const docLink = document.createElement('div');\n",
              "          docLink.innerHTML = docLinkHtml;\n",
              "          element.appendChild(docLink);\n",
              "        }\n",
              "      </script>\n",
              "    </div>\n",
              "  </div>\n",
              "  "
            ],
            "text/plain": [
              "   X  Y  month  day  FFMC   DMC     DC  ISI  temp  RH  wind  rain  area\n",
              "0  7  5      0    0  86.2  26.2   94.3  5.1   8.2  51   6.7   0.0   0.0\n",
              "1  7  4      1    1  90.6  35.4  669.1  6.7  18.0  33   0.9   0.0   0.0\n",
              "2  7  4      1    2  90.6  43.7  686.9  6.7  14.6  33   1.3   0.0   0.0\n",
              "3  8  6      0    0  91.7  33.3   77.5  9.0   8.3  97   4.0   0.2   0.0\n",
              "4  8  6      0    3  89.3  51.3  102.2  9.6  11.4  99   1.8   0.0   0.0"
            ]
          },
          "metadata": {},
          "execution_count": 122
        }
      ],
      "source": [
        "forest_dataset_v1  = categorized_forest_dataset.copy()\n",
        "forest_dataset_v1['area'] = log_transform(forest_dataset_v1['area'])\n",
        "forest_dataset_v1.head()"
      ]
    },
    {
      "cell_type": "code",
      "execution_count": 123,
      "metadata": {
        "id": "gsvNyrMNm-Cx"
      },
      "outputs": [],
      "source": [
        "forest_discretize_dataset = forest_dataset_v1.copy()"
      ]
    },
    {
      "cell_type": "code",
      "execution_count": 124,
      "metadata": {
        "id": "oxL7i8dfm-Cx"
      },
      "outputs": [],
      "source": [
        "forest_discretize_dataset = discretization(forest_discretize_dataset, \n",
        "                                           5, \n",
        "                                           'equal_frequency', \n",
        "                                           ['FFMC', 'DMC', 'DC', 'ISI','temp','RH', 'wind', 'rain'])"
      ]
    },
    {
      "cell_type": "code",
      "execution_count": 125,
      "metadata": {
        "id": "jidu1GYLm-Cy"
      },
      "outputs": [],
      "source": [
        "train_forest_dataset, test_forest_dataset = split_dataset(forest_dataset_v1, 0.8)"
      ]
    },
    {
      "cell_type": "code",
      "execution_count": 126,
      "metadata": {
        "id": "iv5-Ogwwm-Cy"
      },
      "outputs": [],
      "source": [
        "train_forest_zscore_dataset, test_forest_zscore_dataset  = Standardization(train_forest_dataset,test_forest_dataset)"
      ]
    },
    {
      "cell_type": "code",
      "execution_count": 127,
      "metadata": {
        "colab": {
          "base_uri": "https://localhost:8080/"
        },
        "id": "P-e4XBfsm-Cz",
        "outputId": "e867dab9-c1de-48a8-cecf-ae11c7c441dc"
      },
      "outputs": [
        {
          "output_type": "execute_result",
          "data": {
            "text/plain": [
              "[83, 83, 82, 82, 82]"
            ]
          },
          "metadata": {},
          "execution_count": 127
        }
      ],
      "source": [
        "validated_train_forest = cross_validation_regression(train_forest_dataset, 5, 'area')\n",
        "validated_train_forest_size  = []\n",
        "for i in range(0, 5):\n",
        "    validated_train_forest_size.append(validated_train_forest[i].shape[0])\n",
        "validated_train_forest_size "
      ]
    },
    {
      "cell_type": "code",
      "execution_count": 128,
      "metadata": {
        "colab": {
          "base_uri": "https://localhost:8080/"
        },
        "id": "DZQGEd4Zm-C0",
        "outputId": "3b3f4461-85e3-450b-ec10-97431dd851dc"
      },
      "outputs": [
        {
          "output_type": "execute_result",
          "data": {
            "text/plain": [
              "[20, 20, 20, 20, 20]"
            ]
          },
          "metadata": {},
          "execution_count": 128
        }
      ],
      "source": [
        "tuning_forest = cross_validation_regression(test_forest_dataset, 5, 'area')\n",
        "tuning_forest_size  = []\n",
        "for i in range(0, 5):\n",
        "    tuning_forest_size .append(tuning_forest[i].shape[0])\n",
        "tuning_forest_size "
      ]
    },
    {
      "cell_type": "code",
      "execution_count": 129,
      "metadata": {
        "colab": {
          "base_uri": "https://localhost:8080/"
        },
        "id": "jWXYIxZTm-DJ",
        "outputId": "93d7a503-567a-4bf2-9450-ae96e10fbfe5"
      },
      "outputs": [
        {
          "output_type": "stream",
          "name": "stderr",
          "text": [
            "/usr/local/lib/python3.7/dist-packages/ipykernel_launcher.py:27: RuntimeWarning: invalid value encountered in double_scalars\n"
          ]
        },
        {
          "output_type": "stream",
          "name": "stdout",
          "text": [
            "Best KNN parameter:  Best K: 8 / Best Sigma: 0.01\n",
            "Best Edited KNN parameter: Best K: 6 / Best Sigma: 0.01 / Best Epsilon: 0.05\n",
            "Best Condensed KNN parameter: Best K: 9 / Best Sigma: 0.01 / Best Epsilon: 1\n"
          ]
        }
      ],
      "source": [
        "k_values = [i for i in range(1, 11)]\n",
        "sigma_values =[0.01, 0.05, 0.1, 0.5, 1, 2]\n",
        "epsilon_values = [0.01, 0.05, 0.1, 0.5, 1]\n",
        "\n",
        "best_knn_k_forest, best_knn_sigma_forest = tuning_parameter_with_sigma(tuning_forest, k_values, \n",
        "                                                                           sigma_values, False, \n",
        "                                                                           'area', 'MSE', 'knn')\n",
        "best_eknn_k_forest, best_eknn_sigma_forest, best_eknn_epsilon_forest= tuning_parameter_with_epsilon(tuning_forest, k_values, sigma_values,epsilon_values, 'area', 'MSE', 'edited knn')\n",
        "best_cknn_k_forest, best_cknn_sigma_forest, best_cknn_epsilon_forest = tuning_parameter_with_epsilon(tuning_forest, k_values, sigma_values,epsilon_values, 'area', 'MSE', 'condensed knn')\n",
        "\n",
        "print(\"Best KNN parameter:  Best K: \"+str(best_knn_k_forest) + \" / Best Sigma: \"+str(best_knn_sigma_forest))\n",
        "print(\"Best Edited KNN parameter: Best K: \"+str(best_eknn_k_forest) + \" / Best Sigma: \"+str(best_eknn_sigma_forest)+\" / Best Epsilon: \"+str(best_eknn_epsilon_forest))\n",
        "print(\"Best Condensed KNN parameter: Best K: \"+str(best_cknn_k_forest) + \" / Best Sigma: \"+str(best_cknn_sigma_forest)+\" / Best Epsilon: \"+str(best_cknn_epsilon_forest))"
      ]
    },
    {
      "cell_type": "code",
      "execution_count": 134,
      "metadata": {
        "id": "_HHucvI4hYgw"
      },
      "outputs": [],
      "source": [
        "knn_regress_forest = knn_demonstration_regression(validated_train_forest, 'area', best_knn_k_forest, best_knn_sigma_forest)"
      ]
    },
    {
      "cell_type": "code",
      "source": [
        "knn_regress_forest.head().style.set_properties(subset=['Assigned Class'], **{'width-min': '300px'})"
      ],
      "metadata": {
        "colab": {
          "base_uri": "https://localhost:8080/",
          "height": 206
        },
        "id": "uMAF9xS92Qt4",
        "outputId": "9fe22ee8-4f10-4a56-d1b6-be40f6b6a1f3"
      },
      "execution_count": 135,
      "outputs": [
        {
          "output_type": "execute_result",
          "data": {
            "text/html": [
              "<style type=\"text/css\">\n",
              "#T_981f5_row0_col1, #T_981f5_row1_col1, #T_981f5_row2_col1, #T_981f5_row3_col1, #T_981f5_row4_col1 {\n",
              "  width-min: 300px;\n",
              "}\n",
              "</style>\n",
              "<table id=\"T_981f5_\" class=\"dataframe\">\n",
              "  <thead>\n",
              "    <tr>\n",
              "      <th class=\"blank level0\" >&nbsp;</th>\n",
              "      <th class=\"col_heading level0 col0\" >closest Neighbor </th>\n",
              "      <th class=\"col_heading level0 col1\" >Assigned Class</th>\n",
              "      <th class=\"col_heading level0 col2\" >Predicted Class</th>\n",
              "    </tr>\n",
              "  </thead>\n",
              "  <tbody>\n",
              "    <tr>\n",
              "      <th id=\"T_981f5_level0_row0\" class=\"row_heading level0 row0\" >0</th>\n",
              "      <td id=\"T_981f5_row0_col0\" class=\"data row0 col0\" >[192 248 133 129 229 121 122 132]</td>\n",
              "      <td id=\"T_981f5_row0_col1\" class=\"data row0 col1\" >[0.         0.97077892 0.         0.         0.72754861 0.\n",
              " 0.         0.        ]</td>\n",
              "      <td id=\"T_981f5_row0_col2\" class=\"data row0 col2\" >0.213263</td>\n",
              "    </tr>\n",
              "    <tr>\n",
              "      <th id=\"T_981f5_level0_row1\" class=\"row_heading level0 row1\" >1</th>\n",
              "      <td id=\"T_981f5_row1_col0\" class=\"data row1 col0\" >[160 223 216 241 222 215 175 287]</td>\n",
              "      <td id=\"T_981f5_row1_col1\" class=\"data row1 col1\" >[0.         0.58221562 0.47623418 0.9242589  0.57097955 0.43825493\n",
              " 0.         1.65822808]</td>\n",
              "      <td id=\"T_981f5_row1_col2\" class=\"data row1 col2\" >0.575617</td>\n",
              "    </tr>\n",
              "    <tr>\n",
              "      <th id=\"T_981f5_level0_row2\" class=\"row_heading level0 row2\" >2</th>\n",
              "      <td id=\"T_981f5_row2_col0\" class=\"data row2 col0\" >[300  17 109 209 235 219 326  67]</td>\n",
              "      <td id=\"T_981f5_row2_col1\" class=\"data row2 col1\" >[1.8531681  0.         0.         0.3074847  0.85866162 0.53649337\n",
              " 2.21484618 0.        ]</td>\n",
              "      <td id=\"T_981f5_row2_col2\" class=\"data row2 col2\" >0.724343</td>\n",
              "    </tr>\n",
              "    <tr>\n",
              "      <th id=\"T_981f5_level0_row3\" class=\"row_heading level0 row3\" >3</th>\n",
              "      <td id=\"T_981f5_row3_col0\" class=\"data row3 col0\" >[288 213 275 264 207 208  16 309]</td>\n",
              "      <td id=\"T_981f5_row3_col1\" class=\"data row3 col1\" >[1.68639895 0.41871033 1.40854497 1.24415459 0.19062036 0.21511138\n",
              " 0.         2.02022218]</td>\n",
              "      <td id=\"T_981f5_row3_col2\" class=\"data row3 col2\" >0.902478</td>\n",
              "    </tr>\n",
              "    <tr>\n",
              "      <th id=\"T_981f5_level0_row4\" class=\"row_heading level0 row4\" >4</th>\n",
              "      <td id=\"T_981f5_row4_col0\" class=\"data row4 col0\" >[300  17 109 209 235 219  67 326]</td>\n",
              "      <td id=\"T_981f5_row4_col1\" class=\"data row4 col1\" >[1.8531681  0.         0.         0.3074847  0.85866162 0.53649337\n",
              " 0.         2.21484618]</td>\n",
              "      <td id=\"T_981f5_row4_col2\" class=\"data row4 col2\" >0.725585</td>\n",
              "    </tr>\n",
              "  </tbody>\n",
              "</table>\n"
            ],
            "text/plain": [
              "<pandas.io.formats.style.Styler at 0x7f300bd9e610>"
            ]
          },
          "metadata": {},
          "execution_count": 135
        }
      ]
    },
    {
      "cell_type": "code",
      "execution_count": 131,
      "metadata": {
        "colab": {
          "base_uri": "https://localhost:8080/"
        },
        "id": "J7-r0Andm-DK",
        "outputId": "9d07d9c9-39d5-4b14-8f5d-c072edab5140"
      },
      "outputs": [
        {
          "output_type": "stream",
          "name": "stdout",
          "text": [
            "MSE for KNN: [2.1854, 2.2706, 1.303, 0.8991, 8.1091]/ Avg Score: 2.9534\n"
          ]
        }
      ],
      "source": [
        "knn_score_forest = knn_regression(validated_train_forest, 'area', best_knn_k_forest, best_knn_sigma_forest, False, \"MSE\", 'knn')[0]\n",
        "knn_avg_score_forest = round(np.mean(knn_score_forest),4)\n",
        "print(\"MSE for KNN: \" + str(knn_score_forest) + \"/ Avg Score: \"+ str(knn_avg_score_forest))"
      ]
    },
    {
      "cell_type": "code",
      "execution_count": 132,
      "metadata": {
        "colab": {
          "base_uri": "https://localhost:8080/"
        },
        "id": "Qf1VqRCwm-DK",
        "outputId": "e67c6caa-7ebb-4e54-b9a4-7a8a0aeca22c"
      },
      "outputs": [
        {
          "output_type": "stream",
          "name": "stdout",
          "text": [
            "Remaining Data % after Edited KNN: [19.45, 17.93, 29.09, 40.0, 44.85] / Avg Remaining Data %: 30.26\n",
            "MSE for Edited KNN: [0.4923, 0.2987, 0.3299, 2.7323, 10.4903] / Avg Score: 2.8687\n"
          ]
        }
      ],
      "source": [
        "eknn_score_forest, eknn_remaining_forest = knn_regression(validated_train_forest, 'area', best_eknn_k_forest, best_eknn_sigma_forest, best_eknn_epsilon_forest, \"MSE\", 'edited knn')[:2]\n",
        "eknn_avg_score_forest= round(np.mean(eknn_score_forest),4)\n",
        "print(\"Remaining Data % after Edited KNN: \"+ str(eknn_remaining_forest)+ \" / Avg Remaining Data %: \"+ str(round(np.mean(eknn_remaining_forest),2)))\n",
        "print(\"MSE for Edited KNN: \" + str(eknn_score_forest) + \" / Avg Score: \"+ str(eknn_avg_score_forest))"
      ]
    },
    {
      "cell_type": "code",
      "execution_count": 133,
      "metadata": {
        "colab": {
          "base_uri": "https://localhost:8080/"
        },
        "id": "XH8xRc9Tm-DK",
        "outputId": "1b5ef468-92cb-4653-bdbe-25b501a512fa"
      },
      "outputs": [
        {
          "output_type": "stream",
          "name": "stdout",
          "text": [
            "Remaining Data % after Condensed KNN: [69.3, 67.78, 70.61, 54.24, 48.18] / Avg Remaining Data %: 62.02\n",
            "MSE for Condensed KNN: [1.4899, 1.6135, 0.9528, 1.1471, 8.6484] / Avg Score: 2.7703\n"
          ]
        }
      ],
      "source": [
        "cknn_score_forest, cknn_remaining_forest = knn_regression(validated_train_forest, 'area', best_cknn_k_forest, best_cknn_sigma_forest, best_cknn_epsilon_forest, \"MSE\", 'condensed knn')[:2]\n",
        "cknn_avg_score_forest = round(np.mean(cknn_score_forest),4)\n",
        "print(\"Remaining Data % after Condensed KNN: \"+ str(cknn_remaining_forest)+ \" / Avg Remaining Data %: \"+ str(round(np.mean(cknn_remaining_forest),2)))\n",
        "print(\"MSE for Condensed KNN: \" + str(cknn_score_forest) + \" / Avg Score: \"+ str(cknn_avg_score_forest))"
      ]
    }
  ],
  "metadata": {
    "colab": {
      "collapsed_sections": [
        "bULOrDQDqq2r",
        "55RSYof0qq2v",
        "_zRDbdxGqq28",
        "dS1EKVUSqq29",
        "kKmypkHAqq2-",
        "VuENlUx3qq3B",
        "kDrh6gw_qq3D",
        "Kq85EOrZKxMc",
        "xlSCn0ALqq3S",
        "8N5Ke_SAqq3i",
        "YEN1XnYdqq3u",
        "fj2TiZHcqq30",
        "CKfjh5CtKxNe",
        "WwEHmU_0KxNv"
      ],
      "name": "Programing_Project_2_DCho.ipynb",
      "provenance": [],
      "toc_visible": true
    },
    "kernelspec": {
      "display_name": "Python 3",
      "language": "python",
      "name": "python3"
    },
    "language_info": {
      "codemirror_mode": {
        "name": "ipython",
        "version": 3
      },
      "file_extension": ".py",
      "mimetype": "text/x-python",
      "name": "python",
      "nbconvert_exporter": "python",
      "pygments_lexer": "ipython3",
      "version": "3.6.8"
    }
  },
  "nbformat": 4,
  "nbformat_minor": 0
}