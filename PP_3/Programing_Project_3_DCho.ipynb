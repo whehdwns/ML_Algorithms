{
 "cells": [
  {
   "cell_type": "code",
   "execution_count": 1,
   "metadata": {
    "executionInfo": {
     "elapsed": 129,
     "status": "ok",
     "timestamp": 1647036328954,
     "user": {
      "displayName": "Dongjun Cho",
      "photoUrl": "https://lh3.googleusercontent.com/a/default-user=s64",
      "userId": "15959755585155440977"
     },
     "user_tz": 480
    },
    "id": "7AAt-E6Cqq2P"
   },
   "outputs": [],
   "source": [
    "import pandas as pd # data processing, CSV file I/O (e.g. pd.read_csv)\n",
    "import numpy as np # linear algebra\n",
    "import os\n",
    "import glob\n",
    "from collections import Counter # Mode\n",
    "import warnings #Remove Warning Message\n",
    "warnings.filterwarnings('ignore')"
   ]
  },
  {
   "cell_type": "code",
   "execution_count": 2,
   "metadata": {
    "executionInfo": {
     "elapsed": 41,
     "status": "ok",
     "timestamp": 1647036330579,
     "user": {
      "displayName": "Dongjun Cho",
      "photoUrl": "https://lh3.googleusercontent.com/a/default-user=s64",
      "userId": "15959755585155440977"
     },
     "user_tz": 480
    },
    "id": "omGNSSQJmgpd"
   },
   "outputs": [],
   "source": [
    "path = os.getcwd()\n",
    "all_files = glob.glob(path + \"/dataset/*.data\")\n",
    "filesnames = os.listdir('dataset/')"
   ]
  },
  {
   "cell_type": "code",
   "execution_count": 3,
   "metadata": {
    "executionInfo": {
     "elapsed": 39,
     "status": "ok",
     "timestamp": 1647036330581,
     "user": {
      "displayName": "Dongjun Cho",
      "photoUrl": "https://lh3.googleusercontent.com/a/default-user=s64",
      "userId": "15959755585155440977"
     },
     "user_tz": 480
    },
    "id": "bJ3YrSdkqq2g"
   },
   "outputs": [],
   "source": [
    "dataset_header = [\n",
    "                [   \"sex\", \"length\", \"diameter\", \"height\", \"whole_height\",\n",
    "                    \"shucked_height\", \"viscera_weight\", \"shell_weight\", \"rings\" ], \n",
    "                [   \"sample_code_number\", \"clump_thickness\", \"uniformity_cell_size\", \"uniformity_cell_shape\",\n",
    "                    \"marginal_adhesion\", \"single_epithelial_cell_size\", \"bare_nuclei\", \"bland_chromatin\",\n",
    "                    \"normal_nucleoli\", \"mitosis\", \"class\"],\n",
    "                [   \"buying\", \"maint\", \"doors\", \"persons\", \"lug_boot\", \"safety\", \"class\"],\n",
    "                [   \"X\", \"Y\", \"month\", \"day\", \"FFMC\", \"DMC\", \"DC\", \"ISI\", \"temp\", \"RH\", \"wind\", \"rain\", \"area\"],\n",
    "                [   \"class\", \"infants\", \"water\", \"budget\", \"physician\", \"salvador\", \"religious\", \"satellite\",\n",
    "                    \"aid\", \"missile\", \"immigration\", \"synfuels\", \"education\", \"superfund\", \"crime\", \n",
    "                    \"duty_free_exports\", \"eaa_rsa\"],\n",
    "                [   \"vendor\", \"model\", \"myct\", \"mmin\", \"mmax\", \"cach\", \"chmin\", \"chmax\", \"PRP\", \"ERP\"] \n",
    "]"
   ]
  },
  {
   "cell_type": "markdown",
   "metadata": {
    "id": "4VJXy_1mqq2i"
   },
   "source": [
    "## Loading Data"
   ]
  },
  {
   "cell_type": "code",
   "execution_count": 4,
   "metadata": {
    "executionInfo": {
     "elapsed": 39,
     "status": "ok",
     "timestamp": 1647036330584,
     "user": {
      "displayName": "Dongjun Cho",
      "photoUrl": "https://lh3.googleusercontent.com/a/default-user=s64",
      "userId": "15959755585155440977"
     },
     "user_tz": 480
    },
    "id": "BSrPqwOjqq2p"
   },
   "outputs": [],
   "source": [
    "# Load Data\n",
    "# 1. It loads dataset from the folder. \n",
    "# 2. It checks whether the original data already has header or not. \n",
    "# 3. If there is no header in the data, it reads .data file as csv with header.\n",
    "# 4. If there is header in the data, it reads .data file as csv. \n",
    "\n",
    "def open_csv_dataset(dataset_keyword, column_header):\n",
    "    for i in all_files:\n",
    "        if dataset_keyword in i:\n",
    "            indexed = all_files.index(i)\n",
    "            if column_header == True:\n",
    "                df = pd.read_csv(i, header=None, names = dataset_header[indexed])\n",
    "            else:\n",
    "                df = pd.read_csv(i)\n",
    "    return df"
   ]
  },
  {
   "cell_type": "markdown",
   "metadata": {
    "id": "bULOrDQDqq2r"
   },
   "source": [
    "## Handling Missing Values"
   ]
  },
  {
   "cell_type": "code",
   "execution_count": 5,
   "metadata": {
    "executionInfo": {
     "elapsed": 36,
     "status": "ok",
     "timestamp": 1647036330585,
     "user": {
      "displayName": "Dongjun Cho",
      "photoUrl": "https://lh3.googleusercontent.com/a/default-user=s64",
      "userId": "15959755585155440977"
     },
     "user_tz": 480
    },
    "id": "W3kCRAAdqq2t"
   },
   "outputs": [],
   "source": [
    "# Handling Missing Values\n",
    "# 1. It replaces \"?\" values to NaN value in the dataframe.\n",
    "# 2. If there is no null values in the dataframe, it returns dataframe\n",
    "# 3. If there is null values in the dataframe, it fills missing values with the feature (column) mean.\n",
    "\n",
    "def handling_missing_values(df):\n",
    "    df = df.replace('?', np.NaN)\n",
    "    if df.isnull().values.any() == False:\n",
    "        return df\n",
    "    else:\n",
    "        for i in range(0, len(df.isnull().sum().values)):\n",
    "            if df.isnull().sum().values[i] >0:\n",
    "                missing_data = df.isnull().sum().index[i]\n",
    "        df[missing_data]= pd.to_numeric(df[missing_data])\n",
    "        df[missing_data]= df[missing_data].fillna(df[missing_data].mean())\n",
    "    return df"
   ]
  },
  {
   "cell_type": "markdown",
   "metadata": {
    "id": "55RSYof0qq2v"
   },
   "source": [
    "## Handling Categorical Data"
   ]
  },
  {
   "cell_type": "code",
   "execution_count": 6,
   "metadata": {
    "executionInfo": {
     "elapsed": 35,
     "status": "ok",
     "timestamp": 1647036330588,
     "user": {
      "displayName": "Dongjun Cho",
      "photoUrl": "https://lh3.googleusercontent.com/a/default-user=s64",
      "userId": "15959755585155440977"
     },
     "user_tz": 480
    },
    "id": "6gQ9MCbfqq2x"
   },
   "outputs": [],
   "source": [
    "# Unique value in columns\n",
    "# 1. It categorizes all columns in the dataset. \n",
    "\n",
    "def view_unique_value_in_columns(df):\n",
    "    for i in df.columns.values:\n",
    "        print(categorize_dataset(df, i))"
   ]
  },
  {
   "cell_type": "code",
   "execution_count": 7,
   "metadata": {
    "executionInfo": {
     "elapsed": 33,
     "status": "ok",
     "timestamp": 1647036330589,
     "user": {
      "displayName": "Dongjun Cho",
      "photoUrl": "https://lh3.googleusercontent.com/a/default-user=s64",
      "userId": "15959755585155440977"
     },
     "user_tz": 480
    },
    "id": "ClTUSMUBqq2y"
   },
   "outputs": [],
   "source": [
    "# Unique value in single columns\n",
    "# 1. It categorizes single columns in the dataset. \n",
    "\n",
    "def view_unique_value_in_single_column(df, columns):\n",
    "    print(categorize_dataset(df, columns))"
   ]
  },
  {
   "cell_type": "code",
   "execution_count": 8,
   "metadata": {
    "executionInfo": {
     "elapsed": 33,
     "status": "ok",
     "timestamp": 1647036330591,
     "user": {
      "displayName": "Dongjun Cho",
      "photoUrl": "https://lh3.googleusercontent.com/a/default-user=s64",
      "userId": "15959755585155440977"
     },
     "user_tz": 480
    },
    "id": "342M0Isrqq23"
   },
   "outputs": [],
   "source": [
    "# Categorize Dataset\n",
    "# 1. To categroize dataset, it uses unique function.\n",
    "# 2. For unique function, it returns in order of appearance.\n",
    "# 3. It shows columns and numeric values in each feature values. \n",
    "\n",
    "def categorize_dataset(df, columns):\n",
    "    dicts = {}\n",
    "    unique_list = list(df[columns].unique())\n",
    "    for i in range(0, len(unique_list)):\n",
    "        dicts[unique_list[i]] = i\n",
    "    return {columns: dicts}"
   ]
  },
  {
   "cell_type": "code",
   "execution_count": 9,
   "metadata": {
    "executionInfo": {
     "elapsed": 32,
     "status": "ok",
     "timestamp": 1647036330592,
     "user": {
      "displayName": "Dongjun Cho",
      "photoUrl": "https://lh3.googleusercontent.com/a/default-user=s64",
      "userId": "15959755585155440977"
     },
     "user_tz": 480
    },
    "id": "fcd-tQ7_qq26"
   },
   "outputs": [],
   "source": [
    "# Replace to numeric single/multiple columns in the dataset\n",
    "# 1. Based on categorize dataset function, it replaces string value to numeric values for single/multiple columns\n",
    "\n",
    "def replacing_string_to_numeric_multiple_columns(df, string_columns ):\n",
    "    for i in string_columns:\n",
    "        df = df.replace(categorize_dataset(df,i))\n",
    "    return df"
   ]
  },
  {
   "cell_type": "code",
   "execution_count": 10,
   "metadata": {
    "executionInfo": {
     "elapsed": 188,
     "status": "ok",
     "timestamp": 1647036330750,
     "user": {
      "displayName": "Dongjun Cho",
      "photoUrl": "https://lh3.googleusercontent.com/a/default-user=s64",
      "userId": "15959755585155440977"
     },
     "user_tz": 480
    },
    "id": "TLJotdH-qq26"
   },
   "outputs": [],
   "source": [
    "# Replace to numeric all columns in the dataset\n",
    "# 1. Based on categorize dataset function, it replaces string value to numeric values for all columns.\n",
    "\n",
    "def replacing_string_to_numeric_all_columns(df):\n",
    "    for i in df.columns.values:\n",
    "        df = df.replace(categorize_dataset(df, i))\n",
    "    return df"
   ]
  },
  {
   "cell_type": "markdown",
   "metadata": {
    "id": "n537ZbaBKxMN"
   },
   "source": [
    "## Categorical Distribution for Computer Hardware Dataset"
   ]
  },
  {
   "cell_type": "code",
   "execution_count": 11,
   "metadata": {
    "executionInfo": {
     "elapsed": 23,
     "status": "ok",
     "timestamp": 1647036330751,
     "user": {
      "displayName": "Dongjun Cho",
      "photoUrl": "https://lh3.googleusercontent.com/a/default-user=s64",
      "userId": "15959755585155440977"
     },
     "user_tz": 480
    },
    "id": "IAmhXQUeKxMO"
   },
   "outputs": [],
   "source": [
    "# Compter Categorical Distribution\n",
    "# It categorizes the machine data based on names file.\n",
    "\n",
    "def computer_categorical_distribution(x):\n",
    "    if 0<=x <=20:\n",
    "        return 0\n",
    "    if 21<=x <=100:\n",
    "        return 1\n",
    "    if 101<=x<=200:\n",
    "        return 2\n",
    "    if 201 <=x<=300:\n",
    "        return 3\n",
    "    if 301 <= x<=400:\n",
    "        return 4\n",
    "    if 401<=x<=500:\n",
    "        return 5\n",
    "    if 501<=x<=600:\n",
    "        return 6\n",
    "    if x >600:\n",
    "        return 7"
   ]
  },
  {
   "cell_type": "markdown",
   "metadata": {
    "id": "_zRDbdxGqq28"
   },
   "source": [
    "## Log Transform"
   ]
  },
  {
   "cell_type": "code",
   "execution_count": 12,
   "metadata": {
    "executionInfo": {
     "elapsed": 22,
     "status": "ok",
     "timestamp": 1647036330752,
     "user": {
      "displayName": "Dongjun Cho",
      "photoUrl": "https://lh3.googleusercontent.com/a/default-user=s64",
      "userId": "15959755585155440977"
     },
     "user_tz": 480
    },
    "id": "YQUQL0TLqq28"
   },
   "outputs": [],
   "source": [
    "# Log Transform\n",
    "# 1. This function is used to apply for Forest Fires data. \n",
    "# 2. Based on note, it shows the output area is very skewed toward 0.0. The authors recommend a log transform.\n",
    "# 3. It log transform certain columns in the dataset. \n",
    "\n",
    "def log_transform(x):\n",
    "    return np.log(x + 1)"
   ]
  },
  {
   "cell_type": "markdown",
   "metadata": {
    "id": "dS1EKVUSqq29"
   },
   "source": [
    "## Discretization"
   ]
  },
  {
   "cell_type": "code",
   "execution_count": 13,
   "metadata": {
    "executionInfo": {
     "elapsed": 20,
     "status": "ok",
     "timestamp": 1647036330753,
     "user": {
      "displayName": "Dongjun Cho",
      "photoUrl": "https://lh3.googleusercontent.com/a/default-user=s64",
      "userId": "15959755585155440977"
     },
     "user_tz": 480
    },
    "id": "w2GamJ-gqq29"
   },
   "outputs": [],
   "source": [
    "# Discretization\n",
    "# This function is used to transform real-valued data into a series of discretized values\n",
    "# 1. For discretization, it has two method: Equal Width , Equal Frequency\n",
    "# 2. For Equal width, it divides the data into n intervals of equal size.\n",
    "#  2.1 Width of the k interval is (max - min) /n. \n",
    "#  2.2 It replaces discretized values with dataset\n",
    "# 3. For Equal Frequency, it uses pandas function: qcut().\n",
    "#  3.1 Based on padas, it discretize variable into equal-sized buckets based on rank or based on sample quantiles.\n",
    "#  3.2 It replaces discretized values with the dataset\n",
    "\n",
    "def discretization(df, n, method, columns):\n",
    "    if method ==\"equal_width\":\n",
    "        for i in columns:\n",
    "            max_val = np.amax(df[i].values)\n",
    "            min_val = np.amin(df[i].values)\n",
    "            bin_size = (max_val - min_val) / n\n",
    "            result =[]\n",
    "            for j in df[i].values:\n",
    "                bin_num = int( j // bin_size )\n",
    "                if bin_num > n - 1:\n",
    "                    bin_num = n - 1\n",
    "                result.append( bin_num )\n",
    "            df[i] = df[i].replace(df[i].values,result)\n",
    "            result.clear()\n",
    "        return df\n",
    "    if method == \"equal_frequency\":\n",
    "        for i in columns:\n",
    "            result = pd.qcut(df[i].values,n, labels=False, duplicates='drop')\n",
    "            df[i] = df[i].replace(df[i].values,result)\n",
    "        return df"
   ]
  },
  {
   "cell_type": "markdown",
   "metadata": {
    "id": "kKmypkHAqq2-"
   },
   "source": [
    "## Standardization"
   ]
  },
  {
   "cell_type": "code",
   "execution_count": 14,
   "metadata": {
    "executionInfo": {
     "elapsed": 19,
     "status": "ok",
     "timestamp": 1647036330753,
     "user": {
      "displayName": "Dongjun Cho",
      "photoUrl": "https://lh3.googleusercontent.com/a/default-user=s64",
      "userId": "15959755585155440977"
     },
     "user_tz": 480
    },
    "id": "QUbwa9Lxqq2-"
   },
   "outputs": [],
   "source": [
    "# Split dataset\n",
    "# 1. It splits the dataset into two: training set and test set.\n",
    "# 2. Training set has 80% of original dataset. \n",
    "# 3. Testing set has 20% of original dataset. \n",
    "\n",
    "def split_dataset(df, train_perc):\n",
    "    train_end_ind = int(round(df.shape[0] * train_perc))\n",
    "    train = df.iloc[0:train_end_ind]\n",
    "    test = df.iloc[train_end_ind:-1]\n",
    "    return (train, test)"
   ]
  },
  {
   "cell_type": "code",
   "execution_count": 15,
   "metadata": {
    "executionInfo": {
     "elapsed": 19,
     "status": "ok",
     "timestamp": 1647036330754,
     "user": {
      "displayName": "Dongjun Cho",
      "photoUrl": "https://lh3.googleusercontent.com/a/default-user=s64",
      "userId": "15959755585155440977"
     },
     "user_tz": 480
    },
    "id": "RaEQ8wV_qq2_"
   },
   "outputs": [],
   "source": [
    "# Z-score standardization\n",
    "# It computes z-score by (observed value - mean of the sample) / standard deviation of the sample\n",
    "\n",
    "def z_score_standardization(df):\n",
    "    z_score = (df-df.mean())/df.std()\n",
    "    return z_score"
   ]
  },
  {
   "cell_type": "code",
   "execution_count": 16,
   "metadata": {
    "executionInfo": {
     "elapsed": 19,
     "status": "ok",
     "timestamp": 1647036330754,
     "user": {
      "displayName": "Dongjun Cho",
      "photoUrl": "https://lh3.googleusercontent.com/a/default-user=s64",
      "userId": "15959755585155440977"
     },
     "user_tz": 480
    },
    "id": "V5fttln4qq2_"
   },
   "outputs": [],
   "source": [
    "# Standardization\n",
    "# 1. It applies z-score standardization for training set and testign set. \n",
    "\n",
    "def Standardization(training, testing):\n",
    "    training_zscore = z_score_standardization(training)\n",
    "    testing_zscore = z_score_standardization(testing)\n",
    "    return (training_zscore, testing_zscore)"
   ]
  },
  {
   "cell_type": "markdown",
   "metadata": {
    "id": "LiPIL5iKqq3A"
   },
   "source": [
    "## Cross-validation"
   ]
  },
  {
   "cell_type": "code",
   "execution_count": 17,
   "metadata": {
    "executionInfo": {
     "elapsed": 19,
     "status": "ok",
     "timestamp": 1647036330755,
     "user": {
      "displayName": "Dongjun Cho",
      "photoUrl": "https://lh3.googleusercontent.com/a/default-user=s64",
      "userId": "15959755585155440977"
     },
     "user_tz": 480
    },
    "id": "1m5UvzHfqq3A"
   },
   "outputs": [],
   "source": [
    "#K-fold cross validation\n",
    "# For this k-fold cross valiation, it applied startification.\n",
    "# 1. With training set, it splits training set into k-equaled size. \n",
    "# 2. It returns k-equal-sized training partitions. \n",
    "\n",
    "def cross_validation(df, k):\n",
    "    df_size= len(df)\n",
    "    df_size = df_size//k \n",
    "    remainder = df_size %k\n",
    "    df_folds = []\n",
    "    start = 0\n",
    "    for i in range(0,k):\n",
    "        if i < remainder:\n",
    "            fold =  df.iloc[start : start+df_size+1]\n",
    "            df_folds.append(fold)\n",
    "            start +=  df_size + 1\n",
    "        else:\n",
    "            fold =  df.iloc[start : start+df_size]\n",
    "            df_folds.append(fold)\n",
    "            start +=  df_size\n",
    "    return df_folds"
   ]
  },
  {
   "cell_type": "code",
   "execution_count": 18,
   "metadata": {
    "executionInfo": {
     "elapsed": 17,
     "status": "ok",
     "timestamp": 1647036330755,
     "user": {
      "displayName": "Dongjun Cho",
      "photoUrl": "https://lh3.googleusercontent.com/a/default-user=s64",
      "userId": "15959755585155440977"
     },
     "user_tz": 480
    },
    "id": "LOi32WZGKxMa"
   },
   "outputs": [],
   "source": [
    "# Cross Validation Regression\n",
    "# 1. Unlike Cross validation classification, it samples uniformly across all of the response values.\n",
    "# 2. It sorts the data by predictor. Then, It takes fifth point for a given fold.\n",
    "# 3. It returns k-equal-sized training partitions. \n",
    "\n",
    "def cross_validation_regression(df, k, var):\n",
    "    df = df.sort_values(var, axis=0)\n",
    "    df_size= len(df)\n",
    "    df_size = df_size//k \n",
    "    remainder = df_size %k\n",
    "    df_folds = []\n",
    "    start = 0\n",
    "    for i in range(0,k):\n",
    "        if i < remainder:\n",
    "            fold = df.iloc[::5,].reset_index(drop=True)\n",
    "            fold =  df.iloc[start : start+df_size+1]\n",
    "            df_folds.append(fold)\n",
    "            start +=  df_size + 1\n",
    "        else:\n",
    "            fold = df.iloc[::5,].reset_index(drop=True)\n",
    "            fold =  df.iloc[start : start+df_size]\n",
    "            df_folds.append(fold)\n",
    "            start +=  df_size\n",
    "    return df_folds"
   ]
  },
  {
   "cell_type": "markdown",
   "metadata": {
    "id": "VuENlUx3qq3B"
   },
   "source": [
    "## Evaluation Metrics"
   ]
  },
  {
   "cell_type": "code",
   "execution_count": 19,
   "metadata": {
    "executionInfo": {
     "elapsed": 18,
     "status": "ok",
     "timestamp": 1647036330756,
     "user": {
      "displayName": "Dongjun Cho",
      "photoUrl": "https://lh3.googleusercontent.com/a/default-user=s64",
      "userId": "15959755585155440977"
     },
     "user_tz": 480
    },
    "id": "RekFS1B7qq3B"
   },
   "outputs": [],
   "source": [
    "# Evaluation Metrics\n",
    "# It used to evaluate the efficacy of a machine learning algorithm on a dataset. \n",
    "# 1. Classification score\n",
    "#  1.1 It computes accuracy score between predicted values and observed values\n",
    "# 2. MSE\n",
    "#  2.1 It compute MSE by sum of square of difference between actual and predicted and divide by number of points.\n",
    "# 3. MAE\n",
    "#  3.1 It compute MAE by sum of absolute of (prediction - true value) and divide by number of points.\n",
    "# 4. R Square\n",
    "#  4.1 R squared is computed by 1 - RSS (sum of squares of residuals)/ TSS (total sum of squares)\n",
    "# 5. Pearson’s correlation\n",
    "#  5.1 Pearson's correlation is computed by Covariance of X and Y / (stadard deviation of X * stadard deviation of Y)\n",
    "\n",
    "def evaluation_metrics(y_true, y_pred, method):\n",
    "    diff = np.subtract(y_true, y_pred)\n",
    "    if method ==\"classification score\":\n",
    "        count = 0\n",
    "        for i in range(len(y_pred)):\n",
    "            if y_pred[i] == y_true[i]:\n",
    "                count +=1\n",
    "        accuracy_score = count / len(y_pred)\n",
    "        return accuracy_score\n",
    "    if method ==\"MSE\":\n",
    "        return np.mean(diff**2)\n",
    "    if method ==\"MAE\":\n",
    "        return np.mean(abs(diff))\n",
    "    if method ==\"R square\":\n",
    "        y_bar = y.mean()\n",
    "        TSS = ((y-y_bar)**2).sum()\n",
    "        RSS = (diff**2).sum()\n",
    "        return 1 - (RSS/TSS)\n",
    "    if method ==\"Pearson_correlation\":\n",
    "        covariance = np.cov(y_true, y_pred)\n",
    "        pearson = covariance / (np.std(y_true) * np.std(y_pred))\n",
    "        return pearson\n"
   ]
  },
  {
   "cell_type": "markdown",
   "metadata": {
    "id": "dhMTIH5MmWhm"
   },
   "source": [
    "## ID3"
   ]
  },
  {
   "cell_type": "code",
   "execution_count": 20,
   "metadata": {
    "executionInfo": {
     "elapsed": 219,
     "status": "ok",
     "timestamp": 1647036330958,
     "user": {
      "displayName": "Dongjun Cho",
      "photoUrl": "https://lh3.googleusercontent.com/a/default-user=s64",
      "userId": "15959755585155440977"
     },
     "user_tz": 480
    },
    "id": "fdNw-4r2mWhn"
   },
   "outputs": [],
   "source": [
    "# ID3 Node to construct the decision tree\n",
    "#    target: predictor class assigned to node\n",
    "#    parent: parent node for the attribute\n",
    "#    parent_feature: parent attribute value\n",
    "#    attribute: attribute node\n",
    "#    attribute_feature: attribute values\n",
    "#    children: All the data for the certain child\n",
    "#    child: Child node of the parents\n",
    "#    prune_tag: indicator whether we prune the node or not.\n",
    "\n",
    "class ID3_Node:\n",
    "    def __init__(self, target):\n",
    "        self.target = target\n",
    "        self.parent = None\n",
    "        self.parent_feature = []\n",
    "        self.attribute = None\n",
    "        self.attribute_feature = []\n",
    "        self.children= []\n",
    "        self.child = {}\n",
    "        self.prune_tag = False"
   ]
  },
  {
   "cell_type": "code",
   "execution_count": 21,
   "metadata": {
    "executionInfo": {
     "elapsed": 24,
     "status": "ok",
     "timestamp": 1647036330962,
     "user": {
      "displayName": "Dongjun Cho",
      "photoUrl": "https://lh3.googleusercontent.com/a/default-user=s64",
      "userId": "15959755585155440977"
     },
     "user_tz": 480
    },
    "id": "z5yFvXdymWhn"
   },
   "outputs": [],
   "source": [
    "#Entropy\n",
    "# It computes the amount of information contain within the target. \n",
    "# It can be computed by -(fraction)*log(fraction).\n",
    "\n",
    "def entropy(target):\n",
    "    elements, counts = np.unique(target, return_counts=True)\n",
    "    entropy_node = 0\n",
    "    for i in range(len(elements)):\n",
    "        fraction = counts[i] / np.sum(counts)\n",
    "        entropy_node += (-fraction)*(np.log2(fraction))\n",
    "    return entropy_node"
   ]
  },
  {
   "cell_type": "markdown",
   "metadata": {
    "id": "a3hcNTlhmWho"
   },
   "source": [
    "### Categorical"
   ]
  },
  {
   "cell_type": "code",
   "execution_count": 22,
   "metadata": {
    "executionInfo": {
     "elapsed": 24,
     "status": "ok",
     "timestamp": 1647036330963,
     "user": {
      "displayName": "Dongjun Cho",
      "photoUrl": "https://lh3.googleusercontent.com/a/default-user=s64",
      "userId": "15959755585155440977"
     },
     "user_tz": 480
    },
    "id": "bYrqebOXmWho"
   },
   "outputs": [],
   "source": [
    "#Compute_gain\n",
    "# It comptues the Information gain for each attribute.\n",
    "# For information gain, it can be comptued by subtracting target entropy to estimated entropy.\n",
    "\n",
    "def compute_gain(df, column_attr, target):\n",
    "    target_entropy = entropy(df[target])\n",
    "    elements, counts = np.unique(df[column_attr], return_counts=True)\n",
    "    total_weight_entropy =[]\n",
    "    for i in range(len(elements)):\n",
    "        fraction = counts[i] / np.sum(counts)\n",
    "        entropy_node = entropy(df[df[column_attr]==elements[i]][target])\n",
    "        weight_entropy = fraction*entropy_node\n",
    "        total_weight_entropy.append(weight_entropy)\n",
    "    expected_entropy = np.sum(total_weight_entropy)\n",
    "    gain = target_entropy - expected_entropy\n",
    "    return gain"
   ]
  },
  {
   "cell_type": "code",
   "execution_count": 23,
   "metadata": {
    "executionInfo": {
     "elapsed": 25,
     "status": "ok",
     "timestamp": 1647036330963,
     "user": {
      "displayName": "Dongjun Cho",
      "photoUrl": "https://lh3.googleusercontent.com/a/default-user=s64",
      "userId": "15959755585155440977"
     },
     "user_tz": 480
    },
    "id": "XDhBQH0JmWhp"
   },
   "outputs": [],
   "source": [
    "# Find Highest Gain\n",
    "# ID3 uses information gain for attribute selection in decision tree. \n",
    "# It computes the information gain for each attribute using compute_gain function.\n",
    "# Then, it returns the attributes that has highest information gain. \n",
    "\n",
    "def find_highest_gain(df, target):\n",
    "    highest_gain_list = []\n",
    "    columns_feature = df.columns[df.columns!=target]\n",
    "    for i in columns_feature:\n",
    "        highest_gain_list.append(compute_gain(df, i, target))\n",
    "    highest_gain = columns_feature[highest_gain_list.index(max(highest_gain_list))]\n",
    "    highest_gain_ratio = max(highest_gain_list)\n",
    "    return highest_gain, highest_gain_ratio"
   ]
  },
  {
   "cell_type": "code",
   "execution_count": 24,
   "metadata": {
    "executionInfo": {
     "elapsed": 25,
     "status": "ok",
     "timestamp": 1647036330965,
     "user": {
      "displayName": "Dongjun Cho",
      "photoUrl": "https://lh3.googleusercontent.com/a/default-user=s64",
      "userId": "15959755585155440977"
     },
     "user_tz": 480
    },
    "id": "89guR9V2mWhp"
   },
   "outputs": [],
   "source": [
    "# ID3_categorical\n",
    "#  It handles the categorical attributes of the dataset. \n",
    "#  It initializes the decision tree by setting root node as the attribute with highest information gain.\n",
    "#  It gets the attribute feature value for the root node.\n",
    "#  It splits the instance, and continues to build tree. \n",
    "# Stopping Criteria\n",
    "#  If every instance has same class label, it returns most unique class\n",
    "#  If there is no attribute to split, it returns attribute with highest information gain.\n",
    "\n",
    "def ID3_categorical(df, predictor, features, most_common_label=None):\n",
    "    if len(np.unique(df[predictor])) <=1:\n",
    "        most_common_label = np.unique(df[predictor])[0]\n",
    "        return ID3_Node(most_common_label)\n",
    "    elif len(features) ==0:\n",
    "        return most_common_label\n",
    "    else:\n",
    "        most_common_label = np.unique(df[predictor])[np.argmax(np.unique(df[predictor], return_counts=True)[1])]\n",
    "        TREE = ID3_Node(most_common_label)\n",
    "        attribute_selected = find_highest_gain(df, predictor)[0]\n",
    "        TREE.attribute = attribute_selected\n",
    "\n",
    "        best_feature = list(df[find_highest_gain(df, predictor)[0]].unique())\n",
    "        TREE.attribute_feature = best_feature\n",
    "        \n",
    "        features = [i for i in features if i != attribute_selected]\n",
    "        for i in TREE.attribute_feature:\n",
    "            sub_data = df[df[attribute_selected] == i]\n",
    "            subtree = ID3_categorical(sub_data, predictor, features, most_common_label)\n",
    "            subtree.children = sub_data\n",
    "            subtree.parent =  attribute_selected\n",
    "            subtree.parent_feature = i\n",
    "            \n",
    "            TREE.child[i] = subtree\n",
    "        return TREE"
   ]
  },
  {
   "cell_type": "code",
   "execution_count": 25,
   "metadata": {
    "executionInfo": {
     "elapsed": 28,
     "status": "ok",
     "timestamp": 1647036330969,
     "user": {
      "displayName": "Dongjun Cho",
      "photoUrl": "https://lh3.googleusercontent.com/a/default-user=s64",
      "userId": "15959755585155440977"
     },
     "user_tz": 480
    },
    "id": "H8tLdGncmWhq"
   },
   "outputs": [],
   "source": [
    "# Predict ID3\n",
    "#  If the node is left node, it return class label. \n",
    "#  If the node does't have to prune, it keeps predicts until leaf node for every child node.\n",
    "#  If the node have to prune, then it returns common unique class for the subtree. \n",
    "\n",
    "def predict_ID3(TREE, row_attr, predictor):\n",
    "    if len(TREE.child) == 0:\n",
    "        return TREE.target\n",
    "    else:\n",
    "        feature_value = row_attr[TREE.attribute]\n",
    "        if feature_value in TREE.child and TREE.child[feature_value].prune_tag == False:\n",
    "            return predict_ID3(TREE.child[feature_value], row_attr, predictor)\n",
    "        else:\n",
    "            pred_y = []\n",
    "            for i in TREE.attribute_feature:\n",
    "                pred_y.append(np.unique(TREE.child[i].children[predictor])[0])\n",
    "            return np.unique(pred_y)[0]"
   ]
  },
  {
   "cell_type": "markdown",
   "metadata": {
    "id": "sgY2z5dvmWhq"
   },
   "source": [
    "### Numerical"
   ]
  },
  {
   "cell_type": "code",
   "execution_count": 26,
   "metadata": {
    "executionInfo": {
     "elapsed": 28,
     "status": "ok",
     "timestamp": 1647036330971,
     "user": {
      "displayName": "Dongjun Cho",
      "photoUrl": "https://lh3.googleusercontent.com/a/default-user=s64",
      "userId": "15959755585155440977"
     },
     "user_tz": 480
    },
    "id": "VMnDHb1QmWhr"
   },
   "outputs": [],
   "source": [
    "# Select_best_numeric\n",
    "#  This function is to select best attribute and gain ratio for the numeric dataset. \n",
    "#  For each of the row in the dataset, it determins whether the row is cancidate split points.\n",
    "#  It decides where to split where the class changes. \n",
    "#  It splits the data into two branches(left, right).\n",
    "#  It computes information gain, and best gain ratio for the split.\n",
    "#  It returns the best split points and best gain ratio.\n",
    "\n",
    "def select_best_numeric(df, predictor, attribute):\n",
    "    binary_split= []\n",
    "    attribute_gain = []\n",
    "    best_gain_ratio = 0\n",
    "    best_f = None\n",
    "    total = df.shape[0]\n",
    "    pre_entropy = entropy(df[predictor])\n",
    "    for i in range(1, len(df)):\n",
    "        if df.loc[i, predictor] != df.loc[i + 1, predictor]:\n",
    "            middle_point = (df.loc[i, attribute] + df.loc[i+1, attribute]) / 2\n",
    "            left = df.loc[df[attribute] < middle_point]\n",
    "            right = df.loc[df[attribute] > middle_point]\n",
    "            entropy_left = (len(left)/total)* entropy(left[predictor])\n",
    "            entropy_right =(len(right)/total)* entropy(right[predictor])\n",
    "            total_entropy = entropy_left + entropy_right\n",
    "            info_gain = pre_entropy - total_entropy\n",
    "            attribute_gain.append(info_gain)\n",
    "            binary_split.append(middle_point)\n",
    "    best_gain_ratio = max(attribute_gain)\n",
    "    best_split = binary_split[attribute_gain.index(max(attribute_gain))]\n",
    "    return best_split, best_gain_ratio, attribute                      "
   ]
  },
  {
   "cell_type": "code",
   "execution_count": 27,
   "metadata": {
    "executionInfo": {
     "elapsed": 28,
     "status": "ok",
     "timestamp": 1647036330972,
     "user": {
      "displayName": "Dongjun Cho",
      "photoUrl": "https://lh3.googleusercontent.com/a/default-user=s64",
      "userId": "15959755585155440977"
     },
     "user_tz": 480
    },
    "id": "CVR20stCmWhr"
   },
   "outputs": [],
   "source": [
    "# Best Attribute selection\n",
    "# It iterates through all attribute except target feature\n",
    "# It sorts the data on the attribute and target feature.\n",
    "# Using Select_best_numeric function, it computes the information for each attribute.\n",
    "# It finds the attribute that has highest gain.\n",
    "# It returns the attributes that has highest information gain, and split points of the attribute. \n",
    "\n",
    "def best_attribute_selection(df, predictor):\n",
    "    info_gain = []\n",
    "    for i in df.columns[df.columns!=predictor]:\n",
    "        new_df = df.sort_values(by =[i, predictor])\n",
    "        info_gain.append(select_best_numeric(new_df, predictor, i)[1])\n",
    "    if select_best_numeric(df, predictor, i)[1] == max(info_gain):\n",
    "        selected_attribute = (select_best_numeric(df, predictor, i)[2], select_best_numeric(df, predictor, i)[0])\n",
    "    return selected_attribute"
   ]
  },
  {
   "cell_type": "markdown",
   "metadata": {
    "id": "TKP3vGTDmWht"
   },
   "source": [
    "### ID3 Score"
   ]
  },
  {
   "cell_type": "code",
   "execution_count": 28,
   "metadata": {
    "executionInfo": {
     "elapsed": 119,
     "status": "ok",
     "timestamp": 1647036331070,
     "user": {
      "displayName": "Dongjun Cho",
      "photoUrl": "https://lh3.googleusercontent.com/a/default-user=s64",
      "userId": "15959755585155440977"
     },
     "user_tz": 480
    },
    "id": "uhxtjtpimWhu"
   },
   "outputs": [],
   "source": [
    "# ID3_score\n",
    "# It determines what type of attribute we are handlin either categorical or numerical.\n",
    "# It predicts the class label for he dataset, and evaluate the performance using classification score. \n",
    "# It returns the accuracy score. \n",
    "# * For this project, I was able to figure out how to get best numerical attribute, \n",
    "#   but I wasn't able to implement the decision tree with numerical attribute. \n",
    "\n",
    "def ID3_score(TREE, df, attr_type, predictor):\n",
    "    pred_list = []\n",
    "    for i in range(len(df)):\n",
    "        if attr_type == 'categorical':\n",
    "            prediction = predict_ID3(TREE, df.iloc[i, :], predictor)\n",
    "        elif attr_type == 'numerical':\n",
    "            return print(\"best attribute\" + str(best_attribute_selection(df, predictor)))\n",
    "        pred_list.append(prediction)\n",
    "    score = evaluation_metrics(df[predictor].values, pred_list, \"classification score\")\n",
    "    return score"
   ]
  },
  {
   "cell_type": "markdown",
   "metadata": {
    "id": "eGKSAlGgmWhv"
   },
   "source": [
    "### Pruning (Reduced Error Pruning)"
   ]
  },
  {
   "cell_type": "code",
   "execution_count": 29,
   "metadata": {
    "executionInfo": {
     "elapsed": 7,
     "status": "ok",
     "timestamp": 1647036331071,
     "user": {
      "displayName": "Dongjun Cho",
      "photoUrl": "https://lh3.googleusercontent.com/a/default-user=s64",
      "userId": "15959755585155440977"
     },
     "user_tz": 480
    },
    "id": "iEdSrQa5mWhv"
   },
   "outputs": [],
   "source": [
    "# Pruning\n",
    "# It uses the tree that already grown to completion. \n",
    "# By iterating all the child node in the decision tree, it tagged the node for prune.\n",
    "# If the tagged tree performs better than untagged tree, then tagged tree becomes new tree.\n",
    "# It continues to pruning until no improvement occurs or if there is no node left to test. \n",
    "# It returns the tree with prunned tag tree.\n",
    "\n",
    "def pruning(TREE, TREE_v1, tune_df, attr_type, predictor):\n",
    "    branches = TREE_v1.child\n",
    "    if len(branches) == 0:\n",
    "        privous_score = ID3_score(TREE, tune_df, attr_type, predictor)\n",
    "        TREE_v1.prune_tag = True\n",
    "        new_score = ID3_score(TREE, tune_df, attr_type, predictor)\n",
    "        if privous_score > new_score:\n",
    "            TREE_v1.prune_tag = False\n",
    "        return TREE\n",
    "    else:\n",
    "        for value, subtree in branches.items():\n",
    "            pruned_tree = pruning(TREE, subtree, tune_df, attr_type, predictor)\n",
    "        privous_score = ID3_score(pruned_tree, tune_df, attr_type, predictor)\n",
    "        TREE_v1.prune_tag = True\n",
    "        new_score = ID3_score(pruned_tree, tune_df, attr_type, predictor)\n",
    "        if privous_score > new_score:\n",
    "            TREE_v1.prune_tag = False\n",
    "        return pruned_tree"
   ]
  },
  {
   "cell_type": "markdown",
   "metadata": {
    "id": "-65yqhDyFIiY"
   },
   "source": [
    "### ID3 Evaluation"
   ]
  },
  {
   "cell_type": "code",
   "execution_count": 30,
   "metadata": {
    "executionInfo": {
     "elapsed": 8,
     "status": "ok",
     "timestamp": 1647036331205,
     "user": {
      "displayName": "Dongjun Cho",
      "photoUrl": "https://lh3.googleusercontent.com/a/default-user=s64",
      "userId": "15959755585155440977"
     },
     "user_tz": 480
    },
    "id": "6E2JFF3amWhw"
   },
   "outputs": [],
   "source": [
    "# ID3\n",
    "#  It computes ID3 without pruned and with pruned. \n",
    "#  It evaluates the performance using ID3_Score function.\n",
    "#  It returns the perofrmance of each of the fold. \n",
    "#  For reduced error pruning, it uses 20% of dataset to do pruning process.\n",
    "#  Then, test the pruned tree with 80% of cross-validation. \n",
    "\n",
    "def ID3(df, predictor, test, attr_type, pruned:bool):\n",
    "    score_list = []\n",
    "    for i in range(0, len(df)):\n",
    "        k_validate = pd.concat([x for j,x in enumerate(df) if j!=i])\n",
    "        testing_val_y = df[i][predictor].values\n",
    "        columns_feature = k_validate.columns[k_validate.columns!=predictor]\n",
    "        if attr_type == 'categorical':\n",
    "            if pruned == False:\n",
    "                Tree = ID3_categorical(k_validate, predictor, columns_feature)\n",
    "                Score = ID3_score(Tree, df[i], attr_type, predictor)\n",
    "                Score = round((Score*100),2)\n",
    "                score_list.append(Score)\n",
    "            else:\n",
    "                Tree = ID3_categorical(k_validate, predictor, columns_feature)\n",
    "                pruned_tree = pruning(Tree, Tree, test, attr_type, predictor)\n",
    "                pruned_score = ID3_score(pruned_tree , df[i], attr_type, predictor)\n",
    "                pruned_score = round((pruned_score*100),2)\n",
    "                score_list.append(pruned_score)\n",
    "    return score_list"
   ]
  },
  {
   "cell_type": "markdown",
   "metadata": {
    "id": "Scpad_mUmWhx"
   },
   "source": [
    "## CART"
   ]
  },
  {
   "cell_type": "code",
   "execution_count": 31,
   "metadata": {
    "executionInfo": {
     "elapsed": 7,
     "status": "ok",
     "timestamp": 1647036331206,
     "user": {
      "displayName": "Dongjun Cho",
      "photoUrl": "https://lh3.googleusercontent.com/a/default-user=s64",
      "userId": "15959755585155440977"
     },
     "user_tz": 480
    },
    "id": "X0hQfxHumWhx"
   },
   "outputs": [],
   "source": [
    "#CART Node to construct CART Decisio Tree\n",
    "#    target : predictor value assigned to node\n",
    "#    parent: parent node for the attribute\n",
    "#    attribute: attribute node\n",
    "#    attribute_feature: attribute values\n",
    "#    children: All the data for the certain child\n",
    "#    child: Child node of the parents\n",
    "\n",
    "class CART_Node:\n",
    "    def __init__(self, target):\n",
    "        self.target = target\n",
    "        self.attribute = None\n",
    "        self.parent = None\n",
    "        self.children = None\n",
    "        self.child = {}"
   ]
  },
  {
   "cell_type": "code",
   "execution_count": 32,
   "metadata": {
    "executionInfo": {
     "elapsed": 9,
     "status": "ok",
     "timestamp": 1647036331208,
     "user": {
      "displayName": "Dongjun Cho",
      "photoUrl": "https://lh3.googleusercontent.com/a/default-user=s64",
      "userId": "15959755585155440977"
     },
     "user_tz": 480
    },
    "id": "TOcKc39pmWhy"
   },
   "outputs": [],
   "source": [
    "# MSE\n",
    "# CART uses MSE for attribute selection in decision tree. \n",
    "\n",
    "def mse(sub_data):\n",
    "    sub_data = sub_data.values\n",
    "    return np.mean((sub_data - np.mean(sub_data))**2)"
   ]
  },
  {
   "cell_type": "code",
   "execution_count": 33,
   "metadata": {
    "executionInfo": {
     "elapsed": 162,
     "status": "ok",
     "timestamp": 1647036331362,
     "user": {
      "displayName": "Dongjun Cho",
      "photoUrl": "https://lh3.googleusercontent.com/a/default-user=s64",
      "userId": "15959755585155440977"
     },
     "user_tz": 480
    },
    "id": "oDP3wXE0mWhy"
   },
   "outputs": [],
   "source": [
    "# equal_frequency_split\n",
    "# It uses equal freqency method to split the points.\n",
    "# It returns the split points for the dataset.\n",
    "\n",
    "def equal_frequency_split(df, col, n):\n",
    "    col_unique =  np.sort(df[col].unique())\n",
    "    splitting_criteria=[]\n",
    "    for i in range(n-1):\n",
    "        splitting_criteria.append(col_unique[int(len(col_unique) / n) * (i+1)])\n",
    "    return splitting_criteria"
   ]
  },
  {
   "cell_type": "code",
   "execution_count": 34,
   "metadata": {
    "executionInfo": {
     "elapsed": 8,
     "status": "ok",
     "timestamp": 1647036331363,
     "user": {
      "displayName": "Dongjun Cho",
      "photoUrl": "https://lh3.googleusercontent.com/a/default-user=s64",
      "userId": "15959755585155440977"
     },
     "user_tz": 480
    },
    "id": "1IlYFaOTmWhz"
   },
   "outputs": [],
   "source": [
    "# Best_selection\n",
    "# Using equal_frequency_split function, it finds the splits point for the dataset.\n",
    "# For each of the split point, it splits the attribute into left node and right node.\n",
    "# It comptues information gain by fraction of node times mse of the node. \n",
    "# Then, it finds the best splits attribute for root node.\n",
    "\n",
    "def best_selection(df, predictor, freq):\n",
    "    columns_feature = df.columns[df.columns!=predictor]\n",
    "    equal_frequency = {}\n",
    "    for col in columns_feature:\n",
    "        equal_frequency[col] = equal_frequency_split(df, col, freq)\n",
    "        \n",
    "    feature_mse = float('inf')\n",
    "    feature_root = None\n",
    "    feature_split = None\n",
    "    total_gain = 0\n",
    "    for i in equal_frequency.keys():\n",
    "        split_freq = equal_frequency[i]\n",
    "        for j in split_freq:\n",
    "            left_node = df[df[i]<j]\n",
    "            left_node_mse = mse(left_node[predictor])\n",
    "\n",
    "            right_node = df[df[i]>=j]\n",
    "            right_node_mse = mse(right_node[predictor])\n",
    "\n",
    "            left_gain = (len(left_node)/len(df))*left_node_mse\n",
    "            right_gain = (len(right_node)/len(df))*right_node_mse\n",
    "            total_gain = left_gain + right_gain\n",
    "            if total_gain < feature_mse:\n",
    "                feature_mse = total_gain\n",
    "                feature_root = i\n",
    "                feature_split = j\n",
    "    return feature_mse, feature_root, feature_split"
   ]
  },
  {
   "cell_type": "code",
   "execution_count": 35,
   "metadata": {
    "executionInfo": {
     "elapsed": 156,
     "status": "ok",
     "timestamp": 1647036331514,
     "user": {
      "displayName": "Dongjun Cho",
      "photoUrl": "https://lh3.googleusercontent.com/a/default-user=s64",
      "userId": "15959755585155440977"
     },
     "user_tz": 480
    },
    "id": "gD4tGNKumWh0"
   },
   "outputs": [],
   "source": [
    "#CART\n",
    "# It select the attribute as root node using best_selection function. \n",
    "# The data that is less than the selected binary split is set to the left node, otherwise right node\n",
    "# Stopping Criteria\n",
    "#  If every instance has same class label, it returns most unique class\n",
    "#  If there is no best attribute, then it select the mean of the attribute.\n",
    "\n",
    "def CART(df, n, predictor):\n",
    "    if len(df[predictor].unique()) <= 1:\n",
    "        target_val = df[predictor].unique()[0]\n",
    "        return CART_Node(target_val)\n",
    "    else:\n",
    "        target_val = np.mean(df[predictor])\n",
    "        TREE = CART_Node(target_val)\n",
    "        attribute_mse, best_attribute, best_threshold = best_selection(df,predictor, n)\n",
    "        \n",
    "        if best_attribute == None:\n",
    "            target_val = np.mean(df[predictor])\n",
    "            return CART_Node(target_val)\n",
    "        TREE.attribute = best_attribute\n",
    "        df_left = df[df[best_attribute] < best_threshold]\n",
    "        df_right = df[df[best_attribute] >= best_threshold]\n",
    "        left_node = df_left.iloc[:, df_left.columns != best_attribute]\n",
    "        right_node = df_right.iloc[:, df_right.columns != best_attribute]\n",
    "        \n",
    "        for i in ['>_' + str(best_threshold), '<_' + str(best_threshold)]:\n",
    "            sub_data = left_node if i == '>_' + str(best_threshold) else right_node\n",
    "            subtree = CART(sub_data, n, predictor)\n",
    "            subtree.parent = best_attribute\n",
    "            TREE.child[i] = subtree\n",
    "    return TREE"
   ]
  },
  {
   "cell_type": "markdown",
   "metadata": {
    "id": "iJRJFdr3mWh0"
   },
   "source": [
    "### Early Stopping"
   ]
  },
  {
   "cell_type": "code",
   "execution_count": 36,
   "metadata": {
    "executionInfo": {
     "elapsed": 8,
     "status": "ok",
     "timestamp": 1647036331515,
     "user": {
      "displayName": "Dongjun Cho",
      "photoUrl": "https://lh3.googleusercontent.com/a/default-user=s64",
      "userId": "15959755585155440977"
     },
     "user_tz": 480
    },
    "id": "d6h90thKmWh1"
   },
   "outputs": [],
   "source": [
    "#CART_early_stop\n",
    "# It works very similary compare to normal CART. \n",
    "# It select the attribute as root node using best_selection function. \n",
    "# The data that is less than the selected binary split is set to the left node, otherwise right node\n",
    "# Stopping Criteria\n",
    "#  If every instance has same class label, it returns most unique class\n",
    "#  If there is no best attribute, then it select the mean of the attribute.\n",
    "#  If the leaf node is exceed the limit of the leaf node, it stops growing.\n",
    "#  If there are less than the threshold value, it will not proceed further and returns a mean of the remaining points.  \n",
    "\n",
    "def CART_early_stop(df, n, min_leaf, threshold, predictor):\n",
    "    if len(df[predictor].unique()) <= 1:\n",
    "        target_val = df[predictor].unique()[0]\n",
    "        return CART_Node(target_val)\n",
    "    elif len(df) <= min_leaf:\n",
    "        target_val =np.mean(df[predictor])\n",
    "        return CART_Node(target_val)\n",
    "    else:\n",
    "        target_val = np.mean(df[predictor])\n",
    "        TREE = CART_Node(target_val)\n",
    "        attribute_mse, best_attribute, best_threshold = best_selection(df,predictor, n)\n",
    "        if best_attribute == None:\n",
    "            target_val = np.mean(df[predictor])\n",
    "            return CART_Node(target_val)\n",
    "        elif attribute_mse < threshold:\n",
    "            return TREE\n",
    "        else:\n",
    "            TREE.attribute = best_attribute\n",
    "            df_left = df[df[best_attribute] < best_threshold]\n",
    "            df_right = df[df[best_attribute] >= best_threshold]\n",
    "            left_node = df_left.iloc[:, df_left.columns != best_attribute]\n",
    "            right_node = df_right.iloc[:, df_right.columns != best_attribute]\n",
    "\n",
    "            for i in ['>_' + str(best_threshold), '<_' + str(best_threshold)]:\n",
    "                sub_data = left_node if i == '>_' + str(best_threshold) else right_node\n",
    "                subtree = CART_early_stop(sub_data, n, min_leaf, threshold, predictor)\n",
    "                subtree.parent = best_attribute\n",
    "                subtree.children = sub_data\n",
    "                TREE.child[i] = subtree\n",
    "    return TREE"
   ]
  },
  {
   "cell_type": "code",
   "execution_count": 37,
   "metadata": {
    "executionInfo": {
     "elapsed": 8,
     "status": "ok",
     "timestamp": 1647036331516,
     "user": {
      "displayName": "Dongjun Cho",
      "photoUrl": "https://lh3.googleusercontent.com/a/default-user=s64",
      "userId": "15959755585155440977"
     },
     "user_tz": 480
    },
    "id": "_9QkrHHMmWh1"
   },
   "outputs": [],
   "source": [
    "#predict_CART\n",
    "# if there is no child in the tree, it returns the target value\n",
    "# if the child node value is smaller than attribute value, then it uses left node, other wise it uses right node.\n",
    "\n",
    "\n",
    "def predict_CART(df, TREE, row_attr):\n",
    "    if len(TREE.child) == 0:\n",
    "        return TREE.target\n",
    "    else:\n",
    "        attr_value = row_attr[TREE.attribute]\n",
    "        tree_child = list(TREE.child.keys())\n",
    "        if attr_value < float(tree_child [0].split('_')[1]):\n",
    "            return predict_CART(df, TREE.child[tree_child [0]], row_attr)\n",
    "        elif attr_value >= float(tree_child[0].split('_')[1]):\n",
    "            return predict_CART(df, TREE.child[tree_child [1]], row_attr)"
   ]
  },
  {
   "cell_type": "markdown",
   "metadata": {
    "id": "OtCVIbjbEpJx"
   },
   "source": [
    "### CART Score"
   ]
  },
  {
   "cell_type": "code",
   "execution_count": 38,
   "metadata": {
    "executionInfo": {
     "elapsed": 7,
     "status": "ok",
     "timestamp": 1647036331517,
     "user": {
      "displayName": "Dongjun Cho",
      "photoUrl": "https://lh3.googleusercontent.com/a/default-user=s64",
      "userId": "15959755585155440977"
     },
     "user_tz": 480
    },
    "id": "E4M3ayJsmWh1"
   },
   "outputs": [],
   "source": [
    "# CART MSE\n",
    "# It predicts the predictor value for the dataset, and evaluate the performance using MSE.\n",
    "# It returns the MSE.\n",
    "\n",
    "def CART_MSE(TREE, df, predictor):\n",
    "    pred_list = []\n",
    "    for i in range(len(df)):\n",
    "        pred = predict_CART(df, TREE, df.iloc[i, :])\n",
    "        pred_list.append(pred)     \n",
    "    mse = evaluation_metrics(df[predictor].values, pred_list, \"MSE\")\n",
    "    return mse"
   ]
  },
  {
   "cell_type": "markdown",
   "metadata": {
    "id": "38ApND7bEs7u"
   },
   "source": [
    "### CART Evaluation"
   ]
  },
  {
   "cell_type": "code",
   "execution_count": 39,
   "metadata": {
    "executionInfo": {
     "elapsed": 186,
     "status": "ok",
     "timestamp": 1647036331696,
     "user": {
      "displayName": "Dongjun Cho",
      "photoUrl": "https://lh3.googleusercontent.com/a/default-user=s64",
      "userId": "15959755585155440977"
     },
     "user_tz": 480
    },
    "id": "VX3JhyPvmWh2"
   },
   "outputs": [],
   "source": [
    "# CART_eval\n",
    "#  It computes CART without early-stopping and with early-stopping\n",
    "#  Unliked it used 80% of dataset for cross-validation for both with early-stopping and without early-stopping.\n",
    "#  Instead, it used 20% of the dataset for tuning process. \n",
    "#  It evaluates the performance using CART_MSE function.\n",
    "#  It returns the performance of each of the fold. \n",
    "\n",
    "def CART_eval(df, predictor, n,  min_leaf, threshold, early_stopping:bool):\n",
    "    score_list = []\n",
    "    for i in range(0, len(df)):\n",
    "        k_validate = pd.concat([x for j,x in enumerate(df) if j!=i])\n",
    "        testing_val_y = df[i][predictor].values\n",
    "        if early_stopping ==False:\n",
    "            Tree = CART(k_validate, n, predictor)\n",
    "            Score = CART_MSE(Tree, df[i], predictor)\n",
    "            Score = round(Score,2)\n",
    "            score_list.append(Score)\n",
    "        else:\n",
    "            threshold_mse = mse(k_validate[predictor])*threshold\n",
    "            Tree = CART_early_stop(k_validate, n, min_leaf, threshold_mse, predictor)\n",
    "            Score = CART_MSE(Tree, df[i], predictor)\n",
    "            Score = round(Score,2)\n",
    "            score_list.append(Score)\n",
    "    return score_list"
   ]
  },
  {
   "cell_type": "markdown",
   "metadata": {
    "id": "fzRoqpM8FY18"
   },
   "source": [
    "## Print Tree"
   ]
  },
  {
   "cell_type": "code",
   "execution_count": 40,
   "metadata": {
    "id": "vylKYzRIFerN"
   },
   "outputs": [],
   "source": [
    "#Print Tree for ID3\n",
    "# This is the function to show the structure of decision tree.\n",
    "# Since it's not tree form, it is hard to picture. \n",
    "# Not sure how to visualize this using tree form.\n",
    "\n",
    "def print_tree(tree):\n",
    "    for i in tree.child:\n",
    "        if len(tree.child)!=0:\n",
    "            if len(tree.child[i].child)==0:\n",
    "                print(tree.child[i].parent, ' -', i, ' : ', tree.child[i].target)\n",
    "            else:\n",
    "                print(tree.child[i].parent, ' -', i)\n",
    "                print('Subtree')\n",
    "        print_tree(tree.child[i])"
   ]
  },
  {
   "cell_type": "code",
   "execution_count": 41,
   "metadata": {
    "id": "ZEMyM4L2FgHl"
   },
   "outputs": [],
   "source": [
    "#Print Tree for ID3 pruned (reduced error processing)\n",
    "# This is the function to show the structure of pruned decision tree.\n",
    "# Since it's not tree form, it is hard to picture. \n",
    "# Not sure how to visualize this using tree form.\n",
    "\n",
    "def print_tree_prune(tree):\n",
    "    for i in tree.child:\n",
    "        if tree.child[i].prune_tag ==False:\n",
    "            if len(tree.child)!=0:\n",
    "                if len(tree.child[i].child)==0:\n",
    "                    print(tree.child[i].parent, ' -', i, ' : ', tree.child[i].target)\n",
    "                else:\n",
    "                    print(tree.child[i].parent, ' -', i)\n",
    "                    print('Subtree')\n",
    "            print_tree_prune(tree.child[i])"
   ]
  },
  {
   "cell_type": "markdown",
   "metadata": {
    "id": "JauDiZwymWh3"
   },
   "source": [
    "## Tuning"
   ]
  },
  {
   "cell_type": "code",
   "execution_count": 42,
   "metadata": {
    "executionInfo": {
     "elapsed": 18,
     "status": "ok",
     "timestamp": 1647036331697,
     "user": {
      "displayName": "Dongjun Cho",
      "photoUrl": "https://lh3.googleusercontent.com/a/default-user=s64",
      "userId": "15959755585155440977"
     },
     "user_tz": 480
    },
    "id": "uhxvtMbtmWh3"
   },
   "outputs": [],
   "source": [
    "# Tuning CART frequency size parameter\n",
    "# It process tuning to find the frequency size for the CART. \n",
    "\n",
    "def tuning_CART(df, frequency_size_candidate, predictor):\n",
    "    best_candidate = []\n",
    "    for i in range(len(frequency_size_candidate)):\n",
    "        best_candidate.append(np.mean(CART_eval(df, predictor, frequency_size_candidate[i], False, False, False)))\n",
    "    return frequency_size_candidate[best_candidate.index(min(best_candidate))]"
   ]
  },
  {
   "cell_type": "code",
   "execution_count": 43,
   "metadata": {
    "executionInfo": {
     "elapsed": 17,
     "status": "ok",
     "timestamp": 1647036331698,
     "user": {
      "displayName": "Dongjun Cho",
      "photoUrl": "https://lh3.googleusercontent.com/a/default-user=s64",
      "userId": "15959755585155440977"
     },
     "user_tz": 480
    },
    "id": "VknOeuPYmWh3"
   },
   "outputs": [],
   "source": [
    "# Tuning parameter with frequency size, minimum leaf, and threshold for early-stopping CART algorithm.\n",
    "\n",
    "def tuning_CART_early(df, frequency_size_candidate,minimum_leaf_candidate, threshold_candidate, predictor):\n",
    "    best_candidate_early = []\n",
    "    parameter_list =[]\n",
    "    for i in range(len(frequency_size_candidate)):\n",
    "        for j in range(len(minimum_leaf_candidate)):\n",
    "            for k in range(len(threshold_candidate)):\n",
    "                parameter_list.append([i,j,k])\n",
    "                best_candidate_early.append(np.mean(CART_eval(df,\n",
    "                                                              predictor, \n",
    "                                                              frequency_size_candidate[i], \n",
    "                                                              minimum_leaf_candidate[j],\n",
    "                                                              threshold_candidate[k], True)))\n",
    "    best_parameter =best_candidate_early.index(min(best_candidate_early))\n",
    "    best_frequency_size = frequency_size_candidate[parameter_list[best_parameter][0]]\n",
    "    best_minimum_leaf = minimum_leaf_candidate[parameter_list[best_parameter][1]]\n",
    "    best_threshold = threshold_candidate[parameter_list[best_parameter][2]]\n",
    "    return best_frequency_size, best_minimum_leaf, best_threshold"
   ]
  },
  {
   "cell_type": "markdown",
   "metadata": {
    "id": "xlSCn0ALqq3S"
   },
   "source": [
    "## Breast Cancer Wisconsin Dataset"
   ]
  },
  {
   "cell_type": "code",
   "execution_count": 44,
   "metadata": {
    "colab": {
     "base_uri": "https://localhost:8080/",
     "height": 207
    },
    "executionInfo": {
     "elapsed": 235,
     "status": "ok",
     "timestamp": 1647036331920,
     "user": {
      "displayName": "Dongjun Cho",
      "photoUrl": "https://lh3.googleusercontent.com/a/default-user=s64",
      "userId": "15959755585155440977"
     },
     "user_tz": 480
    },
    "id": "KXT87EuSqq3T",
    "outputId": "6aac0f27-d661-41b3-82be-d57075ceec03"
   },
   "outputs": [
    {
     "data": {
      "text/html": [
       "<div>\n",
       "<style scoped>\n",
       "    .dataframe tbody tr th:only-of-type {\n",
       "        vertical-align: middle;\n",
       "    }\n",
       "\n",
       "    .dataframe tbody tr th {\n",
       "        vertical-align: top;\n",
       "    }\n",
       "\n",
       "    .dataframe thead th {\n",
       "        text-align: right;\n",
       "    }\n",
       "</style>\n",
       "<table border=\"1\" class=\"dataframe\">\n",
       "  <thead>\n",
       "    <tr style=\"text-align: right;\">\n",
       "      <th></th>\n",
       "      <th>sample_code_number</th>\n",
       "      <th>clump_thickness</th>\n",
       "      <th>uniformity_cell_size</th>\n",
       "      <th>uniformity_cell_shape</th>\n",
       "      <th>marginal_adhesion</th>\n",
       "      <th>single_epithelial_cell_size</th>\n",
       "      <th>bare_nuclei</th>\n",
       "      <th>bland_chromatin</th>\n",
       "      <th>normal_nucleoli</th>\n",
       "      <th>mitosis</th>\n",
       "      <th>class</th>\n",
       "    </tr>\n",
       "  </thead>\n",
       "  <tbody>\n",
       "    <tr>\n",
       "      <th>0</th>\n",
       "      <td>1000025</td>\n",
       "      <td>5</td>\n",
       "      <td>1</td>\n",
       "      <td>1</td>\n",
       "      <td>1</td>\n",
       "      <td>2</td>\n",
       "      <td>1</td>\n",
       "      <td>3</td>\n",
       "      <td>1</td>\n",
       "      <td>1</td>\n",
       "      <td>2</td>\n",
       "    </tr>\n",
       "    <tr>\n",
       "      <th>1</th>\n",
       "      <td>1002945</td>\n",
       "      <td>5</td>\n",
       "      <td>4</td>\n",
       "      <td>4</td>\n",
       "      <td>5</td>\n",
       "      <td>7</td>\n",
       "      <td>10</td>\n",
       "      <td>3</td>\n",
       "      <td>2</td>\n",
       "      <td>1</td>\n",
       "      <td>2</td>\n",
       "    </tr>\n",
       "    <tr>\n",
       "      <th>2</th>\n",
       "      <td>1015425</td>\n",
       "      <td>3</td>\n",
       "      <td>1</td>\n",
       "      <td>1</td>\n",
       "      <td>1</td>\n",
       "      <td>2</td>\n",
       "      <td>2</td>\n",
       "      <td>3</td>\n",
       "      <td>1</td>\n",
       "      <td>1</td>\n",
       "      <td>2</td>\n",
       "    </tr>\n",
       "  </tbody>\n",
       "</table>\n",
       "</div>"
      ],
      "text/plain": [
       "   sample_code_number  clump_thickness  uniformity_cell_size  \\\n",
       "0             1000025                5                     1   \n",
       "1             1002945                5                     4   \n",
       "2             1015425                3                     1   \n",
       "\n",
       "   uniformity_cell_shape  marginal_adhesion  single_epithelial_cell_size  \\\n",
       "0                      1                  1                            2   \n",
       "1                      4                  5                            7   \n",
       "2                      1                  1                            2   \n",
       "\n",
       "  bare_nuclei  bland_chromatin  normal_nucleoli  mitosis  class  \n",
       "0           1                3                1        1      2  \n",
       "1          10                3                2        1      2  \n",
       "2           2                3                1        1      2  "
      ]
     },
     "execution_count": 44,
     "metadata": {},
     "output_type": "execute_result"
    }
   ],
   "source": [
    "breast_cancer_dataset = open_csv_dataset('breast-cancer', True)\n",
    "breast_cancer_dataset.head(3)"
   ]
  },
  {
   "cell_type": "code",
   "execution_count": 45,
   "metadata": {
    "executionInfo": {
     "elapsed": 44,
     "status": "ok",
     "timestamp": 1647036331921,
     "user": {
      "displayName": "Dongjun Cho",
      "photoUrl": "https://lh3.googleusercontent.com/a/default-user=s64",
      "userId": "15959755585155440977"
     },
     "user_tz": 480
    },
    "id": "4s410Fkaqq3T"
   },
   "outputs": [],
   "source": [
    "clean_breast_cancer_dataset = handling_missing_values(breast_cancer_dataset)"
   ]
  },
  {
   "cell_type": "code",
   "execution_count": 46,
   "metadata": {
    "colab": {
     "base_uri": "https://localhost:8080/"
    },
    "executionInfo": {
     "elapsed": 46,
     "status": "ok",
     "timestamp": 1647036331927,
     "user": {
      "displayName": "Dongjun Cho",
      "photoUrl": "https://lh3.googleusercontent.com/a/default-user=s64",
      "userId": "15959755585155440977"
     },
     "user_tz": 480
    },
    "id": "MS-NDbJuqq3T",
    "outputId": "fa074c33-16b3-4607-b182-a1f38ab7a7c2"
   },
   "outputs": [
    {
     "data": {
      "text/plain": [
       "False"
      ]
     },
     "execution_count": 46,
     "metadata": {},
     "output_type": "execute_result"
    }
   ],
   "source": [
    "clean_breast_cancer_dataset.isnull().sum().any()"
   ]
  },
  {
   "cell_type": "code",
   "execution_count": 47,
   "metadata": {
    "colab": {
     "base_uri": "https://localhost:8080/",
     "height": 270
    },
    "executionInfo": {
     "elapsed": 449,
     "status": "ok",
     "timestamp": 1647036332337,
     "user": {
      "displayName": "Dongjun Cho",
      "photoUrl": "https://lh3.googleusercontent.com/a/default-user=s64",
      "userId": "15959755585155440977"
     },
     "user_tz": 480
    },
    "id": "IlCrg4Gtqq3U",
    "outputId": "f321a942-6a47-482e-88ad-8015171d6fc7"
   },
   "outputs": [
    {
     "data": {
      "text/html": [
       "<div>\n",
       "<style scoped>\n",
       "    .dataframe tbody tr th:only-of-type {\n",
       "        vertical-align: middle;\n",
       "    }\n",
       "\n",
       "    .dataframe tbody tr th {\n",
       "        vertical-align: top;\n",
       "    }\n",
       "\n",
       "    .dataframe thead th {\n",
       "        text-align: right;\n",
       "    }\n",
       "</style>\n",
       "<table border=\"1\" class=\"dataframe\">\n",
       "  <thead>\n",
       "    <tr style=\"text-align: right;\">\n",
       "      <th></th>\n",
       "      <th>sample_code_number</th>\n",
       "      <th>clump_thickness</th>\n",
       "      <th>uniformity_cell_size</th>\n",
       "      <th>uniformity_cell_shape</th>\n",
       "      <th>marginal_adhesion</th>\n",
       "      <th>single_epithelial_cell_size</th>\n",
       "      <th>bare_nuclei</th>\n",
       "      <th>bland_chromatin</th>\n",
       "      <th>normal_nucleoli</th>\n",
       "      <th>mitosis</th>\n",
       "      <th>class</th>\n",
       "    </tr>\n",
       "  </thead>\n",
       "  <tbody>\n",
       "    <tr>\n",
       "      <th>0</th>\n",
       "      <td>1000025</td>\n",
       "      <td>5</td>\n",
       "      <td>1</td>\n",
       "      <td>1</td>\n",
       "      <td>1</td>\n",
       "      <td>2</td>\n",
       "      <td>1.0</td>\n",
       "      <td>3</td>\n",
       "      <td>1</td>\n",
       "      <td>1</td>\n",
       "      <td>2</td>\n",
       "    </tr>\n",
       "    <tr>\n",
       "      <th>1</th>\n",
       "      <td>1002945</td>\n",
       "      <td>5</td>\n",
       "      <td>4</td>\n",
       "      <td>4</td>\n",
       "      <td>5</td>\n",
       "      <td>7</td>\n",
       "      <td>10.0</td>\n",
       "      <td>3</td>\n",
       "      <td>2</td>\n",
       "      <td>1</td>\n",
       "      <td>2</td>\n",
       "    </tr>\n",
       "    <tr>\n",
       "      <th>2</th>\n",
       "      <td>1015425</td>\n",
       "      <td>3</td>\n",
       "      <td>1</td>\n",
       "      <td>1</td>\n",
       "      <td>1</td>\n",
       "      <td>2</td>\n",
       "      <td>2.0</td>\n",
       "      <td>3</td>\n",
       "      <td>1</td>\n",
       "      <td>1</td>\n",
       "      <td>2</td>\n",
       "    </tr>\n",
       "    <tr>\n",
       "      <th>3</th>\n",
       "      <td>1016277</td>\n",
       "      <td>6</td>\n",
       "      <td>8</td>\n",
       "      <td>8</td>\n",
       "      <td>1</td>\n",
       "      <td>3</td>\n",
       "      <td>4.0</td>\n",
       "      <td>3</td>\n",
       "      <td>7</td>\n",
       "      <td>1</td>\n",
       "      <td>2</td>\n",
       "    </tr>\n",
       "    <tr>\n",
       "      <th>4</th>\n",
       "      <td>1017023</td>\n",
       "      <td>4</td>\n",
       "      <td>1</td>\n",
       "      <td>1</td>\n",
       "      <td>3</td>\n",
       "      <td>2</td>\n",
       "      <td>1.0</td>\n",
       "      <td>3</td>\n",
       "      <td>1</td>\n",
       "      <td>1</td>\n",
       "      <td>2</td>\n",
       "    </tr>\n",
       "  </tbody>\n",
       "</table>\n",
       "</div>"
      ],
      "text/plain": [
       "   sample_code_number  clump_thickness  uniformity_cell_size  \\\n",
       "0             1000025                5                     1   \n",
       "1             1002945                5                     4   \n",
       "2             1015425                3                     1   \n",
       "3             1016277                6                     8   \n",
       "4             1017023                4                     1   \n",
       "\n",
       "   uniformity_cell_shape  marginal_adhesion  single_epithelial_cell_size  \\\n",
       "0                      1                  1                            2   \n",
       "1                      4                  5                            7   \n",
       "2                      1                  1                            2   \n",
       "3                      8                  1                            3   \n",
       "4                      1                  3                            2   \n",
       "\n",
       "   bare_nuclei  bland_chromatin  normal_nucleoli  mitosis  class  \n",
       "0          1.0                3                1        1      2  \n",
       "1         10.0                3                2        1      2  \n",
       "2          2.0                3                1        1      2  \n",
       "3          4.0                3                7        1      2  \n",
       "4          1.0                3                1        1      2  "
      ]
     },
     "execution_count": 47,
     "metadata": {},
     "output_type": "execute_result"
    }
   ],
   "source": [
    "clean_breast_cancer_dataset.head()"
   ]
  },
  {
   "cell_type": "code",
   "execution_count": 48,
   "metadata": {
    "executionInfo": {
     "elapsed": 17,
     "status": "ok",
     "timestamp": 1647036332343,
     "user": {
      "displayName": "Dongjun Cho",
      "photoUrl": "https://lh3.googleusercontent.com/a/default-user=s64",
      "userId": "15959755585155440977"
     },
     "user_tz": 480
    },
    "id": "qle_MuvLqq3W"
   },
   "outputs": [],
   "source": [
    "breast_cancer_dataset_v1  = clean_breast_cancer_dataset.copy()\n",
    "breast_cancer_dataset_v1 = breast_cancer_dataset_v1.drop(['sample_code_number'], axis=1)"
   ]
  },
  {
   "cell_type": "code",
   "execution_count": 49,
   "metadata": {
    "colab": {
     "base_uri": "https://localhost:8080/",
     "height": 207
    },
    "executionInfo": {
     "elapsed": 19,
     "status": "ok",
     "timestamp": 1647036332347,
     "user": {
      "displayName": "Dongjun Cho",
      "photoUrl": "https://lh3.googleusercontent.com/a/default-user=s64",
      "userId": "15959755585155440977"
     },
     "user_tz": 480
    },
    "id": "K7Z_OLfaqq3X",
    "outputId": "f6f6a087-4bc3-432f-bfdf-37c0a43fc049"
   },
   "outputs": [
    {
     "data": {
      "text/html": [
       "<div>\n",
       "<style scoped>\n",
       "    .dataframe tbody tr th:only-of-type {\n",
       "        vertical-align: middle;\n",
       "    }\n",
       "\n",
       "    .dataframe tbody tr th {\n",
       "        vertical-align: top;\n",
       "    }\n",
       "\n",
       "    .dataframe thead th {\n",
       "        text-align: right;\n",
       "    }\n",
       "</style>\n",
       "<table border=\"1\" class=\"dataframe\">\n",
       "  <thead>\n",
       "    <tr style=\"text-align: right;\">\n",
       "      <th></th>\n",
       "      <th>clump_thickness</th>\n",
       "      <th>uniformity_cell_size</th>\n",
       "      <th>uniformity_cell_shape</th>\n",
       "      <th>marginal_adhesion</th>\n",
       "      <th>single_epithelial_cell_size</th>\n",
       "      <th>bare_nuclei</th>\n",
       "      <th>bland_chromatin</th>\n",
       "      <th>normal_nucleoli</th>\n",
       "      <th>mitosis</th>\n",
       "      <th>class</th>\n",
       "    </tr>\n",
       "  </thead>\n",
       "  <tbody>\n",
       "    <tr>\n",
       "      <th>0</th>\n",
       "      <td>5</td>\n",
       "      <td>1</td>\n",
       "      <td>1</td>\n",
       "      <td>1</td>\n",
       "      <td>2</td>\n",
       "      <td>1.0</td>\n",
       "      <td>3</td>\n",
       "      <td>1</td>\n",
       "      <td>1</td>\n",
       "      <td>2</td>\n",
       "    </tr>\n",
       "    <tr>\n",
       "      <th>1</th>\n",
       "      <td>5</td>\n",
       "      <td>4</td>\n",
       "      <td>4</td>\n",
       "      <td>5</td>\n",
       "      <td>7</td>\n",
       "      <td>10.0</td>\n",
       "      <td>3</td>\n",
       "      <td>2</td>\n",
       "      <td>1</td>\n",
       "      <td>2</td>\n",
       "    </tr>\n",
       "    <tr>\n",
       "      <th>2</th>\n",
       "      <td>3</td>\n",
       "      <td>1</td>\n",
       "      <td>1</td>\n",
       "      <td>1</td>\n",
       "      <td>2</td>\n",
       "      <td>2.0</td>\n",
       "      <td>3</td>\n",
       "      <td>1</td>\n",
       "      <td>1</td>\n",
       "      <td>2</td>\n",
       "    </tr>\n",
       "  </tbody>\n",
       "</table>\n",
       "</div>"
      ],
      "text/plain": [
       "   clump_thickness  uniformity_cell_size  uniformity_cell_shape  \\\n",
       "0                5                     1                      1   \n",
       "1                5                     4                      4   \n",
       "2                3                     1                      1   \n",
       "\n",
       "   marginal_adhesion  single_epithelial_cell_size  bare_nuclei  \\\n",
       "0                  1                            2          1.0   \n",
       "1                  5                            7         10.0   \n",
       "2                  1                            2          2.0   \n",
       "\n",
       "   bland_chromatin  normal_nucleoli  mitosis  class  \n",
       "0                3                1        1      2  \n",
       "1                3                2        1      2  \n",
       "2                3                1        1      2  "
      ]
     },
     "execution_count": 49,
     "metadata": {},
     "output_type": "execute_result"
    }
   ],
   "source": [
    "breast_cancer_dataset_v1.head(3)"
   ]
  },
  {
   "cell_type": "code",
   "execution_count": 50,
   "metadata": {
    "executionInfo": {
     "elapsed": 17,
     "status": "ok",
     "timestamp": 1647036332348,
     "user": {
      "displayName": "Dongjun Cho",
      "photoUrl": "https://lh3.googleusercontent.com/a/default-user=s64",
      "userId": "15959755585155440977"
     },
     "user_tz": 480
    },
    "id": "ZICOqRhSqq3Y"
   },
   "outputs": [],
   "source": [
    "train_breast_cancer_dataset, test_breast_cancer_dataset = split_dataset(breast_cancer_dataset_v1, 0.8)"
   ]
  },
  {
   "cell_type": "code",
   "execution_count": 51,
   "metadata": {
    "executionInfo": {
     "elapsed": 301,
     "status": "ok",
     "timestamp": 1647036332633,
     "user": {
      "displayName": "Dongjun Cho",
      "photoUrl": "https://lh3.googleusercontent.com/a/default-user=s64",
      "userId": "15959755585155440977"
     },
     "user_tz": 480
    },
    "id": "PL61uZZbqq3b"
   },
   "outputs": [],
   "source": [
    "train_breast_cancer_zscore_dataset, test_breast_cancer_zscore_dataset  = Standardization(train_breast_cancer_dataset,\n",
    "                                                                                         test_breast_cancer_dataset)"
   ]
  },
  {
   "cell_type": "code",
   "execution_count": 52,
   "metadata": {
    "executionInfo": {
     "elapsed": 52,
     "status": "ok",
     "timestamp": 1647036332638,
     "user": {
      "displayName": "Dongjun Cho",
      "photoUrl": "https://lh3.googleusercontent.com/a/default-user=s64",
      "userId": "15959755585155440977"
     },
     "user_tz": 480
    },
    "id": "O5weWh_gqq3c"
   },
   "outputs": [],
   "source": [
    "validated_train_breast_cancer = cross_validation(train_breast_cancer_dataset,5)"
   ]
  },
  {
   "cell_type": "code",
   "execution_count": 53,
   "metadata": {
    "colab": {
     "base_uri": "https://localhost:8080/"
    },
    "executionInfo": {
     "elapsed": 47,
     "status": "ok",
     "timestamp": 1647036332639,
     "user": {
      "displayName": "Dongjun Cho",
      "photoUrl": "https://lh3.googleusercontent.com/a/default-user=s64",
      "userId": "15959755585155440977"
     },
     "user_tz": 480
    },
    "id": "Kk6Dxkrhqq3e",
    "outputId": "21fa584a-6b1b-40fb-b2cc-214d308ab915"
   },
   "outputs": [
    {
     "data": {
      "text/plain": [
       "[112, 111, 111, 111, 111]"
      ]
     },
     "execution_count": 53,
     "metadata": {},
     "output_type": "execute_result"
    }
   ],
   "source": [
    "validated_train_breast_cancer_size = []\n",
    "for i in range(0, 5):\n",
    "    validated_train_breast_cancer_size.append(validated_train_breast_cancer[i].shape[0])\n",
    "validated_train_breast_cancer_size"
   ]
  },
  {
   "cell_type": "code",
   "execution_count": 54,
   "metadata": {
    "executionInfo": {
     "elapsed": 40,
     "status": "ok",
     "timestamp": 1647036332639,
     "user": {
      "displayName": "Dongjun Cho",
      "photoUrl": "https://lh3.googleusercontent.com/a/default-user=s64",
      "userId": "15959755585155440977"
     },
     "user_tz": 480
    },
    "id": "1iJwlxZlqq3f"
   },
   "outputs": [],
   "source": [
    "#tuning\n",
    "tuning_breast_cancer = cross_validation(test_breast_cancer_dataset,5)"
   ]
  },
  {
   "cell_type": "code",
   "execution_count": 55,
   "metadata": {
    "colab": {
     "base_uri": "https://localhost:8080/"
    },
    "executionInfo": {
     "elapsed": 38,
     "status": "ok",
     "timestamp": 1647036332640,
     "user": {
      "displayName": "Dongjun Cho",
      "photoUrl": "https://lh3.googleusercontent.com/a/default-user=s64",
      "userId": "15959755585155440977"
     },
     "user_tz": 480
    },
    "id": "VtgM717uqq3f",
    "outputId": "6e731e0f-6de4-4d25-9d6d-407bc6deec18"
   },
   "outputs": [
    {
     "data": {
      "text/plain": [
       "[28, 28, 27, 27, 27]"
      ]
     },
     "execution_count": 55,
     "metadata": {},
     "output_type": "execute_result"
    }
   ],
   "source": [
    "tuning_breast_cancer_size = []\n",
    "for i in range(0, 5):\n",
    "    tuning_breast_cancer_size.append(tuning_breast_cancer [i].shape[0])\n",
    "tuning_breast_cancer_size"
   ]
  },
  {
   "cell_type": "code",
   "execution_count": 56,
   "metadata": {
    "colab": {
     "base_uri": "https://localhost:8080/"
    },
    "executionInfo": {
     "elapsed": 11093,
     "status": "ok",
     "timestamp": 1647036343703,
     "user": {
      "displayName": "Dongjun Cho",
      "photoUrl": "https://lh3.googleusercontent.com/a/default-user=s64",
      "userId": "15959755585155440977"
     },
     "user_tz": 480
    },
    "id": "R1V4eHaFmWiB",
    "outputId": "b9a8b4ca-4378-4b3c-fa52-5ef7678d5098"
   },
   "outputs": [
    {
     "name": "stdout",
     "output_type": "stream",
     "text": [
      "Breast Cancer Score Unpruned: [80.36, 93.69, 77.48, 93.69, 93.69]/ Avg Score: 87.782\n"
     ]
    }
   ],
   "source": [
    "ID3_score_breast_cancer = ID3(validated_train_breast_cancer, 'class', test_breast_cancer_dataset, 'categorical', False)\n",
    "ID3_avg_score_breast_cancer = round(np.mean(ID3_score_breast_cancer),4)\n",
    "print(\"Breast Cancer Score Unpruned: \" + str(ID3_score_breast_cancer) + \"/ Avg Score: \"+ str(ID3_avg_score_breast_cancer))\n",
    "\n",
    "#Breast Cancer Score Unpruned: [80.36, 93.69, 77.48, 93.69, 93.69]/ Avg Score: 87.782\n"
   ]
  },
  {
   "cell_type": "code",
   "execution_count": 57,
   "metadata": {
    "colab": {
     "base_uri": "https://localhost:8080/"
    },
    "executionInfo": {
     "elapsed": 76061,
     "status": "ok",
     "timestamp": 1647036419754,
     "user": {
      "displayName": "Dongjun Cho",
      "photoUrl": "https://lh3.googleusercontent.com/a/default-user=s64",
      "userId": "15959755585155440977"
     },
     "user_tz": 480
    },
    "id": "LMmziXcEmWiC",
    "outputId": "e835ee61-e898-4b18-c665-e79b23114326"
   },
   "outputs": [
    {
     "name": "stdout",
     "output_type": "stream",
     "text": [
      "Breast Cancer Accuracy Score pruned: [73.21, 90.09, 69.37, 87.39, 89.19]/ Avg Score: 81.85\n"
     ]
    }
   ],
   "source": [
    "ID3_score_breast_cancer_prune = ID3(validated_train_breast_cancer, 'class', test_breast_cancer_dataset, 'categorical', True)\n",
    "ID3_avg_score_breast_cancer_prune = round(np.mean(ID3_score_breast_cancer_prune),4)\n",
    "print(\"Breast Cancer Accuracy Score pruned: \" + str(ID3_score_breast_cancer_prune) + \"/ Avg Score: \"+ str(ID3_avg_score_breast_cancer_prune))\n",
    "\n",
    "#Breast Cancer Accuracy Score pruned: [73.21, 90.09, 69.37, 87.39, 89.19]/ Avg Score: 81.85"
   ]
  },
  {
   "cell_type": "markdown",
   "metadata": {
    "id": "8N5Ke_SAqq3i"
   },
   "source": [
    "## Car Evaluation"
   ]
  },
  {
   "cell_type": "code",
   "execution_count": 58,
   "metadata": {
    "colab": {
     "base_uri": "https://localhost:8080/",
     "height": 207
    },
    "executionInfo": {
     "elapsed": 94,
     "status": "ok",
     "timestamp": 1647036419758,
     "user": {
      "displayName": "Dongjun Cho",
      "photoUrl": "https://lh3.googleusercontent.com/a/default-user=s64",
      "userId": "15959755585155440977"
     },
     "user_tz": 480
    },
    "id": "YtLcE8Upqq3j",
    "outputId": "cd257832-8e78-4f7a-c811-041bec252346"
   },
   "outputs": [
    {
     "data": {
      "text/html": [
       "<div>\n",
       "<style scoped>\n",
       "    .dataframe tbody tr th:only-of-type {\n",
       "        vertical-align: middle;\n",
       "    }\n",
       "\n",
       "    .dataframe tbody tr th {\n",
       "        vertical-align: top;\n",
       "    }\n",
       "\n",
       "    .dataframe thead th {\n",
       "        text-align: right;\n",
       "    }\n",
       "</style>\n",
       "<table border=\"1\" class=\"dataframe\">\n",
       "  <thead>\n",
       "    <tr style=\"text-align: right;\">\n",
       "      <th></th>\n",
       "      <th>buying</th>\n",
       "      <th>maint</th>\n",
       "      <th>doors</th>\n",
       "      <th>persons</th>\n",
       "      <th>lug_boot</th>\n",
       "      <th>safety</th>\n",
       "      <th>class</th>\n",
       "    </tr>\n",
       "  </thead>\n",
       "  <tbody>\n",
       "    <tr>\n",
       "      <th>0</th>\n",
       "      <td>vhigh</td>\n",
       "      <td>vhigh</td>\n",
       "      <td>2</td>\n",
       "      <td>2</td>\n",
       "      <td>small</td>\n",
       "      <td>low</td>\n",
       "      <td>unacc</td>\n",
       "    </tr>\n",
       "    <tr>\n",
       "      <th>1</th>\n",
       "      <td>vhigh</td>\n",
       "      <td>vhigh</td>\n",
       "      <td>2</td>\n",
       "      <td>2</td>\n",
       "      <td>small</td>\n",
       "      <td>med</td>\n",
       "      <td>unacc</td>\n",
       "    </tr>\n",
       "    <tr>\n",
       "      <th>2</th>\n",
       "      <td>vhigh</td>\n",
       "      <td>vhigh</td>\n",
       "      <td>2</td>\n",
       "      <td>2</td>\n",
       "      <td>small</td>\n",
       "      <td>high</td>\n",
       "      <td>unacc</td>\n",
       "    </tr>\n",
       "  </tbody>\n",
       "</table>\n",
       "</div>"
      ],
      "text/plain": [
       "  buying  maint doors persons lug_boot safety  class\n",
       "0  vhigh  vhigh     2       2    small    low  unacc\n",
       "1  vhigh  vhigh     2       2    small    med  unacc\n",
       "2  vhigh  vhigh     2       2    small   high  unacc"
      ]
     },
     "execution_count": 58,
     "metadata": {},
     "output_type": "execute_result"
    }
   ],
   "source": [
    "car_dataset = open_csv_dataset('car', True)\n",
    "car_dataset.head(3)"
   ]
  },
  {
   "cell_type": "code",
   "execution_count": 59,
   "metadata": {
    "executionInfo": {
     "elapsed": 87,
     "status": "ok",
     "timestamp": 1647036419759,
     "user": {
      "displayName": "Dongjun Cho",
      "photoUrl": "https://lh3.googleusercontent.com/a/default-user=s64",
      "userId": "15959755585155440977"
     },
     "user_tz": 480
    },
    "id": "GpwKsGFTqq3j"
   },
   "outputs": [],
   "source": [
    "clean_car_dataset = handling_missing_values(car_dataset)"
   ]
  },
  {
   "cell_type": "code",
   "execution_count": 60,
   "metadata": {
    "colab": {
     "base_uri": "https://localhost:8080/"
    },
    "executionInfo": {
     "elapsed": 85,
     "status": "ok",
     "timestamp": 1647036419761,
     "user": {
      "displayName": "Dongjun Cho",
      "photoUrl": "https://lh3.googleusercontent.com/a/default-user=s64",
      "userId": "15959755585155440977"
     },
     "user_tz": 480
    },
    "id": "5xKZkD5aqq3j",
    "outputId": "a5e7fa8a-1b9b-4efa-cda3-7362dafd2139"
   },
   "outputs": [
    {
     "data": {
      "text/plain": [
       "False"
      ]
     },
     "execution_count": 60,
     "metadata": {},
     "output_type": "execute_result"
    }
   ],
   "source": [
    "clean_car_dataset.isnull().sum().any()"
   ]
  },
  {
   "cell_type": "code",
   "execution_count": 61,
   "metadata": {
    "colab": {
     "base_uri": "https://localhost:8080/",
     "height": 207
    },
    "executionInfo": {
     "elapsed": 78,
     "status": "ok",
     "timestamp": 1647036419764,
     "user": {
      "displayName": "Dongjun Cho",
      "photoUrl": "https://lh3.googleusercontent.com/a/default-user=s64",
      "userId": "15959755585155440977"
     },
     "user_tz": 480
    },
    "id": "16mt478Gqq3k",
    "outputId": "c80992e0-fbf8-40c6-8ae5-10c8082052d5"
   },
   "outputs": [
    {
     "data": {
      "text/html": [
       "<div>\n",
       "<style scoped>\n",
       "    .dataframe tbody tr th:only-of-type {\n",
       "        vertical-align: middle;\n",
       "    }\n",
       "\n",
       "    .dataframe tbody tr th {\n",
       "        vertical-align: top;\n",
       "    }\n",
       "\n",
       "    .dataframe thead th {\n",
       "        text-align: right;\n",
       "    }\n",
       "</style>\n",
       "<table border=\"1\" class=\"dataframe\">\n",
       "  <thead>\n",
       "    <tr style=\"text-align: right;\">\n",
       "      <th></th>\n",
       "      <th>buying</th>\n",
       "      <th>maint</th>\n",
       "      <th>doors</th>\n",
       "      <th>persons</th>\n",
       "      <th>lug_boot</th>\n",
       "      <th>safety</th>\n",
       "      <th>class</th>\n",
       "    </tr>\n",
       "  </thead>\n",
       "  <tbody>\n",
       "    <tr>\n",
       "      <th>0</th>\n",
       "      <td>vhigh</td>\n",
       "      <td>vhigh</td>\n",
       "      <td>2</td>\n",
       "      <td>2</td>\n",
       "      <td>small</td>\n",
       "      <td>low</td>\n",
       "      <td>unacc</td>\n",
       "    </tr>\n",
       "    <tr>\n",
       "      <th>1</th>\n",
       "      <td>vhigh</td>\n",
       "      <td>vhigh</td>\n",
       "      <td>2</td>\n",
       "      <td>2</td>\n",
       "      <td>small</td>\n",
       "      <td>med</td>\n",
       "      <td>unacc</td>\n",
       "    </tr>\n",
       "    <tr>\n",
       "      <th>2</th>\n",
       "      <td>vhigh</td>\n",
       "      <td>vhigh</td>\n",
       "      <td>2</td>\n",
       "      <td>2</td>\n",
       "      <td>small</td>\n",
       "      <td>high</td>\n",
       "      <td>unacc</td>\n",
       "    </tr>\n",
       "  </tbody>\n",
       "</table>\n",
       "</div>"
      ],
      "text/plain": [
       "  buying  maint doors persons lug_boot safety  class\n",
       "0  vhigh  vhigh     2       2    small    low  unacc\n",
       "1  vhigh  vhigh     2       2    small    med  unacc\n",
       "2  vhigh  vhigh     2       2    small   high  unacc"
      ]
     },
     "execution_count": 61,
     "metadata": {},
     "output_type": "execute_result"
    }
   ],
   "source": [
    "clean_car_dataset.head(3)"
   ]
  },
  {
   "cell_type": "code",
   "execution_count": 62,
   "metadata": {
    "executionInfo": {
     "elapsed": 74,
     "status": "ok",
     "timestamp": 1647036419765,
     "user": {
      "displayName": "Dongjun Cho",
      "photoUrl": "https://lh3.googleusercontent.com/a/default-user=s64",
      "userId": "15959755585155440977"
     },
     "user_tz": 480
    },
    "id": "guKibODGqq3k"
   },
   "outputs": [],
   "source": [
    "categorized_car_datast = replacing_string_to_numeric_all_columns(clean_car_dataset)"
   ]
  },
  {
   "cell_type": "code",
   "execution_count": 63,
   "metadata": {
    "colab": {
     "base_uri": "https://localhost:8080/",
     "height": 270
    },
    "executionInfo": {
     "elapsed": 75,
     "status": "ok",
     "timestamp": 1647036419769,
     "user": {
      "displayName": "Dongjun Cho",
      "photoUrl": "https://lh3.googleusercontent.com/a/default-user=s64",
      "userId": "15959755585155440977"
     },
     "user_tz": 480
    },
    "id": "SwPyvLAyqq3k",
    "outputId": "4caa6afd-700f-4c0e-df63-10388601f94e"
   },
   "outputs": [
    {
     "data": {
      "text/html": [
       "<div>\n",
       "<style scoped>\n",
       "    .dataframe tbody tr th:only-of-type {\n",
       "        vertical-align: middle;\n",
       "    }\n",
       "\n",
       "    .dataframe tbody tr th {\n",
       "        vertical-align: top;\n",
       "    }\n",
       "\n",
       "    .dataframe thead th {\n",
       "        text-align: right;\n",
       "    }\n",
       "</style>\n",
       "<table border=\"1\" class=\"dataframe\">\n",
       "  <thead>\n",
       "    <tr style=\"text-align: right;\">\n",
       "      <th></th>\n",
       "      <th>buying</th>\n",
       "      <th>maint</th>\n",
       "      <th>doors</th>\n",
       "      <th>persons</th>\n",
       "      <th>lug_boot</th>\n",
       "      <th>safety</th>\n",
       "      <th>class</th>\n",
       "    </tr>\n",
       "  </thead>\n",
       "  <tbody>\n",
       "    <tr>\n",
       "      <th>0</th>\n",
       "      <td>0</td>\n",
       "      <td>0</td>\n",
       "      <td>0</td>\n",
       "      <td>0</td>\n",
       "      <td>0</td>\n",
       "      <td>0</td>\n",
       "      <td>0</td>\n",
       "    </tr>\n",
       "    <tr>\n",
       "      <th>1</th>\n",
       "      <td>0</td>\n",
       "      <td>0</td>\n",
       "      <td>0</td>\n",
       "      <td>0</td>\n",
       "      <td>0</td>\n",
       "      <td>1</td>\n",
       "      <td>0</td>\n",
       "    </tr>\n",
       "    <tr>\n",
       "      <th>2</th>\n",
       "      <td>0</td>\n",
       "      <td>0</td>\n",
       "      <td>0</td>\n",
       "      <td>0</td>\n",
       "      <td>0</td>\n",
       "      <td>2</td>\n",
       "      <td>0</td>\n",
       "    </tr>\n",
       "    <tr>\n",
       "      <th>3</th>\n",
       "      <td>0</td>\n",
       "      <td>0</td>\n",
       "      <td>0</td>\n",
       "      <td>0</td>\n",
       "      <td>1</td>\n",
       "      <td>0</td>\n",
       "      <td>0</td>\n",
       "    </tr>\n",
       "    <tr>\n",
       "      <th>4</th>\n",
       "      <td>0</td>\n",
       "      <td>0</td>\n",
       "      <td>0</td>\n",
       "      <td>0</td>\n",
       "      <td>1</td>\n",
       "      <td>1</td>\n",
       "      <td>0</td>\n",
       "    </tr>\n",
       "  </tbody>\n",
       "</table>\n",
       "</div>"
      ],
      "text/plain": [
       "   buying  maint  doors  persons  lug_boot  safety  class\n",
       "0       0      0      0        0         0       0      0\n",
       "1       0      0      0        0         0       1      0\n",
       "2       0      0      0        0         0       2      0\n",
       "3       0      0      0        0         1       0      0\n",
       "4       0      0      0        0         1       1      0"
      ]
     },
     "execution_count": 63,
     "metadata": {},
     "output_type": "execute_result"
    }
   ],
   "source": [
    "car_dataset_v1  = categorized_car_datast.copy()\n",
    "car_dataset_v1.head()"
   ]
  },
  {
   "cell_type": "code",
   "execution_count": 64,
   "metadata": {
    "executionInfo": {
     "elapsed": 71,
     "status": "ok",
     "timestamp": 1647036419772,
     "user": {
      "displayName": "Dongjun Cho",
      "photoUrl": "https://lh3.googleusercontent.com/a/default-user=s64",
      "userId": "15959755585155440977"
     },
     "user_tz": 480
    },
    "id": "CCl7bT8Uqq3l"
   },
   "outputs": [],
   "source": [
    "train_car_dataset, test_car_dataset = split_dataset(car_dataset_v1, 0.8)"
   ]
  },
  {
   "cell_type": "code",
   "execution_count": 65,
   "metadata": {
    "executionInfo": {
     "elapsed": 72,
     "status": "ok",
     "timestamp": 1647036419775,
     "user": {
      "displayName": "Dongjun Cho",
      "photoUrl": "https://lh3.googleusercontent.com/a/default-user=s64",
      "userId": "15959755585155440977"
     },
     "user_tz": 480
    },
    "id": "M3vLqa6zqq3m"
   },
   "outputs": [],
   "source": [
    "train_car_zscore_dataset,test_car_zscore_dataset  = Standardization(train_car_dataset,test_car_dataset)"
   ]
  },
  {
   "cell_type": "code",
   "execution_count": 66,
   "metadata": {
    "executionInfo": {
     "elapsed": 72,
     "status": "ok",
     "timestamp": 1647036419777,
     "user": {
      "displayName": "Dongjun Cho",
      "photoUrl": "https://lh3.googleusercontent.com/a/default-user=s64",
      "userId": "15959755585155440977"
     },
     "user_tz": 480
    },
    "id": "4Vo6CzBaqq3o"
   },
   "outputs": [],
   "source": [
    "validated_train_car = cross_validation(train_car_dataset,5)"
   ]
  },
  {
   "cell_type": "code",
   "execution_count": 67,
   "metadata": {
    "colab": {
     "base_uri": "https://localhost:8080/"
    },
    "executionInfo": {
     "elapsed": 71,
     "status": "ok",
     "timestamp": 1647036419778,
     "user": {
      "displayName": "Dongjun Cho",
      "photoUrl": "https://lh3.googleusercontent.com/a/default-user=s64",
      "userId": "15959755585155440977"
     },
     "user_tz": 480
    },
    "id": "XQv69siyqq3p",
    "outputId": "1f0f2065-bd6a-4f1d-f914-91d2628f57be"
   },
   "outputs": [
    {
     "data": {
      "text/plain": [
       "[277, 276, 276, 276, 276]"
      ]
     },
     "execution_count": 67,
     "metadata": {},
     "output_type": "execute_result"
    }
   ],
   "source": [
    "validated_train_car_size = []\n",
    "for i in range(0, 5):\n",
    "    validated_train_car_size.append(validated_train_car[i].shape[0])\n",
    "validated_train_car_size"
   ]
  },
  {
   "cell_type": "code",
   "execution_count": 68,
   "metadata": {
    "executionInfo": {
     "elapsed": 72,
     "status": "ok",
     "timestamp": 1647036419783,
     "user": {
      "displayName": "Dongjun Cho",
      "photoUrl": "https://lh3.googleusercontent.com/a/default-user=s64",
      "userId": "15959755585155440977"
     },
     "user_tz": 480
    },
    "id": "B-DFdmVlqq3r"
   },
   "outputs": [],
   "source": [
    "tuning_car = cross_validation(test_car_dataset,5)"
   ]
  },
  {
   "cell_type": "code",
   "execution_count": 69,
   "metadata": {
    "colab": {
     "base_uri": "https://localhost:8080/"
    },
    "executionInfo": {
     "elapsed": 817,
     "status": "ok",
     "timestamp": 1647036420531,
     "user": {
      "displayName": "Dongjun Cho",
      "photoUrl": "https://lh3.googleusercontent.com/a/default-user=s64",
      "userId": "15959755585155440977"
     },
     "user_tz": 480
    },
    "id": "RVUxKu7Vqq3s",
    "outputId": "4291f7d4-6519-49ac-feae-9b5404200cef"
   },
   "outputs": [
    {
     "data": {
      "text/plain": [
       "[70, 70, 70, 70, 65]"
      ]
     },
     "execution_count": 69,
     "metadata": {},
     "output_type": "execute_result"
    }
   ],
   "source": [
    "tuning_car_size = []\n",
    "for i in range(0, 5):\n",
    "    tuning_car_size.append(tuning_car[i].shape[0])\n",
    "tuning_car_size"
   ]
  },
  {
   "cell_type": "code",
   "execution_count": 70,
   "metadata": {
    "colab": {
     "base_uri": "https://localhost:8080/"
    },
    "executionInfo": {
     "elapsed": 6037,
     "status": "ok",
     "timestamp": 1647036426561,
     "user": {
      "displayName": "Dongjun Cho",
      "photoUrl": "https://lh3.googleusercontent.com/a/default-user=s64",
      "userId": "15959755585155440977"
     },
     "user_tz": 480
    },
    "id": "JlK-JD-ImWiJ",
    "outputId": "b06ef37c-8d81-4770-b0a1-d0418181aef6"
   },
   "outputs": [
    {
     "name": "stdout",
     "output_type": "stream",
     "text": [
      "Car Accuracy Score Unpruned: [83.03, 71.74, 79.35, 70.65, 69.2]/ Avg Score: 74.794\n"
     ]
    }
   ],
   "source": [
    "ID3_score_car = ID3(validated_train_car, 'class', test_car_dataset, 'categorical', False)\n",
    "ID3_avg_score_car = round(np.mean(ID3_score_car),4)\n",
    "print(\"Car Accuracy Score Unpruned: \" + str(ID3_score_car) + \"/ Avg Score: \"+ str(ID3_avg_score_car))\n",
    "\n",
    "#Car Accuracy Score Unpruned: [83.03, 71.74, 79.35, 70.65, 69.2]/ Avg Score: 74.794"
   ]
  },
  {
   "cell_type": "code",
   "execution_count": 71,
   "metadata": {
    "colab": {
     "base_uri": "https://localhost:8080/"
    },
    "executionInfo": {
     "elapsed": 209308,
     "status": "ok",
     "timestamp": 1647036635845,
     "user": {
      "displayName": "Dongjun Cho",
      "photoUrl": "https://lh3.googleusercontent.com/a/default-user=s64",
      "userId": "15959755585155440977"
     },
     "user_tz": 480
    },
    "id": "S-AhJv-umWiJ",
    "outputId": "ee205619-d30c-4255-a652-c34b7af1e566"
   },
   "outputs": [
    {
     "ename": "KeyboardInterrupt",
     "evalue": "",
     "output_type": "error",
     "traceback": [
      "\u001b[0;31m---------------------------------------------------------------------------\u001b[0m",
      "\u001b[0;31mKeyboardInterrupt\u001b[0m                         Traceback (most recent call last)",
      "\u001b[0;32m<ipython-input-71-ca854ec5ae29>\u001b[0m in \u001b[0;36m<module>\u001b[0;34m\u001b[0m\n\u001b[0;32m----> 1\u001b[0;31m \u001b[0mID3_score_car_prune\u001b[0m \u001b[0;34m=\u001b[0m \u001b[0mID3\u001b[0m\u001b[0;34m(\u001b[0m\u001b[0mvalidated_train_car\u001b[0m\u001b[0;34m,\u001b[0m \u001b[0;34m'class'\u001b[0m\u001b[0;34m,\u001b[0m \u001b[0mtest_car_dataset\u001b[0m\u001b[0;34m,\u001b[0m \u001b[0;34m'categorical'\u001b[0m\u001b[0;34m,\u001b[0m \u001b[0;32mTrue\u001b[0m\u001b[0;34m)\u001b[0m\u001b[0;34m\u001b[0m\u001b[0;34m\u001b[0m\u001b[0m\n\u001b[0m\u001b[1;32m      2\u001b[0m \u001b[0mID3_avg_score_car_prune\u001b[0m \u001b[0;34m=\u001b[0m \u001b[0mround\u001b[0m\u001b[0;34m(\u001b[0m\u001b[0mnp\u001b[0m\u001b[0;34m.\u001b[0m\u001b[0mmean\u001b[0m\u001b[0;34m(\u001b[0m\u001b[0mID3_score_car_prune\u001b[0m\u001b[0;34m)\u001b[0m\u001b[0;34m,\u001b[0m\u001b[0;36m4\u001b[0m\u001b[0;34m)\u001b[0m\u001b[0;34m\u001b[0m\u001b[0;34m\u001b[0m\u001b[0m\n\u001b[1;32m      3\u001b[0m \u001b[0mprint\u001b[0m\u001b[0;34m(\u001b[0m\u001b[0;34m\"Car Accuracy Score pruned: \"\u001b[0m \u001b[0;34m+\u001b[0m \u001b[0mstr\u001b[0m\u001b[0;34m(\u001b[0m\u001b[0mID3_score_car_prune\u001b[0m\u001b[0;34m)\u001b[0m \u001b[0;34m+\u001b[0m \u001b[0;34m\"/ Avg Score: \"\u001b[0m\u001b[0;34m+\u001b[0m \u001b[0mstr\u001b[0m\u001b[0;34m(\u001b[0m\u001b[0mID3_avg_score_car_prune\u001b[0m\u001b[0;34m)\u001b[0m\u001b[0;34m)\u001b[0m\u001b[0;34m\u001b[0m\u001b[0;34m\u001b[0m\u001b[0m\n\u001b[1;32m      4\u001b[0m \u001b[0;34m\u001b[0m\u001b[0m\n\u001b[1;32m      5\u001b[0m \u001b[0;31m#Car Accuracy Score pruned: [85.2, 79.35, 66.67, 65.58, 60.14]/ Avg Score: 71.388\u001b[0m\u001b[0;34m\u001b[0m\u001b[0;34m\u001b[0m\u001b[0;34m\u001b[0m\u001b[0m\n",
      "\u001b[0;32m<ipython-input-30-d9eb9fef6fac>\u001b[0m in \u001b[0;36mID3\u001b[0;34m(df, predictor, test, attr_type, pruned)\u001b[0m\n\u001b[1;32m     20\u001b[0m             \u001b[0;32melse\u001b[0m\u001b[0;34m:\u001b[0m\u001b[0;34m\u001b[0m\u001b[0;34m\u001b[0m\u001b[0m\n\u001b[1;32m     21\u001b[0m                 \u001b[0mTree\u001b[0m \u001b[0;34m=\u001b[0m \u001b[0mID3_categorical\u001b[0m\u001b[0;34m(\u001b[0m\u001b[0mk_validate\u001b[0m\u001b[0;34m,\u001b[0m \u001b[0mpredictor\u001b[0m\u001b[0;34m,\u001b[0m \u001b[0mcolumns_feature\u001b[0m\u001b[0;34m)\u001b[0m\u001b[0;34m\u001b[0m\u001b[0;34m\u001b[0m\u001b[0m\n\u001b[0;32m---> 22\u001b[0;31m                 \u001b[0mpruned_tree\u001b[0m \u001b[0;34m=\u001b[0m \u001b[0mpruning\u001b[0m\u001b[0;34m(\u001b[0m\u001b[0mTree\u001b[0m\u001b[0;34m,\u001b[0m \u001b[0mTree\u001b[0m\u001b[0;34m,\u001b[0m \u001b[0mtest\u001b[0m\u001b[0;34m,\u001b[0m \u001b[0mattr_type\u001b[0m\u001b[0;34m,\u001b[0m \u001b[0mpredictor\u001b[0m\u001b[0;34m)\u001b[0m\u001b[0;34m\u001b[0m\u001b[0;34m\u001b[0m\u001b[0m\n\u001b[0m\u001b[1;32m     23\u001b[0m                 \u001b[0mpruned_score\u001b[0m \u001b[0;34m=\u001b[0m \u001b[0mID3_score\u001b[0m\u001b[0;34m(\u001b[0m\u001b[0mpruned_tree\u001b[0m \u001b[0;34m,\u001b[0m \u001b[0mdf\u001b[0m\u001b[0;34m[\u001b[0m\u001b[0mi\u001b[0m\u001b[0;34m]\u001b[0m\u001b[0;34m,\u001b[0m \u001b[0mattr_type\u001b[0m\u001b[0;34m,\u001b[0m \u001b[0mpredictor\u001b[0m\u001b[0;34m)\u001b[0m\u001b[0;34m\u001b[0m\u001b[0;34m\u001b[0m\u001b[0m\n\u001b[1;32m     24\u001b[0m                 \u001b[0mpruned_score\u001b[0m \u001b[0;34m=\u001b[0m \u001b[0mround\u001b[0m\u001b[0;34m(\u001b[0m\u001b[0;34m(\u001b[0m\u001b[0mpruned_score\u001b[0m\u001b[0;34m*\u001b[0m\u001b[0;36m100\u001b[0m\u001b[0;34m)\u001b[0m\u001b[0;34m,\u001b[0m\u001b[0;36m2\u001b[0m\u001b[0;34m)\u001b[0m\u001b[0;34m\u001b[0m\u001b[0;34m\u001b[0m\u001b[0m\n",
      "\u001b[0;32m<ipython-input-29-f46df45b783f>\u001b[0m in \u001b[0;36mpruning\u001b[0;34m(TREE, TREE_v1, tune_df, attr_type, predictor)\u001b[0m\n\u001b[1;32m     17\u001b[0m     \u001b[0;32melse\u001b[0m\u001b[0;34m:\u001b[0m\u001b[0;34m\u001b[0m\u001b[0;34m\u001b[0m\u001b[0m\n\u001b[1;32m     18\u001b[0m         \u001b[0;32mfor\u001b[0m \u001b[0mvalue\u001b[0m\u001b[0;34m,\u001b[0m \u001b[0msubtree\u001b[0m \u001b[0;32min\u001b[0m \u001b[0mbranches\u001b[0m\u001b[0;34m.\u001b[0m\u001b[0mitems\u001b[0m\u001b[0;34m(\u001b[0m\u001b[0;34m)\u001b[0m\u001b[0;34m:\u001b[0m\u001b[0;34m\u001b[0m\u001b[0;34m\u001b[0m\u001b[0m\n\u001b[0;32m---> 19\u001b[0;31m             \u001b[0mpruned_tree\u001b[0m \u001b[0;34m=\u001b[0m \u001b[0mpruning\u001b[0m\u001b[0;34m(\u001b[0m\u001b[0mTREE\u001b[0m\u001b[0;34m,\u001b[0m \u001b[0msubtree\u001b[0m\u001b[0;34m,\u001b[0m \u001b[0mtune_df\u001b[0m\u001b[0;34m,\u001b[0m \u001b[0mattr_type\u001b[0m\u001b[0;34m,\u001b[0m \u001b[0mpredictor\u001b[0m\u001b[0;34m)\u001b[0m\u001b[0;34m\u001b[0m\u001b[0;34m\u001b[0m\u001b[0m\n\u001b[0m\u001b[1;32m     20\u001b[0m         \u001b[0mprivous_score\u001b[0m \u001b[0;34m=\u001b[0m \u001b[0mID3_score\u001b[0m\u001b[0;34m(\u001b[0m\u001b[0mpruned_tree\u001b[0m\u001b[0;34m,\u001b[0m \u001b[0mtune_df\u001b[0m\u001b[0;34m,\u001b[0m \u001b[0mattr_type\u001b[0m\u001b[0;34m,\u001b[0m \u001b[0mpredictor\u001b[0m\u001b[0;34m)\u001b[0m\u001b[0;34m\u001b[0m\u001b[0;34m\u001b[0m\u001b[0m\n\u001b[1;32m     21\u001b[0m         \u001b[0mTREE_v1\u001b[0m\u001b[0;34m.\u001b[0m\u001b[0mprune_tag\u001b[0m \u001b[0;34m=\u001b[0m \u001b[0;32mTrue\u001b[0m\u001b[0;34m\u001b[0m\u001b[0;34m\u001b[0m\u001b[0m\n",
      "\u001b[0;32m<ipython-input-29-f46df45b783f>\u001b[0m in \u001b[0;36mpruning\u001b[0;34m(TREE, TREE_v1, tune_df, attr_type, predictor)\u001b[0m\n\u001b[1;32m     17\u001b[0m     \u001b[0;32melse\u001b[0m\u001b[0;34m:\u001b[0m\u001b[0;34m\u001b[0m\u001b[0;34m\u001b[0m\u001b[0m\n\u001b[1;32m     18\u001b[0m         \u001b[0;32mfor\u001b[0m \u001b[0mvalue\u001b[0m\u001b[0;34m,\u001b[0m \u001b[0msubtree\u001b[0m \u001b[0;32min\u001b[0m \u001b[0mbranches\u001b[0m\u001b[0;34m.\u001b[0m\u001b[0mitems\u001b[0m\u001b[0;34m(\u001b[0m\u001b[0;34m)\u001b[0m\u001b[0;34m:\u001b[0m\u001b[0;34m\u001b[0m\u001b[0;34m\u001b[0m\u001b[0m\n\u001b[0;32m---> 19\u001b[0;31m             \u001b[0mpruned_tree\u001b[0m \u001b[0;34m=\u001b[0m \u001b[0mpruning\u001b[0m\u001b[0;34m(\u001b[0m\u001b[0mTREE\u001b[0m\u001b[0;34m,\u001b[0m \u001b[0msubtree\u001b[0m\u001b[0;34m,\u001b[0m \u001b[0mtune_df\u001b[0m\u001b[0;34m,\u001b[0m \u001b[0mattr_type\u001b[0m\u001b[0;34m,\u001b[0m \u001b[0mpredictor\u001b[0m\u001b[0;34m)\u001b[0m\u001b[0;34m\u001b[0m\u001b[0;34m\u001b[0m\u001b[0m\n\u001b[0m\u001b[1;32m     20\u001b[0m         \u001b[0mprivous_score\u001b[0m \u001b[0;34m=\u001b[0m \u001b[0mID3_score\u001b[0m\u001b[0;34m(\u001b[0m\u001b[0mpruned_tree\u001b[0m\u001b[0;34m,\u001b[0m \u001b[0mtune_df\u001b[0m\u001b[0;34m,\u001b[0m \u001b[0mattr_type\u001b[0m\u001b[0;34m,\u001b[0m \u001b[0mpredictor\u001b[0m\u001b[0;34m)\u001b[0m\u001b[0;34m\u001b[0m\u001b[0;34m\u001b[0m\u001b[0m\n\u001b[1;32m     21\u001b[0m         \u001b[0mTREE_v1\u001b[0m\u001b[0;34m.\u001b[0m\u001b[0mprune_tag\u001b[0m \u001b[0;34m=\u001b[0m \u001b[0;32mTrue\u001b[0m\u001b[0;34m\u001b[0m\u001b[0;34m\u001b[0m\u001b[0m\n",
      "\u001b[0;32m<ipython-input-29-f46df45b783f>\u001b[0m in \u001b[0;36mpruning\u001b[0;34m(TREE, TREE_v1, tune_df, attr_type, predictor)\u001b[0m\n\u001b[1;32m     17\u001b[0m     \u001b[0;32melse\u001b[0m\u001b[0;34m:\u001b[0m\u001b[0;34m\u001b[0m\u001b[0;34m\u001b[0m\u001b[0m\n\u001b[1;32m     18\u001b[0m         \u001b[0;32mfor\u001b[0m \u001b[0mvalue\u001b[0m\u001b[0;34m,\u001b[0m \u001b[0msubtree\u001b[0m \u001b[0;32min\u001b[0m \u001b[0mbranches\u001b[0m\u001b[0;34m.\u001b[0m\u001b[0mitems\u001b[0m\u001b[0;34m(\u001b[0m\u001b[0;34m)\u001b[0m\u001b[0;34m:\u001b[0m\u001b[0;34m\u001b[0m\u001b[0;34m\u001b[0m\u001b[0m\n\u001b[0;32m---> 19\u001b[0;31m             \u001b[0mpruned_tree\u001b[0m \u001b[0;34m=\u001b[0m \u001b[0mpruning\u001b[0m\u001b[0;34m(\u001b[0m\u001b[0mTREE\u001b[0m\u001b[0;34m,\u001b[0m \u001b[0msubtree\u001b[0m\u001b[0;34m,\u001b[0m \u001b[0mtune_df\u001b[0m\u001b[0;34m,\u001b[0m \u001b[0mattr_type\u001b[0m\u001b[0;34m,\u001b[0m \u001b[0mpredictor\u001b[0m\u001b[0;34m)\u001b[0m\u001b[0;34m\u001b[0m\u001b[0;34m\u001b[0m\u001b[0m\n\u001b[0m\u001b[1;32m     20\u001b[0m         \u001b[0mprivous_score\u001b[0m \u001b[0;34m=\u001b[0m \u001b[0mID3_score\u001b[0m\u001b[0;34m(\u001b[0m\u001b[0mpruned_tree\u001b[0m\u001b[0;34m,\u001b[0m \u001b[0mtune_df\u001b[0m\u001b[0;34m,\u001b[0m \u001b[0mattr_type\u001b[0m\u001b[0;34m,\u001b[0m \u001b[0mpredictor\u001b[0m\u001b[0;34m)\u001b[0m\u001b[0;34m\u001b[0m\u001b[0;34m\u001b[0m\u001b[0m\n\u001b[1;32m     21\u001b[0m         \u001b[0mTREE_v1\u001b[0m\u001b[0;34m.\u001b[0m\u001b[0mprune_tag\u001b[0m \u001b[0;34m=\u001b[0m \u001b[0;32mTrue\u001b[0m\u001b[0;34m\u001b[0m\u001b[0;34m\u001b[0m\u001b[0m\n",
      "\u001b[0;32m<ipython-input-29-f46df45b783f>\u001b[0m in \u001b[0;36mpruning\u001b[0;34m(TREE, TREE_v1, tune_df, attr_type, predictor)\u001b[0m\n\u001b[1;32m     17\u001b[0m     \u001b[0;32melse\u001b[0m\u001b[0;34m:\u001b[0m\u001b[0;34m\u001b[0m\u001b[0;34m\u001b[0m\u001b[0m\n\u001b[1;32m     18\u001b[0m         \u001b[0;32mfor\u001b[0m \u001b[0mvalue\u001b[0m\u001b[0;34m,\u001b[0m \u001b[0msubtree\u001b[0m \u001b[0;32min\u001b[0m \u001b[0mbranches\u001b[0m\u001b[0;34m.\u001b[0m\u001b[0mitems\u001b[0m\u001b[0;34m(\u001b[0m\u001b[0;34m)\u001b[0m\u001b[0;34m:\u001b[0m\u001b[0;34m\u001b[0m\u001b[0;34m\u001b[0m\u001b[0m\n\u001b[0;32m---> 19\u001b[0;31m             \u001b[0mpruned_tree\u001b[0m \u001b[0;34m=\u001b[0m \u001b[0mpruning\u001b[0m\u001b[0;34m(\u001b[0m\u001b[0mTREE\u001b[0m\u001b[0;34m,\u001b[0m \u001b[0msubtree\u001b[0m\u001b[0;34m,\u001b[0m \u001b[0mtune_df\u001b[0m\u001b[0;34m,\u001b[0m \u001b[0mattr_type\u001b[0m\u001b[0;34m,\u001b[0m \u001b[0mpredictor\u001b[0m\u001b[0;34m)\u001b[0m\u001b[0;34m\u001b[0m\u001b[0;34m\u001b[0m\u001b[0m\n\u001b[0m\u001b[1;32m     20\u001b[0m         \u001b[0mprivous_score\u001b[0m \u001b[0;34m=\u001b[0m \u001b[0mID3_score\u001b[0m\u001b[0;34m(\u001b[0m\u001b[0mpruned_tree\u001b[0m\u001b[0;34m,\u001b[0m \u001b[0mtune_df\u001b[0m\u001b[0;34m,\u001b[0m \u001b[0mattr_type\u001b[0m\u001b[0;34m,\u001b[0m \u001b[0mpredictor\u001b[0m\u001b[0;34m)\u001b[0m\u001b[0;34m\u001b[0m\u001b[0;34m\u001b[0m\u001b[0m\n\u001b[1;32m     21\u001b[0m         \u001b[0mTREE_v1\u001b[0m\u001b[0;34m.\u001b[0m\u001b[0mprune_tag\u001b[0m \u001b[0;34m=\u001b[0m \u001b[0;32mTrue\u001b[0m\u001b[0;34m\u001b[0m\u001b[0;34m\u001b[0m\u001b[0m\n",
      "\u001b[0;32m<ipython-input-29-f46df45b783f>\u001b[0m in \u001b[0;36mpruning\u001b[0;34m(TREE, TREE_v1, tune_df, attr_type, predictor)\u001b[0m\n\u001b[1;32m     17\u001b[0m     \u001b[0;32melse\u001b[0m\u001b[0;34m:\u001b[0m\u001b[0;34m\u001b[0m\u001b[0;34m\u001b[0m\u001b[0m\n\u001b[1;32m     18\u001b[0m         \u001b[0;32mfor\u001b[0m \u001b[0mvalue\u001b[0m\u001b[0;34m,\u001b[0m \u001b[0msubtree\u001b[0m \u001b[0;32min\u001b[0m \u001b[0mbranches\u001b[0m\u001b[0;34m.\u001b[0m\u001b[0mitems\u001b[0m\u001b[0;34m(\u001b[0m\u001b[0;34m)\u001b[0m\u001b[0;34m:\u001b[0m\u001b[0;34m\u001b[0m\u001b[0;34m\u001b[0m\u001b[0m\n\u001b[0;32m---> 19\u001b[0;31m             \u001b[0mpruned_tree\u001b[0m \u001b[0;34m=\u001b[0m \u001b[0mpruning\u001b[0m\u001b[0;34m(\u001b[0m\u001b[0mTREE\u001b[0m\u001b[0;34m,\u001b[0m \u001b[0msubtree\u001b[0m\u001b[0;34m,\u001b[0m \u001b[0mtune_df\u001b[0m\u001b[0;34m,\u001b[0m \u001b[0mattr_type\u001b[0m\u001b[0;34m,\u001b[0m \u001b[0mpredictor\u001b[0m\u001b[0;34m)\u001b[0m\u001b[0;34m\u001b[0m\u001b[0;34m\u001b[0m\u001b[0m\n\u001b[0m\u001b[1;32m     20\u001b[0m         \u001b[0mprivous_score\u001b[0m \u001b[0;34m=\u001b[0m \u001b[0mID3_score\u001b[0m\u001b[0;34m(\u001b[0m\u001b[0mpruned_tree\u001b[0m\u001b[0;34m,\u001b[0m \u001b[0mtune_df\u001b[0m\u001b[0;34m,\u001b[0m \u001b[0mattr_type\u001b[0m\u001b[0;34m,\u001b[0m \u001b[0mpredictor\u001b[0m\u001b[0;34m)\u001b[0m\u001b[0;34m\u001b[0m\u001b[0;34m\u001b[0m\u001b[0m\n\u001b[1;32m     21\u001b[0m         \u001b[0mTREE_v1\u001b[0m\u001b[0;34m.\u001b[0m\u001b[0mprune_tag\u001b[0m \u001b[0;34m=\u001b[0m \u001b[0;32mTrue\u001b[0m\u001b[0;34m\u001b[0m\u001b[0;34m\u001b[0m\u001b[0m\n",
      "\u001b[0;32m<ipython-input-29-f46df45b783f>\u001b[0m in \u001b[0;36mpruning\u001b[0;34m(TREE, TREE_v1, tune_df, attr_type, predictor)\u001b[0m\n\u001b[1;32m     11\u001b[0m         \u001b[0mprivous_score\u001b[0m \u001b[0;34m=\u001b[0m \u001b[0mID3_score\u001b[0m\u001b[0;34m(\u001b[0m\u001b[0mTREE\u001b[0m\u001b[0;34m,\u001b[0m \u001b[0mtune_df\u001b[0m\u001b[0;34m,\u001b[0m \u001b[0mattr_type\u001b[0m\u001b[0;34m,\u001b[0m \u001b[0mpredictor\u001b[0m\u001b[0;34m)\u001b[0m\u001b[0;34m\u001b[0m\u001b[0;34m\u001b[0m\u001b[0m\n\u001b[1;32m     12\u001b[0m         \u001b[0mTREE_v1\u001b[0m\u001b[0;34m.\u001b[0m\u001b[0mprune_tag\u001b[0m \u001b[0;34m=\u001b[0m \u001b[0;32mTrue\u001b[0m\u001b[0;34m\u001b[0m\u001b[0;34m\u001b[0m\u001b[0m\n\u001b[0;32m---> 13\u001b[0;31m         \u001b[0mnew_score\u001b[0m \u001b[0;34m=\u001b[0m \u001b[0mID3_score\u001b[0m\u001b[0;34m(\u001b[0m\u001b[0mTREE\u001b[0m\u001b[0;34m,\u001b[0m \u001b[0mtune_df\u001b[0m\u001b[0;34m,\u001b[0m \u001b[0mattr_type\u001b[0m\u001b[0;34m,\u001b[0m \u001b[0mpredictor\u001b[0m\u001b[0;34m)\u001b[0m\u001b[0;34m\u001b[0m\u001b[0;34m\u001b[0m\u001b[0m\n\u001b[0m\u001b[1;32m     14\u001b[0m         \u001b[0;32mif\u001b[0m \u001b[0mprivous_score\u001b[0m \u001b[0;34m>\u001b[0m \u001b[0mnew_score\u001b[0m\u001b[0;34m:\u001b[0m\u001b[0;34m\u001b[0m\u001b[0;34m\u001b[0m\u001b[0m\n\u001b[1;32m     15\u001b[0m             \u001b[0mTREE_v1\u001b[0m\u001b[0;34m.\u001b[0m\u001b[0mprune_tag\u001b[0m \u001b[0;34m=\u001b[0m \u001b[0;32mFalse\u001b[0m\u001b[0;34m\u001b[0m\u001b[0;34m\u001b[0m\u001b[0m\n",
      "\u001b[0;32m<ipython-input-28-8c2705e67e49>\u001b[0m in \u001b[0;36mID3_score\u001b[0;34m(TREE, df, attr_type, predictor)\u001b[0m\n\u001b[1;32m     10\u001b[0m     \u001b[0;32mfor\u001b[0m \u001b[0mi\u001b[0m \u001b[0;32min\u001b[0m \u001b[0mrange\u001b[0m\u001b[0;34m(\u001b[0m\u001b[0mlen\u001b[0m\u001b[0;34m(\u001b[0m\u001b[0mdf\u001b[0m\u001b[0;34m)\u001b[0m\u001b[0;34m)\u001b[0m\u001b[0;34m:\u001b[0m\u001b[0;34m\u001b[0m\u001b[0;34m\u001b[0m\u001b[0m\n\u001b[1;32m     11\u001b[0m         \u001b[0;32mif\u001b[0m \u001b[0mattr_type\u001b[0m \u001b[0;34m==\u001b[0m \u001b[0;34m'categorical'\u001b[0m\u001b[0;34m:\u001b[0m\u001b[0;34m\u001b[0m\u001b[0;34m\u001b[0m\u001b[0m\n\u001b[0;32m---> 12\u001b[0;31m             \u001b[0mprediction\u001b[0m \u001b[0;34m=\u001b[0m \u001b[0mpredict_ID3\u001b[0m\u001b[0;34m(\u001b[0m\u001b[0mTREE\u001b[0m\u001b[0;34m,\u001b[0m \u001b[0mdf\u001b[0m\u001b[0;34m.\u001b[0m\u001b[0miloc\u001b[0m\u001b[0;34m[\u001b[0m\u001b[0mi\u001b[0m\u001b[0;34m,\u001b[0m \u001b[0;34m:\u001b[0m\u001b[0;34m]\u001b[0m\u001b[0;34m,\u001b[0m \u001b[0mpredictor\u001b[0m\u001b[0;34m)\u001b[0m\u001b[0;34m\u001b[0m\u001b[0;34m\u001b[0m\u001b[0m\n\u001b[0m\u001b[1;32m     13\u001b[0m         \u001b[0;32melif\u001b[0m \u001b[0mattr_type\u001b[0m \u001b[0;34m==\u001b[0m \u001b[0;34m'numerical'\u001b[0m\u001b[0;34m:\u001b[0m\u001b[0;34m\u001b[0m\u001b[0;34m\u001b[0m\u001b[0m\n\u001b[1;32m     14\u001b[0m             \u001b[0;32mreturn\u001b[0m \u001b[0mprint\u001b[0m\u001b[0;34m(\u001b[0m\u001b[0;34m\"best attribute\"\u001b[0m \u001b[0;34m+\u001b[0m \u001b[0mstr\u001b[0m\u001b[0;34m(\u001b[0m\u001b[0mbest_attribute_selection\u001b[0m\u001b[0;34m(\u001b[0m\u001b[0mdf\u001b[0m\u001b[0;34m,\u001b[0m \u001b[0mpredictor\u001b[0m\u001b[0;34m)\u001b[0m\u001b[0;34m)\u001b[0m\u001b[0;34m)\u001b[0m\u001b[0;34m\u001b[0m\u001b[0;34m\u001b[0m\u001b[0m\n",
      "\u001b[0;32m~/.local/lib/python3.6/site-packages/pandas/core/indexing.py\u001b[0m in \u001b[0;36m__getitem__\u001b[0;34m(self, key)\u001b[0m\n\u001b[1;32m    871\u001b[0m                     \u001b[0;31m# AttributeError for IntervalTree get_value\u001b[0m\u001b[0;34m\u001b[0m\u001b[0;34m\u001b[0m\u001b[0;34m\u001b[0m\u001b[0m\n\u001b[1;32m    872\u001b[0m                     \u001b[0;32mpass\u001b[0m\u001b[0;34m\u001b[0m\u001b[0;34m\u001b[0m\u001b[0m\n\u001b[0;32m--> 873\u001b[0;31m             \u001b[0;32mreturn\u001b[0m \u001b[0mself\u001b[0m\u001b[0;34m.\u001b[0m\u001b[0m_getitem_tuple\u001b[0m\u001b[0;34m(\u001b[0m\u001b[0mkey\u001b[0m\u001b[0;34m)\u001b[0m\u001b[0;34m\u001b[0m\u001b[0;34m\u001b[0m\u001b[0m\n\u001b[0m\u001b[1;32m    874\u001b[0m         \u001b[0;32melse\u001b[0m\u001b[0;34m:\u001b[0m\u001b[0;34m\u001b[0m\u001b[0;34m\u001b[0m\u001b[0m\n\u001b[1;32m    875\u001b[0m             \u001b[0;31m# we by definition only have the 0th axis\u001b[0m\u001b[0;34m\u001b[0m\u001b[0;34m\u001b[0m\u001b[0;34m\u001b[0m\u001b[0m\n",
      "\u001b[0;32m~/.local/lib/python3.6/site-packages/pandas/core/indexing.py\u001b[0m in \u001b[0;36m_getitem_tuple\u001b[0;34m(self, tup)\u001b[0m\n\u001b[1;32m   1443\u001b[0m         \u001b[0mself\u001b[0m\u001b[0;34m.\u001b[0m\u001b[0m_has_valid_tuple\u001b[0m\u001b[0;34m(\u001b[0m\u001b[0mtup\u001b[0m\u001b[0;34m)\u001b[0m\u001b[0;34m\u001b[0m\u001b[0;34m\u001b[0m\u001b[0m\n\u001b[1;32m   1444\u001b[0m         \u001b[0;32mtry\u001b[0m\u001b[0;34m:\u001b[0m\u001b[0;34m\u001b[0m\u001b[0;34m\u001b[0m\u001b[0m\n\u001b[0;32m-> 1445\u001b[0;31m             \u001b[0;32mreturn\u001b[0m \u001b[0mself\u001b[0m\u001b[0;34m.\u001b[0m\u001b[0m_getitem_lowerdim\u001b[0m\u001b[0;34m(\u001b[0m\u001b[0mtup\u001b[0m\u001b[0;34m)\u001b[0m\u001b[0;34m\u001b[0m\u001b[0;34m\u001b[0m\u001b[0m\n\u001b[0m\u001b[1;32m   1446\u001b[0m         \u001b[0;32mexcept\u001b[0m \u001b[0mIndexingError\u001b[0m\u001b[0;34m:\u001b[0m\u001b[0;34m\u001b[0m\u001b[0;34m\u001b[0m\u001b[0m\n\u001b[1;32m   1447\u001b[0m             \u001b[0;32mpass\u001b[0m\u001b[0;34m\u001b[0m\u001b[0;34m\u001b[0m\u001b[0m\n",
      "\u001b[0;32m~/.local/lib/python3.6/site-packages/pandas/core/indexing.py\u001b[0m in \u001b[0;36m_getitem_lowerdim\u001b[0;34m(self, tup)\u001b[0m\n\u001b[1;32m    784\u001b[0m                 \u001b[0;31m# We don't need to check for tuples here because those are\u001b[0m\u001b[0;34m\u001b[0m\u001b[0;34m\u001b[0m\u001b[0;34m\u001b[0m\u001b[0m\n\u001b[1;32m    785\u001b[0m                 \u001b[0;31m#  caught by the _is_nested_tuple_indexer check above.\u001b[0m\u001b[0;34m\u001b[0m\u001b[0;34m\u001b[0m\u001b[0;34m\u001b[0m\u001b[0m\n\u001b[0;32m--> 786\u001b[0;31m                 \u001b[0msection\u001b[0m \u001b[0;34m=\u001b[0m \u001b[0mself\u001b[0m\u001b[0;34m.\u001b[0m\u001b[0m_getitem_axis\u001b[0m\u001b[0;34m(\u001b[0m\u001b[0mkey\u001b[0m\u001b[0;34m,\u001b[0m \u001b[0maxis\u001b[0m\u001b[0;34m=\u001b[0m\u001b[0mi\u001b[0m\u001b[0;34m)\u001b[0m\u001b[0;34m\u001b[0m\u001b[0;34m\u001b[0m\u001b[0m\n\u001b[0m\u001b[1;32m    787\u001b[0m \u001b[0;34m\u001b[0m\u001b[0m\n\u001b[1;32m    788\u001b[0m                 \u001b[0;31m# We should never have a scalar section here, because\u001b[0m\u001b[0;34m\u001b[0m\u001b[0;34m\u001b[0m\u001b[0;34m\u001b[0m\u001b[0m\n",
      "\u001b[0;32m~/.local/lib/python3.6/site-packages/pandas/core/indexing.py\u001b[0m in \u001b[0;36m_getitem_axis\u001b[0;34m(self, key, axis)\u001b[0m\n\u001b[1;32m   1496\u001b[0m             \u001b[0mself\u001b[0m\u001b[0;34m.\u001b[0m\u001b[0m_validate_integer\u001b[0m\u001b[0;34m(\u001b[0m\u001b[0mkey\u001b[0m\u001b[0;34m,\u001b[0m \u001b[0maxis\u001b[0m\u001b[0;34m)\u001b[0m\u001b[0;34m\u001b[0m\u001b[0;34m\u001b[0m\u001b[0m\n\u001b[1;32m   1497\u001b[0m \u001b[0;34m\u001b[0m\u001b[0m\n\u001b[0;32m-> 1498\u001b[0;31m             \u001b[0;32mreturn\u001b[0m \u001b[0mself\u001b[0m\u001b[0;34m.\u001b[0m\u001b[0mobj\u001b[0m\u001b[0;34m.\u001b[0m\u001b[0m_ixs\u001b[0m\u001b[0;34m(\u001b[0m\u001b[0mkey\u001b[0m\u001b[0;34m,\u001b[0m \u001b[0maxis\u001b[0m\u001b[0;34m=\u001b[0m\u001b[0maxis\u001b[0m\u001b[0;34m)\u001b[0m\u001b[0;34m\u001b[0m\u001b[0;34m\u001b[0m\u001b[0m\n\u001b[0m\u001b[1;32m   1499\u001b[0m \u001b[0;34m\u001b[0m\u001b[0m\n\u001b[1;32m   1500\u001b[0m     \u001b[0;32mdef\u001b[0m \u001b[0m_get_slice_axis\u001b[0m\u001b[0;34m(\u001b[0m\u001b[0mself\u001b[0m\u001b[0;34m,\u001b[0m \u001b[0mslice_obj\u001b[0m\u001b[0;34m:\u001b[0m \u001b[0mslice\u001b[0m\u001b[0;34m,\u001b[0m \u001b[0maxis\u001b[0m\u001b[0;34m:\u001b[0m \u001b[0mint\u001b[0m\u001b[0;34m)\u001b[0m\u001b[0;34m:\u001b[0m\u001b[0;34m\u001b[0m\u001b[0;34m\u001b[0m\u001b[0m\n",
      "\u001b[0;32m~/.local/lib/python3.6/site-packages/pandas/core/frame.py\u001b[0m in \u001b[0;36m_ixs\u001b[0;34m(self, i, axis)\u001b[0m\n\u001b[1;32m   2835\u001b[0m                 \u001b[0mindex\u001b[0m\u001b[0;34m=\u001b[0m\u001b[0mself\u001b[0m\u001b[0;34m.\u001b[0m\u001b[0mcolumns\u001b[0m\u001b[0;34m,\u001b[0m\u001b[0;34m\u001b[0m\u001b[0;34m\u001b[0m\u001b[0m\n\u001b[1;32m   2836\u001b[0m                 \u001b[0mname\u001b[0m\u001b[0;34m=\u001b[0m\u001b[0mself\u001b[0m\u001b[0;34m.\u001b[0m\u001b[0mindex\u001b[0m\u001b[0;34m[\u001b[0m\u001b[0mi\u001b[0m\u001b[0;34m]\u001b[0m\u001b[0;34m,\u001b[0m\u001b[0;34m\u001b[0m\u001b[0;34m\u001b[0m\u001b[0m\n\u001b[0;32m-> 2837\u001b[0;31m                 \u001b[0mdtype\u001b[0m\u001b[0;34m=\u001b[0m\u001b[0mnew_values\u001b[0m\u001b[0;34m.\u001b[0m\u001b[0mdtype\u001b[0m\u001b[0;34m,\u001b[0m\u001b[0;34m\u001b[0m\u001b[0;34m\u001b[0m\u001b[0m\n\u001b[0m\u001b[1;32m   2838\u001b[0m             )\n\u001b[1;32m   2839\u001b[0m             \u001b[0mresult\u001b[0m\u001b[0;34m.\u001b[0m\u001b[0m_set_is_copy\u001b[0m\u001b[0;34m(\u001b[0m\u001b[0mself\u001b[0m\u001b[0;34m,\u001b[0m \u001b[0mcopy\u001b[0m\u001b[0;34m=\u001b[0m\u001b[0mcopy\u001b[0m\u001b[0;34m)\u001b[0m\u001b[0;34m\u001b[0m\u001b[0;34m\u001b[0m\u001b[0m\n",
      "\u001b[0;32m~/.local/lib/python3.6/site-packages/pandas/core/series.py\u001b[0m in \u001b[0;36m__init__\u001b[0;34m(self, data, index, dtype, name, copy, fastpath)\u001b[0m\n\u001b[1;32m    327\u001b[0m                 \u001b[0mdata\u001b[0m \u001b[0;34m=\u001b[0m \u001b[0msanitize_array\u001b[0m\u001b[0;34m(\u001b[0m\u001b[0mdata\u001b[0m\u001b[0;34m,\u001b[0m \u001b[0mindex\u001b[0m\u001b[0;34m,\u001b[0m \u001b[0mdtype\u001b[0m\u001b[0;34m,\u001b[0m \u001b[0mcopy\u001b[0m\u001b[0;34m,\u001b[0m \u001b[0mraise_cast_failure\u001b[0m\u001b[0;34m=\u001b[0m\u001b[0;32mTrue\u001b[0m\u001b[0;34m)\u001b[0m\u001b[0;34m\u001b[0m\u001b[0;34m\u001b[0m\u001b[0m\n\u001b[1;32m    328\u001b[0m \u001b[0;34m\u001b[0m\u001b[0m\n\u001b[0;32m--> 329\u001b[0;31m                 \u001b[0mdata\u001b[0m \u001b[0;34m=\u001b[0m \u001b[0mSingleBlockManager\u001b[0m\u001b[0;34m.\u001b[0m\u001b[0mfrom_array\u001b[0m\u001b[0;34m(\u001b[0m\u001b[0mdata\u001b[0m\u001b[0;34m,\u001b[0m \u001b[0mindex\u001b[0m\u001b[0;34m)\u001b[0m\u001b[0;34m\u001b[0m\u001b[0;34m\u001b[0m\u001b[0m\n\u001b[0m\u001b[1;32m    330\u001b[0m \u001b[0;34m\u001b[0m\u001b[0m\n\u001b[1;32m    331\u001b[0m         \u001b[0mgeneric\u001b[0m\u001b[0;34m.\u001b[0m\u001b[0mNDFrame\u001b[0m\u001b[0;34m.\u001b[0m\u001b[0m__init__\u001b[0m\u001b[0;34m(\u001b[0m\u001b[0mself\u001b[0m\u001b[0;34m,\u001b[0m \u001b[0mdata\u001b[0m\u001b[0;34m)\u001b[0m\u001b[0;34m\u001b[0m\u001b[0;34m\u001b[0m\u001b[0m\n",
      "\u001b[0;32m~/.local/lib/python3.6/site-packages/pandas/core/internals/managers.py\u001b[0m in \u001b[0;36mfrom_array\u001b[0;34m(cls, array, index)\u001b[0m\n\u001b[1;32m   1562\u001b[0m         \u001b[0;32mreturn\u001b[0m \u001b[0mcls\u001b[0m\u001b[0;34m(\u001b[0m\u001b[0mblocks\u001b[0m\u001b[0;34m[\u001b[0m\u001b[0;36m0\u001b[0m\u001b[0;34m]\u001b[0m\u001b[0;34m,\u001b[0m \u001b[0maxes\u001b[0m\u001b[0;34m[\u001b[0m\u001b[0;36m0\u001b[0m\u001b[0;34m]\u001b[0m\u001b[0;34m,\u001b[0m \u001b[0mdo_integrity_check\u001b[0m\u001b[0;34m=\u001b[0m\u001b[0;32mFalse\u001b[0m\u001b[0;34m)\u001b[0m\u001b[0;34m\u001b[0m\u001b[0;34m\u001b[0m\u001b[0m\n\u001b[1;32m   1563\u001b[0m \u001b[0;34m\u001b[0m\u001b[0m\n\u001b[0;32m-> 1564\u001b[0;31m     \u001b[0;34m@\u001b[0m\u001b[0mclassmethod\u001b[0m\u001b[0;34m\u001b[0m\u001b[0;34m\u001b[0m\u001b[0m\n\u001b[0m\u001b[1;32m   1565\u001b[0m     \u001b[0;32mdef\u001b[0m \u001b[0mfrom_array\u001b[0m\u001b[0;34m(\u001b[0m\u001b[0mcls\u001b[0m\u001b[0;34m,\u001b[0m \u001b[0marray\u001b[0m\u001b[0;34m:\u001b[0m \u001b[0mArrayLike\u001b[0m\u001b[0;34m,\u001b[0m \u001b[0mindex\u001b[0m\u001b[0;34m:\u001b[0m \u001b[0mIndex\u001b[0m\u001b[0;34m)\u001b[0m \u001b[0;34m->\u001b[0m \u001b[0;34m\"SingleBlockManager\"\u001b[0m\u001b[0;34m:\u001b[0m\u001b[0;34m\u001b[0m\u001b[0;34m\u001b[0m\u001b[0m\n\u001b[1;32m   1566\u001b[0m         \"\"\"\n",
      "\u001b[0;31mKeyboardInterrupt\u001b[0m: "
     ]
    }
   ],
   "source": [
    "ID3_score_car_prune = ID3(validated_train_car, 'class', test_car_dataset, 'categorical', True)\n",
    "ID3_avg_score_car_prune = round(np.mean(ID3_score_car_prune),4)\n",
    "print(\"Car Accuracy Score pruned: \" + str(ID3_score_car_prune) + \"/ Avg Score: \"+ str(ID3_avg_score_car_prune))\n",
    "\n",
    "#Car Accuracy Score pruned: [85.2, 79.35, 66.67, 65.58, 60.14]/ Avg Score: 71.388"
   ]
  },
  {
   "cell_type": "markdown",
   "metadata": {
    "id": "YEN1XnYdqq3u"
   },
   "source": [
    "## Congressional Vote"
   ]
  },
  {
   "cell_type": "code",
   "execution_count": null,
   "metadata": {
    "colab": {
     "base_uri": "https://localhost:8080/",
     "height": 270
    },
    "executionInfo": {
     "elapsed": 58,
     "status": "ok",
     "timestamp": 1647036635850,
     "user": {
      "displayName": "Dongjun Cho",
      "photoUrl": "https://lh3.googleusercontent.com/a/default-user=s64",
      "userId": "15959755585155440977"
     },
     "user_tz": 480
    },
    "id": "ExWyCgWlqq3v",
    "outputId": "4340580d-272c-42a1-9718-f930a3292711"
   },
   "outputs": [],
   "source": [
    "vote_dataset = open_csv_dataset('vote', True)\n",
    "vote_dataset.head()"
   ]
  },
  {
   "cell_type": "code",
   "execution_count": null,
   "metadata": {
    "colab": {
     "base_uri": "https://localhost:8080/"
    },
    "executionInfo": {
     "elapsed": 55,
     "status": "ok",
     "timestamp": 1647036635855,
     "user": {
      "displayName": "Dongjun Cho",
      "photoUrl": "https://lh3.googleusercontent.com/a/default-user=s64",
      "userId": "15959755585155440977"
     },
     "user_tz": 480
    },
    "id": "tzuVs_zTqq3v",
    "outputId": "3eac1206-846f-4463-97f3-fd4a8e49a98c"
   },
   "outputs": [],
   "source": [
    "vote_dataset.isnull().sum().any()"
   ]
  },
  {
   "cell_type": "code",
   "execution_count": null,
   "metadata": {
    "colab": {
     "base_uri": "https://localhost:8080/",
     "height": 270
    },
    "executionInfo": {
     "elapsed": 53,
     "status": "ok",
     "timestamp": 1647036635863,
     "user": {
      "displayName": "Dongjun Cho",
      "photoUrl": "https://lh3.googleusercontent.com/a/default-user=s64",
      "userId": "15959755585155440977"
     },
     "user_tz": 480
    },
    "id": "UdBOR2b3qq3v",
    "outputId": "7421b032-5be7-4d24-f330-3c7095389b4e"
   },
   "outputs": [],
   "source": [
    "categorized_vote_datast = replacing_string_to_numeric_all_columns(vote_dataset)\n",
    "categorized_vote_datast.head()"
   ]
  },
  {
   "cell_type": "code",
   "execution_count": null,
   "metadata": {
    "executionInfo": {
     "elapsed": 51,
     "status": "ok",
     "timestamp": 1647036635871,
     "user": {
      "displayName": "Dongjun Cho",
      "photoUrl": "https://lh3.googleusercontent.com/a/default-user=s64",
      "userId": "15959755585155440977"
     },
     "user_tz": 480
    },
    "id": "WIZGRVp3qq3w"
   },
   "outputs": [],
   "source": [
    "vote_dataset_v1  = categorized_vote_datast.copy()"
   ]
  },
  {
   "cell_type": "code",
   "execution_count": null,
   "metadata": {
    "executionInfo": {
     "elapsed": 302,
     "status": "ok",
     "timestamp": 1647036636124,
     "user": {
      "displayName": "Dongjun Cho",
      "photoUrl": "https://lh3.googleusercontent.com/a/default-user=s64",
      "userId": "15959755585155440977"
     },
     "user_tz": 480
    },
    "id": "cXAyGZAWqq3w"
   },
   "outputs": [],
   "source": [
    "train_vote_dataset, test_vote_dataset = split_dataset(vote_dataset_v1, 0.8)"
   ]
  },
  {
   "cell_type": "code",
   "execution_count": null,
   "metadata": {
    "executionInfo": {
     "elapsed": 50,
     "status": "ok",
     "timestamp": 1647036636133,
     "user": {
      "displayName": "Dongjun Cho",
      "photoUrl": "https://lh3.googleusercontent.com/a/default-user=s64",
      "userId": "15959755585155440977"
     },
     "user_tz": 480
    },
    "id": "ERM-kYbRqq3w"
   },
   "outputs": [],
   "source": [
    "train_vote_zscore_dataset, test_vote_zscore_dataset  = Standardization(train_vote_dataset,test_vote_dataset)"
   ]
  },
  {
   "cell_type": "code",
   "execution_count": null,
   "metadata": {
    "executionInfo": {
     "elapsed": 49,
     "status": "ok",
     "timestamp": 1647036636135,
     "user": {
      "displayName": "Dongjun Cho",
      "photoUrl": "https://lh3.googleusercontent.com/a/default-user=s64",
      "userId": "15959755585155440977"
     },
     "user_tz": 480
    },
    "id": "kzYz_nfDqq3x"
   },
   "outputs": [],
   "source": [
    "validated_train_vote = cross_validation(train_vote_dataset,5)"
   ]
  },
  {
   "cell_type": "code",
   "execution_count": null,
   "metadata": {
    "colab": {
     "base_uri": "https://localhost:8080/"
    },
    "executionInfo": {
     "elapsed": 48,
     "status": "ok",
     "timestamp": 1647036636137,
     "user": {
      "displayName": "Dongjun Cho",
      "photoUrl": "https://lh3.googleusercontent.com/a/default-user=s64",
      "userId": "15959755585155440977"
     },
     "user_tz": 480
    },
    "id": "KsbtU4kVqq3x",
    "outputId": "b301b78a-ebdb-4bdd-ba3a-8ac64a1edb4c"
   },
   "outputs": [],
   "source": [
    "validated_train_vote_size = []\n",
    "for i in range(0, 5):\n",
    "    validated_train_vote_size.append(validated_train_vote[i].shape[0])\n",
    "validated_train_vote_size"
   ]
  },
  {
   "cell_type": "code",
   "execution_count": null,
   "metadata": {
    "executionInfo": {
     "elapsed": 44,
     "status": "ok",
     "timestamp": 1647036636138,
     "user": {
      "displayName": "Dongjun Cho",
      "photoUrl": "https://lh3.googleusercontent.com/a/default-user=s64",
      "userId": "15959755585155440977"
     },
     "user_tz": 480
    },
    "id": "y7Fd5sw8qq3x"
   },
   "outputs": [],
   "source": [
    "tuning_vote = cross_validation(test_vote_dataset ,5)"
   ]
  },
  {
   "cell_type": "code",
   "execution_count": null,
   "metadata": {
    "colab": {
     "base_uri": "https://localhost:8080/"
    },
    "executionInfo": {
     "elapsed": 43,
     "status": "ok",
     "timestamp": 1647036636140,
     "user": {
      "displayName": "Dongjun Cho",
      "photoUrl": "https://lh3.googleusercontent.com/a/default-user=s64",
      "userId": "15959755585155440977"
     },
     "user_tz": 480
    },
    "id": "z_I8THuvqq3y",
    "outputId": "c4a3f753-70d2-4299-8b44-16f6919e95bb"
   },
   "outputs": [],
   "source": [
    "tuning_vote_size = []\n",
    "for i in range(0, 5):\n",
    "    tuning_vote_size.append(tuning_vote[i].shape[0])\n",
    "tuning_vote_size"
   ]
  },
  {
   "cell_type": "code",
   "execution_count": null,
   "metadata": {
    "colab": {
     "base_uri": "https://localhost:8080/"
    },
    "executionInfo": {
     "elapsed": 3108,
     "status": "ok",
     "timestamp": 1647036639209,
     "user": {
      "displayName": "Dongjun Cho",
      "photoUrl": "https://lh3.googleusercontent.com/a/default-user=s64",
      "userId": "15959755585155440977"
     },
     "user_tz": 480
    },
    "id": "IaIffYuQmWiS",
    "outputId": "33a6a30f-e85b-4689-bb34-fd4eb0000993"
   },
   "outputs": [],
   "source": [
    "ID3_score_vote = ID3(validated_train_vote, 'class', test_vote_dataset, 'categorical', False)\n",
    "ID3_avg_score_vote = round(np.mean(ID3_score_vote),4)\n",
    "print(\"vote Accuracy Score Unpruned: \" + str(ID3_score_vote) + \"/ Avg Score: \"+ str(ID3_avg_score_vote))\n",
    "\n",
    "#vote Accuracy Score Unpruned: [97.14, 92.86, 94.29, 92.86, 94.12]/ Avg Score: 94.254"
   ]
  },
  {
   "cell_type": "code",
   "execution_count": null,
   "metadata": {
    "colab": {
     "base_uri": "https://localhost:8080/"
    },
    "executionInfo": {
     "elapsed": 9412,
     "status": "ok",
     "timestamp": 1647036648609,
     "user": {
      "displayName": "Dongjun Cho",
      "photoUrl": "https://lh3.googleusercontent.com/a/default-user=s64",
      "userId": "15959755585155440977"
     },
     "user_tz": 480
    },
    "id": "bv6Q6VA8mWiS",
    "outputId": "222b4ad9-2025-424a-ef00-45f6ac8311ee"
   },
   "outputs": [],
   "source": [
    "ID3_score_vote_prune = ID3(validated_train_vote, 'class', test_vote_dataset, 'categorical', True)\n",
    "ID3_avg_score_vote_prune = round(np.mean(ID3_score_vote_prune),4)\n",
    "print(\"vote Accuracy Score pruned: \" + str(ID3_score_vote_prune) + \"/ Avg Score: \"+ str(ID3_avg_score_vote_prune))\n",
    "\n",
    "#vote Accuracy Score pruned: [97.14, 92.86, 94.29, 95.71, 92.65]/ Avg Score: 94.53\n"
   ]
  },
  {
   "cell_type": "markdown",
   "metadata": {
    "id": "fj2TiZHcqq30"
   },
   "source": [
    "## Abalone"
   ]
  },
  {
   "cell_type": "code",
   "execution_count": 72,
   "metadata": {
    "colab": {
     "base_uri": "https://localhost:8080/",
     "height": 187
    },
    "executionInfo": {
     "elapsed": 44,
     "status": "ok",
     "timestamp": 1647036648614,
     "user": {
      "displayName": "Dongjun Cho",
      "photoUrl": "https://lh3.googleusercontent.com/a/default-user=s64",
      "userId": "15959755585155440977"
     },
     "user_tz": 480
    },
    "id": "kF4J14yqm-CP",
    "outputId": "b3ec1fd1-6714-4857-fcc4-520cbf2c1f52"
   },
   "outputs": [
    {
     "data": {
      "text/html": [
       "<div>\n",
       "<style scoped>\n",
       "    .dataframe tbody tr th:only-of-type {\n",
       "        vertical-align: middle;\n",
       "    }\n",
       "\n",
       "    .dataframe tbody tr th {\n",
       "        vertical-align: top;\n",
       "    }\n",
       "\n",
       "    .dataframe thead th {\n",
       "        text-align: right;\n",
       "    }\n",
       "</style>\n",
       "<table border=\"1\" class=\"dataframe\">\n",
       "  <thead>\n",
       "    <tr style=\"text-align: right;\">\n",
       "      <th></th>\n",
       "      <th>sex</th>\n",
       "      <th>length</th>\n",
       "      <th>diameter</th>\n",
       "      <th>height</th>\n",
       "      <th>whole_height</th>\n",
       "      <th>shucked_height</th>\n",
       "      <th>viscera_weight</th>\n",
       "      <th>shell_weight</th>\n",
       "      <th>rings</th>\n",
       "    </tr>\n",
       "  </thead>\n",
       "  <tbody>\n",
       "    <tr>\n",
       "      <th>0</th>\n",
       "      <td>M</td>\n",
       "      <td>0.455</td>\n",
       "      <td>0.365</td>\n",
       "      <td>0.095</td>\n",
       "      <td>0.5140</td>\n",
       "      <td>0.2245</td>\n",
       "      <td>0.1010</td>\n",
       "      <td>0.15</td>\n",
       "      <td>15</td>\n",
       "    </tr>\n",
       "    <tr>\n",
       "      <th>1</th>\n",
       "      <td>M</td>\n",
       "      <td>0.350</td>\n",
       "      <td>0.265</td>\n",
       "      <td>0.090</td>\n",
       "      <td>0.2255</td>\n",
       "      <td>0.0995</td>\n",
       "      <td>0.0485</td>\n",
       "      <td>0.07</td>\n",
       "      <td>7</td>\n",
       "    </tr>\n",
       "    <tr>\n",
       "      <th>2</th>\n",
       "      <td>F</td>\n",
       "      <td>0.530</td>\n",
       "      <td>0.420</td>\n",
       "      <td>0.135</td>\n",
       "      <td>0.6770</td>\n",
       "      <td>0.2565</td>\n",
       "      <td>0.1415</td>\n",
       "      <td>0.21</td>\n",
       "      <td>9</td>\n",
       "    </tr>\n",
       "  </tbody>\n",
       "</table>\n",
       "</div>"
      ],
      "text/plain": [
       "  sex  length  diameter  height  whole_height  shucked_height  viscera_weight  \\\n",
       "0   M   0.455     0.365   0.095        0.5140          0.2245          0.1010   \n",
       "1   M   0.350     0.265   0.090        0.2255          0.0995          0.0485   \n",
       "2   F   0.530     0.420   0.135        0.6770          0.2565          0.1415   \n",
       "\n",
       "   shell_weight  rings  \n",
       "0          0.15     15  \n",
       "1          0.07      7  \n",
       "2          0.21      9  "
      ]
     },
     "execution_count": 72,
     "metadata": {},
     "output_type": "execute_result"
    }
   ],
   "source": [
    "abalone_dataset = open_csv_dataset('abalone', True)\n",
    "abalone_dataset.head(3)"
   ]
  },
  {
   "cell_type": "code",
   "execution_count": 73,
   "metadata": {
    "colab": {
     "base_uri": "https://localhost:8080/"
    },
    "executionInfo": {
     "elapsed": 42,
     "status": "ok",
     "timestamp": 1647036648618,
     "user": {
      "displayName": "Dongjun Cho",
      "photoUrl": "https://lh3.googleusercontent.com/a/default-user=s64",
      "userId": "15959755585155440977"
     },
     "user_tz": 480
    },
    "id": "Z6Bzf0qvm-CR",
    "outputId": "6ae9cc98-22c6-4439-af22-7e4cb21a302b"
   },
   "outputs": [
    {
     "data": {
      "text/plain": [
       "False"
      ]
     },
     "execution_count": 73,
     "metadata": {},
     "output_type": "execute_result"
    }
   ],
   "source": [
    "abalone_dataset.isnull().sum().any()"
   ]
  },
  {
   "cell_type": "code",
   "execution_count": 74,
   "metadata": {
    "executionInfo": {
     "elapsed": 39,
     "status": "ok",
     "timestamp": 1647036648622,
     "user": {
      "displayName": "Dongjun Cho",
      "photoUrl": "https://lh3.googleusercontent.com/a/default-user=s64",
      "userId": "15959755585155440977"
     },
     "user_tz": 480
    },
    "id": "f8lTxy95m-CR"
   },
   "outputs": [],
   "source": [
    "abalone_dataset = abalone_dataset.drop(['sex'], axis = 1)"
   ]
  },
  {
   "cell_type": "code",
   "execution_count": 75,
   "metadata": {
    "executionInfo": {
     "elapsed": 192,
     "status": "ok",
     "timestamp": 1647036648779,
     "user": {
      "displayName": "Dongjun Cho",
      "photoUrl": "https://lh3.googleusercontent.com/a/default-user=s64",
      "userId": "15959755585155440977"
     },
     "user_tz": 480
    },
    "id": "FsPqDTG9m-CU"
   },
   "outputs": [],
   "source": [
    "abalone_dataset_v1  = abalone_dataset.copy()"
   ]
  },
  {
   "cell_type": "code",
   "execution_count": 77,
   "metadata": {
    "executionInfo": {
     "elapsed": 12,
     "status": "ok",
     "timestamp": 1647036648781,
     "user": {
      "displayName": "Dongjun Cho",
      "photoUrl": "https://lh3.googleusercontent.com/a/default-user=s64",
      "userId": "15959755585155440977"
     },
     "user_tz": 480
    },
    "id": "pCIqYj5Ym-CW"
   },
   "outputs": [],
   "source": [
    "abalone_discretize_dataset = abalone_dataset_v1.copy()"
   ]
  },
  {
   "cell_type": "code",
   "execution_count": 78,
   "metadata": {
    "executionInfo": {
     "elapsed": 4310,
     "status": "ok",
     "timestamp": 1647036653082,
     "user": {
      "displayName": "Dongjun Cho",
      "photoUrl": "https://lh3.googleusercontent.com/a/default-user=s64",
      "userId": "15959755585155440977"
     },
     "user_tz": 480
    },
    "id": "IuSskFZDm-CX"
   },
   "outputs": [],
   "source": [
    "abalone_discretize_dataset = discretization(abalone_discretize_dataset, 5, 'equal_frequency',\n",
    "                                           ['length', 'diameter', 'height', 'whole_height',\n",
    "                                            'shucked_height', 'viscera_weight', 'shell_weight', 'rings'])"
   ]
  },
  {
   "cell_type": "code",
   "execution_count": 79,
   "metadata": {
    "executionInfo": {
     "elapsed": 30,
     "status": "ok",
     "timestamp": 1647036653085,
     "user": {
      "displayName": "Dongjun Cho",
      "photoUrl": "https://lh3.googleusercontent.com/a/default-user=s64",
      "userId": "15959755585155440977"
     },
     "user_tz": 480
    },
    "id": "twZX2DvMm-CY"
   },
   "outputs": [],
   "source": [
    "abalone_dataset_v2 =  abalone_dataset_v1.copy()"
   ]
  },
  {
   "cell_type": "code",
   "execution_count": 80,
   "metadata": {
    "executionInfo": {
     "elapsed": 29,
     "status": "ok",
     "timestamp": 1647036653088,
     "user": {
      "displayName": "Dongjun Cho",
      "photoUrl": "https://lh3.googleusercontent.com/a/default-user=s64",
      "userId": "15959755585155440977"
     },
     "user_tz": 480
    },
    "id": "_Yw3VBL6m-CY"
   },
   "outputs": [],
   "source": [
    "train_abalone_dataset, test_abalone_dataset = split_dataset(abalone_dataset_v2, 0.8)"
   ]
  },
  {
   "cell_type": "code",
   "execution_count": 81,
   "metadata": {
    "executionInfo": {
     "elapsed": 29,
     "status": "ok",
     "timestamp": 1647036653091,
     "user": {
      "displayName": "Dongjun Cho",
      "photoUrl": "https://lh3.googleusercontent.com/a/default-user=s64",
      "userId": "15959755585155440977"
     },
     "user_tz": 480
    },
    "id": "zAOkv-_fm-CY"
   },
   "outputs": [],
   "source": [
    "train_abalone_zscore_dataset,test_abalone_zscore_dataset  = Standardization(train_abalone_dataset,\n",
    "                                                                             test_abalone_dataset)"
   ]
  },
  {
   "cell_type": "code",
   "execution_count": 82,
   "metadata": {
    "colab": {
     "base_uri": "https://localhost:8080/"
    },
    "executionInfo": {
     "elapsed": 31,
     "status": "ok",
     "timestamp": 1647036653095,
     "user": {
      "displayName": "Dongjun Cho",
      "photoUrl": "https://lh3.googleusercontent.com/a/default-user=s64",
      "userId": "15959755585155440977"
     },
     "user_tz": 480
    },
    "id": "na7NPI_xm-CZ",
    "outputId": "f7a35dfc-8a99-4f89-e3df-445ae30e9cda"
   },
   "outputs": [
    {
     "data": {
      "text/plain": [
       "[669, 669, 669, 668, 667]"
      ]
     },
     "execution_count": 82,
     "metadata": {},
     "output_type": "execute_result"
    }
   ],
   "source": [
    "validated_train_abalone = cross_validation_regression(train_abalone_dataset, 5, 'rings')\n",
    "validated_train_abalone_size= []\n",
    "for i in range(0, 5):\n",
    "    validated_train_abalone_size.append(validated_train_abalone[i].shape[0])\n",
    "validated_train_abalone_size"
   ]
  },
  {
   "cell_type": "code",
   "execution_count": 83,
   "metadata": {
    "colab": {
     "base_uri": "https://localhost:8080/"
    },
    "executionInfo": {
     "elapsed": 27,
     "status": "ok",
     "timestamp": 1647036653097,
     "user": {
      "displayName": "Dongjun Cho",
      "photoUrl": "https://lh3.googleusercontent.com/a/default-user=s64",
      "userId": "15959755585155440977"
     },
     "user_tz": 480
    },
    "id": "2IpaGgPnm-CZ",
    "outputId": "300b2c51-43ea-4604-c6dd-4db958615cea"
   },
   "outputs": [
    {
     "data": {
      "text/plain": [
       "[167, 166, 166, 166, 166]"
      ]
     },
     "execution_count": 83,
     "metadata": {},
     "output_type": "execute_result"
    }
   ],
   "source": [
    "tuning_abalone = cross_validation_regression(test_abalone_dataset, 5, 'rings')\n",
    "tuning_abalone_size = []\n",
    "for i in range(0, 5):\n",
    "    tuning_abalone_size.append(tuning_abalone[i].shape[0])\n",
    "tuning_abalone_size"
   ]
  },
  {
   "cell_type": "code",
   "execution_count": 84,
   "metadata": {
    "executionInfo": {
     "elapsed": 64077,
     "status": "ok",
     "timestamp": 1647036717151,
     "user": {
      "displayName": "Dongjun Cho",
      "photoUrl": "https://lh3.googleusercontent.com/a/default-user=s64",
      "userId": "15959755585155440977"
     },
     "user_tz": 480
    },
    "id": "XIQnYZJJmWiV"
   },
   "outputs": [],
   "source": [
    "frequency_size_candidate = [i for i in range(2, 10)]\n",
    "minimum_leaf_candidate = [i for i in range(2, 10)]\n",
    "threshold_candidate = [0.2, 0.4, 0.6, 0.8]\n",
    "\n",
    "frequency_cart = tuning_CART(tuning_abalone, frequency_size_candidate, 'rings')"
   ]
  },
  {
   "cell_type": "code",
   "execution_count": 85,
   "metadata": {
    "executionInfo": {
     "elapsed": 51,
     "status": "ok",
     "timestamp": 1647036717153,
     "user": {
      "displayName": "Dongjun Cho",
      "photoUrl": "https://lh3.googleusercontent.com/a/default-user=s64",
      "userId": "15959755585155440977"
     },
     "user_tz": 480
    },
    "id": "qskPoovamWiV"
   },
   "outputs": [],
   "source": [
    "# frequency_cart= 2\n",
    "# frequency_cart_early, minimum_leaf_early, threshold_early = 2,6,0.2"
   ]
  },
  {
   "cell_type": "code",
   "execution_count": 86,
   "metadata": {
    "colab": {
     "base_uri": "https://localhost:8080/"
    },
    "executionInfo": {
     "elapsed": 47,
     "status": "ok",
     "timestamp": 1647036717156,
     "user": {
      "displayName": "Dongjun Cho",
      "photoUrl": "https://lh3.googleusercontent.com/a/default-user=s64",
      "userId": "15959755585155440977"
     },
     "user_tz": 480
    },
    "id": "i-XMcV5cmWiW",
    "outputId": "ee221021-2c2f-4585-a012-2f7d37672228"
   },
   "outputs": [
    {
     "name": "stdout",
     "output_type": "stream",
     "text": [
      "Frequency Size for Cart: 2\n"
     ]
    }
   ],
   "source": [
    "print(\"Frequency Size for Cart: \" +  str(frequency_cart))"
   ]
  },
  {
   "cell_type": "code",
   "execution_count": null,
   "metadata": {
    "executionInfo": {
     "elapsed": 832329,
     "status": "ok",
     "timestamp": 1647037549447,
     "user": {
      "displayName": "Dongjun Cho",
      "photoUrl": "https://lh3.googleusercontent.com/a/default-user=s64",
      "userId": "15959755585155440977"
     },
     "user_tz": 480
    },
    "id": "-sChR7B0mWiX"
   },
   "outputs": [],
   "source": [
    "frequency_cart_early, minimum_leaf_early, threshold_early = tuning_CART_early(tuning_abalone, \n",
    "                                                                              frequency_size_candidate, \n",
    "                                                                              minimum_leaf_candidate, \n",
    "                                                                              threshold_candidate, \n",
    "                                                                              'rings')"
   ]
  },
  {
   "cell_type": "code",
   "execution_count": 87,
   "metadata": {
    "colab": {
     "base_uri": "https://localhost:8080/"
    },
    "executionInfo": {
     "elapsed": 19,
     "status": "ok",
     "timestamp": 1647037549451,
     "user": {
      "displayName": "Dongjun Cho",
      "photoUrl": "https://lh3.googleusercontent.com/a/default-user=s64",
      "userId": "15959755585155440977"
     },
     "user_tz": 480
    },
    "id": "Q4BqlsbTmWiX",
    "outputId": "1142b2f1-ef60-42af-f1db-303575714402"
   },
   "outputs": [
    {
     "name": "stdout",
     "output_type": "stream",
     "text": [
      "Frequency Size for Cart Early Stopping: 2\n",
      "Minimum Leaf Size for Cart Early Stopping: 6\n",
      "Threshold for Cart Early Stopping: 0.2\n"
     ]
    }
   ],
   "source": [
    "print(\"Frequency Size for Cart Early Stopping: \" +  str(frequency_cart_early))\n",
    "print(\"Minimum Leaf Size for Cart Early Stopping: \" +  str(minimum_leaf_early))\n",
    "print(\"Threshold for Cart Early Stopping: \" +  str(threshold_early))"
   ]
  },
  {
   "cell_type": "code",
   "execution_count": 88,
   "metadata": {
    "colab": {
     "base_uri": "https://localhost:8080/"
    },
    "executionInfo": {
     "elapsed": 4543,
     "status": "ok",
     "timestamp": 1647037553979,
     "user": {
      "displayName": "Dongjun Cho",
      "photoUrl": "https://lh3.googleusercontent.com/a/default-user=s64",
      "userId": "15959755585155440977"
     },
     "user_tz": 480
    },
    "id": "nqsoA--dmWiY",
    "outputId": "1f22b544-eb9a-43cc-884a-da771bb860de"
   },
   "outputs": [
    {
     "name": "stdout",
     "output_type": "stream",
     "text": [
      "Abalone MSE Unpruned: [10.86, 6.04, 4.84, 4.45, 35.08]/ Avg Score: 12.25\n"
     ]
    }
   ],
   "source": [
    "cart_score_abalone = CART_eval(validated_train_abalone, 'rings', frequency_cart, False, False, False)\n",
    "cart_avg_score_abalone  = round(np.mean(cart_score_abalone),2)\n",
    "print(\"Abalone MSE Unpruned: \" + str(cart_score_abalone) + \"/ Avg Score: \"+ str(cart_avg_score_abalone))\n",
    "#Abalone MSE Unpruned: [10.86, 6.04, 4.84, 4.45, 35.08]/ Avg Score: 12.25"
   ]
  },
  {
   "cell_type": "code",
   "execution_count": 89,
   "metadata": {
    "colab": {
     "base_uri": "https://localhost:8080/"
    },
    "executionInfo": {
     "elapsed": 3880,
     "status": "ok",
     "timestamp": 1647037557848,
     "user": {
      "displayName": "Dongjun Cho",
      "photoUrl": "https://lh3.googleusercontent.com/a/default-user=s64",
      "userId": "15959755585155440977"
     },
     "user_tz": 480
    },
    "id": "9J-tv0VrmWiY",
    "outputId": "ba6c5dc4-502b-4238-bc57-d14c68ee5d5b"
   },
   "outputs": [
    {
     "name": "stdout",
     "output_type": "stream",
     "text": [
      "Abalone MSE Pruned: [11.78, 6.15, 5.09, 4.54, 35.09]/ Avg Score: 12.53\n"
     ]
    }
   ],
   "source": [
    "cart_score_abalone_early  = CART_eval(validated_train_abalone,'rings', frequency_cart_early, minimum_leaf_early, threshold_early, True)\n",
    "cart_avg_score_abalone_early = round(np.mean(cart_score_abalone_early),2)\n",
    "print(\"Abalone MSE Pruned: \" + str(cart_score_abalone_early) + \"/ Avg Score: \"+ str(cart_avg_score_abalone_early))\n",
    "#Abalone MSE Pruned: [11.78, 6.15, 5.09, 4.54, 35.09]/ Avg Score: 12.53"
   ]
  },
  {
   "cell_type": "markdown",
   "metadata": {
    "id": "CKfjh5CtKxNe"
   },
   "source": [
    "## Computer Hardware"
   ]
  },
  {
   "cell_type": "code",
   "execution_count": null,
   "metadata": {
    "colab": {
     "base_uri": "https://localhost:8080/",
     "height": 206
    },
    "executionInfo": {
     "elapsed": 26,
     "status": "ok",
     "timestamp": 1647037557852,
     "user": {
      "displayName": "Dongjun Cho",
      "photoUrl": "https://lh3.googleusercontent.com/a/default-user=s64",
      "userId": "15959755585155440977"
     },
     "user_tz": 480
    },
    "id": "_CkUKbceKxNg",
    "outputId": "90d63014-0149-4ee5-d7c1-64202038eafc"
   },
   "outputs": [],
   "source": [
    "computer_dataset = open_csv_dataset('machine', True)\n",
    "computer_dataset.head()"
   ]
  },
  {
   "cell_type": "code",
   "execution_count": null,
   "metadata": {
    "colab": {
     "base_uri": "https://localhost:8080/"
    },
    "executionInfo": {
     "elapsed": 494,
     "status": "ok",
     "timestamp": 1647037558323,
     "user": {
      "displayName": "Dongjun Cho",
      "photoUrl": "https://lh3.googleusercontent.com/a/default-user=s64",
      "userId": "15959755585155440977"
     },
     "user_tz": 480
    },
    "id": "tGtF9tmMKxNg",
    "outputId": "285e84b3-2270-40cf-8c92-f828e087ad94"
   },
   "outputs": [],
   "source": [
    "computer_dataset.isnull().sum().any()"
   ]
  },
  {
   "cell_type": "code",
   "execution_count": null,
   "metadata": {
    "executionInfo": {
     "elapsed": 44,
     "status": "ok",
     "timestamp": 1647037558329,
     "user": {
      "displayName": "Dongjun Cho",
      "photoUrl": "https://lh3.googleusercontent.com/a/default-user=s64",
      "userId": "15959755585155440977"
     },
     "user_tz": 480
    },
    "id": "oSzmn0TLKxNi"
   },
   "outputs": [],
   "source": [
    "computer_ERP  = computer_dataset['ERP']\n",
    "computer_dataset = computer_dataset.drop(['vendor', 'model', 'ERP'], axis = 1)"
   ]
  },
  {
   "cell_type": "code",
   "execution_count": null,
   "metadata": {
    "colab": {
     "base_uri": "https://localhost:8080/",
     "height": 206
    },
    "executionInfo": {
     "elapsed": 45,
     "status": "ok",
     "timestamp": 1647037558331,
     "user": {
      "displayName": "Dongjun Cho",
      "photoUrl": "https://lh3.googleusercontent.com/a/default-user=s64",
      "userId": "15959755585155440977"
     },
     "user_tz": 480
    },
    "id": "GzaGrUarKxNi",
    "outputId": "8e18061d-1b43-4662-b172-cd502055cf9a"
   },
   "outputs": [],
   "source": [
    "computer_dataset_v1  = computer_dataset.copy()\n",
    "computer_dataset_v1.head()"
   ]
  },
  {
   "cell_type": "code",
   "execution_count": null,
   "metadata": {
    "executionInfo": {
     "elapsed": 40,
     "status": "ok",
     "timestamp": 1647037558332,
     "user": {
      "displayName": "Dongjun Cho",
      "photoUrl": "https://lh3.googleusercontent.com/a/default-user=s64",
      "userId": "15959755585155440977"
     },
     "user_tz": 480
    },
    "id": "9Okqf1mtKxNj"
   },
   "outputs": [],
   "source": [
    "computer_dataset_v1['PRP'] =computer_dataset_v1['PRP'].apply(computer_categorical_distribution)"
   ]
  },
  {
   "cell_type": "code",
   "execution_count": null,
   "metadata": {
    "executionInfo": {
     "elapsed": 40,
     "status": "ok",
     "timestamp": 1647037558333,
     "user": {
      "displayName": "Dongjun Cho",
      "photoUrl": "https://lh3.googleusercontent.com/a/default-user=s64",
      "userId": "15959755585155440977"
     },
     "user_tz": 480
    },
    "id": "b0QuLGUYKxNj"
   },
   "outputs": [],
   "source": [
    "computer_discretize_dataset = computer_dataset_v1.copy()"
   ]
  },
  {
   "cell_type": "code",
   "execution_count": null,
   "metadata": {
    "executionInfo": {
     "elapsed": 298,
     "status": "ok",
     "timestamp": 1647037558592,
     "user": {
      "displayName": "Dongjun Cho",
      "photoUrl": "https://lh3.googleusercontent.com/a/default-user=s64",
      "userId": "15959755585155440977"
     },
     "user_tz": 480
    },
    "id": "789Ve9w3KxNj"
   },
   "outputs": [],
   "source": [
    "computer_discretize_dataset = discretization(computer_discretize_dataset, \n",
    "                                             5, \n",
    "                                             'equal_frequency', \n",
    "                                             ['myct','mmin', 'mmax', 'cach', 'chmin', 'chmax'])"
   ]
  },
  {
   "cell_type": "code",
   "execution_count": null,
   "metadata": {
    "executionInfo": {
     "elapsed": 33,
     "status": "ok",
     "timestamp": 1647037558593,
     "user": {
      "displayName": "Dongjun Cho",
      "photoUrl": "https://lh3.googleusercontent.com/a/default-user=s64",
      "userId": "15959755585155440977"
     },
     "user_tz": 480
    },
    "id": "AluZcQQnKxNk"
   },
   "outputs": [],
   "source": [
    "computer_dataset_v2 = computer_dataset_v1.copy()"
   ]
  },
  {
   "cell_type": "code",
   "execution_count": null,
   "metadata": {
    "executionInfo": {
     "elapsed": 33,
     "status": "ok",
     "timestamp": 1647037558595,
     "user": {
      "displayName": "Dongjun Cho",
      "photoUrl": "https://lh3.googleusercontent.com/a/default-user=s64",
      "userId": "15959755585155440977"
     },
     "user_tz": 480
    },
    "id": "w-4v9BTdKxNq"
   },
   "outputs": [],
   "source": [
    "train_computer_dataset, test_computer_dataset = split_dataset(computer_dataset_v2, 0.8)"
   ]
  },
  {
   "cell_type": "code",
   "execution_count": null,
   "metadata": {
    "executionInfo": {
     "elapsed": 32,
     "status": "ok",
     "timestamp": 1647037558596,
     "user": {
      "displayName": "Dongjun Cho",
      "photoUrl": "https://lh3.googleusercontent.com/a/default-user=s64",
      "userId": "15959755585155440977"
     },
     "user_tz": 480
    },
    "id": "e3pWMIs1KxNr"
   },
   "outputs": [],
   "source": [
    "train_computer_zscore_dataset, test_computer_zscore_dataset  = Standardization(train_computer_dataset,\n",
    "                                                                               test_computer_dataset)"
   ]
  },
  {
   "cell_type": "code",
   "execution_count": null,
   "metadata": {
    "colab": {
     "base_uri": "https://localhost:8080/"
    },
    "executionInfo": {
     "elapsed": 34,
     "status": "ok",
     "timestamp": 1647037558599,
     "user": {
      "displayName": "Dongjun Cho",
      "photoUrl": "https://lh3.googleusercontent.com/a/default-user=s64",
      "userId": "15959755585155440977"
     },
     "user_tz": 480
    },
    "id": "zDJD0bWFKxNr",
    "outputId": "0c10b105-1d83-4b51-ff67-3a6992a26e2f"
   },
   "outputs": [],
   "source": [
    "validated_train_computer = cross_validation_regression(train_computer_dataset, 5, 'PRP')\n",
    "validated_train_computer_size = []\n",
    "for i in range(0, 5):\n",
    "    validated_train_computer_size.append(validated_train_computer[i].shape[0])\n",
    "validated_train_computer_size"
   ]
  },
  {
   "cell_type": "code",
   "execution_count": null,
   "metadata": {
    "colab": {
     "base_uri": "https://localhost:8080/"
    },
    "executionInfo": {
     "elapsed": 26,
     "status": "ok",
     "timestamp": 1647037558600,
     "user": {
      "displayName": "Dongjun Cho",
      "photoUrl": "https://lh3.googleusercontent.com/a/default-user=s64",
      "userId": "15959755585155440977"
     },
     "user_tz": 480
    },
    "id": "6I9FuE7cKxNs",
    "outputId": "1d2ffddd-f734-4d40-8346-ed311717e1c7"
   },
   "outputs": [],
   "source": [
    "tuning_computer = cross_validation_regression(test_computer_dataset , 5, 'PRP')\n",
    "tuning_computer_size = []\n",
    "for i in range(0, 5):\n",
    "    tuning_computer_size.append(tuning_computer[i].shape[0])\n",
    "tuning_computer_size"
   ]
  },
  {
   "cell_type": "code",
   "execution_count": null,
   "metadata": {
    "executionInfo": {
     "elapsed": 14914,
     "status": "ok",
     "timestamp": 1647037573494,
     "user": {
      "displayName": "Dongjun Cho",
      "photoUrl": "https://lh3.googleusercontent.com/a/default-user=s64",
      "userId": "15959755585155440977"
     },
     "user_tz": 480
    },
    "id": "BedDTOhumWie"
   },
   "outputs": [],
   "source": [
    "frequency_size_candidate = [i for i in range(2, 10)]\n",
    "minimum_leaf_candidate = [i for i in range(2, 10)]\n",
    "threshold_candidate = [0.2, 0.4, 0.6, 0.8]\n",
    "\n",
    "frequency_cart = tuning_CART(tuning_computer , frequency_size_candidate, 'PRP')"
   ]
  },
  {
   "cell_type": "code",
   "execution_count": null,
   "metadata": {
    "executionInfo": {
     "elapsed": 56,
     "status": "ok",
     "timestamp": 1647037573499,
     "user": {
      "displayName": "Dongjun Cho",
      "photoUrl": "https://lh3.googleusercontent.com/a/default-user=s64",
      "userId": "15959755585155440977"
     },
     "user_tz": 480
    },
    "id": "TUdHfyoZmWif"
   },
   "outputs": [],
   "source": [
    "# frequency_cart= 3\n",
    "# frequency_cart_early, minimum_leaf_early, threshold_early = 4,2,0.2"
   ]
  },
  {
   "cell_type": "code",
   "execution_count": null,
   "metadata": {
    "colab": {
     "base_uri": "https://localhost:8080/"
    },
    "executionInfo": {
     "elapsed": 29,
     "status": "ok",
     "timestamp": 1647037573502,
     "user": {
      "displayName": "Dongjun Cho",
      "photoUrl": "https://lh3.googleusercontent.com/a/default-user=s64",
      "userId": "15959755585155440977"
     },
     "user_tz": 480
    },
    "id": "45O2BCt7mWig",
    "outputId": "516d8d4e-c4b5-4a21-9bf9-c1c2b45a7eb5"
   },
   "outputs": [],
   "source": [
    "print(\"Frequency Size for Cart: \" +  str(frequency_cart))"
   ]
  },
  {
   "cell_type": "code",
   "execution_count": null,
   "metadata": {
    "executionInfo": {
     "elapsed": 78643,
     "status": "ok",
     "timestamp": 1647037652127,
     "user": {
      "displayName": "Dongjun Cho",
      "photoUrl": "https://lh3.googleusercontent.com/a/default-user=s64",
      "userId": "15959755585155440977"
     },
     "user_tz": 480
    },
    "id": "FRJmswQLmWih"
   },
   "outputs": [],
   "source": [
    "frequency_cart_early, minimum_leaf_early, threshold_early   = tuning_CART_early(tuning_computer , \n",
    "                                                                                 frequency_size_candidate, \n",
    "                                                                                 minimum_leaf_candidate, \n",
    "                                                                                 threshold_candidate, \n",
    "                                                                                 'PRP')"
   ]
  },
  {
   "cell_type": "code",
   "execution_count": null,
   "metadata": {
    "colab": {
     "base_uri": "https://localhost:8080/"
    },
    "executionInfo": {
     "elapsed": 47,
     "status": "ok",
     "timestamp": 1647037652131,
     "user": {
      "displayName": "Dongjun Cho",
      "photoUrl": "https://lh3.googleusercontent.com/a/default-user=s64",
      "userId": "15959755585155440977"
     },
     "user_tz": 480
    },
    "id": "dBj4JsVpmWii",
    "outputId": "b41dbfba-d72e-47c4-b3b9-ca1728fbc120"
   },
   "outputs": [],
   "source": [
    "print(\"Frequency Size for Cart Early Stopping: \" +  str(frequency_cart_early))\n",
    "print(\"Minimum Leaf Size for Cart Early Stopping: \" +  str(minimum_leaf_early))\n",
    "print(\"Threshold for Cart Early Stopping: \" +  str(threshold_early))"
   ]
  },
  {
   "cell_type": "code",
   "execution_count": null,
   "metadata": {
    "colab": {
     "base_uri": "https://localhost:8080/"
    },
    "executionInfo": {
     "elapsed": 1415,
     "status": "ok",
     "timestamp": 1647037653513,
     "user": {
      "displayName": "Dongjun Cho",
      "photoUrl": "https://lh3.googleusercontent.com/a/default-user=s64",
      "userId": "15959755585155440977"
     },
     "user_tz": 480
    },
    "id": "W2qLuYFImWij",
    "outputId": "e1fc4554-5999-4dae-e877-6427baaf1459"
   },
   "outputs": [],
   "source": [
    "cart_score_computer = CART_eval(validated_train_computer ,'PRP', frequency_cart, False, False, False)\n",
    "cart_avg_score_computer  = round(np.mean(cart_score_computer),2)\n",
    "print(\"Computer MSE Unpruned: \" + str(cart_score_computer) + \"/ Avg Score: \"+ str(cart_avg_score_computer ))\n",
    "\n",
    "#Computer MSE Unpruned: [0.8, 0.16, 0.23, 0.48, 5.35]/ Avg Score: 1.4"
   ]
  },
  {
   "cell_type": "code",
   "execution_count": null,
   "metadata": {
    "colab": {
     "base_uri": "https://localhost:8080/"
    },
    "executionInfo": {
     "elapsed": 1126,
     "status": "ok",
     "timestamp": 1647037654635,
     "user": {
      "displayName": "Dongjun Cho",
      "photoUrl": "https://lh3.googleusercontent.com/a/default-user=s64",
      "userId": "15959755585155440977"
     },
     "user_tz": 480
    },
    "id": "KZQsN2nvmWij",
    "outputId": "885f1fb6-17a7-4b3a-d817-b6a3076ab5aa"
   },
   "outputs": [],
   "source": [
    "cart_score_computer_early = CART_eval(validated_train_computer , 'PRP', frequency_cart_early, minimum_leaf_early, threshold_early, True)\n",
    "cart_avg_score_computer_early  = round(np.mean(cart_score_computer_early),2)\n",
    "print(\"Computer MSE Pruned: \" + str(cart_score_computer_early) + \"/ Avg Score: \"+ str(cart_avg_score_computer_early))\n",
    "\n",
    "#Computer MSE Pruned: [1.16, 0.21, 0.27, 0.75, 5.09]/ Avg Score: 1.5\n"
   ]
  },
  {
   "cell_type": "markdown",
   "metadata": {
    "id": "WwEHmU_0KxNv"
   },
   "source": [
    "## Forest Fires"
   ]
  },
  {
   "cell_type": "code",
   "execution_count": null,
   "metadata": {
    "executionInfo": {
     "elapsed": 44,
     "status": "ok",
     "timestamp": 1647037654637,
     "user": {
      "displayName": "Dongjun Cho",
      "photoUrl": "https://lh3.googleusercontent.com/a/default-user=s64",
      "userId": "15959755585155440977"
     },
     "user_tz": 480
    },
    "id": "aZKRf3RXm-Cs"
   },
   "outputs": [],
   "source": [
    "forest_dataset = open_csv_dataset('forest', False)"
   ]
  },
  {
   "cell_type": "code",
   "execution_count": null,
   "metadata": {
    "colab": {
     "base_uri": "https://localhost:8080/"
    },
    "executionInfo": {
     "elapsed": 42,
     "status": "ok",
     "timestamp": 1647037654638,
     "user": {
      "displayName": "Dongjun Cho",
      "photoUrl": "https://lh3.googleusercontent.com/a/default-user=s64",
      "userId": "15959755585155440977"
     },
     "user_tz": 480
    },
    "id": "nmJFztx-m-Cs",
    "outputId": "50b0f60b-83ca-4944-e4e3-6cb329cad6c5"
   },
   "outputs": [],
   "source": [
    "forest_dataset.isnull().sum().any()"
   ]
  },
  {
   "cell_type": "code",
   "execution_count": null,
   "metadata": {
    "colab": {
     "base_uri": "https://localhost:8080/",
     "height": 206
    },
    "executionInfo": {
     "elapsed": 38,
     "status": "ok",
     "timestamp": 1647037654641,
     "user": {
      "displayName": "Dongjun Cho",
      "photoUrl": "https://lh3.googleusercontent.com/a/default-user=s64",
      "userId": "15959755585155440977"
     },
     "user_tz": 480
    },
    "id": "AxycXiacm-Cv",
    "outputId": "15967680-f838-44de-91c2-0fc49b91a0d1"
   },
   "outputs": [],
   "source": [
    "categorized_forest_dataset = replacing_string_to_numeric_multiple_columns(forest_dataset,['month', 'day'])\n",
    "categorized_forest_dataset.head()"
   ]
  },
  {
   "cell_type": "code",
   "execution_count": null,
   "metadata": {
    "colab": {
     "base_uri": "https://localhost:8080/",
     "height": 206
    },
    "executionInfo": {
     "elapsed": 38,
     "status": "ok",
     "timestamp": 1647037654644,
     "user": {
      "displayName": "Dongjun Cho",
      "photoUrl": "https://lh3.googleusercontent.com/a/default-user=s64",
      "userId": "15959755585155440977"
     },
     "user_tz": 480
    },
    "id": "Zqo0Z26Cm-Cw",
    "outputId": "ba77ecf8-8dbe-4765-f914-65076930051a"
   },
   "outputs": [],
   "source": [
    "forest_dataset_v1  = categorized_forest_dataset.copy()\n",
    "forest_dataset_v1['area'] = log_transform(forest_dataset_v1['area'])\n",
    "forest_dataset_v1.head()"
   ]
  },
  {
   "cell_type": "code",
   "execution_count": null,
   "metadata": {
    "executionInfo": {
     "elapsed": 38,
     "status": "ok",
     "timestamp": 1647037654647,
     "user": {
      "displayName": "Dongjun Cho",
      "photoUrl": "https://lh3.googleusercontent.com/a/default-user=s64",
      "userId": "15959755585155440977"
     },
     "user_tz": 480
    },
    "id": "gsvNyrMNm-Cx"
   },
   "outputs": [],
   "source": [
    "forest_discretize_dataset = forest_dataset_v1.copy()"
   ]
  },
  {
   "cell_type": "code",
   "execution_count": null,
   "metadata": {
    "executionInfo": {
     "elapsed": 726,
     "status": "ok",
     "timestamp": 1647037655337,
     "user": {
      "displayName": "Dongjun Cho",
      "photoUrl": "https://lh3.googleusercontent.com/a/default-user=s64",
      "userId": "15959755585155440977"
     },
     "user_tz": 480
    },
    "id": "oxL7i8dfm-Cx"
   },
   "outputs": [],
   "source": [
    "forest_discretize_dataset = discretization(forest_discretize_dataset, \n",
    "                                           5, \n",
    "                                           'equal_frequency', \n",
    "                                           ['FFMC', 'DMC', 'DC', 'ISI','temp','RH', 'wind', 'rain'])"
   ]
  },
  {
   "cell_type": "code",
   "execution_count": null,
   "metadata": {
    "executionInfo": {
     "elapsed": 12,
     "status": "ok",
     "timestamp": 1647037655338,
     "user": {
      "displayName": "Dongjun Cho",
      "photoUrl": "https://lh3.googleusercontent.com/a/default-user=s64",
      "userId": "15959755585155440977"
     },
     "user_tz": 480
    },
    "id": "jidu1GYLm-Cy"
   },
   "outputs": [],
   "source": [
    "train_forest_dataset, test_forest_dataset = split_dataset(forest_dataset_v1, 0.8)"
   ]
  },
  {
   "cell_type": "code",
   "execution_count": null,
   "metadata": {
    "executionInfo": {
     "elapsed": 13,
     "status": "ok",
     "timestamp": 1647037655340,
     "user": {
      "displayName": "Dongjun Cho",
      "photoUrl": "https://lh3.googleusercontent.com/a/default-user=s64",
      "userId": "15959755585155440977"
     },
     "user_tz": 480
    },
    "id": "iv5-Ogwwm-Cy"
   },
   "outputs": [],
   "source": [
    "train_forest_zscore_dataset, test_forest_zscore_dataset  = Standardization(train_forest_dataset,test_forest_dataset)"
   ]
  },
  {
   "cell_type": "code",
   "execution_count": null,
   "metadata": {
    "colab": {
     "base_uri": "https://localhost:8080/"
    },
    "executionInfo": {
     "elapsed": 13,
     "status": "ok",
     "timestamp": 1647037655341,
     "user": {
      "displayName": "Dongjun Cho",
      "photoUrl": "https://lh3.googleusercontent.com/a/default-user=s64",
      "userId": "15959755585155440977"
     },
     "user_tz": 480
    },
    "id": "P-e4XBfsm-Cz",
    "outputId": "bf95597c-f606-44c7-c159-97a275ce3e0b"
   },
   "outputs": [],
   "source": [
    "validated_train_forest = cross_validation_regression(train_forest_dataset, 5, 'area')\n",
    "validated_train_forest_size  = []\n",
    "for i in range(0, 5):\n",
    "    validated_train_forest_size.append(validated_train_forest[i].shape[0])\n",
    "validated_train_forest_size "
   ]
  },
  {
   "cell_type": "code",
   "execution_count": null,
   "metadata": {
    "colab": {
     "base_uri": "https://localhost:8080/"
    },
    "executionInfo": {
     "elapsed": 148,
     "status": "ok",
     "timestamp": 1647037655479,
     "user": {
      "displayName": "Dongjun Cho",
      "photoUrl": "https://lh3.googleusercontent.com/a/default-user=s64",
      "userId": "15959755585155440977"
     },
     "user_tz": 480
    },
    "id": "DZQGEd4Zm-C0",
    "outputId": "854288ed-9d6e-4732-cc6e-7303716e9ad0"
   },
   "outputs": [],
   "source": [
    "tuning_forest = cross_validation_regression(test_forest_dataset, 5, 'area')\n",
    "tuning_forest_size  = []\n",
    "for i in range(0, 5):\n",
    "    tuning_forest_size .append(tuning_forest[i].shape[0])\n",
    "tuning_forest_size "
   ]
  },
  {
   "cell_type": "code",
   "execution_count": null,
   "metadata": {
    "executionInfo": {
     "elapsed": 69123,
     "status": "ok",
     "timestamp": 1647037724597,
     "user": {
      "displayName": "Dongjun Cho",
      "photoUrl": "https://lh3.googleusercontent.com/a/default-user=s64",
      "userId": "15959755585155440977"
     },
     "user_tz": 480
    },
    "id": "s2VzlvcPmWio"
   },
   "outputs": [],
   "source": [
    "frequency_size_candidate = [i for i in range(2, 10)]\n",
    "minimum_leaf_candidate = [i for i in range(2, 10)]\n",
    "threshold_candidate = [0.2, 0.4, 0.6, 0.8]\n",
    "\n",
    "frequency_cart = tuning_CART(tuning_forest ,frequency_size_candidate, 'area')"
   ]
  },
  {
   "cell_type": "code",
   "execution_count": null,
   "metadata": {
    "executionInfo": {
     "elapsed": 45,
     "status": "ok",
     "timestamp": 1647037724602,
     "user": {
      "displayName": "Dongjun Cho",
      "photoUrl": "https://lh3.googleusercontent.com/a/default-user=s64",
      "userId": "15959755585155440977"
     },
     "user_tz": 480
    },
    "id": "bvblRiohmWip"
   },
   "outputs": [],
   "source": [
    "# frequency_cart= 9\n",
    "# frequency_cart_early, minimum_leaf_early, threshold_early = 2,7,0.8"
   ]
  },
  {
   "cell_type": "code",
   "execution_count": null,
   "metadata": {
    "colab": {
     "base_uri": "https://localhost:8080/"
    },
    "executionInfo": {
     "elapsed": 40,
     "status": "ok",
     "timestamp": 1647037724605,
     "user": {
      "displayName": "Dongjun Cho",
      "photoUrl": "https://lh3.googleusercontent.com/a/default-user=s64",
      "userId": "15959755585155440977"
     },
     "user_tz": 480
    },
    "id": "uOiIS_tumWip",
    "outputId": "c8287b5c-782a-471e-bf00-fe8e43210e9e"
   },
   "outputs": [],
   "source": [
    "print(\"Frequency Size for Cart: \" +  str(frequency_cart))"
   ]
  },
  {
   "cell_type": "code",
   "execution_count": null,
   "metadata": {
    "executionInfo": {
     "elapsed": 1035798,
     "status": "ok",
     "timestamp": 1647038760369,
     "user": {
      "displayName": "Dongjun Cho",
      "photoUrl": "https://lh3.googleusercontent.com/a/default-user=s64",
      "userId": "15959755585155440977"
     },
     "user_tz": 480
    },
    "id": "FyfEI6FimWiq"
   },
   "outputs": [],
   "source": [
    "frequency_cart_early, minimum_leaf_early, threshold_early   = tuning_CART_early(tuning_forest, \n",
    "                                                                                 frequency_size_candidate, \n",
    "                                                                                 minimum_leaf_candidate, \n",
    "                                                                                 threshold_candidate, \n",
    "                                                                                 'area')"
   ]
  },
  {
   "cell_type": "code",
   "execution_count": null,
   "metadata": {
    "colab": {
     "base_uri": "https://localhost:8080/"
    },
    "executionInfo": {
     "elapsed": 32,
     "status": "ok",
     "timestamp": 1647038760371,
     "user": {
      "displayName": "Dongjun Cho",
      "photoUrl": "https://lh3.googleusercontent.com/a/default-user=s64",
      "userId": "15959755585155440977"
     },
     "user_tz": 480
    },
    "id": "rzkoMP3gmWiq",
    "outputId": "7ab712b9-5336-450e-e2df-cc3f5ff1114a"
   },
   "outputs": [],
   "source": [
    "print(\"Frequency Size for Cart Early Stopping: \" +  str(frequency_cart_early))\n",
    "print(\"Minimum Leaf Size for Cart Early Stopping: \" +  str(minimum_leaf_early))\n",
    "print(\"Threshold for Cart Early Stopping: \" +  str(threshold_early))"
   ]
  },
  {
   "cell_type": "code",
   "execution_count": null,
   "metadata": {
    "colab": {
     "base_uri": "https://localhost:8080/"
    },
    "executionInfo": {
     "elapsed": 33941,
     "status": "ok",
     "timestamp": 1647038904999,
     "user": {
      "displayName": "Dongjun Cho",
      "photoUrl": "https://lh3.googleusercontent.com/a/default-user=s64",
      "userId": "15959755585155440977"
     },
     "user_tz": 480
    },
    "id": "HfDjyAuLmWiq",
    "outputId": "a74b85cc-6827-413d-92ab-08524335ca13"
   },
   "outputs": [],
   "source": [
    "cart_score_forest = CART_eval(validated_train_forest, 'area', frequency_cart, False, False, False)\n",
    "cart_avg_score_forest = round(np.mean(cart_score_forest),2)\n",
    "print(\"Forest MSE Unpruned: \" + str(cart_score_forest) + \"/ Avg Score: \"+ str(cart_avg_score_forest))\n",
    "\n",
    "#Forest MSE Unpruned: [3.68, 4.08, 2.83, 1.32, 8.0]/ Avg Score: 3.98"
   ]
  },
  {
   "cell_type": "code",
   "execution_count": null,
   "metadata": {
    "colab": {
     "base_uri": "https://localhost:8080/"
    },
    "executionInfo": {
     "elapsed": 4062,
     "status": "ok",
     "timestamp": 1647038909046,
     "user": {
      "displayName": "Dongjun Cho",
      "photoUrl": "https://lh3.googleusercontent.com/a/default-user=s64",
      "userId": "15959755585155440977"
     },
     "user_tz": 480
    },
    "id": "aAywaN8dmWir",
    "outputId": "c2e8142e-847b-4dbf-ff0f-36730f99c949"
   },
   "outputs": [],
   "source": [
    "cart_score_forest_early = CART_eval(validated_train_forest , 'area', frequency_cart_early, minimum_leaf_early, threshold_early, True)\n",
    "cart_avg_score_forest_early = round(np.mean(cart_score_forest_early),2)\n",
    "print(\"Forest MSE Pruned: \" + str(cart_score_forest_early) + \"/ Avg Score: \"+ str(cart_avg_score_forest_early ))\n",
    "\n",
    "#Forest MSE Pruned: [2.26, 2.72, 1.15, 0.95, 8.37]/ Avg Score: 3.09"
   ]
  },
  {
   "cell_type": "code",
   "execution_count": null,
   "metadata": {
    "executionInfo": {
     "elapsed": 18,
     "status": "ok",
     "timestamp": 1647038787725,
     "user": {
      "displayName": "Dongjun Cho",
      "photoUrl": "https://lh3.googleusercontent.com/a/default-user=s64",
      "userId": "15959755585155440977"
     },
     "user_tz": 480
    },
    "id": "thKv7AXlmWir"
   },
   "outputs": [],
   "source": []
  },
  {
   "cell_type": "code",
   "execution_count": null,
   "metadata": {
    "executionInfo": {
     "elapsed": 17,
     "status": "ok",
     "timestamp": 1647038787727,
     "user": {
      "displayName": "Dongjun Cho",
      "photoUrl": "https://lh3.googleusercontent.com/a/default-user=s64",
      "userId": "15959755585155440977"
     },
     "user_tz": 480
    },
    "id": "gAO3H0kymWis"
   },
   "outputs": [],
   "source": []
  }
 ],
 "metadata": {
  "colab": {
   "collapsed_sections": [
    "4VJXy_1mqq2i",
    "bULOrDQDqq2r",
    "55RSYof0qq2v",
    "n537ZbaBKxMN",
    "_zRDbdxGqq28",
    "dS1EKVUSqq29",
    "kKmypkHAqq2-",
    "LiPIL5iKqq3A",
    "VuENlUx3qq3B",
    "dhMTIH5MmWhm",
    "a3hcNTlhmWho",
    "sgY2z5dvmWhq",
    "TKP3vGTDmWht",
    "Scpad_mUmWhx",
    "iJRJFdr3mWh0",
    "OtCVIbjbEpJx",
    "fzRoqpM8FY18",
    "JauDiZwymWh3",
    "8N5Ke_SAqq3i",
    "YEN1XnYdqq3u",
    "fj2TiZHcqq30",
    "CKfjh5CtKxNe"
   ],
   "name": "Programing_Project_3.ipynb",
   "provenance": [],
   "toc_visible": true
  },
  "kernelspec": {
   "display_name": "Python 3",
   "language": "python",
   "name": "python3"
  },
  "language_info": {
   "codemirror_mode": {
    "name": "ipython",
    "version": 3
   },
   "file_extension": ".py",
   "mimetype": "text/x-python",
   "name": "python",
   "nbconvert_exporter": "python",
   "pygments_lexer": "ipython3",
   "version": "3.6.8"
  }
 },
 "nbformat": 4,
 "nbformat_minor": 1
}
