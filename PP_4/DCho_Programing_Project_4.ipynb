{
 "cells": [
  {
   "cell_type": "code",
   "execution_count": null,
   "metadata": {
    "id": "7AAt-E6Cqq2P"
   },
   "outputs": [],
   "source": [
    "import pandas as pd # data processing, CSV file I/O (e.g. pd.read_csv)\n",
    "import numpy as np # linear algebra\n",
    "import os\n",
    "import glob\n",
    "import math\n",
    "from collections import Counter # Mode\n",
    "import warnings #Remove Warning Message\n",
    "warnings.filterwarnings('ignore')"
   ]
  },
  {
   "cell_type": "code",
   "execution_count": null,
   "metadata": {
    "colab": {
     "base_uri": "https://localhost:8080/"
    },
    "id": "9P5pE4oYgtey",
    "outputId": "89c724eb-7b55-4fc9-bcda-c6d1c331e5e2"
   },
   "outputs": [
    {
     "name": "stdout",
     "output_type": "stream",
     "text": [
      "Mounted at /content/drive\n"
     ]
    }
   ],
   "source": [
    "# from google.colab import drive\n",
    "# drive.mount('/content/drive')"
   ]
  },
  {
   "cell_type": "code",
   "execution_count": null,
   "metadata": {
    "id": "vMPONlN1gvql"
   },
   "outputs": [],
   "source": [
    "# path = os.getcwd()\n",
    "# all_files = sorted(glob.glob(path + \"/drive/MyDrive/dataset/*.data\"))\n",
    "# filesnames = os.listdir('drive/MyDrive/dataset/')"
   ]
  },
  {
   "cell_type": "code",
   "execution_count": null,
   "metadata": {
    "id": "omGNSSQJmgpd"
   },
   "outputs": [],
   "source": [
    "path = os.getcwd()\n",
    "all_files = glob.glob(path + \"/dataset/*.data\")\n",
    "filesnames = os.listdir('dataset/')"
   ]
  },
  {
   "cell_type": "code",
   "execution_count": null,
   "metadata": {
    "id": "bJ3YrSdkqq2g"
   },
   "outputs": [],
   "source": [
    "dataset_header = [\n",
    "                [   \"sex\", \"length\", \"diameter\", \"height\", \"whole_height\",\n",
    "                    \"shucked_height\", \"viscera_weight\", \"shell_weight\", \"rings\" ], \n",
    "                [   \"sample_code_number\", \"clump_thickness\", \"uniformity_cell_size\", \"uniformity_cell_shape\",\n",
    "                    \"marginal_adhesion\", \"single_epithelial_cell_size\", \"bare_nuclei\", \"bland_chromatin\",\n",
    "                    \"normal_nucleoli\", \"mitosis\", \"class\"],\n",
    "                [   \"buying\", \"maint\", \"doors\", \"persons\", \"lug_boot\", \"safety\", \"class\"],\n",
    "                [   \"X\", \"Y\", \"month\", \"day\", \"FFMC\", \"DMC\", \"DC\", \"ISI\", \"temp\", \"RH\", \"wind\", \"rain\", \"area\"],\n",
    "                [   \"class\", \"infants\", \"water\", \"budget\", \"physician\", \"salvador\", \"religious\", \"satellite\",\n",
    "                    \"aid\", \"missile\", \"immigration\", \"synfuels\", \"education\", \"superfund\", \"crime\", \n",
    "                    \"duty_free_exports\", \"eaa_rsa\"],\n",
    "                [   \"vendor\", \"model\", \"myct\", \"mmin\", \"mmax\", \"cach\", \"chmin\", \"chmax\", \"PRP\", \"ERP\"] \n",
    "]"
   ]
  },
  {
   "cell_type": "markdown",
   "metadata": {
    "id": "4VJXy_1mqq2i"
   },
   "source": [
    "## Loading Data"
   ]
  },
  {
   "cell_type": "code",
   "execution_count": null,
   "metadata": {
    "id": "BSrPqwOjqq2p"
   },
   "outputs": [],
   "source": [
    "# Load Data\n",
    "# 1. It loads dataset from the folder. \n",
    "# 2. It checks whether the original data already has header or not. \n",
    "# 3. If there is no header in the data, it reads .data file as csv with header.\n",
    "# 4. If there is header in the data, it reads .data file as csv. \n",
    "\n",
    "def open_csv_dataset(dataset_keyword, column_header):\n",
    "    for i in all_files:\n",
    "        if dataset_keyword in i:\n",
    "            indexed = all_files.index(i)\n",
    "            if column_header == True:\n",
    "                df = pd.read_csv(i, header=None, names = dataset_header[indexed])\n",
    "            else:\n",
    "                df = pd.read_csv(i)\n",
    "    return df"
   ]
  },
  {
   "cell_type": "markdown",
   "metadata": {
    "id": "bULOrDQDqq2r"
   },
   "source": [
    "## Handling Missing Values"
   ]
  },
  {
   "cell_type": "code",
   "execution_count": null,
   "metadata": {
    "id": "W3kCRAAdqq2t"
   },
   "outputs": [],
   "source": [
    "# Handling Missing Values\n",
    "# 1. It replaces \"?\" values to NaN value in the dataframe.\n",
    "# 2. If there is no null values in the dataframe, it returns dataframe\n",
    "# 3. If there is null values in the dataframe, it fills missing values with the feature (column) mean.\n",
    "\n",
    "def handling_missing_values(df):\n",
    "    df = df.replace('?', np.NaN)\n",
    "    if df.isnull().values.any() == False:\n",
    "        return df\n",
    "    else:\n",
    "        for i in range(0, len(df.isnull().sum().values)):\n",
    "            if df.isnull().sum().values[i] >0:\n",
    "                missing_data = df.isnull().sum().index[i]\n",
    "        df[missing_data]= pd.to_numeric(df[missing_data])\n",
    "        df[missing_data]= df[missing_data].fillna(df[missing_data].mean())\n",
    "    return df"
   ]
  },
  {
   "cell_type": "markdown",
   "metadata": {
    "id": "55RSYof0qq2v"
   },
   "source": [
    "## Handling Categorical Data"
   ]
  },
  {
   "cell_type": "code",
   "execution_count": null,
   "metadata": {
    "id": "6gQ9MCbfqq2x"
   },
   "outputs": [],
   "source": [
    "# Unique value in columns\n",
    "# 1. It categorizes all columns in the dataset. \n",
    "\n",
    "def view_unique_value_in_columns(df):\n",
    "    for i in df.columns.values:\n",
    "        print(categorize_dataset(df, i))"
   ]
  },
  {
   "cell_type": "code",
   "execution_count": null,
   "metadata": {
    "id": "ClTUSMUBqq2y"
   },
   "outputs": [],
   "source": [
    "# Unique value in single columns\n",
    "# 1. It categorizes single columns in the dataset. \n",
    "\n",
    "def view_unique_value_in_single_column(df, columns):\n",
    "    print(categorize_dataset(df, columns))"
   ]
  },
  {
   "cell_type": "code",
   "execution_count": null,
   "metadata": {
    "id": "342M0Isrqq23"
   },
   "outputs": [],
   "source": [
    "# Categorize Dataset\n",
    "# 1. To categroize dataset, it uses unique function.\n",
    "# 2. For unique function, it returns in order of appearance.\n",
    "# 3. It shows columns and numeric values in each feature values. \n",
    "\n",
    "def categorize_dataset(df, columns):\n",
    "    dicts = {}\n",
    "    unique_list = list(df[columns].unique())\n",
    "    for i in range(0, len(unique_list)):\n",
    "        dicts[unique_list[i]] = i\n",
    "    return {columns: dicts}"
   ]
  },
  {
   "cell_type": "code",
   "execution_count": null,
   "metadata": {
    "id": "fcd-tQ7_qq26"
   },
   "outputs": [],
   "source": [
    "# Replace to numeric single/multiple columns in the dataset\n",
    "# 1. Based on categorize dataset function, it replaces string value to numeric values for single/multiple columns\n",
    "\n",
    "def replacing_string_to_numeric_multiple_columns(df, string_columns ):\n",
    "    for i in string_columns:\n",
    "        df = df.replace(categorize_dataset(df,i))\n",
    "    return df"
   ]
  },
  {
   "cell_type": "code",
   "execution_count": null,
   "metadata": {
    "id": "TLJotdH-qq26"
   },
   "outputs": [],
   "source": [
    "# Replace to numeric all columns in the dataset\n",
    "# 1. Based on categorize dataset function, it replaces string value to numeric values for all columns.\n",
    "\n",
    "def replacing_string_to_numeric_all_columns(df):\n",
    "    for i in df.columns.values:\n",
    "        df = df.replace(categorize_dataset(df, i))\n",
    "    return df"
   ]
  },
  {
   "cell_type": "markdown",
   "metadata": {
    "id": "n537ZbaBKxMN"
   },
   "source": [
    "## Categorical Distribution for Computer Hardware Dataset"
   ]
  },
  {
   "cell_type": "code",
   "execution_count": null,
   "metadata": {
    "id": "IAmhXQUeKxMO"
   },
   "outputs": [],
   "source": [
    "# Compter Categorical Distribution\n",
    "# It categorizes the machine data based on names file.\n",
    "\n",
    "def computer_categorical_distribution(x):\n",
    "    if 0<=x <=20:\n",
    "        return 0\n",
    "    if 21<=x <=100:\n",
    "        return 1\n",
    "    if 101<=x<=200:\n",
    "        return 2\n",
    "    if 201 <=x<=300:\n",
    "        return 3\n",
    "    if 301 <= x<=400:\n",
    "        return 4\n",
    "    if 401<=x<=500:\n",
    "        return 5\n",
    "    if 501<=x<=600:\n",
    "        return 6\n",
    "    if x >600:\n",
    "        return 7"
   ]
  },
  {
   "cell_type": "markdown",
   "metadata": {
    "id": "_zRDbdxGqq28"
   },
   "source": [
    "## Log Transform"
   ]
  },
  {
   "cell_type": "code",
   "execution_count": null,
   "metadata": {
    "id": "YQUQL0TLqq28"
   },
   "outputs": [],
   "source": [
    "# Log Transform\n",
    "# 1. This function is used to apply for Forest Fires data. \n",
    "# 2. Based on note, it shows the output area is very skewed toward 0.0. The authors recommend a log transform.\n",
    "# 3. It log transform certain columns in the dataset. \n",
    "\n",
    "def log_transform(x):\n",
    "    return np.log(x + 1)"
   ]
  },
  {
   "cell_type": "markdown",
   "metadata": {
    "id": "dS1EKVUSqq29"
   },
   "source": [
    "## Discretization"
   ]
  },
  {
   "cell_type": "code",
   "execution_count": null,
   "metadata": {
    "id": "w2GamJ-gqq29"
   },
   "outputs": [],
   "source": [
    "# Discretization\n",
    "# This function is used to transform real-valued data into a series of discretized values\n",
    "# 1. For discretization, it has two method: Equal Width , Equal Frequency\n",
    "# 2. For Equal width, it divides the data into n intervals of equal size.\n",
    "#  2.1 Width of the k interval is (max - min) /n. \n",
    "#  2.2 It replaces discretized values with dataset\n",
    "# 3. For Equal Frequency, it uses pandas function: qcut().\n",
    "#  3.1 Based on padas, it discretize variable into equal-sized buckets based on rank or based on sample quantiles.\n",
    "#  3.2 It replaces discretized values with the dataset\n",
    "\n",
    "def discretization(df, n, method, columns):\n",
    "    if method ==\"equal_width\":\n",
    "        for i in columns:\n",
    "            max_val = np.amax(df[i].values)\n",
    "            min_val = np.amin(df[i].values)\n",
    "            bin_size = (max_val - min_val) / n\n",
    "            result =[]\n",
    "            for j in df[i].values:\n",
    "                bin_num = int( j // bin_size )\n",
    "                if bin_num > n - 1:\n",
    "                    bin_num = n - 1\n",
    "                result.append( bin_num )\n",
    "            df[i] = df[i].replace(df[i].values,result)\n",
    "            result.clear()\n",
    "        return df\n",
    "    if method == \"equal_frequency\":\n",
    "        for i in columns:\n",
    "            result = pd.qcut(df[i].values,n, labels=False, duplicates='drop')\n",
    "            df[i] = df[i].replace(df[i].values,result)\n",
    "        return df"
   ]
  },
  {
   "cell_type": "markdown",
   "metadata": {
    "id": "kKmypkHAqq2-"
   },
   "source": [
    "## Standardization"
   ]
  },
  {
   "cell_type": "code",
   "execution_count": null,
   "metadata": {
    "id": "QUbwa9Lxqq2-"
   },
   "outputs": [],
   "source": [
    "# Split dataset\n",
    "# 1. It splits the dataset into two: training set and test set.\n",
    "# 2. Training set has 80% of original dataset. \n",
    "# 3. Testing set has 20% of original dataset. \n",
    "\n",
    "def split_dataset(df, train_perc):\n",
    "    train_end_ind = int(round(df.shape[0] * train_perc))\n",
    "    train = df.iloc[0:train_end_ind]\n",
    "    test = df.iloc[train_end_ind:-1]\n",
    "    return (train, test)"
   ]
  },
  {
   "cell_type": "code",
   "execution_count": null,
   "metadata": {
    "id": "RaEQ8wV_qq2_"
   },
   "outputs": [],
   "source": [
    "# Z-score standardization\n",
    "# It computes z-score by (observed value - mean of the sample) / standard deviation of the sample\n",
    "\n",
    "def z_score_standardization(df):\n",
    "    z_score = (df-df.mean())/df.std()\n",
    "    return z_score"
   ]
  },
  {
   "cell_type": "code",
   "execution_count": null,
   "metadata": {
    "id": "V5fttln4qq2_"
   },
   "outputs": [],
   "source": [
    "# Standardization\n",
    "# 1. It applies z-score standardization for training set and testign set. \n",
    "\n",
    "def Standardization(training, testing):\n",
    "    training_zscore = z_score_standardization(training)\n",
    "    testing_zscore = z_score_standardization(testing)\n",
    "    return (training_zscore, testing_zscore)"
   ]
  },
  {
   "cell_type": "markdown",
   "metadata": {
    "id": "LiPIL5iKqq3A"
   },
   "source": [
    "## Cross-validation"
   ]
  },
  {
   "cell_type": "code",
   "execution_count": null,
   "metadata": {
    "id": "1m5UvzHfqq3A"
   },
   "outputs": [],
   "source": [
    "#K-fold cross validation\n",
    "# For this k-fold cross valiation, it applied startification.\n",
    "# 1. With training set, it splits training set into k-equaled size. \n",
    "# 2. It returns k-equal-sized training partitions. \n",
    "\n",
    "def cross_validation(df, k):\n",
    "    df_size= len(df)\n",
    "    df_size = df_size//k \n",
    "    remainder = df_size %k\n",
    "    df_folds = []\n",
    "    start = 0\n",
    "    for i in range(0,k):\n",
    "        if i < remainder:\n",
    "            fold =  df.iloc[start : start+df_size+1]\n",
    "            df_folds.append(fold)\n",
    "            start +=  df_size + 1\n",
    "        else:\n",
    "            fold =  df.iloc[start : start+df_size]\n",
    "            df_folds.append(fold)\n",
    "            start +=  df_size\n",
    "    return df_folds"
   ]
  },
  {
   "cell_type": "code",
   "execution_count": null,
   "metadata": {
    "id": "LOi32WZGKxMa"
   },
   "outputs": [],
   "source": [
    "# Cross Validation Regression\n",
    "# 1. Unlike Cross validation classification, it samples uniformly across all of the response values.\n",
    "# 2. It sorts the data by predictor. Then, It takes fifth point for a given fold.\n",
    "# 3. It returns k-equal-sized training partitions. \n",
    "\n",
    "def cross_validation_regression(df, k, var):\n",
    "    df = df.sort_values(var, axis=0)\n",
    "    df_size= len(df)\n",
    "    df_size = df_size//k \n",
    "    remainder = df_size %k\n",
    "    df_folds = []\n",
    "    start = 0\n",
    "    for i in range(0,k):\n",
    "        if i < remainder:\n",
    "            fold = df.iloc[::5,].reset_index(drop=True)\n",
    "            fold =  df.iloc[start : start+df_size+1]\n",
    "            df_folds.append(fold)\n",
    "            start +=  df_size + 1\n",
    "        else:\n",
    "            fold = df.iloc[::5,].reset_index(drop=True)\n",
    "            fold =  df.iloc[start : start+df_size]\n",
    "            df_folds.append(fold)\n",
    "            start +=  df_size\n",
    "    return df_folds"
   ]
  },
  {
   "cell_type": "markdown",
   "metadata": {
    "id": "VuENlUx3qq3B"
   },
   "source": [
    "## Evaluation Metrics"
   ]
  },
  {
   "cell_type": "code",
   "execution_count": null,
   "metadata": {
    "id": "RekFS1B7qq3B"
   },
   "outputs": [],
   "source": [
    "# Evaluation Metrics\n",
    "# It used to evaluate the efficacy of a machine learning algorithm on a dataset. \n",
    "# 1. Classification score\n",
    "#  1.1 It computes accuracy score between predicted values and observed values\n",
    "# 2. MSE\n",
    "#  2.1 It compute MSE by sum of square of difference between actual and predicted and divide by number of points.\n",
    "# 3. MAE\n",
    "#  3.1 It compute MAE by sum of absolute of (prediction - true value) and divide by number of points.\n",
    "# 4. R Square\n",
    "#  4.1 R squared is computed by 1 - RSS (sum of squares of residuals)/ TSS (total sum of squares)\n",
    "# 5. Pearson’s correlation\n",
    "#  5.1 Pearson's correlation is computed by Covariance of X and Y / (stadard deviation of X * stadard deviation of Y)\n",
    "\n",
    "def evaluation_metrics(y_true, y_pred, method):\n",
    "    diff = np.subtract(y_true, y_pred)\n",
    "    if method ==\"classification score\":\n",
    "        count = 0\n",
    "        for i in range(len(y_pred)):\n",
    "            if y_pred[i] == y_true[i]:\n",
    "                count +=1\n",
    "        accuracy_score = count / len(y_pred)\n",
    "        return accuracy_score\n",
    "    if method ==\"MSE\":\n",
    "        return np.mean(diff**2)\n",
    "    if method ==\"MAE\":\n",
    "        return np.mean(abs(diff))\n",
    "    if method ==\"R square\":\n",
    "        y_bar = y.mean()\n",
    "        TSS = ((y-y_bar)**2).sum()\n",
    "        RSS = (diff**2).sum()\n",
    "        return 1 - (RSS/TSS)\n",
    "    if method ==\"Pearson_correlation\":\n",
    "        covariance = np.cov(y_true, y_pred)\n",
    "        pearson = covariance / (np.std(y_true) * np.std(y_pred))\n",
    "        return pearson\n"
   ]
  },
  {
   "cell_type": "markdown",
   "metadata": {
    "id": "rhnFHg9Tggyl"
   },
   "source": [
    "## Sigmoid Function"
   ]
  },
  {
   "cell_type": "code",
   "execution_count": null,
   "metadata": {
    "id": "xHwBUlb3ggym"
   },
   "outputs": [],
   "source": [
    "#sigmoid function\n",
    "#S(x)=1/(1+e^-x)\n",
    "\n",
    "def sigmoid(z):\n",
    "    return 1 / (1 + math.exp(-z))"
   ]
  },
  {
   "cell_type": "markdown",
   "metadata": {
    "id": "tbBmFuQ8ggym"
   },
   "source": [
    "## Normalization"
   ]
  },
  {
   "cell_type": "code",
   "execution_count": null,
   "metadata": {
    "id": "QGdGkmorggym"
   },
   "outputs": [],
   "source": [
    "#Normalization\n",
    "# It normalizes feature data in train dataset and test dataset.\n",
    "# It doesn''t normalize predictor values\n",
    "#x_norm = (x-min(x)) / (max(x)-min(x))\n",
    "\n",
    "def normalize(train, test, predictor):\n",
    "    new_train = train.copy()\n",
    "    new_test = test.copy()\n",
    "    new_train = new_train.loc[:, new_train.columns!=predictor]\n",
    "    new_test = new_test.loc[:, new_test.columns!=predictor]\n",
    "    train_min = new_train.min()\n",
    "    train_max = new_train.max()\n",
    "    normalized_train = np.divide(np.subtract(new_train, new_train.min()), np.subtract(new_train.max(), new_train.min()))\n",
    "    normalized_test = np.divide(np.subtract(new_test, new_train.min()), np.subtract(new_train.max(), new_train.min()))\n",
    "    normalized_train[predictor] = train[predictor]\n",
    "    normalized_test[predictor] = test[predictor]\n",
    "    return normalized_train, normalized_test"
   ]
  },
  {
   "cell_type": "markdown",
   "metadata": {
    "id": "PPiDcMkBggyo"
   },
   "source": [
    "## Logistic Regression(LogR) for Binary Classes"
   ]
  },
  {
   "cell_type": "code",
   "execution_count": null,
   "metadata": {
    "id": "BfDMpBGbggyr"
   },
   "outputs": [],
   "source": [
    "# logistic Regression for Binary Classes (Based on Pseudocode Figure 10.6 in Introduction to machine learning Textbook)\n",
    "# 1. Initializes weight values rangeing from -0.01 to 0.01\n",
    "# 2. For every feature dataset, Calcualte the weight sum and pass weight sum to sigmoid function\n",
    "# 3. Update the weight changed vector with gradient descent value returned from cost function. \n",
    "# 4. Multiply each weight change vector with learning rate\n",
    "# 5. It repeats the process until it reaches to the maximum number of iterations. \n",
    "\n",
    "def LogR_GD_binary(train, class_df, max_iterations, learning_rate):\n",
    "    iter_count = 0\n",
    "    feature = len(train.columns)\n",
    "    classes = len(class_df.columns)\n",
    "    w_j = np.random.uniform(-0.01, 0.01, size=(classes, feature))\n",
    "    while iter_count < max_iterations:\n",
    "        delta_w_j = np.zeros(shape=(classes, feature))\n",
    "        for i in range(train.shape[0]):\n",
    "            o = 0 \n",
    "            y = []\n",
    "            for j in range(classes):\n",
    "                o = o + np.dot(w_j[j], train.T[i])\n",
    "                y = sigmoid(o)\n",
    "                delta_w_j[j] = delta_w_j[j] + (class_df.loc[i].values[j]-y)*train.T[i]\n",
    "        for j in range(classes):\n",
    "            w_j[j] = w_j[j] + learning_rate * delta_w_j[j]      \n",
    "        iter_count += 1\n",
    "    return w_j"
   ]
  },
  {
   "cell_type": "code",
   "execution_count": null,
   "metadata": {
    "id": "lSy0rrBtggys"
   },
   "outputs": [],
   "source": [
    "# Predict Logistic Regression for binary classes\n",
    "# 1. It has final weight from logistic regression.\n",
    "# 2. Using final weight from logistic regression, it comptues the y^t using sigmoid fuction.\n",
    "# 3. If y^t is greater than equal to 0.5, it returns the Class 1. And Class 2 otherwise.\n",
    "# 4. The class that has largest value is the most likely class for that instance. \n",
    "\n",
    "def predict_LogR_binary(weights, classes, test):\n",
    "    pred = []\n",
    "    for i in range(test.shape[0]):\n",
    "        pred_y = []\n",
    "        for j in range(len(classes)):\n",
    "            final_w = np.dot(weights[j], test.iloc[i])\n",
    "            sig_test = sigmoid(final_w)\n",
    "            if sig_test >=0.5:\n",
    "                predicted_val = 1\n",
    "            else:\n",
    "                predicted_val = 0\n",
    "            pred_y.append(predicted_val)\n",
    "        pred.append(classes[np.argmax(pred_y)])        \n",
    "    return pred"
   ]
  },
  {
   "cell_type": "code",
   "execution_count": null,
   "metadata": {
    "id": "JZjNxwHyggyu"
   },
   "outputs": [],
   "source": [
    "# Evalute Logistic Regression binary\n",
    "# 1. It normalizes the train and test dataset.\n",
    "# 2. It gets class dataframe by converting categorical variable into indicator variables.\n",
    "# 3. It gets final weight using logistic regression for binary class (LogR_GD_binary)\n",
    "# 4. It predicts the output.\n",
    "# 5. It evaluated the performance by computing accuracy score.\n",
    "\n",
    "def LogR_binary_eval(df, test_df, predictor, max_iter, learning_rate, method):\n",
    "    normalized_train, normalized_test  = normalize(df, test_df, predictor)\n",
    "    class_df = pd.get_dummies(df[predictor])\n",
    "    new_train_df = normalized_train[normalized_train.columns[normalized_train.columns!=predictor]]\n",
    "    weight_vector = LogR_GD_binary(new_train_df, class_df, max_iter, learning_rate)\n",
    "    new_test_df = test_df.drop(predictor, axis=1)\n",
    "    prediction = predict_LogR_binary(weight_vector , class_df.columns, new_test_df)\n",
    "    score = evaluation_metrics(test_df[predictor].values, prediction, method)\n",
    "    score = round(score *100,2)\n",
    "    return score"
   ]
  },
  {
   "cell_type": "code",
   "execution_count": null,
   "metadata": {
    "id": "de6w0Wgjggyv"
   },
   "outputs": [],
   "source": [
    "# Logistic Regresion binary for 5-fold\n",
    "# It uses 80% of the dataset for 5-fold cross validation, and gets the accuracy score for each fold.\n",
    "\n",
    "def LogR_binary_fold(df, predictor, max_iter, learning_rate, method):\n",
    "    score_list = []\n",
    "    for i in range(0, len(df)):\n",
    "        k_validate = pd.concat([x for j,x in enumerate(df) if j!=i])\n",
    "        k_validate = k_validate.reset_index(drop=True)\n",
    "        score = LogR_binary_eval(k_validate, df[i], predictor, max_iter, learning_rate, method)\n",
    "        score_list.append(score)\n",
    "    return score_list"
   ]
  },
  {
   "cell_type": "markdown",
   "metadata": {
    "id": "DJaa9KnSggyv"
   },
   "source": [
    "### Tuning Logistic Regression Binary Classes"
   ]
  },
  {
   "cell_type": "code",
   "execution_count": null,
   "metadata": {
    "id": "0fpnLglCggyw"
   },
   "outputs": [],
   "source": [
    "# Tuning Logistic Regression Binary classe\n",
    "# It uses 20% of the dataset for tuning. \n",
    "# It finds the best parameter combination of maximum iteration, learning rate. \n",
    "\n",
    "def tuning_LogR_single(df, max_iter_list, learning_rate_list, predictor, method):\n",
    "    best_candidate = []\n",
    "    parameter_list =[]\n",
    "    for i in range(len(max_iter_list)):\n",
    "        for j in range(len(learning_rate_list)):\n",
    "            parameter_list.append([i,j])\n",
    "            best_candidate.append(np.mean(LogR_binary_fold(df, \n",
    "                                                           predictor, \n",
    "                                                           max_iter_list[i], \n",
    "                                                           learning_rate_list[j],\n",
    "                                                           method)))\n",
    "    best_parameter =best_candidate.index(max(best_candidate))\n",
    "    best_max_iter = max_iter_list[parameter_list[best_parameter][0]]\n",
    "    best_learning_rate = learning_rate_list[parameter_list[best_parameter][1]]\n",
    "    return best_learning_rate, best_max_iter"
   ]
  },
  {
   "cell_type": "markdown",
   "metadata": {
    "id": "5bOtubzIggyx"
   },
   "source": [
    "## Logistic Regresssion for Multi-Classes"
   ]
  },
  {
   "cell_type": "code",
   "execution_count": null,
   "metadata": {
    "id": "Qzm_ev14ggyx"
   },
   "outputs": [],
   "source": [
    "# Logistic Regression for multiple class (Based on Pseudocode Figure 10.8 in Introduction to machine learning Textbook)\n",
    "# 1. Initializes weight values rangeing from -0.01 to 0.01\n",
    "# 2. For every feature dataset, Calcualte the weight sum.\n",
    "#    Intead of using sigmoid function, it uses softmax function for multi-class\n",
    "# 3. Just like logistic Regression for binary class\n",
    "#    Update the weight changed vector with gradient descent value returned from cost function. \n",
    "# 4. Multiply each weight change vector with learning rate\n",
    "# 5. It repeats the process until it reaches to the maximum number of iterations. \n",
    "\n",
    "def LogR_GD_multi_class(train, class_df, max_iterations, learning_rate):\n",
    "    iter_count = 0\n",
    "    feature = len(train.columns)\n",
    "    classes = len(class_df.columns)\n",
    "    w_j = np.random.uniform(-0.01, 0.01, size=(classes, feature))\n",
    "    o = 0\n",
    "    while(iter_count < max_iterations):\n",
    "        delta_w_j = np.zeros(shape=(classes, feature))\n",
    "        for i in range(train.shape[0]):\n",
    "            o_i = []\n",
    "            for j in range(classes):\n",
    "                o = o + np.dot(w_j[j], train.T[i])\n",
    "                o_i.append(o)\n",
    "            y = []\n",
    "            for j in range(classes):\n",
    "                y.append(np.exp(o_i[j]) / np.sum(np.exp(o_i)))\n",
    "            for j in range(classes):\n",
    "                delta_w_j[j] = delta_w_j[j] + (class_df.loc[i].values[j]-y[j])*train.T[i]\n",
    "        for j in range(classes):\n",
    "            w_j[j] = w_j[j] + learning_rate * delta_w_j[j]\n",
    "        iter_count += 1\n",
    "    return w_j"
   ]
  },
  {
   "cell_type": "code",
   "execution_count": null,
   "metadata": {
    "id": "eabsfl6Iggyy"
   },
   "outputs": [],
   "source": [
    "# Prediction Logistic Regression for multi-class\n",
    "# 1. Using logisitc regression for multi-class, it gets final weight\n",
    "# 2. Instead of sigmoid function, it uses softmax. \n",
    "# 3. The class that has largest value is the most likely class for that instance. \n",
    "\n",
    "def predict_LogR_multi(weights, classes, test):\n",
    "    pred = []\n",
    "    for i in range(test.shape[0]):\n",
    "        final_weight = []\n",
    "        for j in range(len(classes)):\n",
    "            final_weight.append(np.dot(weights[j], test.iloc[i]))\n",
    "        y_i = []\n",
    "        for j in range(len(classes)):\n",
    "            y_i.append(np.exp(final_weight[j]) / np.sum(np.exp(final_weight)))\n",
    "        pred.append(classes[np.argmax(y_i)])        \n",
    "    return pred"
   ]
  },
  {
   "cell_type": "code",
   "execution_count": null,
   "metadata": {
    "id": "N0UNGRJbggyy"
   },
   "outputs": [],
   "source": [
    "# Evalute Logistic Regression multi-classes\n",
    "# 1. It normalizes the train and test dataset.\n",
    "# 2. It gets class dataframe by converting categorical variable into indicator variables.\n",
    "# 3. It gets final weight using logistic regression for multi-class (LogR_GD_multi_class)\n",
    "# 4. It predicts the output.\n",
    "# 5. It evaluated the performance by computing accuracy score.\n",
    "\n",
    "def LogR_multi_eval(df, test_df, predictor, max_iter, learning_rate, method):\n",
    "    normalized_train, normalized_test  = normalize(df, test_df, predictor)\n",
    "    class_df = pd.get_dummies(df[predictor])\n",
    "    new_train_df = normalized_train[normalized_train.columns[normalized_train.columns!=predictor]]\n",
    "    weight_vector =  LogR_GD_multi_class(new_train_df, class_df, max_iter, learning_rate)\n",
    "    new_test_df = test_df.drop(predictor, axis=1)\n",
    "    prediction = predict_LogR_multi(weight_vector , class_df.columns, new_test_df)\n",
    "    score = evaluation_metrics(test_df[predictor].values, prediction, method)\n",
    "    score = round(score *100,2)\n",
    "    return score"
   ]
  },
  {
   "cell_type": "code",
   "execution_count": null,
   "metadata": {
    "id": "J_4AHVI5ggyy"
   },
   "outputs": [],
   "source": [
    "# Logistic Regresion multi-class for 5-fold\n",
    "# It uses 80% of the dataset for 5-fold cross validation, and gets the accuracy score for each fold.\n",
    "\n",
    "def LogR_multi_fold(df, predictor, max_iter, learning_rate, method):\n",
    "    score_list = []\n",
    "    for i in range(0, len(df)):\n",
    "        k_validate = pd.concat([x for j,x in enumerate(df) if j!=i])\n",
    "        k_validate = k_validate.reset_index(drop=True)\n",
    "        score = LogR_multi_eval(k_validate, df[i] ,predictor, max_iter, learning_rate, method)\n",
    "        score_list.append(score)\n",
    "    return score_list"
   ]
  },
  {
   "cell_type": "markdown",
   "metadata": {
    "id": "7DOjV6yfggyz"
   },
   "source": [
    "### Tuning Logistic Regression for Multi-Classes"
   ]
  },
  {
   "cell_type": "code",
   "execution_count": null,
   "metadata": {
    "id": "jN9RHulbggyz"
   },
   "outputs": [],
   "source": [
    "# Tuning Logistic Regression Multi-classes\n",
    "# It uses 20% of the dataset for tuning. \n",
    "# It finds the best parameter combination of maximum iteration, learning rate. \n",
    "\n",
    "def tuning_LogR_multi(df, max_iter_list, learning_rate_list, predictor, method):\n",
    "    best_candidate = []\n",
    "    parameter_list =[]\n",
    "    for i in range(len(max_iter_list)):\n",
    "        for j in range(len(learning_rate_list)):\n",
    "            parameter_list.append([i,j])\n",
    "            best_candidate.append(np.mean(LogR_multi_fold(df, \n",
    "                                                          predictor, \n",
    "                                                          max_iter_list[i], \n",
    "                                                          learning_rate_list[j],\n",
    "                                                          method)))\n",
    "    best_parameter =best_candidate.index(max(best_candidate))\n",
    "    best_max_iter = max_iter_list[parameter_list[best_parameter][0]]\n",
    "    best_learning_rate = learning_rate_list[parameter_list[best_parameter][1]]\n",
    "    return best_learning_rate, best_max_iter"
   ]
  },
  {
   "cell_type": "markdown",
   "metadata": {
    "id": "96eHC4SAggyz"
   },
   "source": [
    "## Simple Linear Network / Linear Regression (LinR)"
   ]
  },
  {
   "cell_type": "code",
   "execution_count": null,
   "metadata": {
    "id": "LSYzO-R5ggy0"
   },
   "outputs": [],
   "source": [
    "# Simple Liner Network (Linear Regression for regression tasks)\n",
    "# 1. Initializes weight values rangeing from -0.01 to 0.01\n",
    "# 2. It computes the weight sum for every feature dataset. \n",
    "# 3. It updates the weight changed vector with gradient descent value using MSE.\n",
    "# 4. Multiply each weight change vector with learning rate\n",
    "# 5. It repeats the process until it reaches to the maximum number of iterations. \n",
    " \n",
    "def LinR_GD(train, predictor, learning_rate):\n",
    "    features = train.columns[train.columns!=predictor]\n",
    "    new_train = train[features]\n",
    "    w_j = np.random.uniform(-0.01, 0.01, len(features))\n",
    "    delta_w_ij = np.zeros(shape=(1, len(features)))\n",
    "    for i in range(new_train.shape[0]):\n",
    "        pred_o = np.dot(w_j,new_train.iloc[i].values)\n",
    "        delta_w_ij[0] = delta_w_ij[0] + np.square(train[predictor].values[i]-pred_o)*new_train.iloc[i]\n",
    "    MSE = (1/new_train.shape[0])*delta_w_ij\n",
    "    w_j = w_j + learning_rate * MSE\n",
    "    return w_j"
   ]
  },
  {
   "cell_type": "code",
   "execution_count": null,
   "metadata": {
    "id": "8axizVktggy0"
   },
   "outputs": [],
   "source": [
    "# Prediction Linear Regression\n",
    "# 1. For every feature dataset, it computes the weight vector to predict the result.\n",
    "\n",
    "def predict_LinR(df, weight, predictor):\n",
    "    df = df.iloc[:, df.columns!=predictor]\n",
    "    pred = []\n",
    "    for i in range(df.shape[0]):\n",
    "        pred.append(np.dot(weight,df.iloc[i].values)[0])\n",
    "    return pred"
   ]
  },
  {
   "cell_type": "code",
   "execution_count": null,
   "metadata": {
    "id": "JTLK6oFtggy1"
   },
   "outputs": [],
   "source": [
    "# Linear Regression Evaluation\n",
    "# 1. It normalizes the dataset for trian and test dataset. \n",
    "# 2. It gets the final weight for linear regression. \n",
    "# 3. It predicts the result.\n",
    "# 4. It evaluted the prediction using MSE (Mean squared error)\n",
    "\n",
    "def LinR_eval(df, test_df, predictor, learning_rate, method):\n",
    "    normalized_df, normalized_test_df  = normalize(df, test_df, predictor)\n",
    "    weight = LinR_GD(normalized_df, predictor, learning_rate)\n",
    "    prediction = predict_LinR(normalized_test_df, weight, predictor)\n",
    "    score = evaluation_metrics(normalized_test_df[predictor].values, prediction, method)\n",
    "    score = round(score,2)\n",
    "    return score"
   ]
  },
  {
   "cell_type": "code",
   "execution_count": null,
   "metadata": {
    "id": "LfrGfB1sggy2"
   },
   "outputs": [],
   "source": [
    "# Linear Regression for 5-fold\n",
    "# It uses 80% of the dataset for 5-fold cross validation, and gets the MSE for each fold.\n",
    "\n",
    "def LinR_fold(df, predictor, learning_rate, method):\n",
    "    score_list = []\n",
    "    for i in range(0, len(df)):\n",
    "        k_validate = pd.concat([x for j,x in enumerate(df) if j!=i])\n",
    "        k_validate = k_validate.reset_index(drop=True)\n",
    "        score = LinR_eval(k_validate, df[i], predictor ,learning_rate, method)\n",
    "        score_list.append(score)\n",
    "    return score_list"
   ]
  },
  {
   "cell_type": "code",
   "execution_count": null,
   "metadata": {
    "id": "D_JlqaqJggy3"
   },
   "outputs": [],
   "source": [
    "# Tuning Linear Regression Multi-classes\n",
    "# It uses 20% of the dataset for tuning. \n",
    "# It finds the best parameter combination of maximum iteration, learning rate. \n",
    "\n",
    "def tuning_LinR(df, learning_rate_list, predictor, method):\n",
    "    best_candidate = []\n",
    "    parameter_list = []\n",
    "    for i in range(len(learning_rate_list)):\n",
    "        parameter_list.append(i)\n",
    "        best_candidate.append(np.mean(LinR_fold(df, predictor, learning_rate_list[i], method)))\n",
    "    best_parameter = best_candidate.index(min(best_candidate))\n",
    "    best_learning_rate = learning_rate_list[parameter_list[best_parameter]]\n",
    "    return best_learning_rate"
   ]
  },
  {
   "cell_type": "markdown",
   "metadata": {
    "id": "YHZNVbqXggy5"
   },
   "source": [
    "## FeedForward with Backpropagation (FFBP)"
   ]
  },
  {
   "cell_type": "markdown",
   "metadata": {
    "id": "VoZO7aIrggy6"
   },
   "source": [
    "## FFBP for Classification"
   ]
  },
  {
   "cell_type": "code",
   "execution_count": null,
   "metadata": {
    "id": "2pIcLwt4ggy7"
   },
   "outputs": [],
   "source": [
    "# Backpropagation  (Based on Pseudocode Figure 11.11 in Introduction to machine learning Textbook)\n",
    "# 1. There are two hidden layer for this project\n",
    "# 2. Initialize the weight ranges from -0.01 to 0.01 for \n",
    "#    (Input to first hidden layer), (first hidden layer to second hidden layer), (second hidden layer to output layer)\n",
    "# 3. For each class, Compute weight update rule for second layer\n",
    "#    deltav_h = eta * sum_t(r^t-y^t)*z^t_h\n",
    "# 4. For each class, Compute weight update rule for first layer\n",
    "#    deltaw_hj = eta * sum_t(r^t-y^t)v_h*z^t_h(1-z^t_h)x^t_j\n",
    "# 5. Since it has two hidden layer for this project, it repeats weight upating the same process again.\n",
    "# 6. It repeats the whole process until it reaches to max iteration numbers. \n",
    "\n",
    "def BP_classification(df, class_df, hidden_layer1, hidden_layer2, max_iter, learning_rate):\n",
    "    feature = len(df.columns)\n",
    "    classes = len(class_df.columns)\n",
    "    w_j = np.random.uniform(-0.01, 0.01, size=(hidden_layer1, feature))\n",
    "    v_ih1 = np.random.uniform(-0.01, 0.01, size=(hidden_layer2, hidden_layer1))\n",
    "    v_ih2 = np.random.uniform(-0.01, 0.01, size=(classes, hidden_layer2))\n",
    "    iteration = 0\n",
    "    while iteration < max_iter:\n",
    "        for i in range(df.shape[0]):\n",
    "            #First Layer\n",
    "            z_h1 = []\n",
    "            for h1 in range(hidden_layer1):\n",
    "                z_h1.append(sigmoid(np.dot(w_j[h1], df.T[i])))\n",
    "            y_i_h1=[]\n",
    "            for j in range(classes):\n",
    "                y_i_h1.append(np.dot(v_ih1[j], z_h1))\n",
    "            delta_vi_h1 = np.zeros(shape=(classes, hidden_layer1))\n",
    "            for j in range(classes):\n",
    "                gd_h1 = learning_rate*(class_df.loc[i].values[j] - y_i_h1[j]) \n",
    "                gd_v_h1 = [gd_h1* x for x in z_h1]\n",
    "                delta_vi_h1[j]=  delta_vi_h1[j] + gd_v_h1\n",
    "            delta_w_h1 = np.zeros(shape=(hidden_layer1, feature))\n",
    "            for h1 in range(hidden_layer1):\n",
    "                weight_sum = []\n",
    "                for j in range(classes):\n",
    "                    weight_sum.append((class_df.loc[i].values[j] - y_i_h1[j])*v_ih1[j][h1])\n",
    "                delta_w_h1[h1] = delta_w_h1[h1] + learning_rate*np.sum(weight_sum)*z_h1[h1]*(1-z_h1[h1])* df.T[i]\n",
    "            for j in range(classes):\n",
    "                v_ih1[j] = v_ih1[j] + delta_vi_h1[j]\n",
    "            for h1 in range(hidden_layer1):\n",
    "                w_j[h1] = w_j[h1]+delta_w_h1[h1]\n",
    "            #Second Layer\n",
    "            z_h2 = []\n",
    "            for h2 in range(hidden_layer2):\n",
    "                z_h2.append(sigmoid(np.dot(v_ih1[h2], z_h1)))\n",
    "            y_i_h2=[]\n",
    "            for j in range(classes):\n",
    "                y_i_h2.append(np.dot(v_ih2[j], z_h2))\n",
    "            delta_vi_h2 = np.zeros(shape=(classes, hidden_layer2))\n",
    "            for j in range(classes):\n",
    "                gd_h2 = learning_rate*(class_df.loc[i].values[j] - y_i_h2[j]) \n",
    "                gd_v_h2 = [gd_h2* x for x in z_h2]\n",
    "                delta_vi_h2[j]=  delta_vi_h2[j] + gd_v_h2\n",
    "            delta_w_h2 = np.zeros(shape=(hidden_layer2, hidden_layer1))\n",
    "            for h2 in range(hidden_layer2):\n",
    "                weight_sum = []\n",
    "                for j in range(classes):\n",
    "                    weight_sum.append((class_df.loc[i].values[j] - y_i_h2[j])*v_ih2[j][h2])\n",
    "                w_h2 = learning_rate*np.sum(weight_sum)*z_h2[h2]*(1-z_h2[h2])\n",
    "                gd_w_h2 = [w_h2* x for x in z_h1]\n",
    "                delta_w_h2[h2] = delta_w_h2[h2] + gd_w_h2\n",
    "            for j in range(classes):\n",
    "                v_ih2[j] = v_ih2[j] + delta_vi_h2[j]\n",
    "            for h2 in range(hidden_layer2):\n",
    "                v_ih1[h2] = v_ih1[h2]+delta_w_h2[h2]\n",
    "        iteration+=1\n",
    "    return w_j, v_ih1, v_ih2"
   ]
  },
  {
   "cell_type": "code",
   "execution_count": null,
   "metadata": {
    "id": "J_OFpBB7ggy8"
   },
   "outputs": [],
   "source": [
    "# Predict Feedforward with Backpropagation foor classification\n",
    "# It predicts the classification using initial weight, first weight, second weight from BP_classification.\n",
    "# It computes the final weight vector using sigmoid for each layer.\n",
    "# In outputer layer, it predicts the final class value using softmax. \n",
    "# The class that has largest value is the most likely class for that instance. \n",
    "\n",
    "def predict_FFBP_classification(df, class_df, h1_node, h2_node, weight, h1_layer, h2_layer):\n",
    "    df_test = df.reset_index(drop=True)\n",
    "    pred = []\n",
    "    for i in range(df_test.shape[0]):\n",
    "        z_h1 = []\n",
    "        # First Layer \n",
    "        for h1 in range(h1_node):\n",
    "            z_h1.append(sigmoid(np.dot(weight[h1], df_test.iloc[i])))\n",
    "        z_h2 = []\n",
    "        #Second Layer\n",
    "        for h2 in range(h2_node):\n",
    "            z_h2.append(sigmoid(np.dot(h1_layer[h2], z_h1)))\n",
    "        #Output Layer\n",
    "        final_weight = []\n",
    "        for j in range(len(class_df)):\n",
    "            final_weight.append(np.dot(h2_layer[j], z_h2))\n",
    "        #SoftMax for prediction Layer\n",
    "        soft_max_pred = []\n",
    "        for j in range(len(class_df)):\n",
    "            soft_max_pred.append(np.exp(final_weight[j]) / np.sum(np.exp(final_weight)))\n",
    "        pred.append(class_df[np.argmax(soft_max_pred)])\n",
    "    return pred"
   ]
  },
  {
   "cell_type": "code",
   "execution_count": null,
   "metadata": {
    "id": "JTHW940uggy-"
   },
   "outputs": [],
   "source": [
    "#Feedforward backpropgation with clssification\n",
    "# 1. It normalizes the dataset for trian and test dataset. \n",
    "# 2. It gets the inital weight, weight of first hidden layer, weight for second hidden layer from BP_classification\n",
    "# 3. It predicts the result.\n",
    "# 4. It evaluted the prediction using accuracy score.\n",
    "\n",
    "def FFBP_classification(df, test_df, predictor, h1_node, h2_node, max_iter, learning_rate, method):\n",
    "    normalized_train, normalized_test  = normalize(df, test_df, predictor)\n",
    "    class_df = pd.get_dummies(df[predictor])\n",
    "    new_train_df = normalized_train[normalized_train.columns[normalized_train.columns!=predictor]]\n",
    "    weight, hidden_layer1, hidden_layer2 = BP_classification(new_train_df, class_df, h1_node, h2_node, max_iter, learning_rate)\n",
    "    new_test_df = normalized_test.drop(predictor, axis=1)\n",
    "    prediction = predict_FFBP_classification(new_test_df, class_df.columns, h1_node, h2_node, weight, hidden_layer1, hidden_layer2)\n",
    "    score = evaluation_metrics(test_df[predictor].values, prediction, method)\n",
    "    score = round(score*100,2)\n",
    "    return score"
   ]
  },
  {
   "cell_type": "code",
   "execution_count": null,
   "metadata": {
    "id": "vaIcmQshggy_"
   },
   "outputs": [],
   "source": [
    "# Feedforward backpropagation for 5-fold cross validation\n",
    "# It uses 80% of the dataset for 5-fold cross validation, and gets the accuracy score for each fold.\n",
    "\n",
    "def FFBP_classification_fold(df, predictor, h1_node, h2_node,  max_iter, learning_rate, method):\n",
    "    score_list = []\n",
    "    for i in range(0, len(df)):\n",
    "        k_validate = pd.concat([x for j,x in enumerate(df) if j!=i])\n",
    "        k_validate = k_validate.reset_index(drop=True)\n",
    "        score = FFBP_classification(k_validate, df[i], predictor, h1_node, h2_node, max_iter, learning_rate, method)\n",
    "        score_list.append(score)\n",
    "    return score_list"
   ]
  },
  {
   "cell_type": "markdown",
   "metadata": {
    "id": "xri94wlJggy_"
   },
   "source": [
    "### Tuning FFBP Classification "
   ]
  },
  {
   "cell_type": "code",
   "execution_count": null,
   "metadata": {
    "id": "wtMj14dgggzA"
   },
   "outputs": [],
   "source": [
    "# Tuning Feedforward backpropagation with classification\n",
    "# It uses 20% of the dataset for tuning. \n",
    "# It finds the best parameter combination of maximum iteration, learning rate, hidden node \n",
    "\n",
    "def tuning_FFBP_classification(df, max_iter_list, learning_rate_list, hidden_node_list, predictor, method):\n",
    "    best_candidate = []\n",
    "    parameter_list =[]\n",
    "    for i in range(len(max_iter_list)):\n",
    "        for j in range(len(learning_rate_list)):\n",
    "            for k in range(len(hidden_node_list)):\n",
    "                parameter_list.append([i,j, k])\n",
    "                best_candidate.append(np.mean(FFBP_classification_fold(df, \n",
    "                                                                       predictor, \n",
    "                                                                       hidden_node_list[k], \n",
    "                                                                       hidden_node_list[k], \n",
    "                                                                       max_iter_list[i], \n",
    "                                                                       learning_rate_list[j], \n",
    "                                                                       method)))     \n",
    "    best_parameter =best_candidate.index(max(best_candidate))\n",
    "    best_max_iter = max_iter_list[parameter_list[best_parameter][0]]\n",
    "    best_learning_rate = learning_rate_list[parameter_list[best_parameter][1]]\n",
    "    best_hidden_node = hidden_node_list[parameter_list[best_parameter][2]]\n",
    "    return best_learning_rate, best_max_iter, best_hidden_node"
   ]
  },
  {
   "cell_type": "markdown",
   "metadata": {
    "id": "mLh3ppKcggzB"
   },
   "source": [
    "## FFBP for Regression"
   ]
  },
  {
   "cell_type": "code",
   "execution_count": null,
   "metadata": {
    "id": "7QbdP0szggzB"
   },
   "outputs": [],
   "source": [
    "# Feedforward backpropagation for regression tasks.\n",
    "# It basically works same as Feedforward backpropagation for classification tasks.\n",
    "# Except that regression tasks don't have to care about the classes label. \n",
    "# 1. There are two hidden layer for this project\n",
    "# 2. Initialize the weight for \n",
    "#    (Input to first hidden layer), (first hidden layer to second hidden layer), (second hidden layer to output layer)\n",
    "# 3. Compute weight update rule for second layer\n",
    "#    deltav_h = eta * sum_t(r^t-y^t)*z^t_h\n",
    "# 4. Compute weight update rule for first layer\n",
    "#    deltaw_hj = eta * sum_t(r^t-y^t)v_h*z^t_h(1-z^t_h)x^t_j\n",
    "# 5. Since it has two hidden layer for this project, it repeats weight upating the same process again.\n",
    "# 6. It repeats the whole process until it reaches to max iteration numbers. \n",
    "\n",
    "def BP_regression(df, class_df, hidden_layer1, hidden_layer2, max_iter, learning_rate):\n",
    "    feature = len(df.columns)\n",
    "    weight = np.random.uniform(-0.01, 0.01, size=(hidden_layer1, feature))\n",
    "    h1_layer = np.random.uniform(-0.01, 0.01, size=(hidden_layer2, hidden_layer1))\n",
    "    h2_layer = np.random.uniform(-0.01, 0.01, size=(1, hidden_layer2))\n",
    "    iteration = 0\n",
    "    while iteration < max_iter:\n",
    "        for i in range(df.shape[0]):\n",
    "            #First layer\n",
    "            z_h1 = []\n",
    "            for h1 in range(hidden_layer1):\n",
    "                z_h1.append(sigmoid(np.dot(weight[h1],df.T[i])))\n",
    "            y_i_h1 = (np.dot(h1_layer, z_h1))\n",
    "            delta_v_i_1 = learning_rate *(class_df[i]- y_i_h1)*z_h1\n",
    "            delta_wh_1 = np.zeros(shape=(hidden_layer1, feature))\n",
    "            for h1 in range(hidden_layer1):\n",
    "                gd_weight_sum_h1 = (class_df[i] - y_i_h1)*delta_v_i_1[h1]\n",
    "                delta_wh_1[h1] = delta_wh_1[h1] + learning_rate*np.sum(gd_weight_sum_h1)*z_h1[h1]*(1-z_h1[h1])* df.T[i]\n",
    "            h1_layer  = h1_layer+delta_v_i_1\n",
    "            for h1 in range(hidden_layer1):\n",
    "                weight[h1] = weight[h1]+delta_wh_1[h1]\n",
    "            #Second Layer \n",
    "            z_h2 = []\n",
    "            for h2 in range(hidden_layer2):\n",
    "                z_h2.append(sigmoid(np.dot(h1_layer[h2],z_h1)))\n",
    "            y_i_h2 = (np.dot(h2_layer, z_h2))\n",
    "            delta_v_i_2 = learning_rate *(class_df[i]- y_i_h2)*z_h2\n",
    "            delta_wh_2 = np.zeros(shape=(hidden_layer2, hidden_layer1))\n",
    "            for h2 in range(hidden_layer2):\n",
    "                gd_w_h2 = (class_df[i] - y_i_h2)*delta_v_i_2[h2]\n",
    "                weight_sum_h2 = learning_rate*np.sum(gd_w_h2)*z_h2[h2]*(1-z_h2[h2])\n",
    "                weight_h2 = [weight_sum_h2* x for x in z_h1]\n",
    "                delta_wh_2[h2] = delta_wh_2[h2] + weight_h2 \n",
    "            h2_layer  = h2_layer+delta_v_i_2\n",
    "            for h2 in range(hidden_layer2):\n",
    "                h1_layer[h2] = h1_layer[h2]+delta_wh_2[h2]\n",
    "        iteration+=1\n",
    "    return weight, h1_layer, h2_layer"
   ]
  },
  {
   "cell_type": "code",
   "execution_count": null,
   "metadata": {
    "id": "SpdiogIYggzB"
   },
   "outputs": [],
   "source": [
    "# Predict Feedforward with Backpropagation for regression\n",
    "# It predicts the regression using initial weight, first weight, second weight from BP_regression.\n",
    "# It computes the final weight vector using sigmoid for each layer.\n",
    "# In outputer layer, it predicts the final value using softmax. \n",
    "\n",
    "def predict_FFBP_regression(df, weight, h1_node, h2_node, h1_layer, h2_layer):\n",
    "    pred =[]\n",
    "    for i in range(df.shape[0]):\n",
    "        z_h1 = []\n",
    "        # First Layer \n",
    "        for h1 in range(h1_node):\n",
    "            z_h1.append(sigmoid(np.dot(weight[h1], df.iloc[i])))\n",
    "        z_h2 = []\n",
    "        #Second Layer\n",
    "        for h2 in range(h2_node):\n",
    "            z_h2.append(sigmoid(np.dot(h1_layer[h2], z_h1)))\n",
    "        final_weight = np.dot(h2_layer, z_h2)\n",
    "        pred.append(final_weight[0])\n",
    "    return pred"
   ]
  },
  {
   "cell_type": "code",
   "execution_count": null,
   "metadata": {
    "id": "V1CcW0glggzC"
   },
   "outputs": [],
   "source": [
    "#Feedforward backpropgation with regression\n",
    "# 1. It normalizes the dataset for train and test dataset. \n",
    "# 2. It gets the inital weight, weight of first hidden layer, weight for second hidden layer from BP_regression\n",
    "# 3. It predicts the result.\n",
    "# 4. It evaluted the prediction using MSE.\n",
    "\n",
    "def FFBP_regression(df, test_df, predictor, h1_node, h2_node, max_iter, learning_rate, method):\n",
    "    normalized_train, normalized_test  = normalize(df, test_df, predictor)\n",
    "    new_train_df = normalized_train[normalized_train.columns[normalized_train.columns!=predictor]]\n",
    "    class_df = normalized_train[predictor].values\n",
    "    weight, h1_layer, h2_layer = BP_regression(new_train_df, class_df, h1_node, h2_node, max_iter, learning_rate)\n",
    "    normalized_test_df = normalized_test.reset_index(drop=True)\n",
    "    new_test_df = normalized_test_df[normalized_test_df.columns[normalized_test_df.columns!=predictor]]\n",
    "    prediction = predict_FFBP_regression(new_test_df, weight, h1_node, h2_node, h1_layer, h2_layer)\n",
    "    score = evaluation_metrics(normalized_test_df[predictor].values, prediction, method)\n",
    "    score = round(score,2)\n",
    "    return score"
   ]
  },
  {
   "cell_type": "code",
   "execution_count": null,
   "metadata": {
    "id": "jz9lwDeAggzC"
   },
   "outputs": [],
   "source": [
    "# Feedforward backpropagation for 5-fold cross validation\n",
    "# It uses 80% of the dataset for 5-fold cross validation, and gets the MSE for each fold.\n",
    "\n",
    "def FFBP_regression_fold(df, predictor, h1_node, h2_node,  max_iter, learning_rate, method):\n",
    "    score_list = []\n",
    "    for i in range(0, len(df)):\n",
    "        k_validate = pd.concat([x for j,x in enumerate(df) if j!=i])\n",
    "        k_validate = k_validate.reset_index(drop=True)\n",
    "        score = FFBP_regression(k_validate, df[i], predictor, h1_node, h2_node, max_iter, learning_rate, method)\n",
    "        score_list.append(score)\n",
    "    return score_list"
   ]
  },
  {
   "cell_type": "code",
   "execution_count": null,
   "metadata": {
    "id": "us5nEnznggzD"
   },
   "outputs": [],
   "source": [
    "# Tuning Feedforward backpropagation with regression\n",
    "# It uses 20% of the dataset for tuning. \n",
    "# It finds the best parameter combination of maximum iteration, learning rate, hidden node \n",
    "\n",
    "def tuning_FFBP_regression(df, max_iter_list, learning_rate_list, hidden_node_list, predictor, method):\n",
    "    best_candidate = []\n",
    "    parameter_list =[]\n",
    "    for i in range(len(max_iter_list)):\n",
    "        for j in range(len(learning_rate_list)):\n",
    "            for k in range(len(hidden_node_list)):\n",
    "                parameter_list.append([i,j, k])\n",
    "                best_candidate.append(np.mean(FFBP_regression_fold(df, \n",
    "                                                                   predictor, \n",
    "                                                                   hidden_node_list[k], \n",
    "                                                                   hidden_node_list[k], \n",
    "                                                                   max_iter_list[i], \n",
    "                                                                   learning_rate_list[j], \n",
    "                                                                   method)))     \n",
    "    best_parameter =best_candidate.index(min(best_candidate))\n",
    "    best_max_iter = max_iter_list[parameter_list[best_parameter][0]]\n",
    "    best_learning_rate = learning_rate_list[parameter_list[best_parameter][1]]\n",
    "    best_hidden_node = hidden_node_list[parameter_list[best_parameter][2]]\n",
    "    return best_learning_rate, best_max_iter, best_hidden_node"
   ]
  },
  {
   "cell_type": "markdown",
   "metadata": {
    "id": "fkMiO3MDggzD"
   },
   "source": [
    "## AutoEncoder"
   ]
  },
  {
   "cell_type": "markdown",
   "metadata": {
    "id": "exvMzipaggzE"
   },
   "source": [
    "### Feature Extraction (Encoding Layer)"
   ]
  },
  {
   "cell_type": "code",
   "execution_count": null,
   "metadata": {
    "id": "FtYuTJaiggzF"
   },
   "outputs": [],
   "source": [
    "# Autoencoder for both classification and regression\n",
    "# In Autoencoder, the number of encoding layer is smaller ther nodes in the input layer.\n",
    "# It tries to reduce feature space that is projecting into.\n",
    "# It uses feedforward with backpropagation to train the data in the encoding layer.\n",
    "\n",
    "def autoencoder(df, encoding_layer1, max_iter, learning_rate):\n",
    "    feature = len(df.columns)\n",
    "    w_j = np.random.uniform(-0.01, 0.01, size=(encoding_layer1, feature))\n",
    "    v_ih1 = np.random.uniform(-0.01, 0.01, size=(feature, encoding_layer1))\n",
    "    iterations = 0\n",
    "    while iterations < max_iter:\n",
    "        z_weight =[]\n",
    "        for i in range(df.shape[0]):\n",
    "            #Input to Encoding Layer(Hidden Layer)\n",
    "            z_h1 = []\n",
    "            for h1 in range(encoding_layer1):\n",
    "                z_h1.append(sigmoid(np.dot(w_j[h1], df.T[i])))\n",
    "            z_weight.append(z_h1)\n",
    "            y_i_h1=[]\n",
    "            for j in range(feature):\n",
    "                y_i_h1.append(np.dot(v_ih1[j], z_h1))\n",
    "            delta_vi_h1 = np.zeros(shape=(feature, encoding_layer1))\n",
    "            for j in range(feature):\n",
    "                gd_h1 = learning_rate*(df.iloc[i][j] - y_i_h1[j]) \n",
    "                gd_v_h1 = [gd_h1* x for x in z_h1]\n",
    "                delta_vi_h1[j]=  delta_vi_h1[j] + gd_v_h1\n",
    "            delta_w_h1 = np.zeros(shape=(encoding_layer1, feature))\n",
    "            for h1 in range(encoding_layer1):\n",
    "                weight_sum = []\n",
    "                for j in range(feature):\n",
    "                    weight_sum.append((df.iloc[i][j] - y_i_h1[j])*v_ih1[j][h1])\n",
    "                delta_w_h1[h1] = delta_w_h1[h1] + learning_rate*np.sum(weight_sum)*z_h1[h1]*(1-z_h1[h1])* df.T[i]\n",
    "            for j in range(feature):\n",
    "                v_ih1[j] = v_ih1[j] + delta_vi_h1[j]\n",
    "            for h1 in range(encoding_layer1):\n",
    "                w_j[h1] = w_j[h1]+delta_w_h1[h1]\n",
    "        iterations += 1    \n",
    "    return w_j, z_weight"
   ]
  },
  {
   "cell_type": "markdown",
   "metadata": {
    "id": "mUc341LoggzH"
   },
   "source": [
    "### Classification"
   ]
  },
  {
   "cell_type": "code",
   "execution_count": null,
   "metadata": {
    "id": "gwOwZrLnggzM"
   },
   "outputs": [],
   "source": [
    "# Autoencoder classification \n",
    "# It uses weight from autoencoder function above. \n",
    "# It uses feedforward with backpropagation for hidden layer to output layer.\n",
    "\n",
    "def autoencoder_classification(df, class_df,  hidden_layer, max_iter, learning_rate):\n",
    "    classes = len(class_df.columns)\n",
    "    w_j = np.random.uniform(-0.01, 0.01, size=(hidden_layer, len(df.columns)))\n",
    "    v_ih = np.random.uniform(-0.01, 0.01, size=(classes, hidden_layer))\n",
    "    iterations = 0\n",
    "    while iterations < max_iter:\n",
    "        for i in range(df.shape[0]):\n",
    "            z_h = []\n",
    "            for e1 in range(hidden_layer):\n",
    "                z_h.append(sigmoid(np.dot(w_j[e1], df.T[i])))\n",
    "            y_i_h=[]\n",
    "            for j in range(classes):\n",
    "                y_i_h.append(np.dot(v_ih[j], z_h))\n",
    "            delta_vi_h = np.zeros(shape=(classes, hidden_layer))\n",
    "            for j in range(classes):\n",
    "                gd_h = learning_rate*(class_df.iloc[i].values[j] - y_i_h[j]) \n",
    "                gd_v_h = [gd_h* x for x in z_h]\n",
    "                delta_vi_h[j]=  delta_vi_h[j] + gd_v_h\n",
    "            delta_w_h = np.zeros(shape=(hidden_layer, len(df.columns)))\n",
    "            for e1 in range(hidden_layer):\n",
    "                weight_sum = []\n",
    "                for j in range(classes):\n",
    "                    weight_sum.append((class_df.iloc[i].values[j] - y_i_h[j])*v_ih[j][e1])\n",
    "                delta_w_h[e1] = delta_w_h[e1] + learning_rate*np.sum(weight_sum)*z_h[e1]*(1-z_h[e1])* df.T[i]\n",
    "            for j in range(classes):\n",
    "                v_ih[j] = v_ih[j] + delta_vi_h[j]\n",
    "            for e1 in range(hidden_layer):\n",
    "                w_j[e1] = w_j[e1]+delta_w_h[e1]\n",
    "        iterations+=1\n",
    "    return w_j, v_ih"
   ]
  },
  {
   "cell_type": "code",
   "execution_count": null,
   "metadata": {
    "id": "clBni-HdggzN"
   },
   "outputs": [],
   "source": [
    "# Autoencoder Feedforward backpropagation\n",
    "# After it constructs the network using autoencoder,\n",
    "#  it trains with feedforward with backpropagation that has two hidden layer from above. \n",
    "# It takes initial weight, weight of encoding layer, weight of hidden layer for feedforward with backpropagation.\n",
    "\n",
    "def BP_encoding_class(df, class_df, w_j, v_ih1, v_ih2,  max_iter, learning_rate):\n",
    "    feature = len(df.columns)\n",
    "    classes = len(class_df.columns)\n",
    "    hidden_layer1 = len(w_j)\n",
    "    hidden_layer2 = len(v_ih1)\n",
    "    iteration = 0\n",
    "    while iteration < max_iter:\n",
    "        for i in range(df.shape[0]):\n",
    "            #Input to First Hidden Layer\n",
    "            z_h1 = []\n",
    "            for h1 in range(hidden_layer1):\n",
    "                z_h1.append(sigmoid(np.dot(w_j[h1], df.T[i])))\n",
    "            y_i_h1=[]\n",
    "            for j in range(classes):\n",
    "                y_i_h1.append(np.dot(v_ih1[j], z_h1))\n",
    "            delta_vi_h1 = np.zeros(shape=(classes, hidden_layer1))\n",
    "            for j in range(classes):\n",
    "                gd_h1 = learning_rate*(class_df.loc[i].values[j] - y_i_h1[j]) \n",
    "                gd_v_h1 = [gd_h1* x for x in z_h1]\n",
    "                delta_vi_h1[j]=  delta_vi_h1[j] + gd_v_h1\n",
    "            delta_w_h1 = np.zeros(shape=(hidden_layer1, feature))\n",
    "            for h1 in range(hidden_layer1):\n",
    "                weight_sum = []\n",
    "                for j in range(classes):\n",
    "                    weight_sum.append((class_df.loc[i].values[j] - y_i_h1[j])*v_ih1[j][h1])\n",
    "                delta_w_h1[h1] = delta_w_h1[h1] + learning_rate*np.sum(weight_sum)*z_h1[h1]*(1-z_h1[h1])* df.T[i]\n",
    "            for j in range(classes):\n",
    "                v_ih1[j] = v_ih1[j] + delta_vi_h1[j]\n",
    "            for h1 in range(hidden_layer1):\n",
    "                w_j[h1] = w_j[h1]+delta_w_h1[h1]\n",
    "            #First Hidden layer to Second hidden Layer\n",
    "            z_h2 = []\n",
    "            for h2 in range(hidden_layer2):\n",
    "                z_h2.append(sigmoid(np.dot(v_ih1[h2], z_h1)))\n",
    "            y_i_h2=[]\n",
    "            for j in range(classes):\n",
    "                y_i_h2.append(np.dot(v_ih2[j], z_h2))\n",
    "            delta_vi_h2 = np.zeros(shape=(classes, hidden_layer2))\n",
    "            for j in range(classes):\n",
    "                gd_h2 = learning_rate*(class_df.loc[i].values[j] - y_i_h2[j]) \n",
    "                gd_v_h2 = [gd_h2* x for x in z_h2]\n",
    "                delta_vi_h2[j]=  delta_vi_h2[j] + gd_v_h2\n",
    "            delta_w_h2 = np.zeros(shape=(hidden_layer2, hidden_layer1))\n",
    "            for h2 in range(hidden_layer2):\n",
    "                weight_sum = []\n",
    "                for j in range(classes):\n",
    "                    weight_sum.append((class_df.loc[i].values[j] - y_i_h2[j])*v_ih2[j][h2])\n",
    "                w_h2 = learning_rate*np.sum(weight_sum)*z_h2[h2]*(1-z_h2[h2])\n",
    "                gd_w_h2 = [w_h2* x for x in z_h1]\n",
    "                delta_w_h2[h2] = delta_w_h2[h2] + gd_w_h2\n",
    "            for j in range(classes):\n",
    "                v_ih2[j] = v_ih2[j] + delta_vi_h2[j]\n",
    "            for h2 in range(hidden_layer2):\n",
    "                v_ih1[h2] = v_ih1[h2]+delta_w_h2[h2]\n",
    "        iteration+=1\n",
    "    return w_j, v_ih1, v_ih2"
   ]
  },
  {
   "cell_type": "code",
   "execution_count": null,
   "metadata": {
    "id": "63PggIPQggzP"
   },
   "outputs": [],
   "source": [
    "# Evalute Autoencoder Feedforward with backpropagation for classification\n",
    "# 1. It normalizes the train and test dataset.\n",
    "# 2. It gets class dataframe by converting categorical variable into indicator variables.\n",
    "# 3. It gets encoding weight and z_h weight using autoencoder.\n",
    "# 4. It gets hidden weight and output weight using autoencoder classification.\n",
    "# 5. Using encoding weight, hidden weight, and output weight, it trains network with backpropagation (BP_encoding_class)\n",
    "# 4. It predicts the output.\n",
    "# 5. It evaluated the performance by computing accuracy score.\n",
    "\n",
    "def autoencoding_FFBP_classification(df, test_df, predictor, encoding_node, hidden_node, max_iter, learning_rate, method):\n",
    "    normalized_train, normalized_test  = normalize(df, test_df, predictor)\n",
    "    class_df = pd.get_dummies(df[predictor])\n",
    "    new_train_df = normalized_train[normalized_train.columns[normalized_train.columns!=predictor]]\n",
    "    encoding_weight, z_hweight= autoencoder(new_train_df, encoding_node, max_iter, learning_rate)\n",
    "    z_hweight_df = pd.DataFrame(z_hweight)\n",
    "    hidden_weight , output_weight = autoencoder_classification(z_hweight_df, class_df,  hidden_node, max_iter, learning_rate)\n",
    "    new_test_df = normalized_test.drop(predictor, axis=1)\n",
    "    weight, hidden_layer1, hidden_layer2 = BP_encoding_class(new_train_df, class_df, encoding_weight, hidden_weight, output_weight, max_iter, learning_rate)\n",
    "    backprop_prediction = predict_FFBP_classification(new_test_df, class_df.columns, encoding_node, hidden_node, weight, hidden_layer1, hidden_layer2)\n",
    "    score = evaluation_metrics(test_df[predictor].values, backprop_prediction, method)\n",
    "    score = round(score*100,2)\n",
    "    return score"
   ]
  },
  {
   "cell_type": "code",
   "execution_count": null,
   "metadata": {
    "id": "ejE1wMe5ggzQ"
   },
   "outputs": [],
   "source": [
    "# Autoencoder Feedforward backpropagation for 5-fold cross validation\n",
    "# It uses 80% of the dataset for 5-fold cross validation, and gets the accuracy score for each fold.\n",
    "\n",
    "def autoencoder_classification_fold(df, predictor, encoding_node, hidden_node,  max_iter, learning_rate, method):\n",
    "    score_list = []\n",
    "    for i in range(0, len(df)):\n",
    "        k_validate = pd.concat([x for j,x in enumerate(df) if j!=i])\n",
    "        k_validate = k_validate.reset_index(drop=True)\n",
    "        score = autoencoding_FFBP_classification(k_validate, df[i], predictor, encoding_node, hidden_node, max_iter, learning_rate, method)\n",
    "        score_list.append(score)\n",
    "    return score_list"
   ]
  },
  {
   "cell_type": "code",
   "execution_count": null,
   "metadata": {
    "id": "QVFcKJQ_ggzR"
   },
   "outputs": [],
   "source": [
    "# Tuning Autoencoder Feedforward backpropagation for classification\n",
    "# It uses 20% of the dataset for tuning. \n",
    "# It finds the best parameter combination of maximum iteration, learning rate, encoding node, hidden node.\n",
    "\n",
    "def tuning_autoencoder_classification(df, max_iter_list, learning_rate_list, encoding_node_list, hidden_node_list, predictor, method):\n",
    "    best_candidate = []\n",
    "    parameter_list =[]\n",
    "    for i in range(len(max_iter_list)):\n",
    "        for j in range(len(learning_rate_list)):\n",
    "            for k in range(len(encoding_node_list)):\n",
    "                for m in range(len(hidden_node_list)):\n",
    "                    parameter_list.append([i,j, k, m])\n",
    "                    best_candidate.append(np.mean(autoencoder_classification_fold(df, \n",
    "                                                                               predictor, \n",
    "                                                                               encoding_node_list[k], \n",
    "                                                                               hidden_node_list[m], \n",
    "                                                                               max_iter_list[i], \n",
    "                                                                               learning_rate_list[j], \n",
    "                                                                               method)))     \n",
    "    best_parameter =best_candidate.index(max(best_candidate))\n",
    "    best_max_iter = max_iter_list[parameter_list[best_parameter][0]]\n",
    "    best_learning_rate = learning_rate_list[parameter_list[best_parameter][1]]\n",
    "    best_encoding_node =encoding_node_list[parameter_list[best_parameter][2]]\n",
    "    best_hidden_node = hidden_node_list[parameter_list[best_parameter][3]]\n",
    "    return best_learning_rate, best_max_iter, best_encoding_node, best_hidden_node"
   ]
  },
  {
   "cell_type": "markdown",
   "metadata": {
    "id": "jk5fwRRBggzR"
   },
   "source": [
    "### Regression"
   ]
  },
  {
   "cell_type": "code",
   "execution_count": null,
   "metadata": {
    "id": "4jwujFzGggzS"
   },
   "outputs": [],
   "source": [
    "# Just like Autoencoder classification, Autoencoder_regression works almost same way. \n",
    "# It uses weight from autoencoder function above. \n",
    "# It uses feedforward with backpropagation for hidden layer to output layer.\n",
    "\n",
    "def autoencoder_regression(df, class_df, hidden_layer, max_iter, learning_rate):\n",
    "    w_j = np.random.uniform(-0.01, 0.01, size=(hidden_layer, len(df.columns)))\n",
    "    v_ih  = np.random.uniform(-0.01, 0.01, size=(1, hidden_layer))\n",
    "    iteration = 0\n",
    "    while iteration < max_iter:\n",
    "        for i in range(df.shape[0]):\n",
    "            z_h1 = []\n",
    "            for h1 in range(hidden_layer):\n",
    "                z_h1.append(sigmoid(np.dot(w_j[h1],df.T[i])))\n",
    "            y_i_h1 = (np.dot(v_ih, z_h1))\n",
    "            delta_v_i_1 = learning_rate *(class_df[i]- y_i_h1)*z_h1\n",
    "            delta_wh_1 = np.zeros(shape=(hidden_layer, len(df.columns)))\n",
    "            for h1 in range(hidden_layer):\n",
    "                gd_w_j_sum_h1 = (class_df[i] - y_i_h1)*delta_v_i_1[h1]\n",
    "                delta_wh_1[h1] = delta_wh_1[h1] + learning_rate*np.sum(gd_w_j_sum_h1)*z_h1[h1]*(1-z_h1[h1])* df.T[i]\n",
    "            v_ih  = v_ih+delta_v_i_1\n",
    "            for h1 in range(hidden_layer):\n",
    "                w_j[h1] = w_j[h1]+delta_wh_1[h1]\n",
    "        iteration+=1\n",
    "    return w_j, v_ih"
   ]
  },
  {
   "cell_type": "code",
   "execution_count": null,
   "metadata": {
    "id": "I2sz-okoggzS"
   },
   "outputs": [],
   "source": [
    "# Autoencoder Feedforward backpropagation\n",
    "# After it constructs the network using autoencoder,\n",
    "#  it trains with feedforward with backpropagation that has two hidden layer from above. \n",
    "# It takes initial weight, weight of encoding layer, weight of hidden layer for feedforward with backpropagation.\n",
    "\n",
    "def BP_encoding_regression(df, class_df, weight, h1_layer, h2_layer, max_iter, learning_rate):\n",
    "    feature = len(df.columns)\n",
    "    hidden_layer1 = len(weight)\n",
    "    hidden_layer2 = len(h1_layer)\n",
    "    iteration = 0\n",
    "    while iteration < max_iter:\n",
    "        for i in range(df.shape[0]):\n",
    "            #First layer\n",
    "            z_h1 = []\n",
    "            for h1 in range(hidden_layer1):\n",
    "                z_h1.append(sigmoid(np.dot(weight[h1],df.T[i])))\n",
    "            y_i_h1 = (np.dot(h1_layer, z_h1))\n",
    "            delta_v_i_1 = np.zeros(shape=(hidden_layer2, hidden_layer1))\n",
    "            for h2 in range(hidden_layer2):\n",
    "                gd_h1 = learning_rate*(class_df[i] - y_i_h1[h2]) \n",
    "                gd_v_h1 = [gd_h1* x for x in z_h1]\n",
    "                delta_v_i_1[h2]=  delta_v_i_1[h2] + gd_v_h1\n",
    "            delta_wh_1 = np.zeros(shape=(hidden_layer1, feature))\n",
    "            for h1 in range(hidden_layer1):\n",
    "                for h2 in range(hidden_layer2):\n",
    "                    gd_weight_sum_h1 = (class_df[i] - y_i_h1)*delta_v_i_1[h2][h1]\n",
    "                    delta_wh_1[h1] = delta_wh_1[h1] + learning_rate*np.sum(gd_weight_sum_h1)*z_h1[h1]*(1-z_h1[h1])* df.T[i]\n",
    "            for h2 in range(hidden_layer2):\n",
    "                h1_layer[h2]  = h1_layer[h2] +delta_v_i_1[h2]\n",
    "            for h1 in range(hidden_layer1):\n",
    "                weight[h1] = weight[h1]+delta_wh_1[h1]\n",
    "            #Second Layer \n",
    "            z_h2 = []\n",
    "            for h2 in range(hidden_layer2):\n",
    "                z_h2.append(sigmoid(np.dot(h1_layer[h2],z_h1)))\n",
    "            y_i_h2 = (np.dot(h2_layer, z_h2))\n",
    "            delta_v_i_2 = learning_rate *(class_df[i]- y_i_h2)*z_h2\n",
    "            delta_wh_2 = np.zeros(shape=(hidden_layer2, hidden_layer1))\n",
    "            for h2 in range(hidden_layer2):\n",
    "                gd_w_h2 = (class_df[i] - y_i_h2)*delta_v_i_2[h2]\n",
    "                weight_sum_h2 = learning_rate*np.sum(gd_w_h2)*z_h2[h2]*(1-z_h2[h2])\n",
    "                weight_h2 = [weight_sum_h2* x for x in z_h1]\n",
    "                delta_wh_2[h2] = delta_wh_2[h2] + weight_h2 \n",
    "            h2_layer  = h2_layer+delta_v_i_2\n",
    "            for h2 in range(hidden_layer2):\n",
    "                h1_layer[h2] = h1_layer[h2]+delta_wh_2[h2]\n",
    "        iteration+=1\n",
    "    return weight, h1_layer, h2_layer"
   ]
  },
  {
   "cell_type": "code",
   "execution_count": null,
   "metadata": {
    "id": "qpU7hKixggzT"
   },
   "outputs": [],
   "source": [
    "# Evalute Autoencoder Feedforward with backpropagation for regression\n",
    "# 1. It normalizes the train and test dataset.\n",
    "# 2. It gets class dataframe by converting categorical variable into indicator variables.\n",
    "# 3. It gets encoding weight and z_h weight using autoencoder.\n",
    "# 4. It gets hidden weight and output weight using autoencoder regression.\n",
    "# 5. Using encoding weight, hidden weight, and output weight, it trains network with backpropagation (BP_encoding_regression)\n",
    "# 4. It predicts the output.\n",
    "# 5. It evaluated the performance by computing accuracy score.\n",
    "\n",
    "def autoencoding_FFBP_regression(df, test_df, predictor, encoding_node, hidden_node, max_iter, learning_rate, method):\n",
    "    normalized_train, normalized_test  = normalize(df, test_df, predictor)\n",
    "    class_df = normalized_train[predictor].values\n",
    "    new_train_df = normalized_train[normalized_train.columns[normalized_train.columns!=predictor]]\n",
    "    encoding_weight, z_weight= autoencoder(new_train_df, encoding_node, max_iter, learning_rate)\n",
    "    z_weight_df = pd.DataFrame(z_weight)\n",
    "    hidden_weight , output_weight = autoencoder_regression(z_weight_df, class_df,  hidden_node, max_iter, learning_rate)\n",
    "    new_test_df = normalized_test.drop(predictor, axis=1)\n",
    "    weight, hidden_layer1, hidden_layer2 = BP_encoding_regression(new_train_df, class_df, encoding_weight, hidden_weight, output_weight, max_iter, learning_rate) \n",
    "    backprop_prediction = predict_FFBP_regression(new_test_df, weight, encoding_node, hidden_node,  hidden_layer1, hidden_layer2)\n",
    "    score= evaluation_metrics(test_df[predictor].values, backprop_prediction, method)\n",
    "    score = round(score, 2)\n",
    "    return score"
   ]
  },
  {
   "cell_type": "code",
   "execution_count": null,
   "metadata": {
    "id": "ZogcDwfZggzT"
   },
   "outputs": [],
   "source": [
    "# Autoencoder Feedforward backpropagation for 5-fold cross validation\n",
    "# It uses 80% of the dataset for 5-fold cross validation, and gets the accuracy score for each fold.\n",
    "\n",
    "def autoencoder_regression_fold(df, predictor, encoding_node, hidden_node,  max_iter, learning_rate, method):\n",
    "    score_list = []\n",
    "    for i in range(0, len(df)):\n",
    "        k_validate = pd.concat([x for j,x in enumerate(df) if j!=i])\n",
    "        k_validate = k_validate.reset_index(drop=True)\n",
    "        score = autoencoding_FFBP_regression(k_validate, df[i], predictor, encoding_node, hidden_node, max_iter, learning_rate, method)\n",
    "        score_list.append(score)\n",
    "    return score_list"
   ]
  },
  {
   "cell_type": "code",
   "execution_count": null,
   "metadata": {
    "id": "1RGo4oGjggzT"
   },
   "outputs": [],
   "source": [
    "# Tuning Autoencoder Feedforward backpropagation for regression\n",
    "# It uses 20% of the dataset for tuning. \n",
    "# It finds the best parameter combination of maximum iteration, learning rate, encoding node, hidden node.\n",
    "\n",
    "def tuning_autoencoder_regression(df, max_iter_list, learning_rate_list, encoding_node_list, hidden_node_list, predictor, method):\n",
    "    best_candidate = []\n",
    "    parameter_list =[]\n",
    "    for i in range(len(max_iter_list)):\n",
    "        for j in range(len(learning_rate_list)):\n",
    "            for k in range(len(encoding_node_list)):\n",
    "                for m in range(len(hidden_node_list)):\n",
    "                    parameter_list.append([i,j, k, m])\n",
    "                    best_candidate.append(np.mean(autoencoder_regression_fold(df, \n",
    "                                                                               predictor, \n",
    "                                                                               encoding_node_list[k], \n",
    "                                                                               hidden_node_list[m], \n",
    "                                                                               max_iter_list[i], \n",
    "                                                                               learning_rate_list[j], \n",
    "                                                                               method)))     \n",
    "    best_parameter =best_candidate.index(min(best_candidate))\n",
    "    best_max_iter = max_iter_list[parameter_list[best_parameter][0]]\n",
    "    best_learning_rate = learning_rate_list[parameter_list[best_parameter][1]]\n",
    "    best_encoding_node =encoding_node_list[parameter_list[best_parameter][2]]\n",
    "    best_hidden_node = hidden_node_list[parameter_list[best_parameter][3]]\n",
    "    return best_learning_rate, best_max_iter, best_encoding_node, best_hidden_node"
   ]
  },
  {
   "cell_type": "markdown",
   "metadata": {
    "id": "xlSCn0ALqq3S"
   },
   "source": [
    "## Breast Cancer Wisconsin Dataset"
   ]
  },
  {
   "cell_type": "code",
   "execution_count": null,
   "metadata": {
    "colab": {
     "base_uri": "https://localhost:8080/",
     "height": 207
    },
    "id": "KXT87EuSqq3T",
    "outputId": "3457599b-8e32-4ec5-e736-900f80c9dfc3"
   },
   "outputs": [
    {
     "data": {
      "text/html": [
       "\n",
       "  <div id=\"df-dedae7ca-177a-45b0-8fb6-ea7f03279901\">\n",
       "    <div class=\"colab-df-container\">\n",
       "      <div>\n",
       "<style scoped>\n",
       "    .dataframe tbody tr th:only-of-type {\n",
       "        vertical-align: middle;\n",
       "    }\n",
       "\n",
       "    .dataframe tbody tr th {\n",
       "        vertical-align: top;\n",
       "    }\n",
       "\n",
       "    .dataframe thead th {\n",
       "        text-align: right;\n",
       "    }\n",
       "</style>\n",
       "<table border=\"1\" class=\"dataframe\">\n",
       "  <thead>\n",
       "    <tr style=\"text-align: right;\">\n",
       "      <th></th>\n",
       "      <th>sample_code_number</th>\n",
       "      <th>clump_thickness</th>\n",
       "      <th>uniformity_cell_size</th>\n",
       "      <th>uniformity_cell_shape</th>\n",
       "      <th>marginal_adhesion</th>\n",
       "      <th>single_epithelial_cell_size</th>\n",
       "      <th>bare_nuclei</th>\n",
       "      <th>bland_chromatin</th>\n",
       "      <th>normal_nucleoli</th>\n",
       "      <th>mitosis</th>\n",
       "      <th>class</th>\n",
       "    </tr>\n",
       "  </thead>\n",
       "  <tbody>\n",
       "    <tr>\n",
       "      <th>0</th>\n",
       "      <td>1000025</td>\n",
       "      <td>5</td>\n",
       "      <td>1</td>\n",
       "      <td>1</td>\n",
       "      <td>1</td>\n",
       "      <td>2</td>\n",
       "      <td>1</td>\n",
       "      <td>3</td>\n",
       "      <td>1</td>\n",
       "      <td>1</td>\n",
       "      <td>2</td>\n",
       "    </tr>\n",
       "    <tr>\n",
       "      <th>1</th>\n",
       "      <td>1002945</td>\n",
       "      <td>5</td>\n",
       "      <td>4</td>\n",
       "      <td>4</td>\n",
       "      <td>5</td>\n",
       "      <td>7</td>\n",
       "      <td>10</td>\n",
       "      <td>3</td>\n",
       "      <td>2</td>\n",
       "      <td>1</td>\n",
       "      <td>2</td>\n",
       "    </tr>\n",
       "    <tr>\n",
       "      <th>2</th>\n",
       "      <td>1015425</td>\n",
       "      <td>3</td>\n",
       "      <td>1</td>\n",
       "      <td>1</td>\n",
       "      <td>1</td>\n",
       "      <td>2</td>\n",
       "      <td>2</td>\n",
       "      <td>3</td>\n",
       "      <td>1</td>\n",
       "      <td>1</td>\n",
       "      <td>2</td>\n",
       "    </tr>\n",
       "  </tbody>\n",
       "</table>\n",
       "</div>\n",
       "      <button class=\"colab-df-convert\" onclick=\"convertToInteractive('df-dedae7ca-177a-45b0-8fb6-ea7f03279901')\"\n",
       "              title=\"Convert this dataframe to an interactive table.\"\n",
       "              style=\"display:none;\">\n",
       "        \n",
       "  <svg xmlns=\"http://www.w3.org/2000/svg\" height=\"24px\"viewBox=\"0 0 24 24\"\n",
       "       width=\"24px\">\n",
       "    <path d=\"M0 0h24v24H0V0z\" fill=\"none\"/>\n",
       "    <path d=\"M18.56 5.44l.94 2.06.94-2.06 2.06-.94-2.06-.94-.94-2.06-.94 2.06-2.06.94zm-11 1L8.5 8.5l.94-2.06 2.06-.94-2.06-.94L8.5 2.5l-.94 2.06-2.06.94zm10 10l.94 2.06.94-2.06 2.06-.94-2.06-.94-.94-2.06-.94 2.06-2.06.94z\"/><path d=\"M17.41 7.96l-1.37-1.37c-.4-.4-.92-.59-1.43-.59-.52 0-1.04.2-1.43.59L10.3 9.45l-7.72 7.72c-.78.78-.78 2.05 0 2.83L4 21.41c.39.39.9.59 1.41.59.51 0 1.02-.2 1.41-.59l7.78-7.78 2.81-2.81c.8-.78.8-2.07 0-2.86zM5.41 20L4 18.59l7.72-7.72 1.47 1.35L5.41 20z\"/>\n",
       "  </svg>\n",
       "      </button>\n",
       "      \n",
       "  <style>\n",
       "    .colab-df-container {\n",
       "      display:flex;\n",
       "      flex-wrap:wrap;\n",
       "      gap: 12px;\n",
       "    }\n",
       "\n",
       "    .colab-df-convert {\n",
       "      background-color: #E8F0FE;\n",
       "      border: none;\n",
       "      border-radius: 50%;\n",
       "      cursor: pointer;\n",
       "      display: none;\n",
       "      fill: #1967D2;\n",
       "      height: 32px;\n",
       "      padding: 0 0 0 0;\n",
       "      width: 32px;\n",
       "    }\n",
       "\n",
       "    .colab-df-convert:hover {\n",
       "      background-color: #E2EBFA;\n",
       "      box-shadow: 0px 1px 2px rgba(60, 64, 67, 0.3), 0px 1px 3px 1px rgba(60, 64, 67, 0.15);\n",
       "      fill: #174EA6;\n",
       "    }\n",
       "\n",
       "    [theme=dark] .colab-df-convert {\n",
       "      background-color: #3B4455;\n",
       "      fill: #D2E3FC;\n",
       "    }\n",
       "\n",
       "    [theme=dark] .colab-df-convert:hover {\n",
       "      background-color: #434B5C;\n",
       "      box-shadow: 0px 1px 3px 1px rgba(0, 0, 0, 0.15);\n",
       "      filter: drop-shadow(0px 1px 2px rgba(0, 0, 0, 0.3));\n",
       "      fill: #FFFFFF;\n",
       "    }\n",
       "  </style>\n",
       "\n",
       "      <script>\n",
       "        const buttonEl =\n",
       "          document.querySelector('#df-dedae7ca-177a-45b0-8fb6-ea7f03279901 button.colab-df-convert');\n",
       "        buttonEl.style.display =\n",
       "          google.colab.kernel.accessAllowed ? 'block' : 'none';\n",
       "\n",
       "        async function convertToInteractive(key) {\n",
       "          const element = document.querySelector('#df-dedae7ca-177a-45b0-8fb6-ea7f03279901');\n",
       "          const dataTable =\n",
       "            await google.colab.kernel.invokeFunction('convertToInteractive',\n",
       "                                                     [key], {});\n",
       "          if (!dataTable) return;\n",
       "\n",
       "          const docLinkHtml = 'Like what you see? Visit the ' +\n",
       "            '<a target=\"_blank\" href=https://colab.research.google.com/notebooks/data_table.ipynb>data table notebook</a>'\n",
       "            + ' to learn more about interactive tables.';\n",
       "          element.innerHTML = '';\n",
       "          dataTable['output_type'] = 'display_data';\n",
       "          await google.colab.output.renderOutput(dataTable, element);\n",
       "          const docLink = document.createElement('div');\n",
       "          docLink.innerHTML = docLinkHtml;\n",
       "          element.appendChild(docLink);\n",
       "        }\n",
       "      </script>\n",
       "    </div>\n",
       "  </div>\n",
       "  "
      ],
      "text/plain": [
       "   sample_code_number  clump_thickness  uniformity_cell_size  \\\n",
       "0             1000025                5                     1   \n",
       "1             1002945                5                     4   \n",
       "2             1015425                3                     1   \n",
       "\n",
       "   uniformity_cell_shape  marginal_adhesion  single_epithelial_cell_size  \\\n",
       "0                      1                  1                            2   \n",
       "1                      4                  5                            7   \n",
       "2                      1                  1                            2   \n",
       "\n",
       "  bare_nuclei  bland_chromatin  normal_nucleoli  mitosis  class  \n",
       "0           1                3                1        1      2  \n",
       "1          10                3                2        1      2  \n",
       "2           2                3                1        1      2  "
      ]
     },
     "execution_count": 61,
     "metadata": {},
     "output_type": "execute_result"
    }
   ],
   "source": [
    "breast_cancer_dataset = open_csv_dataset('breast-cancer', True)\n",
    "breast_cancer_dataset.head(3)"
   ]
  },
  {
   "cell_type": "code",
   "execution_count": null,
   "metadata": {
    "id": "4s410Fkaqq3T"
   },
   "outputs": [],
   "source": [
    "clean_breast_cancer_dataset = handling_missing_values(breast_cancer_dataset)"
   ]
  },
  {
   "cell_type": "code",
   "execution_count": null,
   "metadata": {
    "colab": {
     "base_uri": "https://localhost:8080/"
    },
    "id": "MS-NDbJuqq3T",
    "outputId": "63927d5b-5091-4f8e-8d14-dc17d164f3a7"
   },
   "outputs": [
    {
     "data": {
      "text/plain": [
       "False"
      ]
     },
     "execution_count": 63,
     "metadata": {},
     "output_type": "execute_result"
    }
   ],
   "source": [
    "clean_breast_cancer_dataset.isnull().sum().any()"
   ]
  },
  {
   "cell_type": "code",
   "execution_count": null,
   "metadata": {
    "colab": {
     "base_uri": "https://localhost:8080/",
     "height": 270
    },
    "id": "IlCrg4Gtqq3U",
    "outputId": "01b7d8c0-8fa5-4baa-e7fc-18ae86708222"
   },
   "outputs": [
    {
     "data": {
      "text/html": [
       "\n",
       "  <div id=\"df-3f4c9233-a350-4a05-a555-d1838f3f2650\">\n",
       "    <div class=\"colab-df-container\">\n",
       "      <div>\n",
       "<style scoped>\n",
       "    .dataframe tbody tr th:only-of-type {\n",
       "        vertical-align: middle;\n",
       "    }\n",
       "\n",
       "    .dataframe tbody tr th {\n",
       "        vertical-align: top;\n",
       "    }\n",
       "\n",
       "    .dataframe thead th {\n",
       "        text-align: right;\n",
       "    }\n",
       "</style>\n",
       "<table border=\"1\" class=\"dataframe\">\n",
       "  <thead>\n",
       "    <tr style=\"text-align: right;\">\n",
       "      <th></th>\n",
       "      <th>sample_code_number</th>\n",
       "      <th>clump_thickness</th>\n",
       "      <th>uniformity_cell_size</th>\n",
       "      <th>uniformity_cell_shape</th>\n",
       "      <th>marginal_adhesion</th>\n",
       "      <th>single_epithelial_cell_size</th>\n",
       "      <th>bare_nuclei</th>\n",
       "      <th>bland_chromatin</th>\n",
       "      <th>normal_nucleoli</th>\n",
       "      <th>mitosis</th>\n",
       "      <th>class</th>\n",
       "    </tr>\n",
       "  </thead>\n",
       "  <tbody>\n",
       "    <tr>\n",
       "      <th>0</th>\n",
       "      <td>1000025</td>\n",
       "      <td>5</td>\n",
       "      <td>1</td>\n",
       "      <td>1</td>\n",
       "      <td>1</td>\n",
       "      <td>2</td>\n",
       "      <td>1.0</td>\n",
       "      <td>3</td>\n",
       "      <td>1</td>\n",
       "      <td>1</td>\n",
       "      <td>2</td>\n",
       "    </tr>\n",
       "    <tr>\n",
       "      <th>1</th>\n",
       "      <td>1002945</td>\n",
       "      <td>5</td>\n",
       "      <td>4</td>\n",
       "      <td>4</td>\n",
       "      <td>5</td>\n",
       "      <td>7</td>\n",
       "      <td>10.0</td>\n",
       "      <td>3</td>\n",
       "      <td>2</td>\n",
       "      <td>1</td>\n",
       "      <td>2</td>\n",
       "    </tr>\n",
       "    <tr>\n",
       "      <th>2</th>\n",
       "      <td>1015425</td>\n",
       "      <td>3</td>\n",
       "      <td>1</td>\n",
       "      <td>1</td>\n",
       "      <td>1</td>\n",
       "      <td>2</td>\n",
       "      <td>2.0</td>\n",
       "      <td>3</td>\n",
       "      <td>1</td>\n",
       "      <td>1</td>\n",
       "      <td>2</td>\n",
       "    </tr>\n",
       "    <tr>\n",
       "      <th>3</th>\n",
       "      <td>1016277</td>\n",
       "      <td>6</td>\n",
       "      <td>8</td>\n",
       "      <td>8</td>\n",
       "      <td>1</td>\n",
       "      <td>3</td>\n",
       "      <td>4.0</td>\n",
       "      <td>3</td>\n",
       "      <td>7</td>\n",
       "      <td>1</td>\n",
       "      <td>2</td>\n",
       "    </tr>\n",
       "    <tr>\n",
       "      <th>4</th>\n",
       "      <td>1017023</td>\n",
       "      <td>4</td>\n",
       "      <td>1</td>\n",
       "      <td>1</td>\n",
       "      <td>3</td>\n",
       "      <td>2</td>\n",
       "      <td>1.0</td>\n",
       "      <td>3</td>\n",
       "      <td>1</td>\n",
       "      <td>1</td>\n",
       "      <td>2</td>\n",
       "    </tr>\n",
       "  </tbody>\n",
       "</table>\n",
       "</div>\n",
       "      <button class=\"colab-df-convert\" onclick=\"convertToInteractive('df-3f4c9233-a350-4a05-a555-d1838f3f2650')\"\n",
       "              title=\"Convert this dataframe to an interactive table.\"\n",
       "              style=\"display:none;\">\n",
       "        \n",
       "  <svg xmlns=\"http://www.w3.org/2000/svg\" height=\"24px\"viewBox=\"0 0 24 24\"\n",
       "       width=\"24px\">\n",
       "    <path d=\"M0 0h24v24H0V0z\" fill=\"none\"/>\n",
       "    <path d=\"M18.56 5.44l.94 2.06.94-2.06 2.06-.94-2.06-.94-.94-2.06-.94 2.06-2.06.94zm-11 1L8.5 8.5l.94-2.06 2.06-.94-2.06-.94L8.5 2.5l-.94 2.06-2.06.94zm10 10l.94 2.06.94-2.06 2.06-.94-2.06-.94-.94-2.06-.94 2.06-2.06.94z\"/><path d=\"M17.41 7.96l-1.37-1.37c-.4-.4-.92-.59-1.43-.59-.52 0-1.04.2-1.43.59L10.3 9.45l-7.72 7.72c-.78.78-.78 2.05 0 2.83L4 21.41c.39.39.9.59 1.41.59.51 0 1.02-.2 1.41-.59l7.78-7.78 2.81-2.81c.8-.78.8-2.07 0-2.86zM5.41 20L4 18.59l7.72-7.72 1.47 1.35L5.41 20z\"/>\n",
       "  </svg>\n",
       "      </button>\n",
       "      \n",
       "  <style>\n",
       "    .colab-df-container {\n",
       "      display:flex;\n",
       "      flex-wrap:wrap;\n",
       "      gap: 12px;\n",
       "    }\n",
       "\n",
       "    .colab-df-convert {\n",
       "      background-color: #E8F0FE;\n",
       "      border: none;\n",
       "      border-radius: 50%;\n",
       "      cursor: pointer;\n",
       "      display: none;\n",
       "      fill: #1967D2;\n",
       "      height: 32px;\n",
       "      padding: 0 0 0 0;\n",
       "      width: 32px;\n",
       "    }\n",
       "\n",
       "    .colab-df-convert:hover {\n",
       "      background-color: #E2EBFA;\n",
       "      box-shadow: 0px 1px 2px rgba(60, 64, 67, 0.3), 0px 1px 3px 1px rgba(60, 64, 67, 0.15);\n",
       "      fill: #174EA6;\n",
       "    }\n",
       "\n",
       "    [theme=dark] .colab-df-convert {\n",
       "      background-color: #3B4455;\n",
       "      fill: #D2E3FC;\n",
       "    }\n",
       "\n",
       "    [theme=dark] .colab-df-convert:hover {\n",
       "      background-color: #434B5C;\n",
       "      box-shadow: 0px 1px 3px 1px rgba(0, 0, 0, 0.15);\n",
       "      filter: drop-shadow(0px 1px 2px rgba(0, 0, 0, 0.3));\n",
       "      fill: #FFFFFF;\n",
       "    }\n",
       "  </style>\n",
       "\n",
       "      <script>\n",
       "        const buttonEl =\n",
       "          document.querySelector('#df-3f4c9233-a350-4a05-a555-d1838f3f2650 button.colab-df-convert');\n",
       "        buttonEl.style.display =\n",
       "          google.colab.kernel.accessAllowed ? 'block' : 'none';\n",
       "\n",
       "        async function convertToInteractive(key) {\n",
       "          const element = document.querySelector('#df-3f4c9233-a350-4a05-a555-d1838f3f2650');\n",
       "          const dataTable =\n",
       "            await google.colab.kernel.invokeFunction('convertToInteractive',\n",
       "                                                     [key], {});\n",
       "          if (!dataTable) return;\n",
       "\n",
       "          const docLinkHtml = 'Like what you see? Visit the ' +\n",
       "            '<a target=\"_blank\" href=https://colab.research.google.com/notebooks/data_table.ipynb>data table notebook</a>'\n",
       "            + ' to learn more about interactive tables.';\n",
       "          element.innerHTML = '';\n",
       "          dataTable['output_type'] = 'display_data';\n",
       "          await google.colab.output.renderOutput(dataTable, element);\n",
       "          const docLink = document.createElement('div');\n",
       "          docLink.innerHTML = docLinkHtml;\n",
       "          element.appendChild(docLink);\n",
       "        }\n",
       "      </script>\n",
       "    </div>\n",
       "  </div>\n",
       "  "
      ],
      "text/plain": [
       "   sample_code_number  clump_thickness  uniformity_cell_size  \\\n",
       "0             1000025                5                     1   \n",
       "1             1002945                5                     4   \n",
       "2             1015425                3                     1   \n",
       "3             1016277                6                     8   \n",
       "4             1017023                4                     1   \n",
       "\n",
       "   uniformity_cell_shape  marginal_adhesion  single_epithelial_cell_size  \\\n",
       "0                      1                  1                            2   \n",
       "1                      4                  5                            7   \n",
       "2                      1                  1                            2   \n",
       "3                      8                  1                            3   \n",
       "4                      1                  3                            2   \n",
       "\n",
       "   bare_nuclei  bland_chromatin  normal_nucleoli  mitosis  class  \n",
       "0          1.0                3                1        1      2  \n",
       "1         10.0                3                2        1      2  \n",
       "2          2.0                3                1        1      2  \n",
       "3          4.0                3                7        1      2  \n",
       "4          1.0                3                1        1      2  "
      ]
     },
     "execution_count": 64,
     "metadata": {},
     "output_type": "execute_result"
    }
   ],
   "source": [
    "clean_breast_cancer_dataset.head()"
   ]
  },
  {
   "cell_type": "code",
   "execution_count": null,
   "metadata": {
    "id": "qle_MuvLqq3W"
   },
   "outputs": [],
   "source": [
    "breast_cancer_dataset_v1  = clean_breast_cancer_dataset.copy()\n",
    "breast_cancer_dataset_v1 = breast_cancer_dataset_v1.drop(['sample_code_number'], axis=1)"
   ]
  },
  {
   "cell_type": "code",
   "execution_count": null,
   "metadata": {
    "colab": {
     "base_uri": "https://localhost:8080/",
     "height": 207
    },
    "id": "K7Z_OLfaqq3X",
    "outputId": "afd38f10-0527-427c-93ef-7b701c9a30ee"
   },
   "outputs": [
    {
     "data": {
      "text/html": [
       "\n",
       "  <div id=\"df-9f74c7dd-d422-4891-a402-ca00bec793a8\">\n",
       "    <div class=\"colab-df-container\">\n",
       "      <div>\n",
       "<style scoped>\n",
       "    .dataframe tbody tr th:only-of-type {\n",
       "        vertical-align: middle;\n",
       "    }\n",
       "\n",
       "    .dataframe tbody tr th {\n",
       "        vertical-align: top;\n",
       "    }\n",
       "\n",
       "    .dataframe thead th {\n",
       "        text-align: right;\n",
       "    }\n",
       "</style>\n",
       "<table border=\"1\" class=\"dataframe\">\n",
       "  <thead>\n",
       "    <tr style=\"text-align: right;\">\n",
       "      <th></th>\n",
       "      <th>clump_thickness</th>\n",
       "      <th>uniformity_cell_size</th>\n",
       "      <th>uniformity_cell_shape</th>\n",
       "      <th>marginal_adhesion</th>\n",
       "      <th>single_epithelial_cell_size</th>\n",
       "      <th>bare_nuclei</th>\n",
       "      <th>bland_chromatin</th>\n",
       "      <th>normal_nucleoli</th>\n",
       "      <th>mitosis</th>\n",
       "      <th>class</th>\n",
       "    </tr>\n",
       "  </thead>\n",
       "  <tbody>\n",
       "    <tr>\n",
       "      <th>0</th>\n",
       "      <td>5</td>\n",
       "      <td>1</td>\n",
       "      <td>1</td>\n",
       "      <td>1</td>\n",
       "      <td>2</td>\n",
       "      <td>1.0</td>\n",
       "      <td>3</td>\n",
       "      <td>1</td>\n",
       "      <td>1</td>\n",
       "      <td>2</td>\n",
       "    </tr>\n",
       "    <tr>\n",
       "      <th>1</th>\n",
       "      <td>5</td>\n",
       "      <td>4</td>\n",
       "      <td>4</td>\n",
       "      <td>5</td>\n",
       "      <td>7</td>\n",
       "      <td>10.0</td>\n",
       "      <td>3</td>\n",
       "      <td>2</td>\n",
       "      <td>1</td>\n",
       "      <td>2</td>\n",
       "    </tr>\n",
       "    <tr>\n",
       "      <th>2</th>\n",
       "      <td>3</td>\n",
       "      <td>1</td>\n",
       "      <td>1</td>\n",
       "      <td>1</td>\n",
       "      <td>2</td>\n",
       "      <td>2.0</td>\n",
       "      <td>3</td>\n",
       "      <td>1</td>\n",
       "      <td>1</td>\n",
       "      <td>2</td>\n",
       "    </tr>\n",
       "  </tbody>\n",
       "</table>\n",
       "</div>\n",
       "      <button class=\"colab-df-convert\" onclick=\"convertToInteractive('df-9f74c7dd-d422-4891-a402-ca00bec793a8')\"\n",
       "              title=\"Convert this dataframe to an interactive table.\"\n",
       "              style=\"display:none;\">\n",
       "        \n",
       "  <svg xmlns=\"http://www.w3.org/2000/svg\" height=\"24px\"viewBox=\"0 0 24 24\"\n",
       "       width=\"24px\">\n",
       "    <path d=\"M0 0h24v24H0V0z\" fill=\"none\"/>\n",
       "    <path d=\"M18.56 5.44l.94 2.06.94-2.06 2.06-.94-2.06-.94-.94-2.06-.94 2.06-2.06.94zm-11 1L8.5 8.5l.94-2.06 2.06-.94-2.06-.94L8.5 2.5l-.94 2.06-2.06.94zm10 10l.94 2.06.94-2.06 2.06-.94-2.06-.94-.94-2.06-.94 2.06-2.06.94z\"/><path d=\"M17.41 7.96l-1.37-1.37c-.4-.4-.92-.59-1.43-.59-.52 0-1.04.2-1.43.59L10.3 9.45l-7.72 7.72c-.78.78-.78 2.05 0 2.83L4 21.41c.39.39.9.59 1.41.59.51 0 1.02-.2 1.41-.59l7.78-7.78 2.81-2.81c.8-.78.8-2.07 0-2.86zM5.41 20L4 18.59l7.72-7.72 1.47 1.35L5.41 20z\"/>\n",
       "  </svg>\n",
       "      </button>\n",
       "      \n",
       "  <style>\n",
       "    .colab-df-container {\n",
       "      display:flex;\n",
       "      flex-wrap:wrap;\n",
       "      gap: 12px;\n",
       "    }\n",
       "\n",
       "    .colab-df-convert {\n",
       "      background-color: #E8F0FE;\n",
       "      border: none;\n",
       "      border-radius: 50%;\n",
       "      cursor: pointer;\n",
       "      display: none;\n",
       "      fill: #1967D2;\n",
       "      height: 32px;\n",
       "      padding: 0 0 0 0;\n",
       "      width: 32px;\n",
       "    }\n",
       "\n",
       "    .colab-df-convert:hover {\n",
       "      background-color: #E2EBFA;\n",
       "      box-shadow: 0px 1px 2px rgba(60, 64, 67, 0.3), 0px 1px 3px 1px rgba(60, 64, 67, 0.15);\n",
       "      fill: #174EA6;\n",
       "    }\n",
       "\n",
       "    [theme=dark] .colab-df-convert {\n",
       "      background-color: #3B4455;\n",
       "      fill: #D2E3FC;\n",
       "    }\n",
       "\n",
       "    [theme=dark] .colab-df-convert:hover {\n",
       "      background-color: #434B5C;\n",
       "      box-shadow: 0px 1px 3px 1px rgba(0, 0, 0, 0.15);\n",
       "      filter: drop-shadow(0px 1px 2px rgba(0, 0, 0, 0.3));\n",
       "      fill: #FFFFFF;\n",
       "    }\n",
       "  </style>\n",
       "\n",
       "      <script>\n",
       "        const buttonEl =\n",
       "          document.querySelector('#df-9f74c7dd-d422-4891-a402-ca00bec793a8 button.colab-df-convert');\n",
       "        buttonEl.style.display =\n",
       "          google.colab.kernel.accessAllowed ? 'block' : 'none';\n",
       "\n",
       "        async function convertToInteractive(key) {\n",
       "          const element = document.querySelector('#df-9f74c7dd-d422-4891-a402-ca00bec793a8');\n",
       "          const dataTable =\n",
       "            await google.colab.kernel.invokeFunction('convertToInteractive',\n",
       "                                                     [key], {});\n",
       "          if (!dataTable) return;\n",
       "\n",
       "          const docLinkHtml = 'Like what you see? Visit the ' +\n",
       "            '<a target=\"_blank\" href=https://colab.research.google.com/notebooks/data_table.ipynb>data table notebook</a>'\n",
       "            + ' to learn more about interactive tables.';\n",
       "          element.innerHTML = '';\n",
       "          dataTable['output_type'] = 'display_data';\n",
       "          await google.colab.output.renderOutput(dataTable, element);\n",
       "          const docLink = document.createElement('div');\n",
       "          docLink.innerHTML = docLinkHtml;\n",
       "          element.appendChild(docLink);\n",
       "        }\n",
       "      </script>\n",
       "    </div>\n",
       "  </div>\n",
       "  "
      ],
      "text/plain": [
       "   clump_thickness  uniformity_cell_size  uniformity_cell_shape  \\\n",
       "0                5                     1                      1   \n",
       "1                5                     4                      4   \n",
       "2                3                     1                      1   \n",
       "\n",
       "   marginal_adhesion  single_epithelial_cell_size  bare_nuclei  \\\n",
       "0                  1                            2          1.0   \n",
       "1                  5                            7         10.0   \n",
       "2                  1                            2          2.0   \n",
       "\n",
       "   bland_chromatin  normal_nucleoli  mitosis  class  \n",
       "0                3                1        1      2  \n",
       "1                3                2        1      2  \n",
       "2                3                1        1      2  "
      ]
     },
     "execution_count": 66,
     "metadata": {},
     "output_type": "execute_result"
    }
   ],
   "source": [
    "breast_cancer_dataset_v1.head(3)"
   ]
  },
  {
   "cell_type": "code",
   "execution_count": null,
   "metadata": {
    "id": "ZICOqRhSqq3Y"
   },
   "outputs": [],
   "source": [
    "train_breast_cancer_dataset, test_breast_cancer_dataset = split_dataset(breast_cancer_dataset_v1, 0.8)"
   ]
  },
  {
   "cell_type": "code",
   "execution_count": null,
   "metadata": {
    "id": "PL61uZZbqq3b"
   },
   "outputs": [],
   "source": [
    "train_breast_cancer_zscore_dataset, test_breast_cancer_zscore_dataset  = Standardization(train_breast_cancer_dataset,\n",
    "                                                                                         test_breast_cancer_dataset)"
   ]
  },
  {
   "cell_type": "code",
   "execution_count": null,
   "metadata": {
    "id": "O5weWh_gqq3c"
   },
   "outputs": [],
   "source": [
    "validated_train_breast_cancer = cross_validation(train_breast_cancer_dataset,5)"
   ]
  },
  {
   "cell_type": "code",
   "execution_count": null,
   "metadata": {
    "colab": {
     "base_uri": "https://localhost:8080/"
    },
    "id": "Kk6Dxkrhqq3e",
    "outputId": "ec267bf9-df4d-44db-ed13-16f2abfad9b4"
   },
   "outputs": [
    {
     "data": {
      "text/plain": [
       "[112, 111, 111, 111, 111]"
      ]
     },
     "execution_count": 70,
     "metadata": {},
     "output_type": "execute_result"
    }
   ],
   "source": [
    "validated_train_breast_cancer_size = []\n",
    "for i in range(0, 5):\n",
    "    validated_train_breast_cancer_size.append(validated_train_breast_cancer[i].shape[0])\n",
    "validated_train_breast_cancer_size"
   ]
  },
  {
   "cell_type": "code",
   "execution_count": null,
   "metadata": {
    "id": "1iJwlxZlqq3f"
   },
   "outputs": [],
   "source": [
    "#tuning\n",
    "tuning_breast_cancer = cross_validation(test_breast_cancer_dataset,5)"
   ]
  },
  {
   "cell_type": "code",
   "execution_count": null,
   "metadata": {
    "colab": {
     "base_uri": "https://localhost:8080/"
    },
    "id": "VtgM717uqq3f",
    "outputId": "0d56414f-0141-434c-d36f-be6471e6a172"
   },
   "outputs": [
    {
     "data": {
      "text/plain": [
       "[28, 28, 27, 27, 27]"
      ]
     },
     "execution_count": 72,
     "metadata": {},
     "output_type": "execute_result"
    }
   ],
   "source": [
    "tuning_breast_cancer_size = []\n",
    "for i in range(0, 5):\n",
    "    tuning_breast_cancer_size.append(tuning_breast_cancer [i].shape[0])\n",
    "tuning_breast_cancer_size"
   ]
  },
  {
   "cell_type": "markdown",
   "metadata": {
    "id": "ccTOFDQsggzZ"
   },
   "source": [
    "### Breast Cancer Logistic Regression"
   ]
  },
  {
   "cell_type": "code",
   "execution_count": null,
   "metadata": {
    "colab": {
     "base_uri": "https://localhost:8080/"
    },
    "id": "LUsOnsERggza",
    "outputId": "073b2d79-60f7-406f-9a03-8a31b0894fbe"
   },
   "outputs": [
    {
     "name": "stdout",
     "output_type": "stream",
     "text": [
      "Logistic Regesssion Binary Classes\n",
      "Best Max Iteration 50\n",
      "best_learning_rate 0.1\n"
     ]
    }
   ],
   "source": [
    "learning_rate_list = [0.01, 0.05, 0.1]\n",
    "max_iter_list = [10, 20, 50]\n",
    "\n",
    "# best_learning_rate, best_max_iter = tuning_LogR_single(tuning_breast_cancer, \n",
    "#                                                         max_iter_list, \n",
    "#                                                        learning_rate_list, \n",
    "#                                                        'class', \n",
    "#                                                        \"classification score\")\n",
    "best_max_iter, best_learning_rate = 50, 0.1\n",
    "print(\"Logistic Regesssion Binary Classes\")\n",
    "print('Best Max Iteration', best_max_iter)\n",
    "print(\"best_learning_rate\", best_learning_rate)\n",
    "#Logistic Regesssion Binary Classes\n",
    "#Best Max Iteration 50\n",
    "#best_learning_rate 0.1"
   ]
  },
  {
   "cell_type": "code",
   "execution_count": null,
   "metadata": {
    "colab": {
     "base_uri": "https://localhost:8080/"
    },
    "id": "8My-iKVfggzb",
    "outputId": "388a7e17-afb3-4576-d684-3d038e538921"
   },
   "outputs": [
    {
     "name": "stdout",
     "output_type": "stream",
     "text": [
      "LR binary score: [77.68, 82.88, 81.08, 61.26, 84.68]/ LR binary avg score: 77.52\n"
     ]
    }
   ],
   "source": [
    "LogR_score_binary = LogR_binary_fold(validated_train_breast_cancer, 'class', best_max_iter , best_learning_rate, \"classification score\")\n",
    "LogR_avg_score_binary  = round(np.mean(LogR_score_binary),2)\n",
    "print(\"LogR binary score: \" + str(LogR_score_binary) + \"/ LogR binary avg score: \"+ str(LogR_avg_score_binary ))\n",
    "#LR binary score: [77.6786, 82.8829, 81.0811, 64.8649, 84.6847]/ LR binary avg score: 78.2384"
   ]
  },
  {
   "cell_type": "markdown",
   "metadata": {
    "id": "_Lov7lqSggzd"
   },
   "source": [
    "### Breast Cancer FFBP"
   ]
  },
  {
   "cell_type": "code",
   "execution_count": null,
   "metadata": {
    "colab": {
     "base_uri": "https://localhost:8080/"
    },
    "id": "gP6trqbFggzg",
    "outputId": "c2e200b4-669c-46ca-a2cb-97991c56c1ef"
   },
   "outputs": [
    {
     "name": "stdout",
     "output_type": "stream",
     "text": [
      "Feedforward with Backpropagation Classification\n",
      "Best Max Iteration 20\n",
      "best_learning_rate 0.1\n",
      "best_hidden_node 6\n"
     ]
    }
   ],
   "source": [
    "max_iter_list = [10, 20]\n",
    "learning_rate_list = [0.001, 0.005, 0.01, 0.05, 0.1]\n",
    "hidden_node_list = [5, 6, 7]\n",
    "\n",
    "# best_learning_rate, best_max_iter, best_hidden_node = tuning_FFBP_classification(tuning_breast_cancer, max_iter_list, \n",
    "#                                                                                  learning_rate_list, hidden_node_list, \n",
    "#                                                                                  'class', 'classification score')\n",
    "best_max_iter, best_learning_rate, best_hidden_node = 20, 0.1, 6\n",
    "\n",
    "print(\"Feedforward with Backpropagation Classification\")\n",
    "print('Best Max Iteration', best_max_iter)\n",
    "print(\"best_learning_rate\", best_learning_rate)\n",
    "print(\"best_hidden_node\", best_hidden_node)\n",
    "# Feedforward with Backpropagation Classification\n",
    "# Best Max Iteration 20\n",
    "# best_learning_rate 0.1\n",
    "# best_hidden_node 6"
   ]
  },
  {
   "cell_type": "code",
   "execution_count": null,
   "metadata": {
    "colab": {
     "base_uri": "https://localhost:8080/"
    },
    "id": "eN6giz_8ggzh",
    "outputId": "36da29dd-3786-4755-d060-2f6b4778080f"
   },
   "outputs": [
    {
     "name": "stdout",
     "output_type": "stream",
     "text": [
      "FFBP score: [83.04, 98.2, 94.59, 97.3, 97.3]/ FFBP avg score: 94.09\n"
     ]
    }
   ],
   "source": [
    "FFBP_class_score = FFBP_classification_fold(validated_train_breast_cancer, 'class',best_hidden_node, best_hidden_node, \n",
    "                                      best_max_iter , best_learning_rate, \"classification score\")\n",
    "FFBP_avg_class_score = round(np.mean(FFBP_class_score),2)\n",
    "print(\"FFBP score: \" + str(FFBP_class_score) + \"/ FFBP avg score: \"+ str(FFBP_avg_class_score))\n",
    "#FFBP score: [83.04, 98.2, 94.59, 97.3, 97.3]/ FFBP avg score: 94.09"
   ]
  },
  {
   "cell_type": "markdown",
   "metadata": {
    "id": "reNbbHpnggzk"
   },
   "source": [
    "### Breast Cancer Autoencoder"
   ]
  },
  {
   "cell_type": "code",
   "execution_count": null,
   "metadata": {
    "colab": {
     "base_uri": "https://localhost:8080/"
    },
    "id": "9YMmtP7Xggzl",
    "outputId": "d0efb03e-1c78-45e6-d4e6-873bf2db4d2e"
   },
   "outputs": [
    {
     "name": "stdout",
     "output_type": "stream",
     "text": [
      "Autoencoder\n",
      "Best Max Iteration 10\n",
      "best_learning_rate 0.1\n",
      "best_encoding_node 3\n",
      "best_hidden_node 5\n"
     ]
    }
   ],
   "source": [
    "max_iter_list = [10, 20]\n",
    "learning_rate_list = [0.001, 0.005, 0.01, 0.05, 0.1]\n",
    "encoding_node_list = [2,3]\n",
    "hidden_node_list = [5, 6, 7]\n",
    "\n",
    "# best_learning_rate, best_max_iter, best_encoding_node, best_hidden_node = tuning_autoencoder_classification(tuning_breast_cancer, max_iter_list, \n",
    "#                                                                                                      learning_rate_list, encoding_node_list,\n",
    "#                                                                                                      hidden_node_list, 'class', 'classification score')\n",
    "\n",
    "best_learning_rate, best_max_iter, best_encoding_node, best_hidden_node = 0.1, 10, 3, 5\n",
    "print(\"Autoencoder\")\n",
    "print('Best Max Iteration', best_max_iter)\n",
    "print(\"best_learning_rate\", best_learning_rate)\n",
    "print(\"best_encoding_node\", best_encoding_node)\n",
    "print(\"best_hidden_node\", best_hidden_node)\n",
    "# Autoencoder\n",
    "# Best Max Iteration 10\n",
    "# best_learning_rate 0.1\n",
    "# best_encoding_node 3\n",
    "# best_hidden_node 5"
   ]
  },
  {
   "cell_type": "code",
   "execution_count": null,
   "metadata": {
    "colab": {
     "base_uri": "https://localhost:8080/"
    },
    "id": "rwAZe8V8ggzl",
    "outputId": "21f69249-3089-4a89-c7e2-79d4fb6a1099"
   },
   "outputs": [
    {
     "name": "stdout",
     "output_type": "stream",
     "text": [
      "Autoencoder score: [85.71, 98.2, 94.59, 96.4, 98.2]/ Autoencoder avg score: 94.62\n"
     ]
    }
   ],
   "source": [
    "autoencoder_class_score = autoencoder_classification_fold(validated_train_breast_cancer, 'class', best_encoding_node, \n",
    "                                                    best_hidden_node, best_max_iter , best_learning_rate, \"classification score\")\n",
    "autoencoder_class_avg_score  = round(np.mean(autoencoder_class_score),2)\n",
    "print(\"Autoencoder score: \" + str(autoencoder_class_score) + \"/ Autoencoder avg score: \"+ str(autoencoder_class_avg_score))\n",
    "#Autoencoder score: [85.71, 98.2, 94.59, 96.4, 98.2]/ Autoencoder avg score: 94.62"
   ]
  },
  {
   "cell_type": "markdown",
   "metadata": {
    "id": "8N5Ke_SAqq3i"
   },
   "source": [
    "## Car Evaluation"
   ]
  },
  {
   "cell_type": "code",
   "execution_count": null,
   "metadata": {
    "colab": {
     "base_uri": "https://localhost:8080/",
     "height": 143
    },
    "id": "YtLcE8Upqq3j",
    "outputId": "665f40de-7fa3-48a9-d0ae-416a65ea5b2d"
   },
   "outputs": [
    {
     "data": {
      "text/html": [
       "\n",
       "  <div id=\"df-5d9b5b7d-b643-49f2-afa1-1af22c94c50d\">\n",
       "    <div class=\"colab-df-container\">\n",
       "      <div>\n",
       "<style scoped>\n",
       "    .dataframe tbody tr th:only-of-type {\n",
       "        vertical-align: middle;\n",
       "    }\n",
       "\n",
       "    .dataframe tbody tr th {\n",
       "        vertical-align: top;\n",
       "    }\n",
       "\n",
       "    .dataframe thead th {\n",
       "        text-align: right;\n",
       "    }\n",
       "</style>\n",
       "<table border=\"1\" class=\"dataframe\">\n",
       "  <thead>\n",
       "    <tr style=\"text-align: right;\">\n",
       "      <th></th>\n",
       "      <th>buying</th>\n",
       "      <th>maint</th>\n",
       "      <th>doors</th>\n",
       "      <th>persons</th>\n",
       "      <th>lug_boot</th>\n",
       "      <th>safety</th>\n",
       "      <th>class</th>\n",
       "    </tr>\n",
       "  </thead>\n",
       "  <tbody>\n",
       "    <tr>\n",
       "      <th>0</th>\n",
       "      <td>vhigh</td>\n",
       "      <td>vhigh</td>\n",
       "      <td>2</td>\n",
       "      <td>2</td>\n",
       "      <td>small</td>\n",
       "      <td>low</td>\n",
       "      <td>unacc</td>\n",
       "    </tr>\n",
       "    <tr>\n",
       "      <th>1</th>\n",
       "      <td>vhigh</td>\n",
       "      <td>vhigh</td>\n",
       "      <td>2</td>\n",
       "      <td>2</td>\n",
       "      <td>small</td>\n",
       "      <td>med</td>\n",
       "      <td>unacc</td>\n",
       "    </tr>\n",
       "    <tr>\n",
       "      <th>2</th>\n",
       "      <td>vhigh</td>\n",
       "      <td>vhigh</td>\n",
       "      <td>2</td>\n",
       "      <td>2</td>\n",
       "      <td>small</td>\n",
       "      <td>high</td>\n",
       "      <td>unacc</td>\n",
       "    </tr>\n",
       "  </tbody>\n",
       "</table>\n",
       "</div>\n",
       "      <button class=\"colab-df-convert\" onclick=\"convertToInteractive('df-5d9b5b7d-b643-49f2-afa1-1af22c94c50d')\"\n",
       "              title=\"Convert this dataframe to an interactive table.\"\n",
       "              style=\"display:none;\">\n",
       "        \n",
       "  <svg xmlns=\"http://www.w3.org/2000/svg\" height=\"24px\"viewBox=\"0 0 24 24\"\n",
       "       width=\"24px\">\n",
       "    <path d=\"M0 0h24v24H0V0z\" fill=\"none\"/>\n",
       "    <path d=\"M18.56 5.44l.94 2.06.94-2.06 2.06-.94-2.06-.94-.94-2.06-.94 2.06-2.06.94zm-11 1L8.5 8.5l.94-2.06 2.06-.94-2.06-.94L8.5 2.5l-.94 2.06-2.06.94zm10 10l.94 2.06.94-2.06 2.06-.94-2.06-.94-.94-2.06-.94 2.06-2.06.94z\"/><path d=\"M17.41 7.96l-1.37-1.37c-.4-.4-.92-.59-1.43-.59-.52 0-1.04.2-1.43.59L10.3 9.45l-7.72 7.72c-.78.78-.78 2.05 0 2.83L4 21.41c.39.39.9.59 1.41.59.51 0 1.02-.2 1.41-.59l7.78-7.78 2.81-2.81c.8-.78.8-2.07 0-2.86zM5.41 20L4 18.59l7.72-7.72 1.47 1.35L5.41 20z\"/>\n",
       "  </svg>\n",
       "      </button>\n",
       "      \n",
       "  <style>\n",
       "    .colab-df-container {\n",
       "      display:flex;\n",
       "      flex-wrap:wrap;\n",
       "      gap: 12px;\n",
       "    }\n",
       "\n",
       "    .colab-df-convert {\n",
       "      background-color: #E8F0FE;\n",
       "      border: none;\n",
       "      border-radius: 50%;\n",
       "      cursor: pointer;\n",
       "      display: none;\n",
       "      fill: #1967D2;\n",
       "      height: 32px;\n",
       "      padding: 0 0 0 0;\n",
       "      width: 32px;\n",
       "    }\n",
       "\n",
       "    .colab-df-convert:hover {\n",
       "      background-color: #E2EBFA;\n",
       "      box-shadow: 0px 1px 2px rgba(60, 64, 67, 0.3), 0px 1px 3px 1px rgba(60, 64, 67, 0.15);\n",
       "      fill: #174EA6;\n",
       "    }\n",
       "\n",
       "    [theme=dark] .colab-df-convert {\n",
       "      background-color: #3B4455;\n",
       "      fill: #D2E3FC;\n",
       "    }\n",
       "\n",
       "    [theme=dark] .colab-df-convert:hover {\n",
       "      background-color: #434B5C;\n",
       "      box-shadow: 0px 1px 3px 1px rgba(0, 0, 0, 0.15);\n",
       "      filter: drop-shadow(0px 1px 2px rgba(0, 0, 0, 0.3));\n",
       "      fill: #FFFFFF;\n",
       "    }\n",
       "  </style>\n",
       "\n",
       "      <script>\n",
       "        const buttonEl =\n",
       "          document.querySelector('#df-5d9b5b7d-b643-49f2-afa1-1af22c94c50d button.colab-df-convert');\n",
       "        buttonEl.style.display =\n",
       "          google.colab.kernel.accessAllowed ? 'block' : 'none';\n",
       "\n",
       "        async function convertToInteractive(key) {\n",
       "          const element = document.querySelector('#df-5d9b5b7d-b643-49f2-afa1-1af22c94c50d');\n",
       "          const dataTable =\n",
       "            await google.colab.kernel.invokeFunction('convertToInteractive',\n",
       "                                                     [key], {});\n",
       "          if (!dataTable) return;\n",
       "\n",
       "          const docLinkHtml = 'Like what you see? Visit the ' +\n",
       "            '<a target=\"_blank\" href=https://colab.research.google.com/notebooks/data_table.ipynb>data table notebook</a>'\n",
       "            + ' to learn more about interactive tables.';\n",
       "          element.innerHTML = '';\n",
       "          dataTable['output_type'] = 'display_data';\n",
       "          await google.colab.output.renderOutput(dataTable, element);\n",
       "          const docLink = document.createElement('div');\n",
       "          docLink.innerHTML = docLinkHtml;\n",
       "          element.appendChild(docLink);\n",
       "        }\n",
       "      </script>\n",
       "    </div>\n",
       "  </div>\n",
       "  "
      ],
      "text/plain": [
       "  buying  maint doors persons lug_boot safety  class\n",
       "0  vhigh  vhigh     2       2    small    low  unacc\n",
       "1  vhigh  vhigh     2       2    small    med  unacc\n",
       "2  vhigh  vhigh     2       2    small   high  unacc"
      ]
     },
     "execution_count": 81,
     "metadata": {},
     "output_type": "execute_result"
    }
   ],
   "source": [
    "\n",
    "car_dataset = open_csv_dataset('car', True)\n",
    "car_dataset.head(3)"
   ]
  },
  {
   "cell_type": "code",
   "execution_count": null,
   "metadata": {
    "id": "GpwKsGFTqq3j"
   },
   "outputs": [],
   "source": [
    "clean_car_dataset = handling_missing_values(car_dataset)"
   ]
  },
  {
   "cell_type": "code",
   "execution_count": null,
   "metadata": {
    "colab": {
     "base_uri": "https://localhost:8080/"
    },
    "id": "5xKZkD5aqq3j",
    "outputId": "dbab5802-45b5-49a9-edb9-bb939486a747"
   },
   "outputs": [
    {
     "data": {
      "text/plain": [
       "False"
      ]
     },
     "execution_count": 83,
     "metadata": {},
     "output_type": "execute_result"
    }
   ],
   "source": [
    "clean_car_dataset.isnull().sum().any()"
   ]
  },
  {
   "cell_type": "code",
   "execution_count": null,
   "metadata": {
    "colab": {
     "base_uri": "https://localhost:8080/",
     "height": 143
    },
    "id": "16mt478Gqq3k",
    "outputId": "70358a50-a499-4d08-eee0-bc24a98d102c"
   },
   "outputs": [
    {
     "data": {
      "text/html": [
       "\n",
       "  <div id=\"df-14ced8c5-ed86-4ec5-b6bd-08420586f9f0\">\n",
       "    <div class=\"colab-df-container\">\n",
       "      <div>\n",
       "<style scoped>\n",
       "    .dataframe tbody tr th:only-of-type {\n",
       "        vertical-align: middle;\n",
       "    }\n",
       "\n",
       "    .dataframe tbody tr th {\n",
       "        vertical-align: top;\n",
       "    }\n",
       "\n",
       "    .dataframe thead th {\n",
       "        text-align: right;\n",
       "    }\n",
       "</style>\n",
       "<table border=\"1\" class=\"dataframe\">\n",
       "  <thead>\n",
       "    <tr style=\"text-align: right;\">\n",
       "      <th></th>\n",
       "      <th>buying</th>\n",
       "      <th>maint</th>\n",
       "      <th>doors</th>\n",
       "      <th>persons</th>\n",
       "      <th>lug_boot</th>\n",
       "      <th>safety</th>\n",
       "      <th>class</th>\n",
       "    </tr>\n",
       "  </thead>\n",
       "  <tbody>\n",
       "    <tr>\n",
       "      <th>0</th>\n",
       "      <td>vhigh</td>\n",
       "      <td>vhigh</td>\n",
       "      <td>2</td>\n",
       "      <td>2</td>\n",
       "      <td>small</td>\n",
       "      <td>low</td>\n",
       "      <td>unacc</td>\n",
       "    </tr>\n",
       "    <tr>\n",
       "      <th>1</th>\n",
       "      <td>vhigh</td>\n",
       "      <td>vhigh</td>\n",
       "      <td>2</td>\n",
       "      <td>2</td>\n",
       "      <td>small</td>\n",
       "      <td>med</td>\n",
       "      <td>unacc</td>\n",
       "    </tr>\n",
       "    <tr>\n",
       "      <th>2</th>\n",
       "      <td>vhigh</td>\n",
       "      <td>vhigh</td>\n",
       "      <td>2</td>\n",
       "      <td>2</td>\n",
       "      <td>small</td>\n",
       "      <td>high</td>\n",
       "      <td>unacc</td>\n",
       "    </tr>\n",
       "  </tbody>\n",
       "</table>\n",
       "</div>\n",
       "      <button class=\"colab-df-convert\" onclick=\"convertToInteractive('df-14ced8c5-ed86-4ec5-b6bd-08420586f9f0')\"\n",
       "              title=\"Convert this dataframe to an interactive table.\"\n",
       "              style=\"display:none;\">\n",
       "        \n",
       "  <svg xmlns=\"http://www.w3.org/2000/svg\" height=\"24px\"viewBox=\"0 0 24 24\"\n",
       "       width=\"24px\">\n",
       "    <path d=\"M0 0h24v24H0V0z\" fill=\"none\"/>\n",
       "    <path d=\"M18.56 5.44l.94 2.06.94-2.06 2.06-.94-2.06-.94-.94-2.06-.94 2.06-2.06.94zm-11 1L8.5 8.5l.94-2.06 2.06-.94-2.06-.94L8.5 2.5l-.94 2.06-2.06.94zm10 10l.94 2.06.94-2.06 2.06-.94-2.06-.94-.94-2.06-.94 2.06-2.06.94z\"/><path d=\"M17.41 7.96l-1.37-1.37c-.4-.4-.92-.59-1.43-.59-.52 0-1.04.2-1.43.59L10.3 9.45l-7.72 7.72c-.78.78-.78 2.05 0 2.83L4 21.41c.39.39.9.59 1.41.59.51 0 1.02-.2 1.41-.59l7.78-7.78 2.81-2.81c.8-.78.8-2.07 0-2.86zM5.41 20L4 18.59l7.72-7.72 1.47 1.35L5.41 20z\"/>\n",
       "  </svg>\n",
       "      </button>\n",
       "      \n",
       "  <style>\n",
       "    .colab-df-container {\n",
       "      display:flex;\n",
       "      flex-wrap:wrap;\n",
       "      gap: 12px;\n",
       "    }\n",
       "\n",
       "    .colab-df-convert {\n",
       "      background-color: #E8F0FE;\n",
       "      border: none;\n",
       "      border-radius: 50%;\n",
       "      cursor: pointer;\n",
       "      display: none;\n",
       "      fill: #1967D2;\n",
       "      height: 32px;\n",
       "      padding: 0 0 0 0;\n",
       "      width: 32px;\n",
       "    }\n",
       "\n",
       "    .colab-df-convert:hover {\n",
       "      background-color: #E2EBFA;\n",
       "      box-shadow: 0px 1px 2px rgba(60, 64, 67, 0.3), 0px 1px 3px 1px rgba(60, 64, 67, 0.15);\n",
       "      fill: #174EA6;\n",
       "    }\n",
       "\n",
       "    [theme=dark] .colab-df-convert {\n",
       "      background-color: #3B4455;\n",
       "      fill: #D2E3FC;\n",
       "    }\n",
       "\n",
       "    [theme=dark] .colab-df-convert:hover {\n",
       "      background-color: #434B5C;\n",
       "      box-shadow: 0px 1px 3px 1px rgba(0, 0, 0, 0.15);\n",
       "      filter: drop-shadow(0px 1px 2px rgba(0, 0, 0, 0.3));\n",
       "      fill: #FFFFFF;\n",
       "    }\n",
       "  </style>\n",
       "\n",
       "      <script>\n",
       "        const buttonEl =\n",
       "          document.querySelector('#df-14ced8c5-ed86-4ec5-b6bd-08420586f9f0 button.colab-df-convert');\n",
       "        buttonEl.style.display =\n",
       "          google.colab.kernel.accessAllowed ? 'block' : 'none';\n",
       "\n",
       "        async function convertToInteractive(key) {\n",
       "          const element = document.querySelector('#df-14ced8c5-ed86-4ec5-b6bd-08420586f9f0');\n",
       "          const dataTable =\n",
       "            await google.colab.kernel.invokeFunction('convertToInteractive',\n",
       "                                                     [key], {});\n",
       "          if (!dataTable) return;\n",
       "\n",
       "          const docLinkHtml = 'Like what you see? Visit the ' +\n",
       "            '<a target=\"_blank\" href=https://colab.research.google.com/notebooks/data_table.ipynb>data table notebook</a>'\n",
       "            + ' to learn more about interactive tables.';\n",
       "          element.innerHTML = '';\n",
       "          dataTable['output_type'] = 'display_data';\n",
       "          await google.colab.output.renderOutput(dataTable, element);\n",
       "          const docLink = document.createElement('div');\n",
       "          docLink.innerHTML = docLinkHtml;\n",
       "          element.appendChild(docLink);\n",
       "        }\n",
       "      </script>\n",
       "    </div>\n",
       "  </div>\n",
       "  "
      ],
      "text/plain": [
       "  buying  maint doors persons lug_boot safety  class\n",
       "0  vhigh  vhigh     2       2    small    low  unacc\n",
       "1  vhigh  vhigh     2       2    small    med  unacc\n",
       "2  vhigh  vhigh     2       2    small   high  unacc"
      ]
     },
     "execution_count": 84,
     "metadata": {},
     "output_type": "execute_result"
    }
   ],
   "source": [
    "clean_car_dataset.head(3)"
   ]
  },
  {
   "cell_type": "code",
   "execution_count": null,
   "metadata": {
    "id": "guKibODGqq3k"
   },
   "outputs": [],
   "source": [
    "categorized_car_datast = replacing_string_to_numeric_all_columns(clean_car_dataset)"
   ]
  },
  {
   "cell_type": "code",
   "execution_count": null,
   "metadata": {
    "colab": {
     "base_uri": "https://localhost:8080/",
     "height": 206
    },
    "id": "SwPyvLAyqq3k",
    "outputId": "c9d233e4-e1e7-4915-d1e1-ee01d856537d"
   },
   "outputs": [
    {
     "data": {
      "text/html": [
       "\n",
       "  <div id=\"df-55d57be0-e9fe-4519-8800-d971a1505f15\">\n",
       "    <div class=\"colab-df-container\">\n",
       "      <div>\n",
       "<style scoped>\n",
       "    .dataframe tbody tr th:only-of-type {\n",
       "        vertical-align: middle;\n",
       "    }\n",
       "\n",
       "    .dataframe tbody tr th {\n",
       "        vertical-align: top;\n",
       "    }\n",
       "\n",
       "    .dataframe thead th {\n",
       "        text-align: right;\n",
       "    }\n",
       "</style>\n",
       "<table border=\"1\" class=\"dataframe\">\n",
       "  <thead>\n",
       "    <tr style=\"text-align: right;\">\n",
       "      <th></th>\n",
       "      <th>buying</th>\n",
       "      <th>maint</th>\n",
       "      <th>doors</th>\n",
       "      <th>persons</th>\n",
       "      <th>lug_boot</th>\n",
       "      <th>safety</th>\n",
       "      <th>class</th>\n",
       "    </tr>\n",
       "  </thead>\n",
       "  <tbody>\n",
       "    <tr>\n",
       "      <th>0</th>\n",
       "      <td>0</td>\n",
       "      <td>0</td>\n",
       "      <td>0</td>\n",
       "      <td>0</td>\n",
       "      <td>0</td>\n",
       "      <td>0</td>\n",
       "      <td>0</td>\n",
       "    </tr>\n",
       "    <tr>\n",
       "      <th>1</th>\n",
       "      <td>0</td>\n",
       "      <td>0</td>\n",
       "      <td>0</td>\n",
       "      <td>0</td>\n",
       "      <td>0</td>\n",
       "      <td>1</td>\n",
       "      <td>0</td>\n",
       "    </tr>\n",
       "    <tr>\n",
       "      <th>2</th>\n",
       "      <td>0</td>\n",
       "      <td>0</td>\n",
       "      <td>0</td>\n",
       "      <td>0</td>\n",
       "      <td>0</td>\n",
       "      <td>2</td>\n",
       "      <td>0</td>\n",
       "    </tr>\n",
       "    <tr>\n",
       "      <th>3</th>\n",
       "      <td>0</td>\n",
       "      <td>0</td>\n",
       "      <td>0</td>\n",
       "      <td>0</td>\n",
       "      <td>1</td>\n",
       "      <td>0</td>\n",
       "      <td>0</td>\n",
       "    </tr>\n",
       "    <tr>\n",
       "      <th>4</th>\n",
       "      <td>0</td>\n",
       "      <td>0</td>\n",
       "      <td>0</td>\n",
       "      <td>0</td>\n",
       "      <td>1</td>\n",
       "      <td>1</td>\n",
       "      <td>0</td>\n",
       "    </tr>\n",
       "  </tbody>\n",
       "</table>\n",
       "</div>\n",
       "      <button class=\"colab-df-convert\" onclick=\"convertToInteractive('df-55d57be0-e9fe-4519-8800-d971a1505f15')\"\n",
       "              title=\"Convert this dataframe to an interactive table.\"\n",
       "              style=\"display:none;\">\n",
       "        \n",
       "  <svg xmlns=\"http://www.w3.org/2000/svg\" height=\"24px\"viewBox=\"0 0 24 24\"\n",
       "       width=\"24px\">\n",
       "    <path d=\"M0 0h24v24H0V0z\" fill=\"none\"/>\n",
       "    <path d=\"M18.56 5.44l.94 2.06.94-2.06 2.06-.94-2.06-.94-.94-2.06-.94 2.06-2.06.94zm-11 1L8.5 8.5l.94-2.06 2.06-.94-2.06-.94L8.5 2.5l-.94 2.06-2.06.94zm10 10l.94 2.06.94-2.06 2.06-.94-2.06-.94-.94-2.06-.94 2.06-2.06.94z\"/><path d=\"M17.41 7.96l-1.37-1.37c-.4-.4-.92-.59-1.43-.59-.52 0-1.04.2-1.43.59L10.3 9.45l-7.72 7.72c-.78.78-.78 2.05 0 2.83L4 21.41c.39.39.9.59 1.41.59.51 0 1.02-.2 1.41-.59l7.78-7.78 2.81-2.81c.8-.78.8-2.07 0-2.86zM5.41 20L4 18.59l7.72-7.72 1.47 1.35L5.41 20z\"/>\n",
       "  </svg>\n",
       "      </button>\n",
       "      \n",
       "  <style>\n",
       "    .colab-df-container {\n",
       "      display:flex;\n",
       "      flex-wrap:wrap;\n",
       "      gap: 12px;\n",
       "    }\n",
       "\n",
       "    .colab-df-convert {\n",
       "      background-color: #E8F0FE;\n",
       "      border: none;\n",
       "      border-radius: 50%;\n",
       "      cursor: pointer;\n",
       "      display: none;\n",
       "      fill: #1967D2;\n",
       "      height: 32px;\n",
       "      padding: 0 0 0 0;\n",
       "      width: 32px;\n",
       "    }\n",
       "\n",
       "    .colab-df-convert:hover {\n",
       "      background-color: #E2EBFA;\n",
       "      box-shadow: 0px 1px 2px rgba(60, 64, 67, 0.3), 0px 1px 3px 1px rgba(60, 64, 67, 0.15);\n",
       "      fill: #174EA6;\n",
       "    }\n",
       "\n",
       "    [theme=dark] .colab-df-convert {\n",
       "      background-color: #3B4455;\n",
       "      fill: #D2E3FC;\n",
       "    }\n",
       "\n",
       "    [theme=dark] .colab-df-convert:hover {\n",
       "      background-color: #434B5C;\n",
       "      box-shadow: 0px 1px 3px 1px rgba(0, 0, 0, 0.15);\n",
       "      filter: drop-shadow(0px 1px 2px rgba(0, 0, 0, 0.3));\n",
       "      fill: #FFFFFF;\n",
       "    }\n",
       "  </style>\n",
       "\n",
       "      <script>\n",
       "        const buttonEl =\n",
       "          document.querySelector('#df-55d57be0-e9fe-4519-8800-d971a1505f15 button.colab-df-convert');\n",
       "        buttonEl.style.display =\n",
       "          google.colab.kernel.accessAllowed ? 'block' : 'none';\n",
       "\n",
       "        async function convertToInteractive(key) {\n",
       "          const element = document.querySelector('#df-55d57be0-e9fe-4519-8800-d971a1505f15');\n",
       "          const dataTable =\n",
       "            await google.colab.kernel.invokeFunction('convertToInteractive',\n",
       "                                                     [key], {});\n",
       "          if (!dataTable) return;\n",
       "\n",
       "          const docLinkHtml = 'Like what you see? Visit the ' +\n",
       "            '<a target=\"_blank\" href=https://colab.research.google.com/notebooks/data_table.ipynb>data table notebook</a>'\n",
       "            + ' to learn more about interactive tables.';\n",
       "          element.innerHTML = '';\n",
       "          dataTable['output_type'] = 'display_data';\n",
       "          await google.colab.output.renderOutput(dataTable, element);\n",
       "          const docLink = document.createElement('div');\n",
       "          docLink.innerHTML = docLinkHtml;\n",
       "          element.appendChild(docLink);\n",
       "        }\n",
       "      </script>\n",
       "    </div>\n",
       "  </div>\n",
       "  "
      ],
      "text/plain": [
       "   buying  maint  doors  persons  lug_boot  safety  class\n",
       "0       0      0      0        0         0       0      0\n",
       "1       0      0      0        0         0       1      0\n",
       "2       0      0      0        0         0       2      0\n",
       "3       0      0      0        0         1       0      0\n",
       "4       0      0      0        0         1       1      0"
      ]
     },
     "execution_count": 86,
     "metadata": {},
     "output_type": "execute_result"
    }
   ],
   "source": [
    "car_dataset_v1  = categorized_car_datast.copy()\n",
    "car_dataset_v1.head()"
   ]
  },
  {
   "cell_type": "code",
   "execution_count": null,
   "metadata": {
    "id": "CCl7bT8Uqq3l"
   },
   "outputs": [],
   "source": [
    "train_car_dataset, test_car_dataset = split_dataset(car_dataset_v1, 0.8)"
   ]
  },
  {
   "cell_type": "code",
   "execution_count": null,
   "metadata": {
    "id": "M3vLqa6zqq3m"
   },
   "outputs": [],
   "source": [
    "train_car_zscore_dataset,test_car_zscore_dataset  = Standardization(train_car_dataset,test_car_dataset)"
   ]
  },
  {
   "cell_type": "code",
   "execution_count": null,
   "metadata": {
    "id": "4Vo6CzBaqq3o"
   },
   "outputs": [],
   "source": [
    "validated_train_car = cross_validation(train_car_dataset,5)"
   ]
  },
  {
   "cell_type": "code",
   "execution_count": null,
   "metadata": {
    "colab": {
     "base_uri": "https://localhost:8080/"
    },
    "id": "XQv69siyqq3p",
    "outputId": "26ad8258-5308-4d07-aabb-5153cb5b57ac"
   },
   "outputs": [
    {
     "data": {
      "text/plain": [
       "[277, 276, 276, 276, 276]"
      ]
     },
     "execution_count": 90,
     "metadata": {},
     "output_type": "execute_result"
    }
   ],
   "source": [
    "validated_train_car_size = []\n",
    "for i in range(0, 5):\n",
    "    validated_train_car_size.append(validated_train_car[i].shape[0])\n",
    "validated_train_car_size"
   ]
  },
  {
   "cell_type": "code",
   "execution_count": null,
   "metadata": {
    "id": "B-DFdmVlqq3r"
   },
   "outputs": [],
   "source": [
    "tuning_car = cross_validation(test_car_dataset,5)"
   ]
  },
  {
   "cell_type": "code",
   "execution_count": null,
   "metadata": {
    "colab": {
     "base_uri": "https://localhost:8080/"
    },
    "id": "RVUxKu7Vqq3s",
    "outputId": "a368069b-1f83-4cf5-a404-4f5a92e051d4"
   },
   "outputs": [
    {
     "data": {
      "text/plain": [
       "[70, 70, 70, 70, 65]"
      ]
     },
     "execution_count": 92,
     "metadata": {},
     "output_type": "execute_result"
    }
   ],
   "source": [
    "tuning_car_size = []\n",
    "for i in range(0, 5):\n",
    "    tuning_car_size.append(tuning_car[i].shape[0])\n",
    "tuning_car_size"
   ]
  },
  {
   "cell_type": "markdown",
   "metadata": {
    "id": "DV0BL2F8ggzq"
   },
   "source": [
    "### Car Logistic Regression"
   ]
  },
  {
   "cell_type": "code",
   "execution_count": null,
   "metadata": {
    "colab": {
     "base_uri": "https://localhost:8080/"
    },
    "id": "e6iZYZCTggzu",
    "outputId": "33054740-383d-4927-adcc-17d720fa1b30"
   },
   "outputs": [
    {
     "name": "stdout",
     "output_type": "stream",
     "text": [
      "Logistic Regesssion Multi Classes\n",
      "Best Max Iteration 0.01\n",
      "best_learning_rate 10\n"
     ]
    }
   ],
   "source": [
    "learning_rate_list = [0.01, 0.05, 0.1]\n",
    "max_iter_list = [10, 20, 50]\n",
    "\n",
    "# best_learning_rate, best_max_iter = tuning_LogR_multi(tuning_car, \n",
    "#                                                       max_iter_list, \n",
    "#                                                       learning_rate_list, \n",
    "#                                                       'class', \n",
    "#                                                        \"classification score\")\n",
    "best_learning_rate, best_max_iter = 10, 0.01\n",
    "print(\"Logistic Regesssion Multi Classes\")\n",
    "print('Best Max Iteration', best_max_iter)\n",
    "print(\"best_learning_rate\", best_learning_rate)\n",
    "# Logistic Regesssion Multi Classes\n",
    "# Best Max Iteration 10\n",
    "# best_learning_rate 0.01"
   ]
  },
  {
   "cell_type": "code",
   "execution_count": null,
   "metadata": {
    "colab": {
     "base_uri": "https://localhost:8080/"
    },
    "id": "s5Snbb8Kggzv",
    "outputId": "cf894972-73f0-4e19-9be6-ff62ab713b36"
   },
   "outputs": [
    {
     "name": "stdout",
     "output_type": "stream",
     "text": [
      "LogR multi score: [94.22, 79.35, 66.67, 65.58, 60.14]/ LogR multi avg score: 73.19\n"
     ]
    }
   ],
   "source": [
    "LogR_score_multi = LogR_multi_fold(validated_train_car, 'class', best_max_iter , best_learning_rate, \"classification score\")\n",
    "LogR_avg_score_multi  = round(np.mean(LogR_score_multi),2)\n",
    "print(\"LogR multi score: \" + str(LogR_score_multi) + \"/ LogR multi avg score: \"+ str(LogR_avg_score_multi))\n",
    "#LR multi score: [90.25, 79.35, 66.67, 65.58, 60.14]/ LR multi avg score: 72.398"
   ]
  },
  {
   "cell_type": "markdown",
   "metadata": {
    "id": "yrtfTLTxggzv"
   },
   "source": [
    "### Car FFBP"
   ]
  },
  {
   "cell_type": "code",
   "execution_count": null,
   "metadata": {
    "colab": {
     "base_uri": "https://localhost:8080/"
    },
    "id": "02iCBajpggzw",
    "outputId": "169954b4-c4ad-4f29-f671-b675e69ab597"
   },
   "outputs": [
    {
     "name": "stdout",
     "output_type": "stream",
     "text": [
      "Feedforward with Backpropagation Classification\n",
      "Best Max Iteration 10\n",
      "best_learning_rate 0.1\n",
      "best_hidden_node 7\n"
     ]
    }
   ],
   "source": [
    "max_iter_list = [10, 20]\n",
    "learning_rate_list = [0.001, 0.005, 0.01, 0.05, 0.1]\n",
    "hidden_node_list = [5, 6, 7]\n",
    "\n",
    "# best_learning_rate, best_max_iter, best_hidden_node = tuning_FFBP_classification(tuning_car, max_iter_list, \n",
    "#                                                                                  learning_rate_list, hidden_node_list, \n",
    "#                                                                                  'class', 'classification score')\n",
    "\n",
    "best_learning_rate, best_max_iter, best_hidden_node = 0.1, 10, 7\n",
    "print(\"Feedforward with Backpropagation Classification\")\n",
    "print('Best Max Iteration', best_max_iter)\n",
    "print(\"best_learning_rate\", best_learning_rate)\n",
    "print(\"best_hidden_node\", best_hidden_node)\n",
    "# Feedforward with Backpropagation Classification\n",
    "# Best Max Iteration 10\n",
    "# best_learning_rate 0.1\n",
    "# best_hidden_node 7"
   ]
  },
  {
   "cell_type": "code",
   "execution_count": null,
   "metadata": {
    "colab": {
     "base_uri": "https://localhost:8080/"
    },
    "id": "a3F4RSaWggzy",
    "outputId": "29942992-14d3-4cac-b19e-ff8396c1fb9e"
   },
   "outputs": [
    {
     "name": "stdout",
     "output_type": "stream",
     "text": [
      "FFBP score: [86.28, 86.59, 83.7, 86.96, 66.67]/ FFBP avg score: 82.04\n"
     ]
    }
   ],
   "source": [
    "FFBP_class_score = FFBP_classification_fold(validated_train_car, 'class',best_hidden_node, best_hidden_node, \n",
    "                                      best_max_iter , best_learning_rate, \"classification score\")\n",
    "FFBP_avg_class_score = round(np.mean(FFBP_class_score),2)\n",
    "print(\"FFBP score: \" + str(FFBP_class_score) + \"/ FFBP avg score: \"+ str(FFBP_avg_class_score))\n",
    "#FFBP score: [86.28, 86.59, 83.7, 86.96, 66.67]/ FFBP avg score: 82.04"
   ]
  },
  {
   "cell_type": "markdown",
   "metadata": {
    "id": "ipEgtjrsggzz"
   },
   "source": [
    "### Car Autoencoder"
   ]
  },
  {
   "cell_type": "code",
   "execution_count": null,
   "metadata": {
    "colab": {
     "base_uri": "https://localhost:8080/"
    },
    "id": "3bsjQkVIggz0",
    "outputId": "a41dfc54-88a1-49b7-c0c1-be3c6eb0c927"
   },
   "outputs": [
    {
     "name": "stdout",
     "output_type": "stream",
     "text": [
      "Autoencoder\n",
      "Best Max Iteration 10\n",
      "best_learning_rate 0.01\n",
      "best_encoding_node 2\n",
      "best_hidden_node 5\n"
     ]
    }
   ],
   "source": [
    "max_iter_list = [10, 20]\n",
    "learning_rate_list = [0.001, 0.005, 0.01, 0.05, 0.1]\n",
    "encoding_node_list = [2,3]\n",
    "hidden_node_list = [5, 6, 7]\n",
    "\n",
    "# best_learning_rate, best_max_iter, best_encoding_node, best_hidden_node = tuning_autoencoder_classification(tuning_car, max_iter_list, \n",
    "#                                                                                                      learning_rate_list, encoding_node_list,\n",
    "#                                                                                                      hidden_node_list, 'class', 'classification score')\n",
    "\n",
    "best_learning_rate, best_max_iter, best_encoding_node, best_hidden_node=0.001, 10, 2, 5\n",
    "print(\"Autoencoder\")\n",
    "print('Best Max Iteration', best_max_iter)\n",
    "print(\"best_learning_rate\", best_learning_rate)\n",
    "print(\"best_encoding_node\", best_encoding_node)\n",
    "print(\"best_hidden_node\", best_hidden_node)\n",
    "# Autoencoder\n",
    "# Best Max Iteration 10\n",
    "# best_learning_rate 0.001\n",
    "# best_encoding_node 2\n",
    "# best_hidden_node 5"
   ]
  },
  {
   "cell_type": "code",
   "execution_count": null,
   "metadata": {
    "colab": {
     "base_uri": "https://localhost:8080/"
    },
    "id": "8u41v-KRggz0",
    "outputId": "70808996-a2d8-4a6c-b8b6-e2ffb687e5ba"
   },
   "outputs": [
    {
     "name": "stdout",
     "output_type": "stream",
     "text": [
      "Autoencoder score: [94.22, 79.35, 66.67, 65.58, 60.14]/ Autoencoder avg score: 73.19\n"
     ]
    }
   ],
   "source": [
    "autoencoder_class_score = autoencoder_classification_fold(validated_train_car, 'class', best_encoding_node, \n",
    "                                                    best_hidden_node, best_max_iter , best_learning_rate, \"classification score\")\n",
    "autoencoder_class_avg_score  = round(np.mean(autoencoder_class_score),2)\n",
    "print(\"Autoencoder score: \" + str(autoencoder_class_score) + \"/ Autoencoder avg score: \"+ str(autoencoder_class_avg_score))\n",
    "#Autoencoder score: [94.22, 79.35, 66.67, 65.58, 60.14]/ Autoencoder avg score: 73.19"
   ]
  },
  {
   "cell_type": "markdown",
   "metadata": {
    "id": "YEN1XnYdqq3u"
   },
   "source": [
    "## Congressional Vote"
   ]
  },
  {
   "cell_type": "code",
   "execution_count": null,
   "metadata": {
    "colab": {
     "base_uri": "https://localhost:8080/",
     "height": 270
    },
    "id": "ExWyCgWlqq3v",
    "outputId": "83ffcf97-db28-4f13-b461-552a27f34b63"
   },
   "outputs": [
    {
     "data": {
      "text/html": [
       "\n",
       "  <div id=\"df-c533e403-b3b7-4b22-838b-49d81347b263\">\n",
       "    <div class=\"colab-df-container\">\n",
       "      <div>\n",
       "<style scoped>\n",
       "    .dataframe tbody tr th:only-of-type {\n",
       "        vertical-align: middle;\n",
       "    }\n",
       "\n",
       "    .dataframe tbody tr th {\n",
       "        vertical-align: top;\n",
       "    }\n",
       "\n",
       "    .dataframe thead th {\n",
       "        text-align: right;\n",
       "    }\n",
       "</style>\n",
       "<table border=\"1\" class=\"dataframe\">\n",
       "  <thead>\n",
       "    <tr style=\"text-align: right;\">\n",
       "      <th></th>\n",
       "      <th>class</th>\n",
       "      <th>infants</th>\n",
       "      <th>water</th>\n",
       "      <th>budget</th>\n",
       "      <th>physician</th>\n",
       "      <th>salvador</th>\n",
       "      <th>religious</th>\n",
       "      <th>satellite</th>\n",
       "      <th>aid</th>\n",
       "      <th>missile</th>\n",
       "      <th>immigration</th>\n",
       "      <th>synfuels</th>\n",
       "      <th>education</th>\n",
       "      <th>superfund</th>\n",
       "      <th>crime</th>\n",
       "      <th>duty_free_exports</th>\n",
       "      <th>eaa_rsa</th>\n",
       "    </tr>\n",
       "  </thead>\n",
       "  <tbody>\n",
       "    <tr>\n",
       "      <th>0</th>\n",
       "      <td>republican</td>\n",
       "      <td>n</td>\n",
       "      <td>y</td>\n",
       "      <td>n</td>\n",
       "      <td>y</td>\n",
       "      <td>y</td>\n",
       "      <td>y</td>\n",
       "      <td>n</td>\n",
       "      <td>n</td>\n",
       "      <td>n</td>\n",
       "      <td>y</td>\n",
       "      <td>?</td>\n",
       "      <td>y</td>\n",
       "      <td>y</td>\n",
       "      <td>y</td>\n",
       "      <td>n</td>\n",
       "      <td>y</td>\n",
       "    </tr>\n",
       "    <tr>\n",
       "      <th>1</th>\n",
       "      <td>republican</td>\n",
       "      <td>n</td>\n",
       "      <td>y</td>\n",
       "      <td>n</td>\n",
       "      <td>y</td>\n",
       "      <td>y</td>\n",
       "      <td>y</td>\n",
       "      <td>n</td>\n",
       "      <td>n</td>\n",
       "      <td>n</td>\n",
       "      <td>n</td>\n",
       "      <td>n</td>\n",
       "      <td>y</td>\n",
       "      <td>y</td>\n",
       "      <td>y</td>\n",
       "      <td>n</td>\n",
       "      <td>?</td>\n",
       "    </tr>\n",
       "    <tr>\n",
       "      <th>2</th>\n",
       "      <td>democrat</td>\n",
       "      <td>?</td>\n",
       "      <td>y</td>\n",
       "      <td>y</td>\n",
       "      <td>?</td>\n",
       "      <td>y</td>\n",
       "      <td>y</td>\n",
       "      <td>n</td>\n",
       "      <td>n</td>\n",
       "      <td>n</td>\n",
       "      <td>n</td>\n",
       "      <td>y</td>\n",
       "      <td>n</td>\n",
       "      <td>y</td>\n",
       "      <td>y</td>\n",
       "      <td>n</td>\n",
       "      <td>n</td>\n",
       "    </tr>\n",
       "    <tr>\n",
       "      <th>3</th>\n",
       "      <td>democrat</td>\n",
       "      <td>n</td>\n",
       "      <td>y</td>\n",
       "      <td>y</td>\n",
       "      <td>n</td>\n",
       "      <td>?</td>\n",
       "      <td>y</td>\n",
       "      <td>n</td>\n",
       "      <td>n</td>\n",
       "      <td>n</td>\n",
       "      <td>n</td>\n",
       "      <td>y</td>\n",
       "      <td>n</td>\n",
       "      <td>y</td>\n",
       "      <td>n</td>\n",
       "      <td>n</td>\n",
       "      <td>y</td>\n",
       "    </tr>\n",
       "    <tr>\n",
       "      <th>4</th>\n",
       "      <td>democrat</td>\n",
       "      <td>y</td>\n",
       "      <td>y</td>\n",
       "      <td>y</td>\n",
       "      <td>n</td>\n",
       "      <td>y</td>\n",
       "      <td>y</td>\n",
       "      <td>n</td>\n",
       "      <td>n</td>\n",
       "      <td>n</td>\n",
       "      <td>n</td>\n",
       "      <td>y</td>\n",
       "      <td>?</td>\n",
       "      <td>y</td>\n",
       "      <td>y</td>\n",
       "      <td>y</td>\n",
       "      <td>y</td>\n",
       "    </tr>\n",
       "  </tbody>\n",
       "</table>\n",
       "</div>\n",
       "      <button class=\"colab-df-convert\" onclick=\"convertToInteractive('df-c533e403-b3b7-4b22-838b-49d81347b263')\"\n",
       "              title=\"Convert this dataframe to an interactive table.\"\n",
       "              style=\"display:none;\">\n",
       "        \n",
       "  <svg xmlns=\"http://www.w3.org/2000/svg\" height=\"24px\"viewBox=\"0 0 24 24\"\n",
       "       width=\"24px\">\n",
       "    <path d=\"M0 0h24v24H0V0z\" fill=\"none\"/>\n",
       "    <path d=\"M18.56 5.44l.94 2.06.94-2.06 2.06-.94-2.06-.94-.94-2.06-.94 2.06-2.06.94zm-11 1L8.5 8.5l.94-2.06 2.06-.94-2.06-.94L8.5 2.5l-.94 2.06-2.06.94zm10 10l.94 2.06.94-2.06 2.06-.94-2.06-.94-.94-2.06-.94 2.06-2.06.94z\"/><path d=\"M17.41 7.96l-1.37-1.37c-.4-.4-.92-.59-1.43-.59-.52 0-1.04.2-1.43.59L10.3 9.45l-7.72 7.72c-.78.78-.78 2.05 0 2.83L4 21.41c.39.39.9.59 1.41.59.51 0 1.02-.2 1.41-.59l7.78-7.78 2.81-2.81c.8-.78.8-2.07 0-2.86zM5.41 20L4 18.59l7.72-7.72 1.47 1.35L5.41 20z\"/>\n",
       "  </svg>\n",
       "      </button>\n",
       "      \n",
       "  <style>\n",
       "    .colab-df-container {\n",
       "      display:flex;\n",
       "      flex-wrap:wrap;\n",
       "      gap: 12px;\n",
       "    }\n",
       "\n",
       "    .colab-df-convert {\n",
       "      background-color: #E8F0FE;\n",
       "      border: none;\n",
       "      border-radius: 50%;\n",
       "      cursor: pointer;\n",
       "      display: none;\n",
       "      fill: #1967D2;\n",
       "      height: 32px;\n",
       "      padding: 0 0 0 0;\n",
       "      width: 32px;\n",
       "    }\n",
       "\n",
       "    .colab-df-convert:hover {\n",
       "      background-color: #E2EBFA;\n",
       "      box-shadow: 0px 1px 2px rgba(60, 64, 67, 0.3), 0px 1px 3px 1px rgba(60, 64, 67, 0.15);\n",
       "      fill: #174EA6;\n",
       "    }\n",
       "\n",
       "    [theme=dark] .colab-df-convert {\n",
       "      background-color: #3B4455;\n",
       "      fill: #D2E3FC;\n",
       "    }\n",
       "\n",
       "    [theme=dark] .colab-df-convert:hover {\n",
       "      background-color: #434B5C;\n",
       "      box-shadow: 0px 1px 3px 1px rgba(0, 0, 0, 0.15);\n",
       "      filter: drop-shadow(0px 1px 2px rgba(0, 0, 0, 0.3));\n",
       "      fill: #FFFFFF;\n",
       "    }\n",
       "  </style>\n",
       "\n",
       "      <script>\n",
       "        const buttonEl =\n",
       "          document.querySelector('#df-c533e403-b3b7-4b22-838b-49d81347b263 button.colab-df-convert');\n",
       "        buttonEl.style.display =\n",
       "          google.colab.kernel.accessAllowed ? 'block' : 'none';\n",
       "\n",
       "        async function convertToInteractive(key) {\n",
       "          const element = document.querySelector('#df-c533e403-b3b7-4b22-838b-49d81347b263');\n",
       "          const dataTable =\n",
       "            await google.colab.kernel.invokeFunction('convertToInteractive',\n",
       "                                                     [key], {});\n",
       "          if (!dataTable) return;\n",
       "\n",
       "          const docLinkHtml = 'Like what you see? Visit the ' +\n",
       "            '<a target=\"_blank\" href=https://colab.research.google.com/notebooks/data_table.ipynb>data table notebook</a>'\n",
       "            + ' to learn more about interactive tables.';\n",
       "          element.innerHTML = '';\n",
       "          dataTable['output_type'] = 'display_data';\n",
       "          await google.colab.output.renderOutput(dataTable, element);\n",
       "          const docLink = document.createElement('div');\n",
       "          docLink.innerHTML = docLinkHtml;\n",
       "          element.appendChild(docLink);\n",
       "        }\n",
       "      </script>\n",
       "    </div>\n",
       "  </div>\n",
       "  "
      ],
      "text/plain": [
       "        class infants water budget physician salvador religious satellite aid  \\\n",
       "0  republican       n     y      n         y        y         y         n   n   \n",
       "1  republican       n     y      n         y        y         y         n   n   \n",
       "2    democrat       ?     y      y         ?        y         y         n   n   \n",
       "3    democrat       n     y      y         n        ?         y         n   n   \n",
       "4    democrat       y     y      y         n        y         y         n   n   \n",
       "\n",
       "  missile immigration synfuels education superfund crime duty_free_exports  \\\n",
       "0       n           y        ?         y         y     y                 n   \n",
       "1       n           n        n         y         y     y                 n   \n",
       "2       n           n        y         n         y     y                 n   \n",
       "3       n           n        y         n         y     n                 n   \n",
       "4       n           n        y         ?         y     y                 y   \n",
       "\n",
       "  eaa_rsa  \n",
       "0       y  \n",
       "1       ?  \n",
       "2       n  \n",
       "3       y  \n",
       "4       y  "
      ]
     },
     "execution_count": 101,
     "metadata": {},
     "output_type": "execute_result"
    }
   ],
   "source": [
    "vote_dataset = open_csv_dataset('vote', True)\n",
    "vote_dataset.head()"
   ]
  },
  {
   "cell_type": "code",
   "execution_count": null,
   "metadata": {
    "colab": {
     "base_uri": "https://localhost:8080/"
    },
    "id": "tzuVs_zTqq3v",
    "outputId": "2ba8a841-bfad-4e76-fb06-eb73d76f52c0"
   },
   "outputs": [
    {
     "data": {
      "text/plain": [
       "False"
      ]
     },
     "execution_count": 102,
     "metadata": {},
     "output_type": "execute_result"
    }
   ],
   "source": [
    "vote_dataset.isnull().sum().any()"
   ]
  },
  {
   "cell_type": "code",
   "execution_count": null,
   "metadata": {
    "colab": {
     "base_uri": "https://localhost:8080/",
     "height": 270
    },
    "id": "UdBOR2b3qq3v",
    "outputId": "904293b8-49dd-4393-d836-40e185dcb49a"
   },
   "outputs": [
    {
     "data": {
      "text/html": [
       "\n",
       "  <div id=\"df-f10d236f-0e11-4bba-b5cc-5dc4c99cd4ab\">\n",
       "    <div class=\"colab-df-container\">\n",
       "      <div>\n",
       "<style scoped>\n",
       "    .dataframe tbody tr th:only-of-type {\n",
       "        vertical-align: middle;\n",
       "    }\n",
       "\n",
       "    .dataframe tbody tr th {\n",
       "        vertical-align: top;\n",
       "    }\n",
       "\n",
       "    .dataframe thead th {\n",
       "        text-align: right;\n",
       "    }\n",
       "</style>\n",
       "<table border=\"1\" class=\"dataframe\">\n",
       "  <thead>\n",
       "    <tr style=\"text-align: right;\">\n",
       "      <th></th>\n",
       "      <th>class</th>\n",
       "      <th>infants</th>\n",
       "      <th>water</th>\n",
       "      <th>budget</th>\n",
       "      <th>physician</th>\n",
       "      <th>salvador</th>\n",
       "      <th>religious</th>\n",
       "      <th>satellite</th>\n",
       "      <th>aid</th>\n",
       "      <th>missile</th>\n",
       "      <th>immigration</th>\n",
       "      <th>synfuels</th>\n",
       "      <th>education</th>\n",
       "      <th>superfund</th>\n",
       "      <th>crime</th>\n",
       "      <th>duty_free_exports</th>\n",
       "      <th>eaa_rsa</th>\n",
       "    </tr>\n",
       "  </thead>\n",
       "  <tbody>\n",
       "    <tr>\n",
       "      <th>0</th>\n",
       "      <td>0</td>\n",
       "      <td>0</td>\n",
       "      <td>0</td>\n",
       "      <td>0</td>\n",
       "      <td>0</td>\n",
       "      <td>0</td>\n",
       "      <td>0</td>\n",
       "      <td>0</td>\n",
       "      <td>0</td>\n",
       "      <td>0</td>\n",
       "      <td>0</td>\n",
       "      <td>0</td>\n",
       "      <td>0</td>\n",
       "      <td>0</td>\n",
       "      <td>0</td>\n",
       "      <td>0</td>\n",
       "      <td>0</td>\n",
       "    </tr>\n",
       "    <tr>\n",
       "      <th>1</th>\n",
       "      <td>0</td>\n",
       "      <td>0</td>\n",
       "      <td>0</td>\n",
       "      <td>0</td>\n",
       "      <td>0</td>\n",
       "      <td>0</td>\n",
       "      <td>0</td>\n",
       "      <td>0</td>\n",
       "      <td>0</td>\n",
       "      <td>0</td>\n",
       "      <td>1</td>\n",
       "      <td>1</td>\n",
       "      <td>0</td>\n",
       "      <td>0</td>\n",
       "      <td>0</td>\n",
       "      <td>0</td>\n",
       "      <td>1</td>\n",
       "    </tr>\n",
       "    <tr>\n",
       "      <th>2</th>\n",
       "      <td>1</td>\n",
       "      <td>1</td>\n",
       "      <td>0</td>\n",
       "      <td>1</td>\n",
       "      <td>1</td>\n",
       "      <td>0</td>\n",
       "      <td>0</td>\n",
       "      <td>0</td>\n",
       "      <td>0</td>\n",
       "      <td>0</td>\n",
       "      <td>1</td>\n",
       "      <td>2</td>\n",
       "      <td>1</td>\n",
       "      <td>0</td>\n",
       "      <td>0</td>\n",
       "      <td>0</td>\n",
       "      <td>2</td>\n",
       "    </tr>\n",
       "    <tr>\n",
       "      <th>3</th>\n",
       "      <td>1</td>\n",
       "      <td>0</td>\n",
       "      <td>0</td>\n",
       "      <td>1</td>\n",
       "      <td>2</td>\n",
       "      <td>1</td>\n",
       "      <td>0</td>\n",
       "      <td>0</td>\n",
       "      <td>0</td>\n",
       "      <td>0</td>\n",
       "      <td>1</td>\n",
       "      <td>2</td>\n",
       "      <td>1</td>\n",
       "      <td>0</td>\n",
       "      <td>1</td>\n",
       "      <td>0</td>\n",
       "      <td>0</td>\n",
       "    </tr>\n",
       "    <tr>\n",
       "      <th>4</th>\n",
       "      <td>1</td>\n",
       "      <td>2</td>\n",
       "      <td>0</td>\n",
       "      <td>1</td>\n",
       "      <td>2</td>\n",
       "      <td>0</td>\n",
       "      <td>0</td>\n",
       "      <td>0</td>\n",
       "      <td>0</td>\n",
       "      <td>0</td>\n",
       "      <td>1</td>\n",
       "      <td>2</td>\n",
       "      <td>2</td>\n",
       "      <td>0</td>\n",
       "      <td>0</td>\n",
       "      <td>1</td>\n",
       "      <td>0</td>\n",
       "    </tr>\n",
       "  </tbody>\n",
       "</table>\n",
       "</div>\n",
       "      <button class=\"colab-df-convert\" onclick=\"convertToInteractive('df-f10d236f-0e11-4bba-b5cc-5dc4c99cd4ab')\"\n",
       "              title=\"Convert this dataframe to an interactive table.\"\n",
       "              style=\"display:none;\">\n",
       "        \n",
       "  <svg xmlns=\"http://www.w3.org/2000/svg\" height=\"24px\"viewBox=\"0 0 24 24\"\n",
       "       width=\"24px\">\n",
       "    <path d=\"M0 0h24v24H0V0z\" fill=\"none\"/>\n",
       "    <path d=\"M18.56 5.44l.94 2.06.94-2.06 2.06-.94-2.06-.94-.94-2.06-.94 2.06-2.06.94zm-11 1L8.5 8.5l.94-2.06 2.06-.94-2.06-.94L8.5 2.5l-.94 2.06-2.06.94zm10 10l.94 2.06.94-2.06 2.06-.94-2.06-.94-.94-2.06-.94 2.06-2.06.94z\"/><path d=\"M17.41 7.96l-1.37-1.37c-.4-.4-.92-.59-1.43-.59-.52 0-1.04.2-1.43.59L10.3 9.45l-7.72 7.72c-.78.78-.78 2.05 0 2.83L4 21.41c.39.39.9.59 1.41.59.51 0 1.02-.2 1.41-.59l7.78-7.78 2.81-2.81c.8-.78.8-2.07 0-2.86zM5.41 20L4 18.59l7.72-7.72 1.47 1.35L5.41 20z\"/>\n",
       "  </svg>\n",
       "      </button>\n",
       "      \n",
       "  <style>\n",
       "    .colab-df-container {\n",
       "      display:flex;\n",
       "      flex-wrap:wrap;\n",
       "      gap: 12px;\n",
       "    }\n",
       "\n",
       "    .colab-df-convert {\n",
       "      background-color: #E8F0FE;\n",
       "      border: none;\n",
       "      border-radius: 50%;\n",
       "      cursor: pointer;\n",
       "      display: none;\n",
       "      fill: #1967D2;\n",
       "      height: 32px;\n",
       "      padding: 0 0 0 0;\n",
       "      width: 32px;\n",
       "    }\n",
       "\n",
       "    .colab-df-convert:hover {\n",
       "      background-color: #E2EBFA;\n",
       "      box-shadow: 0px 1px 2px rgba(60, 64, 67, 0.3), 0px 1px 3px 1px rgba(60, 64, 67, 0.15);\n",
       "      fill: #174EA6;\n",
       "    }\n",
       "\n",
       "    [theme=dark] .colab-df-convert {\n",
       "      background-color: #3B4455;\n",
       "      fill: #D2E3FC;\n",
       "    }\n",
       "\n",
       "    [theme=dark] .colab-df-convert:hover {\n",
       "      background-color: #434B5C;\n",
       "      box-shadow: 0px 1px 3px 1px rgba(0, 0, 0, 0.15);\n",
       "      filter: drop-shadow(0px 1px 2px rgba(0, 0, 0, 0.3));\n",
       "      fill: #FFFFFF;\n",
       "    }\n",
       "  </style>\n",
       "\n",
       "      <script>\n",
       "        const buttonEl =\n",
       "          document.querySelector('#df-f10d236f-0e11-4bba-b5cc-5dc4c99cd4ab button.colab-df-convert');\n",
       "        buttonEl.style.display =\n",
       "          google.colab.kernel.accessAllowed ? 'block' : 'none';\n",
       "\n",
       "        async function convertToInteractive(key) {\n",
       "          const element = document.querySelector('#df-f10d236f-0e11-4bba-b5cc-5dc4c99cd4ab');\n",
       "          const dataTable =\n",
       "            await google.colab.kernel.invokeFunction('convertToInteractive',\n",
       "                                                     [key], {});\n",
       "          if (!dataTable) return;\n",
       "\n",
       "          const docLinkHtml = 'Like what you see? Visit the ' +\n",
       "            '<a target=\"_blank\" href=https://colab.research.google.com/notebooks/data_table.ipynb>data table notebook</a>'\n",
       "            + ' to learn more about interactive tables.';\n",
       "          element.innerHTML = '';\n",
       "          dataTable['output_type'] = 'display_data';\n",
       "          await google.colab.output.renderOutput(dataTable, element);\n",
       "          const docLink = document.createElement('div');\n",
       "          docLink.innerHTML = docLinkHtml;\n",
       "          element.appendChild(docLink);\n",
       "        }\n",
       "      </script>\n",
       "    </div>\n",
       "  </div>\n",
       "  "
      ],
      "text/plain": [
       "   class  infants  water  budget  physician  salvador  religious  satellite  \\\n",
       "0      0        0      0       0          0         0          0          0   \n",
       "1      0        0      0       0          0         0          0          0   \n",
       "2      1        1      0       1          1         0          0          0   \n",
       "3      1        0      0       1          2         1          0          0   \n",
       "4      1        2      0       1          2         0          0          0   \n",
       "\n",
       "   aid  missile  immigration  synfuels  education  superfund  crime  \\\n",
       "0    0        0            0         0          0          0      0   \n",
       "1    0        0            1         1          0          0      0   \n",
       "2    0        0            1         2          1          0      0   \n",
       "3    0        0            1         2          1          0      1   \n",
       "4    0        0            1         2          2          0      0   \n",
       "\n",
       "   duty_free_exports  eaa_rsa  \n",
       "0                  0        0  \n",
       "1                  0        1  \n",
       "2                  0        2  \n",
       "3                  0        0  \n",
       "4                  1        0  "
      ]
     },
     "execution_count": 103,
     "metadata": {},
     "output_type": "execute_result"
    }
   ],
   "source": [
    "categorized_vote_datast = replacing_string_to_numeric_all_columns(vote_dataset)\n",
    "categorized_vote_datast.head()"
   ]
  },
  {
   "cell_type": "code",
   "execution_count": null,
   "metadata": {
    "id": "WIZGRVp3qq3w"
   },
   "outputs": [],
   "source": [
    "vote_dataset_v1  = categorized_vote_datast.copy()"
   ]
  },
  {
   "cell_type": "code",
   "execution_count": null,
   "metadata": {
    "id": "cXAyGZAWqq3w"
   },
   "outputs": [],
   "source": [
    "train_vote_dataset, test_vote_dataset = split_dataset(vote_dataset_v1, 0.8)"
   ]
  },
  {
   "cell_type": "code",
   "execution_count": null,
   "metadata": {
    "id": "ERM-kYbRqq3w"
   },
   "outputs": [],
   "source": [
    "train_vote_zscore_dataset, test_vote_zscore_dataset  = Standardization(train_vote_dataset,test_vote_dataset)"
   ]
  },
  {
   "cell_type": "code",
   "execution_count": null,
   "metadata": {
    "id": "kzYz_nfDqq3x"
   },
   "outputs": [],
   "source": [
    "validated_train_vote = cross_validation(train_vote_dataset,5)"
   ]
  },
  {
   "cell_type": "code",
   "execution_count": null,
   "metadata": {
    "colab": {
     "base_uri": "https://localhost:8080/"
    },
    "id": "KsbtU4kVqq3x",
    "outputId": "1e23b2d5-f0eb-47b2-c38e-62b9bce557d7"
   },
   "outputs": [
    {
     "data": {
      "text/plain": [
       "[70, 70, 70, 70, 68]"
      ]
     },
     "execution_count": 108,
     "metadata": {},
     "output_type": "execute_result"
    }
   ],
   "source": [
    "validated_train_vote_size = []\n",
    "for i in range(0, 5):\n",
    "    validated_train_vote_size.append(validated_train_vote[i].shape[0])\n",
    "validated_train_vote_size"
   ]
  },
  {
   "cell_type": "code",
   "execution_count": null,
   "metadata": {
    "id": "y7Fd5sw8qq3x"
   },
   "outputs": [],
   "source": [
    "tuning_vote = cross_validation(test_vote_dataset ,5)"
   ]
  },
  {
   "cell_type": "code",
   "execution_count": null,
   "metadata": {
    "colab": {
     "base_uri": "https://localhost:8080/"
    },
    "id": "z_I8THuvqq3y",
    "outputId": "981689ae-10a8-4017-c26c-bfb92668c412"
   },
   "outputs": [
    {
     "data": {
      "text/plain": [
       "[18, 18, 17, 17, 16]"
      ]
     },
     "execution_count": 110,
     "metadata": {},
     "output_type": "execute_result"
    }
   ],
   "source": [
    "tuning_vote_size = []\n",
    "for i in range(0, 5):\n",
    "    tuning_vote_size.append(tuning_vote[i].shape[0])\n",
    "tuning_vote_size"
   ]
  },
  {
   "cell_type": "markdown",
   "metadata": {
    "id": "vCl7kfukggz_"
   },
   "source": [
    "### Vote Logistic Regression"
   ]
  },
  {
   "cell_type": "code",
   "execution_count": null,
   "metadata": {
    "colab": {
     "base_uri": "https://localhost:8080/"
    },
    "id": "Y340rg7Ugg0A",
    "outputId": "b9b9785a-19be-44b6-83ea-7239032db1db"
   },
   "outputs": [
    {
     "name": "stdout",
     "output_type": "stream",
     "text": [
      "Logistic Regesssion Binary Classes\n",
      "Best Max Iteration 20\n",
      "best_learning_rate 0.1\n"
     ]
    }
   ],
   "source": [
    "learning_rate_list = [0.01, 0.05, 0.1]\n",
    "max_iter_list = [10, 20, 50]\n",
    "\n",
    "best_learning_rate, best_max_iter = tuning_LogR_single(tuning_vote, \n",
    "                                                        max_iter_list, \n",
    "                                                       learning_rate_list, \n",
    "                                                       'class', \n",
    "                                                       \"classification score\")\n",
    "\n",
    "best_learning_rate, best_max_iter = 20, 0.1                                                       \n",
    "print(\"Logistic Regesssion Binary Classes\")\n",
    "print('Best Max Iteration', best_max_iter)\n",
    "print(\"best_learning_rate\", best_learning_rate)\n",
    "# Logistic Regesssion Binary Classes\n",
    "# Best Max Iteration 20\n",
    "# best_learning_rate 0.1"
   ]
  },
  {
   "cell_type": "code",
   "execution_count": null,
   "metadata": {
    "colab": {
     "base_uri": "https://localhost:8080/"
    },
    "id": "XOKO1Hk2gg0B",
    "outputId": "1ca04ee6-a8ac-4201-b21b-a95d12f5b399"
   },
   "outputs": [
    {
     "name": "stdout",
     "output_type": "stream",
     "text": [
      "LogR binary score: [98.57, 92.86, 95.71, 94.29, 97.06]/ LogR binary avg score: 95.698\n"
     ]
    }
   ],
   "source": [
    "LogR_score_binary = LogR_binary_fold(validated_train_vote, 'class', best_max_iter , best_learning_rate, \"classification score\")\n",
    "LogR_avg_score_binary  = round(np.mean(LogR_score_binary),2)\n",
    "print(\"LogR binary score: \" + str(LogR_score_binary) + \"/ LogR binary avg score: \"+ str(LogR_avg_score_binary ))\n",
    "#LogR binary score: [98.57, 92.86, 95.71, 94.29, 97.06]/ LogR binary avg score: 95.7"
   ]
  },
  {
   "cell_type": "markdown",
   "metadata": {
    "id": "f51sBn_Qgg0C"
   },
   "source": [
    "### Vote FFBP"
   ]
  },
  {
   "cell_type": "code",
   "execution_count": null,
   "metadata": {
    "colab": {
     "base_uri": "https://localhost:8080/"
    },
    "id": "Xl-BvO9rgg0C",
    "outputId": "309a5061-ff2d-4c53-8be0-04aa5439135a"
   },
   "outputs": [
    {
     "name": "stdout",
     "output_type": "stream",
     "text": [
      "Feedforward with Backpropagation Classification\n",
      "Best Max Iteration 20\n",
      "best_learning_rate 0.1\n",
      "best_hidden_node 6\n"
     ]
    }
   ],
   "source": [
    "max_iter_list = [10, 20]\n",
    "learning_rate_list = [0.001, 0.005, 0.01, 0.05, 0.1]\n",
    "hidden_node_list = [5, 6, 7]\n",
    "\n",
    "# best_learning_rate, best_max_iter, best_hidden_node = tuning_FFBP_classification(tuning_vote, max_iter_list, \n",
    "#                                                                                  learning_rate_list, hidden_node_list, \n",
    "#                                                                                  'class', 'classification score')\n",
    "best_learning_rate, best_max_iter, best_hidden_node = 0.1, 20, 6\n",
    "print(\"Feedforward with Backpropagation Classification\")\n",
    "print('Best Max Iteration', best_max_iter)\n",
    "print(\"best_learning_rate\", best_learning_rate)\n",
    "print(\"best_hidden_node\", best_hidden_node)\n",
    "# Feedforward with Backpropagation Classification\n",
    "# Best Max Iteration 20\n",
    "# best_learning_rate 0.1\n",
    "# best_hidden_node 6"
   ]
  },
  {
   "cell_type": "code",
   "execution_count": null,
   "metadata": {
    "colab": {
     "base_uri": "https://localhost:8080/"
    },
    "id": "lQZtx8Jegg0C",
    "outputId": "12c13de5-ed58-4fdd-d940-3cfa15e633a8"
   },
   "outputs": [
    {
     "name": "stdout",
     "output_type": "stream",
     "text": [
      "FFBP score: [98.57, 94.29, 95.71, 94.29, 98.53]/ FFBP avg score: 96.28\n"
     ]
    }
   ],
   "source": [
    "FFBP_class_score = FFBP_classification_fold(validated_train_vote, 'class',best_hidden_node, best_hidden_node, \n",
    "                                      best_max_iter , best_learning_rate, \"classification score\")\n",
    "FFBP_avg_class_score = round(np.mean(FFBP_class_score),2)\n",
    "print(\"FFBP score: \" + str(FFBP_class_score) + \"/ FFBP avg score: \"+ str(FFBP_avg_class_score))\n",
    "#FFBP score: [98.57, 94.29, 95.71, 94.29, 98.53]/ FFBP avg score: 96.28"
   ]
  },
  {
   "cell_type": "markdown",
   "metadata": {
    "id": "5NFdL7lkgg0D"
   },
   "source": [
    "### Vote Autoencoder"
   ]
  },
  {
   "cell_type": "code",
   "execution_count": null,
   "metadata": {
    "colab": {
     "base_uri": "https://localhost:8080/"
    },
    "id": "wyq3_-WAgg0E",
    "outputId": "8aee889d-244d-46d3-911b-55a7a0314a6b"
   },
   "outputs": [
    {
     "name": "stdout",
     "output_type": "stream",
     "text": [
      "Autoencoder\n",
      "Best Max Iteration 20\n",
      "best_learning_rate 0.1\n",
      "best_encoding_node 2\n",
      "best_hidden_node 7\n"
     ]
    }
   ],
   "source": [
    "max_iter_list = [10, 20]\n",
    "learning_rate_list = [0.001, 0.005, 0.01, 0.05, 0.1]\n",
    "encoding_node_list = [2,3]\n",
    "hidden_node_list = [5, 6, 7]\n",
    "\n",
    "# best_learning_rate, best_max_iter, best_encoding_node, best_hidden_node = tuning_autoencoder_classification(tuning_vote, max_iter_list, \n",
    "#                                                                                                      learning_rate_list, encoding_node_list,\n",
    "#                                                                                                      hidden_node_list, 'class', 'classification score')\n",
    "best_learning_rate, best_max_iter, best_encoding_node, best_hidden_node = 0.1, 20, 2, 7\n",
    "print(\"Autoencoder\")\n",
    "print('Best Max Iteration', best_max_iter)\n",
    "print(\"best_learning_rate\", best_learning_rate)\n",
    "print(\"best_encoding_node\", best_encoding_node)\n",
    "print(\"best_hidden_node\", best_hidden_node)\n",
    "# Autoencoder\n",
    "# Best Max Iteration 20\n",
    "# best_learning_rate 0.1\n",
    "# best_encoding_node 2\n",
    "# best_hidden_node 7"
   ]
  },
  {
   "cell_type": "code",
   "execution_count": null,
   "metadata": {
    "colab": {
     "base_uri": "https://localhost:8080/"
    },
    "id": "RIBJvq2Ugg0E",
    "outputId": "2ae6138a-16dd-47e0-ad8f-caba353dfcd6"
   },
   "outputs": [
    {
     "name": "stdout",
     "output_type": "stream",
     "text": [
      "Autoencoder score: [97.14, 94.29, 94.29, 94.29, 98.53]/ Autoencoder avg score: 95.71\n"
     ]
    }
   ],
   "source": [
    "autoencoder_class_score = autoencoder_classification_fold(validated_train_vote, 'class', best_encoding_node, \n",
    "                                                    best_hidden_node, best_max_iter , best_learning_rate, \"classification score\")\n",
    "autoencoder_class_avg_score  = round(np.mean(autoencoder_class_score),2)\n",
    "print(\"Autoencoder score: \" + str(autoencoder_class_score) + \"/ Autoencoder avg score: \"+ str(autoencoder_class_avg_score))\n",
    "#Autoencoder score: [97.14, 94.29, 94.29, 94.29, 98.53]/ Autoencoder avg score: 95.71"
   ]
  },
  {
   "cell_type": "markdown",
   "metadata": {
    "id": "fj2TiZHcqq30"
   },
   "source": [
    "## Abalone"
   ]
  },
  {
   "cell_type": "code",
   "execution_count": null,
   "metadata": {
    "colab": {
     "base_uri": "https://localhost:8080/",
     "height": 143
    },
    "id": "kF4J14yqm-CP",
    "outputId": "90ccd9f1-6fe9-45c8-f7a3-77bf435ac36c"
   },
   "outputs": [
    {
     "data": {
      "text/html": [
       "\n",
       "  <div id=\"df-068d4fad-3ac9-4adc-b671-0316419f573e\">\n",
       "    <div class=\"colab-df-container\">\n",
       "      <div>\n",
       "<style scoped>\n",
       "    .dataframe tbody tr th:only-of-type {\n",
       "        vertical-align: middle;\n",
       "    }\n",
       "\n",
       "    .dataframe tbody tr th {\n",
       "        vertical-align: top;\n",
       "    }\n",
       "\n",
       "    .dataframe thead th {\n",
       "        text-align: right;\n",
       "    }\n",
       "</style>\n",
       "<table border=\"1\" class=\"dataframe\">\n",
       "  <thead>\n",
       "    <tr style=\"text-align: right;\">\n",
       "      <th></th>\n",
       "      <th>sex</th>\n",
       "      <th>length</th>\n",
       "      <th>diameter</th>\n",
       "      <th>height</th>\n",
       "      <th>whole_height</th>\n",
       "      <th>shucked_height</th>\n",
       "      <th>viscera_weight</th>\n",
       "      <th>shell_weight</th>\n",
       "      <th>rings</th>\n",
       "    </tr>\n",
       "  </thead>\n",
       "  <tbody>\n",
       "    <tr>\n",
       "      <th>0</th>\n",
       "      <td>M</td>\n",
       "      <td>0.455</td>\n",
       "      <td>0.365</td>\n",
       "      <td>0.095</td>\n",
       "      <td>0.5140</td>\n",
       "      <td>0.2245</td>\n",
       "      <td>0.1010</td>\n",
       "      <td>0.15</td>\n",
       "      <td>15</td>\n",
       "    </tr>\n",
       "    <tr>\n",
       "      <th>1</th>\n",
       "      <td>M</td>\n",
       "      <td>0.350</td>\n",
       "      <td>0.265</td>\n",
       "      <td>0.090</td>\n",
       "      <td>0.2255</td>\n",
       "      <td>0.0995</td>\n",
       "      <td>0.0485</td>\n",
       "      <td>0.07</td>\n",
       "      <td>7</td>\n",
       "    </tr>\n",
       "    <tr>\n",
       "      <th>2</th>\n",
       "      <td>F</td>\n",
       "      <td>0.530</td>\n",
       "      <td>0.420</td>\n",
       "      <td>0.135</td>\n",
       "      <td>0.6770</td>\n",
       "      <td>0.2565</td>\n",
       "      <td>0.1415</td>\n",
       "      <td>0.21</td>\n",
       "      <td>9</td>\n",
       "    </tr>\n",
       "  </tbody>\n",
       "</table>\n",
       "</div>\n",
       "      <button class=\"colab-df-convert\" onclick=\"convertToInteractive('df-068d4fad-3ac9-4adc-b671-0316419f573e')\"\n",
       "              title=\"Convert this dataframe to an interactive table.\"\n",
       "              style=\"display:none;\">\n",
       "        \n",
       "  <svg xmlns=\"http://www.w3.org/2000/svg\" height=\"24px\"viewBox=\"0 0 24 24\"\n",
       "       width=\"24px\">\n",
       "    <path d=\"M0 0h24v24H0V0z\" fill=\"none\"/>\n",
       "    <path d=\"M18.56 5.44l.94 2.06.94-2.06 2.06-.94-2.06-.94-.94-2.06-.94 2.06-2.06.94zm-11 1L8.5 8.5l.94-2.06 2.06-.94-2.06-.94L8.5 2.5l-.94 2.06-2.06.94zm10 10l.94 2.06.94-2.06 2.06-.94-2.06-.94-.94-2.06-.94 2.06-2.06.94z\"/><path d=\"M17.41 7.96l-1.37-1.37c-.4-.4-.92-.59-1.43-.59-.52 0-1.04.2-1.43.59L10.3 9.45l-7.72 7.72c-.78.78-.78 2.05 0 2.83L4 21.41c.39.39.9.59 1.41.59.51 0 1.02-.2 1.41-.59l7.78-7.78 2.81-2.81c.8-.78.8-2.07 0-2.86zM5.41 20L4 18.59l7.72-7.72 1.47 1.35L5.41 20z\"/>\n",
       "  </svg>\n",
       "      </button>\n",
       "      \n",
       "  <style>\n",
       "    .colab-df-container {\n",
       "      display:flex;\n",
       "      flex-wrap:wrap;\n",
       "      gap: 12px;\n",
       "    }\n",
       "\n",
       "    .colab-df-convert {\n",
       "      background-color: #E8F0FE;\n",
       "      border: none;\n",
       "      border-radius: 50%;\n",
       "      cursor: pointer;\n",
       "      display: none;\n",
       "      fill: #1967D2;\n",
       "      height: 32px;\n",
       "      padding: 0 0 0 0;\n",
       "      width: 32px;\n",
       "    }\n",
       "\n",
       "    .colab-df-convert:hover {\n",
       "      background-color: #E2EBFA;\n",
       "      box-shadow: 0px 1px 2px rgba(60, 64, 67, 0.3), 0px 1px 3px 1px rgba(60, 64, 67, 0.15);\n",
       "      fill: #174EA6;\n",
       "    }\n",
       "\n",
       "    [theme=dark] .colab-df-convert {\n",
       "      background-color: #3B4455;\n",
       "      fill: #D2E3FC;\n",
       "    }\n",
       "\n",
       "    [theme=dark] .colab-df-convert:hover {\n",
       "      background-color: #434B5C;\n",
       "      box-shadow: 0px 1px 3px 1px rgba(0, 0, 0, 0.15);\n",
       "      filter: drop-shadow(0px 1px 2px rgba(0, 0, 0, 0.3));\n",
       "      fill: #FFFFFF;\n",
       "    }\n",
       "  </style>\n",
       "\n",
       "      <script>\n",
       "        const buttonEl =\n",
       "          document.querySelector('#df-068d4fad-3ac9-4adc-b671-0316419f573e button.colab-df-convert');\n",
       "        buttonEl.style.display =\n",
       "          google.colab.kernel.accessAllowed ? 'block' : 'none';\n",
       "\n",
       "        async function convertToInteractive(key) {\n",
       "          const element = document.querySelector('#df-068d4fad-3ac9-4adc-b671-0316419f573e');\n",
       "          const dataTable =\n",
       "            await google.colab.kernel.invokeFunction('convertToInteractive',\n",
       "                                                     [key], {});\n",
       "          if (!dataTable) return;\n",
       "\n",
       "          const docLinkHtml = 'Like what you see? Visit the ' +\n",
       "            '<a target=\"_blank\" href=https://colab.research.google.com/notebooks/data_table.ipynb>data table notebook</a>'\n",
       "            + ' to learn more about interactive tables.';\n",
       "          element.innerHTML = '';\n",
       "          dataTable['output_type'] = 'display_data';\n",
       "          await google.colab.output.renderOutput(dataTable, element);\n",
       "          const docLink = document.createElement('div');\n",
       "          docLink.innerHTML = docLinkHtml;\n",
       "          element.appendChild(docLink);\n",
       "        }\n",
       "      </script>\n",
       "    </div>\n",
       "  </div>\n",
       "  "
      ],
      "text/plain": [
       "  sex  length  diameter  height  whole_height  shucked_height  viscera_weight  \\\n",
       "0   M   0.455     0.365   0.095        0.5140          0.2245          0.1010   \n",
       "1   M   0.350     0.265   0.090        0.2255          0.0995          0.0485   \n",
       "2   F   0.530     0.420   0.135        0.6770          0.2565          0.1415   \n",
       "\n",
       "   shell_weight  rings  \n",
       "0          0.15     15  \n",
       "1          0.07      7  \n",
       "2          0.21      9  "
      ]
     },
     "execution_count": 156,
     "metadata": {},
     "output_type": "execute_result"
    }
   ],
   "source": [
    "abalone_dataset = open_csv_dataset('abalone', True)\n",
    "abalone_dataset.head(3)"
   ]
  },
  {
   "cell_type": "code",
   "execution_count": null,
   "metadata": {
    "colab": {
     "base_uri": "https://localhost:8080/"
    },
    "id": "Z6Bzf0qvm-CR",
    "outputId": "3f1dccc4-4d3b-48b2-b57a-f11e6ad342fd"
   },
   "outputs": [
    {
     "data": {
      "text/plain": [
       "False"
      ]
     },
     "execution_count": 157,
     "metadata": {},
     "output_type": "execute_result"
    }
   ],
   "source": [
    "abalone_dataset.isnull().sum().any()"
   ]
  },
  {
   "cell_type": "code",
   "execution_count": null,
   "metadata": {
    "id": "f8lTxy95m-CR"
   },
   "outputs": [],
   "source": [
    "abalone_dataset = abalone_dataset.drop(['sex'], axis = 1)"
   ]
  },
  {
   "cell_type": "code",
   "execution_count": null,
   "metadata": {
    "id": "FsPqDTG9m-CU"
   },
   "outputs": [],
   "source": [
    "abalone_dataset_v1  = abalone_dataset.copy()"
   ]
  },
  {
   "cell_type": "code",
   "execution_count": null,
   "metadata": {
    "id": "pCIqYj5Ym-CW"
   },
   "outputs": [],
   "source": [
    "abalone_discretize_dataset = abalone_dataset_v1.copy()"
   ]
  },
  {
   "cell_type": "code",
   "execution_count": null,
   "metadata": {
    "id": "IuSskFZDm-CX"
   },
   "outputs": [],
   "source": [
    "abalone_discretize_dataset = discretization(abalone_discretize_dataset, 5, 'equal_frequency',\n",
    "                                           ['length', 'diameter', 'height', 'whole_height',\n",
    "                                            'shucked_height', 'viscera_weight', 'shell_weight', 'rings'])"
   ]
  },
  {
   "cell_type": "code",
   "execution_count": null,
   "metadata": {
    "id": "twZX2DvMm-CY"
   },
   "outputs": [],
   "source": [
    "abalone_dataset_v2 =  abalone_dataset_v1.copy()"
   ]
  },
  {
   "cell_type": "code",
   "execution_count": null,
   "metadata": {
    "id": "_Yw3VBL6m-CY"
   },
   "outputs": [],
   "source": [
    "train_abalone_dataset, test_abalone_dataset = split_dataset(abalone_dataset_v2, 0.8)"
   ]
  },
  {
   "cell_type": "code",
   "execution_count": null,
   "metadata": {
    "id": "zAOkv-_fm-CY"
   },
   "outputs": [],
   "source": [
    "train_abalone_zscore_dataset,test_abalone_zscore_dataset  = Standardization(train_abalone_dataset,\n",
    "                                                                             test_abalone_dataset)"
   ]
  },
  {
   "cell_type": "code",
   "execution_count": null,
   "metadata": {
    "colab": {
     "base_uri": "https://localhost:8080/"
    },
    "id": "na7NPI_xm-CZ",
    "outputId": "871c377e-1d55-478f-930d-d89c3e76bf26"
   },
   "outputs": [
    {
     "data": {
      "text/plain": [
       "[669, 669, 669, 668, 667]"
      ]
     },
     "execution_count": 165,
     "metadata": {},
     "output_type": "execute_result"
    }
   ],
   "source": [
    "validated_train_abalone = cross_validation_regression(train_abalone_dataset, 5, 'rings')\n",
    "validated_train_abalone_size= []\n",
    "for i in range(0, 5):\n",
    "    validated_train_abalone_size.append(validated_train_abalone[i].shape[0])\n",
    "validated_train_abalone_size"
   ]
  },
  {
   "cell_type": "code",
   "execution_count": null,
   "metadata": {
    "colab": {
     "base_uri": "https://localhost:8080/"
    },
    "id": "2IpaGgPnm-CZ",
    "outputId": "611751b4-9755-4f65-d036-ffab63538692"
   },
   "outputs": [
    {
     "data": {
      "text/plain": [
       "[167, 166, 166, 166, 166]"
      ]
     },
     "execution_count": 166,
     "metadata": {},
     "output_type": "execute_result"
    }
   ],
   "source": [
    "tuning_abalone = cross_validation_regression(test_abalone_dataset, 5, 'rings')\n",
    "tuning_abalone_size = []\n",
    "for i in range(0, 5):\n",
    "    tuning_abalone_size.append(tuning_abalone[i].shape[0])\n",
    "tuning_abalone_size"
   ]
  },
  {
   "cell_type": "markdown",
   "metadata": {
    "id": "vB8pyn1ggg0K"
   },
   "source": [
    "### Abalone Linear Regression"
   ]
  },
  {
   "cell_type": "code",
   "execution_count": null,
   "metadata": {
    "colab": {
     "base_uri": "https://localhost:8080/"
    },
    "id": "Py-lRngegg0K",
    "outputId": "f4efd59f-5831-4299-910b-312cbc8a4b02"
   },
   "outputs": [
    {
     "name": "stdout",
     "output_type": "stream",
     "text": [
      "best_learning_rate 0.05\n"
     ]
    }
   ],
   "source": [
    "learning_rate_list = [0.01, 0.05, 0.1, 0.5]\n",
    "\n",
    "best_learning_rate = tuning_LinR(tuning_abalone, learning_rate_list, 'rings', \"MSE\")\n",
    "print(\"best_learning_rate\", best_learning_rate)\n",
    "#best_learning_rate 0.05"
   ]
  },
  {
   "cell_type": "code",
   "execution_count": null,
   "metadata": {
    "colab": {
     "base_uri": "https://localhost:8080/"
    },
    "id": "wayt-G3Jgg0L",
    "outputId": "31077736-eed3-444c-e6c7-d4f42981f436"
   },
   "outputs": [
    {
     "name": "stdout",
     "output_type": "stream",
     "text": [
      "LinR binary score: [19.01, 4.77, 10.1, 15.74, 100.1]/ LinR binary avg score: 29.944\n"
     ]
    }
   ],
   "source": [
    "LinR_score = LinR_fold(validated_train_abalone, 'rings', best_learning_rate, 'MSE')\n",
    "LinR_avg_score = round(np.mean(LinR_score),4)\n",
    "print(\"LinR binary score: \" + str(LinR_score) + \"/ LinR binary avg score: \"+ str(LinR_avg_score))\n",
    "#LinR binary score: [19.0, 4.77, 10.11, 15.75, 100.06]/ LinR binary avg score: 29.938"
   ]
  },
  {
   "cell_type": "markdown",
   "metadata": {
    "id": "AUfjQUrAgg0L"
   },
   "source": [
    "### Abalone FFBP"
   ]
  },
  {
   "cell_type": "code",
   "execution_count": null,
   "metadata": {
    "colab": {
     "base_uri": "https://localhost:8080/"
    },
    "id": "HLXl3OqJgg0L",
    "outputId": "f2baf0f9-22ac-465b-d22a-872de8c5b631"
   },
   "outputs": [
    {
     "name": "stdout",
     "output_type": "stream",
     "text": [
      "Feedforward with Backpropagation Regression\n",
      "Best Max Iteration 10\n",
      "best_learning_rate 0.001\n",
      "best_hidden_node 5\n"
     ]
    }
   ],
   "source": [
    "max_iter_list = [10, 20]\n",
    "learning_rate_list = [0.001, 0.005, 0.01, 0.05, 0.1]\n",
    "hidden_node_list = [5, 6, 7]\n",
    "\n",
    "# best_learning_rate, best_max_iter, best_hidden_node = tuning_FFBP_regression(tuning_abalone, max_iter_list, \n",
    "#                                                                                  learning_rate_list, hidden_node_list, \n",
    "#                                                                                  'rings', 'MSE')\n",
    "best_learning_rate, best_max_iter, best_hidden_node = 0.001, 10, 5\n",
    "print(\"Feedforward with Backpropagation Regression\")\n",
    "print('Best Max Iteration', best_max_iter)\n",
    "print(\"best_learning_rate\", best_learning_rate)\n",
    "print(\"best_hidden_node\", best_hidden_node)\n",
    "# Feedforward with Backpropagation Regression\n",
    "# Best Max Iteration 10\n",
    "# best_learning_rate 0.001\n",
    "# best_hidden_node 5"
   ]
  },
  {
   "cell_type": "code",
   "execution_count": null,
   "metadata": {
    "colab": {
     "base_uri": "https://localhost:8080/"
    },
    "id": "gQZF9PIigg0P",
    "outputId": "7016ce63-56e2-41ce-bf5b-4e0c30f5c66c"
   },
   "outputs": [
    {
     "name": "stdout",
     "output_type": "stream",
     "text": [
      "FFBP score: [128.02, 82.15, 62.02, 40.08, 21.48]/ FFBP avg score: 66.75\n"
     ]
    }
   ],
   "source": [
    "FFBP_reg_score = FFBP_regression_fold(validated_train_abalone, 'rings',best_hidden_node, best_hidden_node, \n",
    "                                      best_max_iter , best_learning_rate, \"MSE\")\n",
    "FFBP_reg_avg_score  = round(np.mean(FFBP_reg_score),2)\n",
    "print(\"FFBP score: \" + str(FFBP_reg_score) + \"/ FFBP avg score: \"+ str(FFBP_reg_avg_score))\n",
    "#FFBP score: [128.02, 82.15, 62.02, 40.08, 21.48]/ FFBP avg score: 66.75"
   ]
  },
  {
   "cell_type": "markdown",
   "metadata": {
    "id": "_o3JIGnCgg0Q"
   },
   "source": [
    "### Abalone Autoencoder"
   ]
  },
  {
   "cell_type": "code",
   "execution_count": null,
   "metadata": {
    "colab": {
     "base_uri": "https://localhost:8080/"
    },
    "id": "FAZCmMkzgg0Q",
    "outputId": "447af205-2367-43e1-9fbf-6c10c76d0d14"
   },
   "outputs": [
    {
     "name": "stdout",
     "output_type": "stream",
     "text": [
      "Autoencoder\n",
      "Best Max Iteration 10\n",
      "best_learning_rate 0.001\n",
      "best_encoding_node 2\n",
      "best_hidden_node 5\n"
     ]
    }
   ],
   "source": [
    "max_iter_list = [10, 20]\n",
    "learning_rate_list = [0.001, 0.005, 0.01, 0.05, 0.1]\n",
    "encoding_node_list = [2,3]\n",
    "hidden_node_list = [5, 6, 7]\n",
    "\n",
    "# best_learning_rate, best_max_iter, best_encoding_node, best_hidden_node = tuning_autoencoder_regression(tuning_abalone, max_iter_list, \n",
    "#                                                                                                      learning_rate_list, encoding_node_list,\n",
    "#                                                                                                      hidden_node_list, 'rings', 'MSE')\n",
    "\n",
    "best_learning_rate, best_max_iter, best_encoding_node, best_hidden_node = 0.001, 10/20, 2, 5\n",
    "print(\"Autoencoder\")\n",
    "print('Best Max Iteration', best_max_iter)\n",
    "print(\"best_learning_rate\", best_learning_rate)\n",
    "print(\"best_encoding_node\", best_encoding_node)\n",
    "print(\"best_hidden_node\", best_hidden_node)"
   ]
  },
  {
   "cell_type": "code",
   "execution_count": null,
   "metadata": {
    "id": "6R0Q2Xozgg0R"
   },
   "outputs": [],
   "source": [
    "autoencoder_reg_score = autoencoder_regression_fold(validated_train_abalone, 'rings', best_encoding_node, \n",
    "                                                    best_hidden_node, best_max_iter , best_learning_rate, \"MSE\")\n",
    "autoencoder_reg_avg_score  = round(np.mean(autoencoder_reg_score),2)\n",
    "print(\"Autoencoder score: \" + str(autoencoder_reg_score) + \"/ Autoencoder avg score: \"+ str(autoencoder_reg_avg_score))"
   ]
  },
  {
   "cell_type": "markdown",
   "metadata": {
    "id": "CKfjh5CtKxNe"
   },
   "source": [
    "## Computer Hardware"
   ]
  },
  {
   "cell_type": "code",
   "execution_count": null,
   "metadata": {
    "colab": {
     "base_uri": "https://localhost:8080/",
     "height": 206
    },
    "id": "_CkUKbceKxNg",
    "outputId": "f7e89aa5-74b7-417c-f69e-968a111e8051"
   },
   "outputs": [
    {
     "data": {
      "text/html": [
       "\n",
       "  <div id=\"df-ec0a690a-857b-4389-948e-268f68a9c892\">\n",
       "    <div class=\"colab-df-container\">\n",
       "      <div>\n",
       "<style scoped>\n",
       "    .dataframe tbody tr th:only-of-type {\n",
       "        vertical-align: middle;\n",
       "    }\n",
       "\n",
       "    .dataframe tbody tr th {\n",
       "        vertical-align: top;\n",
       "    }\n",
       "\n",
       "    .dataframe thead th {\n",
       "        text-align: right;\n",
       "    }\n",
       "</style>\n",
       "<table border=\"1\" class=\"dataframe\">\n",
       "  <thead>\n",
       "    <tr style=\"text-align: right;\">\n",
       "      <th></th>\n",
       "      <th>vendor</th>\n",
       "      <th>model</th>\n",
       "      <th>myct</th>\n",
       "      <th>mmin</th>\n",
       "      <th>mmax</th>\n",
       "      <th>cach</th>\n",
       "      <th>chmin</th>\n",
       "      <th>chmax</th>\n",
       "      <th>PRP</th>\n",
       "      <th>ERP</th>\n",
       "    </tr>\n",
       "  </thead>\n",
       "  <tbody>\n",
       "    <tr>\n",
       "      <th>0</th>\n",
       "      <td>adviser</td>\n",
       "      <td>32/60</td>\n",
       "      <td>125</td>\n",
       "      <td>256</td>\n",
       "      <td>6000</td>\n",
       "      <td>256</td>\n",
       "      <td>16</td>\n",
       "      <td>128</td>\n",
       "      <td>198</td>\n",
       "      <td>199</td>\n",
       "    </tr>\n",
       "    <tr>\n",
       "      <th>1</th>\n",
       "      <td>amdahl</td>\n",
       "      <td>470v/7</td>\n",
       "      <td>29</td>\n",
       "      <td>8000</td>\n",
       "      <td>32000</td>\n",
       "      <td>32</td>\n",
       "      <td>8</td>\n",
       "      <td>32</td>\n",
       "      <td>269</td>\n",
       "      <td>253</td>\n",
       "    </tr>\n",
       "    <tr>\n",
       "      <th>2</th>\n",
       "      <td>amdahl</td>\n",
       "      <td>470v/7a</td>\n",
       "      <td>29</td>\n",
       "      <td>8000</td>\n",
       "      <td>32000</td>\n",
       "      <td>32</td>\n",
       "      <td>8</td>\n",
       "      <td>32</td>\n",
       "      <td>220</td>\n",
       "      <td>253</td>\n",
       "    </tr>\n",
       "    <tr>\n",
       "      <th>3</th>\n",
       "      <td>amdahl</td>\n",
       "      <td>470v/7b</td>\n",
       "      <td>29</td>\n",
       "      <td>8000</td>\n",
       "      <td>32000</td>\n",
       "      <td>32</td>\n",
       "      <td>8</td>\n",
       "      <td>32</td>\n",
       "      <td>172</td>\n",
       "      <td>253</td>\n",
       "    </tr>\n",
       "    <tr>\n",
       "      <th>4</th>\n",
       "      <td>amdahl</td>\n",
       "      <td>470v/7c</td>\n",
       "      <td>29</td>\n",
       "      <td>8000</td>\n",
       "      <td>16000</td>\n",
       "      <td>32</td>\n",
       "      <td>8</td>\n",
       "      <td>16</td>\n",
       "      <td>132</td>\n",
       "      <td>132</td>\n",
       "    </tr>\n",
       "  </tbody>\n",
       "</table>\n",
       "</div>\n",
       "      <button class=\"colab-df-convert\" onclick=\"convertToInteractive('df-ec0a690a-857b-4389-948e-268f68a9c892')\"\n",
       "              title=\"Convert this dataframe to an interactive table.\"\n",
       "              style=\"display:none;\">\n",
       "        \n",
       "  <svg xmlns=\"http://www.w3.org/2000/svg\" height=\"24px\"viewBox=\"0 0 24 24\"\n",
       "       width=\"24px\">\n",
       "    <path d=\"M0 0h24v24H0V0z\" fill=\"none\"/>\n",
       "    <path d=\"M18.56 5.44l.94 2.06.94-2.06 2.06-.94-2.06-.94-.94-2.06-.94 2.06-2.06.94zm-11 1L8.5 8.5l.94-2.06 2.06-.94-2.06-.94L8.5 2.5l-.94 2.06-2.06.94zm10 10l.94 2.06.94-2.06 2.06-.94-2.06-.94-.94-2.06-.94 2.06-2.06.94z\"/><path d=\"M17.41 7.96l-1.37-1.37c-.4-.4-.92-.59-1.43-.59-.52 0-1.04.2-1.43.59L10.3 9.45l-7.72 7.72c-.78.78-.78 2.05 0 2.83L4 21.41c.39.39.9.59 1.41.59.51 0 1.02-.2 1.41-.59l7.78-7.78 2.81-2.81c.8-.78.8-2.07 0-2.86zM5.41 20L4 18.59l7.72-7.72 1.47 1.35L5.41 20z\"/>\n",
       "  </svg>\n",
       "      </button>\n",
       "      \n",
       "  <style>\n",
       "    .colab-df-container {\n",
       "      display:flex;\n",
       "      flex-wrap:wrap;\n",
       "      gap: 12px;\n",
       "    }\n",
       "\n",
       "    .colab-df-convert {\n",
       "      background-color: #E8F0FE;\n",
       "      border: none;\n",
       "      border-radius: 50%;\n",
       "      cursor: pointer;\n",
       "      display: none;\n",
       "      fill: #1967D2;\n",
       "      height: 32px;\n",
       "      padding: 0 0 0 0;\n",
       "      width: 32px;\n",
       "    }\n",
       "\n",
       "    .colab-df-convert:hover {\n",
       "      background-color: #E2EBFA;\n",
       "      box-shadow: 0px 1px 2px rgba(60, 64, 67, 0.3), 0px 1px 3px 1px rgba(60, 64, 67, 0.15);\n",
       "      fill: #174EA6;\n",
       "    }\n",
       "\n",
       "    [theme=dark] .colab-df-convert {\n",
       "      background-color: #3B4455;\n",
       "      fill: #D2E3FC;\n",
       "    }\n",
       "\n",
       "    [theme=dark] .colab-df-convert:hover {\n",
       "      background-color: #434B5C;\n",
       "      box-shadow: 0px 1px 3px 1px rgba(0, 0, 0, 0.15);\n",
       "      filter: drop-shadow(0px 1px 2px rgba(0, 0, 0, 0.3));\n",
       "      fill: #FFFFFF;\n",
       "    }\n",
       "  </style>\n",
       "\n",
       "      <script>\n",
       "        const buttonEl =\n",
       "          document.querySelector('#df-ec0a690a-857b-4389-948e-268f68a9c892 button.colab-df-convert');\n",
       "        buttonEl.style.display =\n",
       "          google.colab.kernel.accessAllowed ? 'block' : 'none';\n",
       "\n",
       "        async function convertToInteractive(key) {\n",
       "          const element = document.querySelector('#df-ec0a690a-857b-4389-948e-268f68a9c892');\n",
       "          const dataTable =\n",
       "            await google.colab.kernel.invokeFunction('convertToInteractive',\n",
       "                                                     [key], {});\n",
       "          if (!dataTable) return;\n",
       "\n",
       "          const docLinkHtml = 'Like what you see? Visit the ' +\n",
       "            '<a target=\"_blank\" href=https://colab.research.google.com/notebooks/data_table.ipynb>data table notebook</a>'\n",
       "            + ' to learn more about interactive tables.';\n",
       "          element.innerHTML = '';\n",
       "          dataTable['output_type'] = 'display_data';\n",
       "          await google.colab.output.renderOutput(dataTable, element);\n",
       "          const docLink = document.createElement('div');\n",
       "          docLink.innerHTML = docLinkHtml;\n",
       "          element.appendChild(docLink);\n",
       "        }\n",
       "      </script>\n",
       "    </div>\n",
       "  </div>\n",
       "  "
      ],
      "text/plain": [
       "    vendor    model  myct  mmin   mmax  cach  chmin  chmax  PRP  ERP\n",
       "0  adviser    32/60   125   256   6000   256     16    128  198  199\n",
       "1   amdahl   470v/7    29  8000  32000    32      8     32  269  253\n",
       "2   amdahl  470v/7a    29  8000  32000    32      8     32  220  253\n",
       "3   amdahl  470v/7b    29  8000  32000    32      8     32  172  253\n",
       "4   amdahl  470v/7c    29  8000  16000    32      8     16  132  132"
      ]
     },
     "execution_count": 135,
     "metadata": {},
     "output_type": "execute_result"
    }
   ],
   "source": [
    "computer_dataset = open_csv_dataset('machine', True)\n",
    "computer_dataset.head()"
   ]
  },
  {
   "cell_type": "code",
   "execution_count": null,
   "metadata": {
    "colab": {
     "base_uri": "https://localhost:8080/"
    },
    "id": "tGtF9tmMKxNg",
    "outputId": "06d72af4-87e4-48f7-bbcf-c9bf1cd46550"
   },
   "outputs": [
    {
     "data": {
      "text/plain": [
       "False"
      ]
     },
     "execution_count": 136,
     "metadata": {},
     "output_type": "execute_result"
    }
   ],
   "source": [
    "computer_dataset.isnull().sum().any()"
   ]
  },
  {
   "cell_type": "code",
   "execution_count": null,
   "metadata": {
    "id": "oSzmn0TLKxNi"
   },
   "outputs": [],
   "source": [
    "computer_ERP  = computer_dataset['ERP']\n",
    "computer_dataset = computer_dataset.drop(['vendor', 'model', 'ERP'], axis = 1)"
   ]
  },
  {
   "cell_type": "code",
   "execution_count": null,
   "metadata": {
    "colab": {
     "base_uri": "https://localhost:8080/",
     "height": 206
    },
    "id": "GzaGrUarKxNi",
    "outputId": "11d7400b-5d7c-46ae-84cf-662065ee8d11"
   },
   "outputs": [
    {
     "data": {
      "text/html": [
       "\n",
       "  <div id=\"df-ebc3b42e-c0b9-440c-b230-d355a5b3d3fe\">\n",
       "    <div class=\"colab-df-container\">\n",
       "      <div>\n",
       "<style scoped>\n",
       "    .dataframe tbody tr th:only-of-type {\n",
       "        vertical-align: middle;\n",
       "    }\n",
       "\n",
       "    .dataframe tbody tr th {\n",
       "        vertical-align: top;\n",
       "    }\n",
       "\n",
       "    .dataframe thead th {\n",
       "        text-align: right;\n",
       "    }\n",
       "</style>\n",
       "<table border=\"1\" class=\"dataframe\">\n",
       "  <thead>\n",
       "    <tr style=\"text-align: right;\">\n",
       "      <th></th>\n",
       "      <th>myct</th>\n",
       "      <th>mmin</th>\n",
       "      <th>mmax</th>\n",
       "      <th>cach</th>\n",
       "      <th>chmin</th>\n",
       "      <th>chmax</th>\n",
       "      <th>PRP</th>\n",
       "    </tr>\n",
       "  </thead>\n",
       "  <tbody>\n",
       "    <tr>\n",
       "      <th>0</th>\n",
       "      <td>125</td>\n",
       "      <td>256</td>\n",
       "      <td>6000</td>\n",
       "      <td>256</td>\n",
       "      <td>16</td>\n",
       "      <td>128</td>\n",
       "      <td>198</td>\n",
       "    </tr>\n",
       "    <tr>\n",
       "      <th>1</th>\n",
       "      <td>29</td>\n",
       "      <td>8000</td>\n",
       "      <td>32000</td>\n",
       "      <td>32</td>\n",
       "      <td>8</td>\n",
       "      <td>32</td>\n",
       "      <td>269</td>\n",
       "    </tr>\n",
       "    <tr>\n",
       "      <th>2</th>\n",
       "      <td>29</td>\n",
       "      <td>8000</td>\n",
       "      <td>32000</td>\n",
       "      <td>32</td>\n",
       "      <td>8</td>\n",
       "      <td>32</td>\n",
       "      <td>220</td>\n",
       "    </tr>\n",
       "    <tr>\n",
       "      <th>3</th>\n",
       "      <td>29</td>\n",
       "      <td>8000</td>\n",
       "      <td>32000</td>\n",
       "      <td>32</td>\n",
       "      <td>8</td>\n",
       "      <td>32</td>\n",
       "      <td>172</td>\n",
       "    </tr>\n",
       "    <tr>\n",
       "      <th>4</th>\n",
       "      <td>29</td>\n",
       "      <td>8000</td>\n",
       "      <td>16000</td>\n",
       "      <td>32</td>\n",
       "      <td>8</td>\n",
       "      <td>16</td>\n",
       "      <td>132</td>\n",
       "    </tr>\n",
       "  </tbody>\n",
       "</table>\n",
       "</div>\n",
       "      <button class=\"colab-df-convert\" onclick=\"convertToInteractive('df-ebc3b42e-c0b9-440c-b230-d355a5b3d3fe')\"\n",
       "              title=\"Convert this dataframe to an interactive table.\"\n",
       "              style=\"display:none;\">\n",
       "        \n",
       "  <svg xmlns=\"http://www.w3.org/2000/svg\" height=\"24px\"viewBox=\"0 0 24 24\"\n",
       "       width=\"24px\">\n",
       "    <path d=\"M0 0h24v24H0V0z\" fill=\"none\"/>\n",
       "    <path d=\"M18.56 5.44l.94 2.06.94-2.06 2.06-.94-2.06-.94-.94-2.06-.94 2.06-2.06.94zm-11 1L8.5 8.5l.94-2.06 2.06-.94-2.06-.94L8.5 2.5l-.94 2.06-2.06.94zm10 10l.94 2.06.94-2.06 2.06-.94-2.06-.94-.94-2.06-.94 2.06-2.06.94z\"/><path d=\"M17.41 7.96l-1.37-1.37c-.4-.4-.92-.59-1.43-.59-.52 0-1.04.2-1.43.59L10.3 9.45l-7.72 7.72c-.78.78-.78 2.05 0 2.83L4 21.41c.39.39.9.59 1.41.59.51 0 1.02-.2 1.41-.59l7.78-7.78 2.81-2.81c.8-.78.8-2.07 0-2.86zM5.41 20L4 18.59l7.72-7.72 1.47 1.35L5.41 20z\"/>\n",
       "  </svg>\n",
       "      </button>\n",
       "      \n",
       "  <style>\n",
       "    .colab-df-container {\n",
       "      display:flex;\n",
       "      flex-wrap:wrap;\n",
       "      gap: 12px;\n",
       "    }\n",
       "\n",
       "    .colab-df-convert {\n",
       "      background-color: #E8F0FE;\n",
       "      border: none;\n",
       "      border-radius: 50%;\n",
       "      cursor: pointer;\n",
       "      display: none;\n",
       "      fill: #1967D2;\n",
       "      height: 32px;\n",
       "      padding: 0 0 0 0;\n",
       "      width: 32px;\n",
       "    }\n",
       "\n",
       "    .colab-df-convert:hover {\n",
       "      background-color: #E2EBFA;\n",
       "      box-shadow: 0px 1px 2px rgba(60, 64, 67, 0.3), 0px 1px 3px 1px rgba(60, 64, 67, 0.15);\n",
       "      fill: #174EA6;\n",
       "    }\n",
       "\n",
       "    [theme=dark] .colab-df-convert {\n",
       "      background-color: #3B4455;\n",
       "      fill: #D2E3FC;\n",
       "    }\n",
       "\n",
       "    [theme=dark] .colab-df-convert:hover {\n",
       "      background-color: #434B5C;\n",
       "      box-shadow: 0px 1px 3px 1px rgba(0, 0, 0, 0.15);\n",
       "      filter: drop-shadow(0px 1px 2px rgba(0, 0, 0, 0.3));\n",
       "      fill: #FFFFFF;\n",
       "    }\n",
       "  </style>\n",
       "\n",
       "      <script>\n",
       "        const buttonEl =\n",
       "          document.querySelector('#df-ebc3b42e-c0b9-440c-b230-d355a5b3d3fe button.colab-df-convert');\n",
       "        buttonEl.style.display =\n",
       "          google.colab.kernel.accessAllowed ? 'block' : 'none';\n",
       "\n",
       "        async function convertToInteractive(key) {\n",
       "          const element = document.querySelector('#df-ebc3b42e-c0b9-440c-b230-d355a5b3d3fe');\n",
       "          const dataTable =\n",
       "            await google.colab.kernel.invokeFunction('convertToInteractive',\n",
       "                                                     [key], {});\n",
       "          if (!dataTable) return;\n",
       "\n",
       "          const docLinkHtml = 'Like what you see? Visit the ' +\n",
       "            '<a target=\"_blank\" href=https://colab.research.google.com/notebooks/data_table.ipynb>data table notebook</a>'\n",
       "            + ' to learn more about interactive tables.';\n",
       "          element.innerHTML = '';\n",
       "          dataTable['output_type'] = 'display_data';\n",
       "          await google.colab.output.renderOutput(dataTable, element);\n",
       "          const docLink = document.createElement('div');\n",
       "          docLink.innerHTML = docLinkHtml;\n",
       "          element.appendChild(docLink);\n",
       "        }\n",
       "      </script>\n",
       "    </div>\n",
       "  </div>\n",
       "  "
      ],
      "text/plain": [
       "   myct  mmin   mmax  cach  chmin  chmax  PRP\n",
       "0   125   256   6000   256     16    128  198\n",
       "1    29  8000  32000    32      8     32  269\n",
       "2    29  8000  32000    32      8     32  220\n",
       "3    29  8000  32000    32      8     32  172\n",
       "4    29  8000  16000    32      8     16  132"
      ]
     },
     "execution_count": 138,
     "metadata": {},
     "output_type": "execute_result"
    }
   ],
   "source": [
    "computer_dataset_v1  = computer_dataset.copy()\n",
    "computer_dataset_v1.head()"
   ]
  },
  {
   "cell_type": "code",
   "execution_count": null,
   "metadata": {
    "id": "9Okqf1mtKxNj"
   },
   "outputs": [],
   "source": [
    "computer_dataset_v1['PRP'] =computer_dataset_v1['PRP'].apply(computer_categorical_distribution)"
   ]
  },
  {
   "cell_type": "code",
   "execution_count": null,
   "metadata": {
    "id": "b0QuLGUYKxNj"
   },
   "outputs": [],
   "source": [
    "computer_discretize_dataset = computer_dataset_v1.copy()"
   ]
  },
  {
   "cell_type": "code",
   "execution_count": null,
   "metadata": {
    "id": "789Ve9w3KxNj"
   },
   "outputs": [],
   "source": [
    "computer_discretize_dataset = discretization(computer_discretize_dataset, \n",
    "                                             5, \n",
    "                                             'equal_frequency', \n",
    "                                             ['myct','mmin', 'mmax', 'cach', 'chmin', 'chmax'])"
   ]
  },
  {
   "cell_type": "code",
   "execution_count": null,
   "metadata": {
    "id": "AluZcQQnKxNk"
   },
   "outputs": [],
   "source": [
    "computer_dataset_v2 = computer_dataset_v1.copy()"
   ]
  },
  {
   "cell_type": "code",
   "execution_count": null,
   "metadata": {
    "id": "w-4v9BTdKxNq"
   },
   "outputs": [],
   "source": [
    "train_computer_dataset, test_computer_dataset = split_dataset(computer_dataset_v2, 0.8)"
   ]
  },
  {
   "cell_type": "code",
   "execution_count": null,
   "metadata": {
    "id": "e3pWMIs1KxNr"
   },
   "outputs": [],
   "source": [
    "train_computer_zscore_dataset, test_computer_zscore_dataset  = Standardization(train_computer_dataset,\n",
    "                                                                               test_computer_dataset)"
   ]
  },
  {
   "cell_type": "code",
   "execution_count": null,
   "metadata": {
    "colab": {
     "base_uri": "https://localhost:8080/"
    },
    "id": "zDJD0bWFKxNr",
    "outputId": "bc14f407-e871-4062-921b-4f064b0c2586"
   },
   "outputs": [
    {
     "data": {
      "text/plain": [
       "[34, 34, 34, 33, 32]"
      ]
     },
     "execution_count": 145,
     "metadata": {},
     "output_type": "execute_result"
    }
   ],
   "source": [
    "validated_train_computer = cross_validation_regression(train_computer_dataset, 5, 'PRP')\n",
    "validated_train_computer_size = []\n",
    "for i in range(0, 5):\n",
    "    validated_train_computer_size.append(validated_train_computer[i].shape[0])\n",
    "validated_train_computer_size"
   ]
  },
  {
   "cell_type": "code",
   "execution_count": null,
   "metadata": {
    "colab": {
     "base_uri": "https://localhost:8080/"
    },
    "id": "6I9FuE7cKxNs",
    "outputId": "2285124c-6b08-45f2-bd13-dfc8fe19b223"
   },
   "outputs": [
    {
     "data": {
      "text/plain": [
       "[9, 9, 9, 8, 6]"
      ]
     },
     "execution_count": 146,
     "metadata": {},
     "output_type": "execute_result"
    }
   ],
   "source": [
    "tuning_computer = cross_validation_regression(test_computer_dataset , 5, 'PRP')\n",
    "tuning_computer_size = []\n",
    "for i in range(0, 5):\n",
    "    tuning_computer_size.append(tuning_computer[i].shape[0])\n",
    "tuning_computer_size"
   ]
  },
  {
   "cell_type": "markdown",
   "metadata": {
    "id": "CythKrbGgg0Y"
   },
   "source": [
    "### Hardware Linear Regression"
   ]
  },
  {
   "cell_type": "code",
   "execution_count": null,
   "metadata": {
    "colab": {
     "base_uri": "https://localhost:8080/"
    },
    "id": "mVDg10kzgg0Y",
    "outputId": "44569175-3368-4841-ac07-c9ca4bf0a4b0"
   },
   "outputs": [
    {
     "name": "stdout",
     "output_type": "stream",
     "text": [
      "best_learning_rate 0.5\n"
     ]
    }
   ],
   "source": [
    "learning_rate_list = [0.01, 0.05, 0.1, 0.5]\n",
    "\n",
    "best_learning_rate = tuning_LinR(tuning_computer, learning_rate_list, 'PRP', \"MSE\")\n",
    "print(\"best_learning_rate\", best_learning_rate)\n",
    "#best_learning_rate 0.5"
   ]
  },
  {
   "cell_type": "code",
   "execution_count": null,
   "metadata": {
    "colab": {
     "base_uri": "https://localhost:8080/"
    },
    "id": "zJiLtMLjgg0Z",
    "outputId": "61b21b65-1071-4792-989c-906ec936b050"
   },
   "outputs": [
    {
     "name": "stdout",
     "output_type": "stream",
     "text": [
      "LinR binary score: [0.12, 0.47, 0.49, 0.87, 10.96]/ LinR binary avg score: 2.582\n"
     ]
    }
   ],
   "source": [
    "LinR_score = LinR_fold(validated_train_computer, 'PRP', best_learning_rate, 'MSE')\n",
    "LinR_avg_score = round(np.mean(LinR_score),4)\n",
    "print(\"LinR binary score: \" + str(LinR_score) + \"/ LinR binary avg score: \"+ str(LinR_avg_score))\n",
    "#LinR binary score: [0.12, 0.47, 0.49, 0.87, 10.96]/ LinR binary avg score: 2.582"
   ]
  },
  {
   "cell_type": "markdown",
   "metadata": {
    "id": "qnUa2HW0gg0Z"
   },
   "source": [
    "### Hardware FFBP"
   ]
  },
  {
   "cell_type": "code",
   "execution_count": null,
   "metadata": {
    "colab": {
     "base_uri": "https://localhost:8080/"
    },
    "id": "yZ1244v2gg0Z",
    "outputId": "ca74b460-d599-4e29-e775-fa0841047c39"
   },
   "outputs": [
    {
     "name": "stdout",
     "output_type": "stream",
     "text": [
      "Feedforward with Backpropagation Regression\n",
      "Best Max Iteration 20\n",
      "best_learning_rate 0.001\n",
      "best_hidden_node 6\n"
     ]
    }
   ],
   "source": [
    "max_iter_list = [10, 20]\n",
    "learning_rate_list = [0.001, 0.005, 0.01, 0.05, 0.1]\n",
    "hidden_node_list = [5, 6, 7]\n",
    "\n",
    "# best_learning_rate, best_max_iter, best_hidden_node = tuning_FFBP_regression(tuning_computer, max_iter_list, \n",
    "#                                                                                  learning_rate_list, hidden_node_list, \n",
    "#                                                                                  'PRP', 'MSE')\n",
    "best_learning_rate, best_max_iter, best_hidden_node = 0.001, 20, 6\n",
    "print(\"Feedforward with Backpropagation Regression\")\n",
    "print('Best Max Iteration', best_max_iter)\n",
    "print(\"best_learning_rate\", best_learning_rate)\n",
    "print(\"best_hidden_node\", best_hidden_node)\n",
    "# Feedforward with Backpropagation Regression\n",
    "# Best Max Iteration 20\n",
    "# best_learning_rate 0.001\n",
    "# best_hidden_node 6"
   ]
  },
  {
   "cell_type": "code",
   "execution_count": null,
   "metadata": {
    "colab": {
     "base_uri": "https://localhost:8080/"
    },
    "id": "HJP3eiFCgg0Z",
    "outputId": "8ea3864b-ab58-49f4-f568-955f6bf5003f"
   },
   "outputs": [
    {
     "name": "stdout",
     "output_type": "stream",
     "text": [
      "FFBP score: [2.78, 0.47, 0.47, 0.3, 8.6]/ FFBP avg score: 2.52\n"
     ]
    }
   ],
   "source": [
    "FFBP_reg_score = FFBP_regression_fold(validated_train_computer, 'PRP',best_hidden_node, best_hidden_node, \n",
    "                                      best_max_iter , best_learning_rate, \"MSE\")\n",
    "FFBP_reg_avg_score  = round(np.mean(FFBP_reg_score),2)\n",
    "print(\"FFBP score: \" + str(FFBP_reg_score) + \"/ FFBP avg score: \"+ str(FFBP_reg_avg_score))\n",
    "#FFBP score: [2.78, 0.47, 0.47, 0.3, 8.6]/ FFBP avg score: 2.52"
   ]
  },
  {
   "cell_type": "markdown",
   "metadata": {
    "id": "tBaOwv5Kgg0a"
   },
   "source": [
    "### Hardware Autoencoder"
   ]
  },
  {
   "cell_type": "code",
   "execution_count": null,
   "metadata": {
    "colab": {
     "base_uri": "https://localhost:8080/"
    },
    "id": "6Z-szTgDgg0a",
    "outputId": "93a7840e-24b4-458a-90ac-1664194fd27e"
   },
   "outputs": [
    {
     "name": "stdout",
     "output_type": "stream",
     "text": [
      "Autoencoder\n",
      "Best Max Iteration 20\n",
      "best_learning_rate 0.001\n",
      "best_encoding_node 2\n",
      "best_hidden_node 5\n"
     ]
    }
   ],
   "source": [
    "max_iter_list = [10, 20]\n",
    "learning_rate_list = [0.001, 0.005, 0.01, 0.05, 0.1]\n",
    "encoding_node_list = [2,3]\n",
    "hidden_node_list = [5, 6, 7]\n",
    "\n",
    "# best_learning_rate, best_max_iter, best_encoding_node, best_hidden_node = tuning_autoencoder_regression(tuning_computer, max_iter_list, \n",
    "#                                                                                                      learning_rate_list, encoding_node_list,\n",
    "#                                                                                                      hidden_node_list, 'PRP', 'MSE')\n",
    "\n",
    "best_learning_rate, best_max_iter, best_encoding_node, best_hidden_node = 0.001, 20, 2, 5\n",
    "print(\"Autoencoder\")\n",
    "print('Best Max Iteration', best_max_iter)\n",
    "print(\"best_learning_rate\", best_learning_rate)\n",
    "print(\"best_encoding_node\", best_encoding_node)\n",
    "print(\"best_hidden_node\", best_hidden_node)\n",
    "# Autoencoder\n",
    "# Best Max Iteration 20\n",
    "# best_learning_rate 0.001\n",
    "# best_encoding_node 2\n",
    "# best_hidden_node 5"
   ]
  },
  {
   "cell_type": "code",
   "execution_count": null,
   "metadata": {
    "colab": {
     "base_uri": "https://localhost:8080/"
    },
    "id": "2TYVzTh3gg0b",
    "outputId": "1276d8a5-697c-486a-d308-b4e746d8f09a"
   },
   "outputs": [
    {
     "name": "stdout",
     "output_type": "stream",
     "text": [
      "Autoencoder score: [2.72, 0.43, 0.43, 0.28, 8.56]/ Autoencoder avg score: 2.48\n"
     ]
    }
   ],
   "source": [
    "autoencoder_reg_score = autoencoder_regression_fold(validated_train_computer, 'PRP', best_encoding_node, \n",
    "                                                    best_hidden_node, best_max_iter , best_learning_rate, \"MSE\")\n",
    "autoencoder_reg_avg_score  = round(np.mean(autoencoder_reg_score),2)\n",
    "print(\"Autoencoder score: \" + str(autoencoder_reg_score) + \"/ Autoencoder avg score: \"+ str(autoencoder_reg_avg_score))\n",
    "#Autoencoder score: [2.72, 0.43, 0.43, 0.28, 8.56]/ Autoencoder avg score: 2.48"
   ]
  },
  {
   "cell_type": "markdown",
   "metadata": {
    "id": "WwEHmU_0KxNv"
   },
   "source": [
    "## Forest Fires"
   ]
  },
  {
   "cell_type": "code",
   "execution_count": null,
   "metadata": {
    "id": "aZKRf3RXm-Cs"
   },
   "outputs": [],
   "source": [
    "forest_dataset = open_csv_dataset('forest', False)"
   ]
  },
  {
   "cell_type": "code",
   "execution_count": null,
   "metadata": {
    "colab": {
     "base_uri": "https://localhost:8080/"
    },
    "id": "nmJFztx-m-Cs",
    "outputId": "8b07cafa-782c-426f-cbe2-ab9dd7e24f27"
   },
   "outputs": [
    {
     "data": {
      "text/plain": [
       "False"
      ]
     },
     "execution_count": 118,
     "metadata": {},
     "output_type": "execute_result"
    }
   ],
   "source": [
    "forest_dataset.isnull().sum().any()"
   ]
  },
  {
   "cell_type": "code",
   "execution_count": null,
   "metadata": {
    "colab": {
     "base_uri": "https://localhost:8080/",
     "height": 206
    },
    "id": "AxycXiacm-Cv",
    "outputId": "f12044d6-c230-410e-ce54-3cd739315ea7"
   },
   "outputs": [
    {
     "data": {
      "text/html": [
       "\n",
       "  <div id=\"df-2a6865ba-a112-4b7e-85ee-b3afc6dfeb62\">\n",
       "    <div class=\"colab-df-container\">\n",
       "      <div>\n",
       "<style scoped>\n",
       "    .dataframe tbody tr th:only-of-type {\n",
       "        vertical-align: middle;\n",
       "    }\n",
       "\n",
       "    .dataframe tbody tr th {\n",
       "        vertical-align: top;\n",
       "    }\n",
       "\n",
       "    .dataframe thead th {\n",
       "        text-align: right;\n",
       "    }\n",
       "</style>\n",
       "<table border=\"1\" class=\"dataframe\">\n",
       "  <thead>\n",
       "    <tr style=\"text-align: right;\">\n",
       "      <th></th>\n",
       "      <th>X</th>\n",
       "      <th>Y</th>\n",
       "      <th>month</th>\n",
       "      <th>day</th>\n",
       "      <th>FFMC</th>\n",
       "      <th>DMC</th>\n",
       "      <th>DC</th>\n",
       "      <th>ISI</th>\n",
       "      <th>temp</th>\n",
       "      <th>RH</th>\n",
       "      <th>wind</th>\n",
       "      <th>rain</th>\n",
       "      <th>area</th>\n",
       "    </tr>\n",
       "  </thead>\n",
       "  <tbody>\n",
       "    <tr>\n",
       "      <th>0</th>\n",
       "      <td>7</td>\n",
       "      <td>5</td>\n",
       "      <td>0</td>\n",
       "      <td>0</td>\n",
       "      <td>86.2</td>\n",
       "      <td>26.2</td>\n",
       "      <td>94.3</td>\n",
       "      <td>5.1</td>\n",
       "      <td>8.2</td>\n",
       "      <td>51</td>\n",
       "      <td>6.7</td>\n",
       "      <td>0.0</td>\n",
       "      <td>0.0</td>\n",
       "    </tr>\n",
       "    <tr>\n",
       "      <th>1</th>\n",
       "      <td>7</td>\n",
       "      <td>4</td>\n",
       "      <td>1</td>\n",
       "      <td>1</td>\n",
       "      <td>90.6</td>\n",
       "      <td>35.4</td>\n",
       "      <td>669.1</td>\n",
       "      <td>6.7</td>\n",
       "      <td>18.0</td>\n",
       "      <td>33</td>\n",
       "      <td>0.9</td>\n",
       "      <td>0.0</td>\n",
       "      <td>0.0</td>\n",
       "    </tr>\n",
       "    <tr>\n",
       "      <th>2</th>\n",
       "      <td>7</td>\n",
       "      <td>4</td>\n",
       "      <td>1</td>\n",
       "      <td>2</td>\n",
       "      <td>90.6</td>\n",
       "      <td>43.7</td>\n",
       "      <td>686.9</td>\n",
       "      <td>6.7</td>\n",
       "      <td>14.6</td>\n",
       "      <td>33</td>\n",
       "      <td>1.3</td>\n",
       "      <td>0.0</td>\n",
       "      <td>0.0</td>\n",
       "    </tr>\n",
       "    <tr>\n",
       "      <th>3</th>\n",
       "      <td>8</td>\n",
       "      <td>6</td>\n",
       "      <td>0</td>\n",
       "      <td>0</td>\n",
       "      <td>91.7</td>\n",
       "      <td>33.3</td>\n",
       "      <td>77.5</td>\n",
       "      <td>9.0</td>\n",
       "      <td>8.3</td>\n",
       "      <td>97</td>\n",
       "      <td>4.0</td>\n",
       "      <td>0.2</td>\n",
       "      <td>0.0</td>\n",
       "    </tr>\n",
       "    <tr>\n",
       "      <th>4</th>\n",
       "      <td>8</td>\n",
       "      <td>6</td>\n",
       "      <td>0</td>\n",
       "      <td>3</td>\n",
       "      <td>89.3</td>\n",
       "      <td>51.3</td>\n",
       "      <td>102.2</td>\n",
       "      <td>9.6</td>\n",
       "      <td>11.4</td>\n",
       "      <td>99</td>\n",
       "      <td>1.8</td>\n",
       "      <td>0.0</td>\n",
       "      <td>0.0</td>\n",
       "    </tr>\n",
       "  </tbody>\n",
       "</table>\n",
       "</div>\n",
       "      <button class=\"colab-df-convert\" onclick=\"convertToInteractive('df-2a6865ba-a112-4b7e-85ee-b3afc6dfeb62')\"\n",
       "              title=\"Convert this dataframe to an interactive table.\"\n",
       "              style=\"display:none;\">\n",
       "        \n",
       "  <svg xmlns=\"http://www.w3.org/2000/svg\" height=\"24px\"viewBox=\"0 0 24 24\"\n",
       "       width=\"24px\">\n",
       "    <path d=\"M0 0h24v24H0V0z\" fill=\"none\"/>\n",
       "    <path d=\"M18.56 5.44l.94 2.06.94-2.06 2.06-.94-2.06-.94-.94-2.06-.94 2.06-2.06.94zm-11 1L8.5 8.5l.94-2.06 2.06-.94-2.06-.94L8.5 2.5l-.94 2.06-2.06.94zm10 10l.94 2.06.94-2.06 2.06-.94-2.06-.94-.94-2.06-.94 2.06-2.06.94z\"/><path d=\"M17.41 7.96l-1.37-1.37c-.4-.4-.92-.59-1.43-.59-.52 0-1.04.2-1.43.59L10.3 9.45l-7.72 7.72c-.78.78-.78 2.05 0 2.83L4 21.41c.39.39.9.59 1.41.59.51 0 1.02-.2 1.41-.59l7.78-7.78 2.81-2.81c.8-.78.8-2.07 0-2.86zM5.41 20L4 18.59l7.72-7.72 1.47 1.35L5.41 20z\"/>\n",
       "  </svg>\n",
       "      </button>\n",
       "      \n",
       "  <style>\n",
       "    .colab-df-container {\n",
       "      display:flex;\n",
       "      flex-wrap:wrap;\n",
       "      gap: 12px;\n",
       "    }\n",
       "\n",
       "    .colab-df-convert {\n",
       "      background-color: #E8F0FE;\n",
       "      border: none;\n",
       "      border-radius: 50%;\n",
       "      cursor: pointer;\n",
       "      display: none;\n",
       "      fill: #1967D2;\n",
       "      height: 32px;\n",
       "      padding: 0 0 0 0;\n",
       "      width: 32px;\n",
       "    }\n",
       "\n",
       "    .colab-df-convert:hover {\n",
       "      background-color: #E2EBFA;\n",
       "      box-shadow: 0px 1px 2px rgba(60, 64, 67, 0.3), 0px 1px 3px 1px rgba(60, 64, 67, 0.15);\n",
       "      fill: #174EA6;\n",
       "    }\n",
       "\n",
       "    [theme=dark] .colab-df-convert {\n",
       "      background-color: #3B4455;\n",
       "      fill: #D2E3FC;\n",
       "    }\n",
       "\n",
       "    [theme=dark] .colab-df-convert:hover {\n",
       "      background-color: #434B5C;\n",
       "      box-shadow: 0px 1px 3px 1px rgba(0, 0, 0, 0.15);\n",
       "      filter: drop-shadow(0px 1px 2px rgba(0, 0, 0, 0.3));\n",
       "      fill: #FFFFFF;\n",
       "    }\n",
       "  </style>\n",
       "\n",
       "      <script>\n",
       "        const buttonEl =\n",
       "          document.querySelector('#df-2a6865ba-a112-4b7e-85ee-b3afc6dfeb62 button.colab-df-convert');\n",
       "        buttonEl.style.display =\n",
       "          google.colab.kernel.accessAllowed ? 'block' : 'none';\n",
       "\n",
       "        async function convertToInteractive(key) {\n",
       "          const element = document.querySelector('#df-2a6865ba-a112-4b7e-85ee-b3afc6dfeb62');\n",
       "          const dataTable =\n",
       "            await google.colab.kernel.invokeFunction('convertToInteractive',\n",
       "                                                     [key], {});\n",
       "          if (!dataTable) return;\n",
       "\n",
       "          const docLinkHtml = 'Like what you see? Visit the ' +\n",
       "            '<a target=\"_blank\" href=https://colab.research.google.com/notebooks/data_table.ipynb>data table notebook</a>'\n",
       "            + ' to learn more about interactive tables.';\n",
       "          element.innerHTML = '';\n",
       "          dataTable['output_type'] = 'display_data';\n",
       "          await google.colab.output.renderOutput(dataTable, element);\n",
       "          const docLink = document.createElement('div');\n",
       "          docLink.innerHTML = docLinkHtml;\n",
       "          element.appendChild(docLink);\n",
       "        }\n",
       "      </script>\n",
       "    </div>\n",
       "  </div>\n",
       "  "
      ],
      "text/plain": [
       "   X  Y  month  day  FFMC   DMC     DC  ISI  temp  RH  wind  rain  area\n",
       "0  7  5      0    0  86.2  26.2   94.3  5.1   8.2  51   6.7   0.0   0.0\n",
       "1  7  4      1    1  90.6  35.4  669.1  6.7  18.0  33   0.9   0.0   0.0\n",
       "2  7  4      1    2  90.6  43.7  686.9  6.7  14.6  33   1.3   0.0   0.0\n",
       "3  8  6      0    0  91.7  33.3   77.5  9.0   8.3  97   4.0   0.2   0.0\n",
       "4  8  6      0    3  89.3  51.3  102.2  9.6  11.4  99   1.8   0.0   0.0"
      ]
     },
     "execution_count": 119,
     "metadata": {},
     "output_type": "execute_result"
    }
   ],
   "source": [
    "categorized_forest_dataset = replacing_string_to_numeric_multiple_columns(forest_dataset,['month', 'day'])\n",
    "categorized_forest_dataset.head()"
   ]
  },
  {
   "cell_type": "code",
   "execution_count": null,
   "metadata": {
    "colab": {
     "base_uri": "https://localhost:8080/",
     "height": 206
    },
    "id": "Zqo0Z26Cm-Cw",
    "outputId": "d9d26dd7-34a4-4574-d893-5bebb95ffca8"
   },
   "outputs": [
    {
     "data": {
      "text/html": [
       "\n",
       "  <div id=\"df-0866ade4-1e92-4c10-b70b-7caa82ec40ed\">\n",
       "    <div class=\"colab-df-container\">\n",
       "      <div>\n",
       "<style scoped>\n",
       "    .dataframe tbody tr th:only-of-type {\n",
       "        vertical-align: middle;\n",
       "    }\n",
       "\n",
       "    .dataframe tbody tr th {\n",
       "        vertical-align: top;\n",
       "    }\n",
       "\n",
       "    .dataframe thead th {\n",
       "        text-align: right;\n",
       "    }\n",
       "</style>\n",
       "<table border=\"1\" class=\"dataframe\">\n",
       "  <thead>\n",
       "    <tr style=\"text-align: right;\">\n",
       "      <th></th>\n",
       "      <th>X</th>\n",
       "      <th>Y</th>\n",
       "      <th>month</th>\n",
       "      <th>day</th>\n",
       "      <th>FFMC</th>\n",
       "      <th>DMC</th>\n",
       "      <th>DC</th>\n",
       "      <th>ISI</th>\n",
       "      <th>temp</th>\n",
       "      <th>RH</th>\n",
       "      <th>wind</th>\n",
       "      <th>rain</th>\n",
       "      <th>area</th>\n",
       "    </tr>\n",
       "  </thead>\n",
       "  <tbody>\n",
       "    <tr>\n",
       "      <th>0</th>\n",
       "      <td>7</td>\n",
       "      <td>5</td>\n",
       "      <td>0</td>\n",
       "      <td>0</td>\n",
       "      <td>86.2</td>\n",
       "      <td>26.2</td>\n",
       "      <td>94.3</td>\n",
       "      <td>5.1</td>\n",
       "      <td>8.2</td>\n",
       "      <td>51</td>\n",
       "      <td>6.7</td>\n",
       "      <td>0.0</td>\n",
       "      <td>0.0</td>\n",
       "    </tr>\n",
       "    <tr>\n",
       "      <th>1</th>\n",
       "      <td>7</td>\n",
       "      <td>4</td>\n",
       "      <td>1</td>\n",
       "      <td>1</td>\n",
       "      <td>90.6</td>\n",
       "      <td>35.4</td>\n",
       "      <td>669.1</td>\n",
       "      <td>6.7</td>\n",
       "      <td>18.0</td>\n",
       "      <td>33</td>\n",
       "      <td>0.9</td>\n",
       "      <td>0.0</td>\n",
       "      <td>0.0</td>\n",
       "    </tr>\n",
       "    <tr>\n",
       "      <th>2</th>\n",
       "      <td>7</td>\n",
       "      <td>4</td>\n",
       "      <td>1</td>\n",
       "      <td>2</td>\n",
       "      <td>90.6</td>\n",
       "      <td>43.7</td>\n",
       "      <td>686.9</td>\n",
       "      <td>6.7</td>\n",
       "      <td>14.6</td>\n",
       "      <td>33</td>\n",
       "      <td>1.3</td>\n",
       "      <td>0.0</td>\n",
       "      <td>0.0</td>\n",
       "    </tr>\n",
       "    <tr>\n",
       "      <th>3</th>\n",
       "      <td>8</td>\n",
       "      <td>6</td>\n",
       "      <td>0</td>\n",
       "      <td>0</td>\n",
       "      <td>91.7</td>\n",
       "      <td>33.3</td>\n",
       "      <td>77.5</td>\n",
       "      <td>9.0</td>\n",
       "      <td>8.3</td>\n",
       "      <td>97</td>\n",
       "      <td>4.0</td>\n",
       "      <td>0.2</td>\n",
       "      <td>0.0</td>\n",
       "    </tr>\n",
       "    <tr>\n",
       "      <th>4</th>\n",
       "      <td>8</td>\n",
       "      <td>6</td>\n",
       "      <td>0</td>\n",
       "      <td>3</td>\n",
       "      <td>89.3</td>\n",
       "      <td>51.3</td>\n",
       "      <td>102.2</td>\n",
       "      <td>9.6</td>\n",
       "      <td>11.4</td>\n",
       "      <td>99</td>\n",
       "      <td>1.8</td>\n",
       "      <td>0.0</td>\n",
       "      <td>0.0</td>\n",
       "    </tr>\n",
       "  </tbody>\n",
       "</table>\n",
       "</div>\n",
       "      <button class=\"colab-df-convert\" onclick=\"convertToInteractive('df-0866ade4-1e92-4c10-b70b-7caa82ec40ed')\"\n",
       "              title=\"Convert this dataframe to an interactive table.\"\n",
       "              style=\"display:none;\">\n",
       "        \n",
       "  <svg xmlns=\"http://www.w3.org/2000/svg\" height=\"24px\"viewBox=\"0 0 24 24\"\n",
       "       width=\"24px\">\n",
       "    <path d=\"M0 0h24v24H0V0z\" fill=\"none\"/>\n",
       "    <path d=\"M18.56 5.44l.94 2.06.94-2.06 2.06-.94-2.06-.94-.94-2.06-.94 2.06-2.06.94zm-11 1L8.5 8.5l.94-2.06 2.06-.94-2.06-.94L8.5 2.5l-.94 2.06-2.06.94zm10 10l.94 2.06.94-2.06 2.06-.94-2.06-.94-.94-2.06-.94 2.06-2.06.94z\"/><path d=\"M17.41 7.96l-1.37-1.37c-.4-.4-.92-.59-1.43-.59-.52 0-1.04.2-1.43.59L10.3 9.45l-7.72 7.72c-.78.78-.78 2.05 0 2.83L4 21.41c.39.39.9.59 1.41.59.51 0 1.02-.2 1.41-.59l7.78-7.78 2.81-2.81c.8-.78.8-2.07 0-2.86zM5.41 20L4 18.59l7.72-7.72 1.47 1.35L5.41 20z\"/>\n",
       "  </svg>\n",
       "      </button>\n",
       "      \n",
       "  <style>\n",
       "    .colab-df-container {\n",
       "      display:flex;\n",
       "      flex-wrap:wrap;\n",
       "      gap: 12px;\n",
       "    }\n",
       "\n",
       "    .colab-df-convert {\n",
       "      background-color: #E8F0FE;\n",
       "      border: none;\n",
       "      border-radius: 50%;\n",
       "      cursor: pointer;\n",
       "      display: none;\n",
       "      fill: #1967D2;\n",
       "      height: 32px;\n",
       "      padding: 0 0 0 0;\n",
       "      width: 32px;\n",
       "    }\n",
       "\n",
       "    .colab-df-convert:hover {\n",
       "      background-color: #E2EBFA;\n",
       "      box-shadow: 0px 1px 2px rgba(60, 64, 67, 0.3), 0px 1px 3px 1px rgba(60, 64, 67, 0.15);\n",
       "      fill: #174EA6;\n",
       "    }\n",
       "\n",
       "    [theme=dark] .colab-df-convert {\n",
       "      background-color: #3B4455;\n",
       "      fill: #D2E3FC;\n",
       "    }\n",
       "\n",
       "    [theme=dark] .colab-df-convert:hover {\n",
       "      background-color: #434B5C;\n",
       "      box-shadow: 0px 1px 3px 1px rgba(0, 0, 0, 0.15);\n",
       "      filter: drop-shadow(0px 1px 2px rgba(0, 0, 0, 0.3));\n",
       "      fill: #FFFFFF;\n",
       "    }\n",
       "  </style>\n",
       "\n",
       "      <script>\n",
       "        const buttonEl =\n",
       "          document.querySelector('#df-0866ade4-1e92-4c10-b70b-7caa82ec40ed button.colab-df-convert');\n",
       "        buttonEl.style.display =\n",
       "          google.colab.kernel.accessAllowed ? 'block' : 'none';\n",
       "\n",
       "        async function convertToInteractive(key) {\n",
       "          const element = document.querySelector('#df-0866ade4-1e92-4c10-b70b-7caa82ec40ed');\n",
       "          const dataTable =\n",
       "            await google.colab.kernel.invokeFunction('convertToInteractive',\n",
       "                                                     [key], {});\n",
       "          if (!dataTable) return;\n",
       "\n",
       "          const docLinkHtml = 'Like what you see? Visit the ' +\n",
       "            '<a target=\"_blank\" href=https://colab.research.google.com/notebooks/data_table.ipynb>data table notebook</a>'\n",
       "            + ' to learn more about interactive tables.';\n",
       "          element.innerHTML = '';\n",
       "          dataTable['output_type'] = 'display_data';\n",
       "          await google.colab.output.renderOutput(dataTable, element);\n",
       "          const docLink = document.createElement('div');\n",
       "          docLink.innerHTML = docLinkHtml;\n",
       "          element.appendChild(docLink);\n",
       "        }\n",
       "      </script>\n",
       "    </div>\n",
       "  </div>\n",
       "  "
      ],
      "text/plain": [
       "   X  Y  month  day  FFMC   DMC     DC  ISI  temp  RH  wind  rain  area\n",
       "0  7  5      0    0  86.2  26.2   94.3  5.1   8.2  51   6.7   0.0   0.0\n",
       "1  7  4      1    1  90.6  35.4  669.1  6.7  18.0  33   0.9   0.0   0.0\n",
       "2  7  4      1    2  90.6  43.7  686.9  6.7  14.6  33   1.3   0.0   0.0\n",
       "3  8  6      0    0  91.7  33.3   77.5  9.0   8.3  97   4.0   0.2   0.0\n",
       "4  8  6      0    3  89.3  51.3  102.2  9.6  11.4  99   1.8   0.0   0.0"
      ]
     },
     "execution_count": 120,
     "metadata": {},
     "output_type": "execute_result"
    }
   ],
   "source": [
    "forest_dataset_v1  = categorized_forest_dataset.copy()\n",
    "forest_dataset_v1['area'] = log_transform(forest_dataset_v1['area'])\n",
    "forest_dataset_v1.head()"
   ]
  },
  {
   "cell_type": "code",
   "execution_count": null,
   "metadata": {
    "id": "gsvNyrMNm-Cx"
   },
   "outputs": [],
   "source": [
    "forest_discretize_dataset = forest_dataset_v1.copy()"
   ]
  },
  {
   "cell_type": "code",
   "execution_count": null,
   "metadata": {
    "id": "oxL7i8dfm-Cx"
   },
   "outputs": [],
   "source": [
    "forest_discretize_dataset = discretization(forest_discretize_dataset, \n",
    "                                           5, \n",
    "                                           'equal_frequency', \n",
    "                                           ['FFMC', 'DMC', 'DC', 'ISI','temp','RH', 'wind', 'rain'])"
   ]
  },
  {
   "cell_type": "code",
   "execution_count": null,
   "metadata": {
    "id": "jidu1GYLm-Cy"
   },
   "outputs": [],
   "source": [
    "train_forest_dataset, test_forest_dataset = split_dataset(forest_dataset_v1, 0.8)"
   ]
  },
  {
   "cell_type": "code",
   "execution_count": null,
   "metadata": {
    "id": "iv5-Ogwwm-Cy"
   },
   "outputs": [],
   "source": [
    "train_forest_zscore_dataset, test_forest_zscore_dataset  = Standardization(train_forest_dataset,test_forest_dataset)"
   ]
  },
  {
   "cell_type": "code",
   "execution_count": null,
   "metadata": {
    "colab": {
     "base_uri": "https://localhost:8080/"
    },
    "id": "P-e4XBfsm-Cz",
    "outputId": "880611fd-345a-4ded-ec2e-c93b48601cf2"
   },
   "outputs": [
    {
     "data": {
      "text/plain": [
       "[83, 83, 82, 82, 82]"
      ]
     },
     "execution_count": 125,
     "metadata": {},
     "output_type": "execute_result"
    }
   ],
   "source": [
    "validated_train_forest = cross_validation_regression(train_forest_dataset, 5, 'area')\n",
    "validated_train_forest_size  = []\n",
    "for i in range(0, 5):\n",
    "    validated_train_forest_size.append(validated_train_forest[i].shape[0])\n",
    "validated_train_forest_size "
   ]
  },
  {
   "cell_type": "code",
   "execution_count": null,
   "metadata": {
    "colab": {
     "base_uri": "https://localhost:8080/"
    },
    "id": "DZQGEd4Zm-C0",
    "outputId": "3b07bf84-0765-4166-fc0e-db2e86ccb239"
   },
   "outputs": [
    {
     "data": {
      "text/plain": [
       "[20, 20, 20, 20, 20]"
      ]
     },
     "execution_count": 126,
     "metadata": {},
     "output_type": "execute_result"
    }
   ],
   "source": [
    "tuning_forest = cross_validation_regression(test_forest_dataset, 5, 'area')\n",
    "tuning_forest_size  = []\n",
    "for i in range(0, 5):\n",
    "    tuning_forest_size .append(tuning_forest[i].shape[0])\n",
    "tuning_forest_size "
   ]
  },
  {
   "cell_type": "markdown",
   "metadata": {
    "id": "P7Ae7--1gg0l"
   },
   "source": [
    "### Forest Linear Regression"
   ]
  },
  {
   "cell_type": "code",
   "execution_count": null,
   "metadata": {
    "colab": {
     "base_uri": "https://localhost:8080/"
    },
    "id": "thKv7AXlmWir",
    "outputId": "3ae2c280-697d-441a-a491-8b49c58b6f58"
   },
   "outputs": [
    {
     "name": "stdout",
     "output_type": "stream",
     "text": [
      "best_learning_rate 0.05\n"
     ]
    }
   ],
   "source": [
    "learning_rate_list = [0.01, 0.05, 0.1, 0.5]\n",
    "\n",
    "# best_learning_rate = tuning_LinR(tuning_forest, learning_rate_list, 'area', \"MSE\")\n",
    "best_learning_rate = 0.05\n",
    "print(\"best_learning_rate\", best_learning_rate)\n",
    "#best_learning_rate 0.05"
   ]
  },
  {
   "cell_type": "code",
   "execution_count": null,
   "metadata": {
    "colab": {
     "base_uri": "https://localhost:8080/"
    },
    "id": "gAO3H0kymWis",
    "outputId": "73ea4da1-1216-4436-9903-0840bf708183"
   },
   "outputs": [
    {
     "name": "stdout",
     "output_type": "stream",
     "text": [
      "LR binary score: [0.19, 0.26, 0.14, 1.74, 10.5]/ LR binary avg score: 2.566\n"
     ]
    }
   ],
   "source": [
    "LinR_score = LinR_fold(validated_train_forest, 'area', best_learning_rate, 'MSE')\n",
    "LinR_avg_score = round(np.mean(LinR_score),4)\n",
    "print(\"LinR binary score: \" + str(LinR_score) + \"/ LinR binary avg score: \"+ str(LinR_avg_score))\n",
    "#LinR binary score: [0.19, 0.26, 0.14, 1.74, 10.5]/ LinR binary avg score: 2.566"
   ]
  },
  {
   "cell_type": "markdown",
   "metadata": {
    "id": "z2uB1l2Ygg0m"
   },
   "source": [
    "### Forest Fires FFBP"
   ]
  },
  {
   "cell_type": "code",
   "execution_count": null,
   "metadata": {
    "colab": {
     "base_uri": "https://localhost:8080/"
    },
    "id": "Vfvrgr8_gg0m",
    "outputId": "8a499267-5968-4cd6-9f8c-65dcb7dbd4e3"
   },
   "outputs": [
    {
     "name": "stdout",
     "output_type": "stream",
     "text": [
      "Feedforward with Backpropagation Regression\n",
      "Best Max Iteration 10\n",
      "best_learning_rate 0.001\n",
      "best_hidden_node 5\n"
     ]
    }
   ],
   "source": [
    "max_iter_list = [10, 20]\n",
    "learning_rate_list = [0.001, 0.005, 0.01, 0.05, 0.1]\n",
    "hidden_node_list = [5, 6, 7]\n",
    "\n",
    "# best_learning_rate, best_max_iter, best_hidden_node = tuning_FFBP_regression(tuning_forest, max_iter_list, \n",
    "#                                                                                  learning_rate_list, hidden_node_list, \n",
    "#                                                                                  'area', 'MSE')\n",
    "best_learning_rate, best_max_iter, best_hidden_node = 0.001, 10, 5\n",
    "print(\"Feedforward with Backpropagation Regression\")\n",
    "print('Best Max Iteration', best_max_iter)\n",
    "print(\"best_learning_rate\", best_learning_rate)\n",
    "print(\"best_hidden_node\", best_hidden_node)\n",
    "# Feedforward with Backpropagation Regression\n",
    "# Best Max Iteration 10\n",
    "# best_learning_rate 0.001\n",
    "# best_hidden_node 5"
   ]
  },
  {
   "cell_type": "code",
   "execution_count": null,
   "metadata": {
    "colab": {
     "base_uri": "https://localhost:8080/"
    },
    "id": "m4AMU_ITgg0n",
    "outputId": "0f558fdc-7d54-4898-d986-9abfa65aaba5"
   },
   "outputs": [
    {
     "name": "stdout",
     "output_type": "stream",
     "text": [
      "FFBP score: [3.05, 3.06, 1.88, 0.32, 7.48]/ FFBP avg score: 3.16\n"
     ]
    }
   ],
   "source": [
    "FFBP_reg_score = FFBP_regression_fold(validated_train_forest, 'area',best_hidden_node, best_hidden_node, \n",
    "                                      best_max_iter , best_learning_rate, \"MSE\")\n",
    "FFBP_reg_avg_score  = round(np.mean(FFBP_reg_score),2)\n",
    "print(\"FFBP score: \" + str(FFBP_reg_score) + \"/ FFBP avg score: \"+ str(FFBP_reg_avg_score))\n",
    "#FFBP score: [3.05, 3.06, 1.88, 0.32, 7.48]/ FFBP avg score: 3.16"
   ]
  },
  {
   "cell_type": "markdown",
   "metadata": {
    "id": "Y4-Me71tgg0n"
   },
   "source": [
    "### Forest Fires Autoencoder"
   ]
  },
  {
   "cell_type": "code",
   "execution_count": null,
   "metadata": {
    "colab": {
     "base_uri": "https://localhost:8080/"
    },
    "id": "MPCd7bMZgg0o",
    "outputId": "41ddaeca-0a11-4968-dee0-ae99f940d924"
   },
   "outputs": [
    {
     "name": "stdout",
     "output_type": "stream",
     "text": [
      "Autoencoder\n",
      "Best Max Iteration 10\n",
      "best_learning_rate 0.001\n",
      "best_encoding_node 2\n",
      "best_hidden_node 5\n"
     ]
    }
   ],
   "source": [
    "max_iter_list = [10, 20]\n",
    "learning_rate_list = [0.001, 0.005, 0.01, 0.05, 0.1]\n",
    "encoding_node_list = [2,3]\n",
    "hidden_node_list = [5, 6, 7]\n",
    "\n",
    "# best_learning_rate, best_max_iter, best_encoding_node, best_hidden_node = tuning_autoencoder_regression(tuning_forest, max_iter_list, \n",
    "#                                                                                                      learning_rate_list, encoding_node_list,\n",
    "#                                                                                                      hidden_node_list, 'area', 'MSE')\n",
    "best_learning_rate, best_max_iter, best_encoding_node, best_hidden_node = 0.001, 10, 2, 5\n",
    "print(\"Autoencoder\")\n",
    "print('Best Max Iteration', best_max_iter)\n",
    "print(\"best_learning_rate\", best_learning_rate)\n",
    "print(\"best_encoding_node\", best_encoding_node)\n",
    "print(\"best_hidden_node\", best_hidden_node)\n",
    "# Autoencoder\n",
    "# Best Max Iteration 10\n",
    "# best_learning_rate 0.001\n",
    "# best_encoding_node 2\n",
    "# best_hidden_node 5"
   ]
  },
  {
   "cell_type": "code",
   "execution_count": null,
   "metadata": {
    "colab": {
     "base_uri": "https://localhost:8080/"
    },
    "id": "qxNcpWBWgg0o",
    "outputId": "39c0b3ea-b838-42d1-b826-b0285d614165"
   },
   "outputs": [
    {
     "name": "stdout",
     "output_type": "stream",
     "text": [
      "Autoencoder score: [2.98, 3.03, 1.83, 0.33, 7.48]/ Autoencoder avg score: 3.13\n"
     ]
    }
   ],
   "source": [
    "autoencoder_reg_score = autoencoder_regression_fold(validated_train_forest, 'area', best_encoding_node, \n",
    "                                                    best_hidden_node, best_max_iter , best_learning_rate, \"MSE\")\n",
    "autoencoder_reg_avg_score  = round(np.mean(autoencoder_reg_score),2)\n",
    "print(\"Autoencoder score: \" + str(autoencoder_reg_score) + \"/ Autoencoder avg score: \"+ str(autoencoder_reg_avg_score))\n",
    "#Autoencoder score: [2.98, 3.03, 1.83, 0.33, 7.48]/ Autoencoder avg score: 3.13"
   ]
  }
 ],
 "metadata": {
  "colab": {
   "collapsed_sections": [
    "4VJXy_1mqq2i",
    "bULOrDQDqq2r",
    "55RSYof0qq2v",
    "n537ZbaBKxMN",
    "_zRDbdxGqq28",
    "dS1EKVUSqq29",
    "kKmypkHAqq2-",
    "LiPIL5iKqq3A",
    "VuENlUx3qq3B",
    "rhnFHg9Tggyl",
    "tbBmFuQ8ggym",
    "PPiDcMkBggyo",
    "5bOtubzIggyx",
    "96eHC4SAggyz",
    "VoZO7aIrggy6",
    "exvMzipaggzE"
   ],
   "name": "Programing_Project_4.ipynb",
   "provenance": [],
   "toc_visible": true
  },
  "kernelspec": {
   "display_name": "Python 3",
   "language": "python",
   "name": "python3"
  },
  "language_info": {
   "codemirror_mode": {
    "name": "ipython",
    "version": 3
   },
   "file_extension": ".py",
   "mimetype": "text/x-python",
   "name": "python",
   "nbconvert_exporter": "python",
   "pygments_lexer": "ipython3",
   "version": "3.6.8"
  }
 },
 "nbformat": 4,
 "nbformat_minor": 1
}
